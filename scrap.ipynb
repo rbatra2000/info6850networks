{
 "cells": [
  {
   "cell_type": "code",
   "execution_count": 2,
   "metadata": {},
   "outputs": [],
   "source": [
    "# import libraries :) there's a .conda environment in the folder for sharing any downloaded packages\n",
    "import numpy as np\n",
    "import pandas as pd\n",
    "import time\n",
    "import json\n"
   ]
  },
  {
   "cell_type": "code",
   "execution_count": null,
   "metadata": {},
   "outputs": [],
   "source": [
    "# we'll import the file data here into pandas because we're dealing with a csv file structure\n",
    "searchDocketRaw = pd.read_csv('integrated_db', nrows=5000)\n",
    "pd.set_option('display.max_columns', None)\n",
    "# show the first few rows\n",
    "searchDocketRaw.head(5)"
   ]
  },
  {
   "cell_type": "code",
   "execution_count": null,
   "metadata": {},
   "outputs": [],
   "source": [
    "# now that we have a dataframe, let's pick which columns and remove any rows that have n/a data in these columns\n",
    "searchDocketFiltered = searchDocketRaw[['id', 'judgment']]\n",
    "\n",
    "# let's make all the titles capitalized\n",
    "# searchDocketFiltered['case_name_full'] = searchDocketFiltered['case_name_full'].str.upper()\n",
    "# show first few rows as sanity check\n",
    "searchDocketFiltered.head(20)\n",
    "searchDocketRaw.head(3)"
   ]
  },
  {
   "cell_type": "code",
   "execution_count": null,
   "metadata": {},
   "outputs": [],
   "source": [
    "# let's focus only on dockets that are related to amicus briefs\n",
    "amicusDockets = searchDocketFiltered[searchDocketFiltered['case_name'].str.contains('AMICUS')]"
   ]
  },
  {
   "cell_type": "code",
   "execution_count": null,
   "metadata": {},
   "outputs": [],
   "source": [
    "df = pd.read_csv('integrated_db', nrows=50000)"
   ]
  },
  {
   "cell_type": "code",
   "execution_count": null,
   "metadata": {},
   "outputs": [],
   "source": [
    "# df['section'].dropna()\n",
    "# df.duplicated(subset=['title']).any()"
   ]
  },
  {
   "cell_type": "code",
   "execution_count": null,
   "metadata": {},
   "outputs": [],
   "source": [
    "df = pd.read_csv('courts.csv')"
   ]
  },
  {
   "cell_type": "code",
   "execution_count": null,
   "metadata": {},
   "outputs": [],
   "source": [
    "df.head(5)"
   ]
  },
  {
   "cell_type": "code",
   "execution_count": null,
   "metadata": {},
   "outputs": [],
   "source": [
    "import requests"
   ]
  },
  {
   "cell_type": "code",
   "execution_count": null,
   "metadata": {},
   "outputs": [],
   "source": [
    "response = requests.get('https://www.courtlistener.com/api/rest/v3/search/?q=1963 U.S. LEXIS 2490')\n",
    "for blah in response.json()['results']:\n",
    "    print(blah[\"caseName\"])"
   ]
  },
  {
   "cell_type": "code",
   "execution_count": null,
   "metadata": {},
   "outputs": [],
   "source": [
    "results = response.json()['results']\n",
    "\n",
    "for result in results:\n",
    "    if 'amicus' in result['attorney']:\n",
    "        print(result['attorney'])"
   ]
  },
  {
   "cell_type": "code",
   "execution_count": null,
   "metadata": {},
   "outputs": [],
   "source": [
    "df = pd.read_csv('amicusBriefs.csv', encoding = \"latin\")"
   ]
  },
  {
   "cell_type": "code",
   "execution_count": null,
   "metadata": {},
   "outputs": [],
   "source": [
    "df"
   ]
  },
  {
   "cell_type": "code",
   "execution_count": null,
   "metadata": {},
   "outputs": [],
   "source": [
    "data = {}\n",
    "\n",
    "# Opening JSON file\n",
    "f = open('data.json')\n",
    " \n",
    "# returns JSON object as \n",
    "# a dictionary\n",
    "data = json.load(f)\n",
    "\n",
    "# Iterating through the json\n",
    "# list\n",
    "# for i in data['emp_details']:\n",
    "#     print(i)\n",
    " \n",
    "# Closing file\n",
    "f.close()"
   ]
  },
  {
   "cell_type": "code",
   "execution_count": null,
   "metadata": {},
   "outputs": [],
   "source": [
    "for index, row in df.iterrows():\n",
    "    if index == 613:\n",
    "        print(row)"
   ]
  },
  {
   "cell_type": "code",
   "execution_count": null,
   "metadata": {},
   "outputs": [],
   "source": [
    "# try:\n",
    "for index, row in df.iterrows():\n",
    "    lexisCite = row['LexisCite']\n",
    "    if lexisCite is None:\n",
    "        continue\n",
    "    print(lexisCite)\n",
    "    url = 'https://www.courtlistener.com/api/rest/v3/search/?q='+lexisCite\n",
    "    print(url)\n",
    "    if lexisCite in data:\n",
    "        print(\"ALREADY EXISTS\", response)\n",
    "        response = data[lexisCite]['response']\n",
    "        data[lexisCite]['people'].append(row['AmicusName'])\n",
    "        data[lexisCite]['positions'].append(row['Position'])\n",
    "    else:\n",
    "        response = requests.get(url, headers=head).json()\n",
    "\n",
    "        for result in response['results']:\n",
    "            # print(result['lexisCite'])\n",
    "            if result['lexisCite'] == lexisCite:\n",
    "                print(\"SEARCHED\", result)\n",
    "                data[lexisCite] = {\n",
    "                    'response': result,\n",
    "                    'people': [row['AmicusName']],\n",
    "                    'positions': [row['Position']]\n",
    "                }\n",
    "                break\n",
    "        # if we don't find it, we just scrap it\n",
    "        with open('data.json', 'w') as f:\n",
    "            json.dump(data, f)\n",
    "    # print(len(response.json()['results']))\n",
    "# except:\n",
    "#     print(\"FAILED\")"
   ]
  },
  {
   "cell_type": "code",
   "execution_count": null,
   "metadata": {},
   "outputs": [],
   "source": [
    "a = requests.get(url=\"https://www.courtlistener.com/api/rest/v3/search/?q=1954 U.S. LEXIS 2094\")\n",
    "\n",
    "\n",
    "for result in a.json()['results']:\n",
    "    if result['lexisCite'] == '1954 U.S. LEXIS 2094':\n",
    "        print(result)\n",
    "# print(a.json())\n",
    "# response = requests.get('https://www.courtlistener.com/api/rest/v3/clusters/')\n",
    "# response.json()"
   ]
  },
  {
   "cell_type": "code",
   "execution_count": null,
   "metadata": {},
   "outputs": [],
   "source": [
    "a = requests.get(url=\"https://www.courtlistener.com/api/rest/v3/search/?q=1954 U.S. LEXIS 2094\")\n",
    "\n",
    "\n",
    "for result in a.json()['results']:\n",
    "    if result['lexisCite'] == '1954 U.S. LEXIS 2094':\n",
    "        print(result)\n",
    "# print(a.json())\n",
    "# response = requests.get('https://www.courtlistener.com/api/rest/v3/clusters/')\n",
    "# response.json()"
   ]
  },
  {
   "cell_type": "code",
   "execution_count": null,
   "metadata": {},
   "outputs": [],
   "source": [
    "len(pd.unique(df['LexisCite']))"
   ]
  },
  {
   "cell_type": "code",
   "execution_count": null,
   "metadata": {},
   "outputs": [],
   "source": [
    "df = pd.read_json('data.json')\n",
    "mapping = {}\n",
    "for (columnName, columnData) in df.iteritems():\n",
    "    mapping[columnName] = columnData['results']"
   ]
  },
  {
   "cell_type": "code",
   "execution_count": null,
   "metadata": {},
   "outputs": [],
   "source": [
    "mapping"
   ]
  },
  {
   "cell_type": "code",
   "execution_count": null,
   "metadata": {},
   "outputs": [],
   "source": [
    "# Opening JSON file\n",
    "f = open('data.json')\n",
    " \n",
    "# returns JSON object as \n",
    "# a dictionary\n",
    "mapping = json.load(f)\n",
    "\n",
    "# Iterating through the json\n",
    "# list\n",
    "# for i in data['emp_details']:\n",
    "#     print(i)\n",
    " \n",
    "# Closing file\n",
    "f.close()"
   ]
  },
  {
   "cell_type": "code",
   "execution_count": null,
   "metadata": {},
   "outputs": [],
   "source": [
    "mapping['1953 U.S. LEXIS 2673']['response'].keys()"
   ]
  },
  {
   "cell_type": "code",
   "execution_count": null,
   "metadata": {},
   "outputs": [],
   "source": []
  },
  {
   "cell_type": "code",
   "execution_count": null,
   "metadata": {},
   "outputs": [],
   "source": [
    "justices = pd.read_csv('justices.csv', encoding='latin')\n",
    "justices.columns"
   ]
  },
  {
   "cell_type": "code",
   "execution_count": null,
   "metadata": {},
   "outputs": [],
   "source": [
    "cleanJustices = justices[['docketId', 'justiceName', 'vote']].dropna()\n",
    "cleanJustices"
   ]
  },
  {
   "cell_type": "code",
   "execution_count": null,
   "metadata": {},
   "outputs": [],
   "source": [
    "for caseName, case in mapping.items():\n",
    "    foundRows = cleanJustices.loc[cleanJustices['docketId'] == case['response']['docket_id']]\n",
    "    if not foundRows.empty:\n",
    "        case['judges'] = []\n",
    "        for row in foundRows:\n",
    "            \n",
    "        # print(\"YES\", int(foundRow.values[0][1]))\n",
    "        # case['judgment'] = int(foundRow.values[0][1])\n",
    "    else:\n",
    "        print(\"NO\")\n",
    "        case['judgment'] = None"
   ]
  },
  {
   "cell_type": "code",
   "execution_count": null,
   "metadata": {},
   "outputs": [],
   "source": [
    "# create graph (assume that the judges and amicus people have no overlapping names)\n",
    "\n",
    "import networkx as nx\n",
    "G = nx.Graph()\n",
    "\n",
    "for caseName,case in mapping.items():\n",
    "    for i in range(len(case['people'])):\n",
    "        person = case['people'][i]\n",
    "        pos = case['positions'][i]\n",
    "        judgment = case['judgment']\n",
    "        for judge in case['response']['judge'].split(', '):\n",
    "            G.add_edge(judge, person, caseName=caseName, pos=pos, judgment=judgment)"
   ]
  },
  {
   "cell_type": "code",
   "execution_count": null,
   "metadata": {},
   "outputs": [],
   "source": [
    "from pyvis.network import Network\n"
   ]
  },
  {
   "cell_type": "code",
   "execution_count": null,
   "metadata": {},
   "outputs": [],
   "source": [
    "for caseName,case in mapping.items():\n",
    "    print(case['judgment'])"
   ]
  },
  {
   "cell_type": "code",
   "execution_count": null,
   "metadata": {},
   "outputs": [],
   "source": [
    "# nx.draw(G)\n",
    "\n",
    "net = Network(\n",
    "    directed = True,\n",
    "    select_menu = True, # Show part 1 in the plot (optional)\n",
    "    filter_menu = True, # Show part 2 in the plot (optional)\n",
    ")\n",
    "net.show_buttons() # Show part 3 in the plot (optional)\n",
    "net.from_nx(G) # Create directly from nx graph\n",
    "net.show('test.html',notebook=False)"
   ]
  },
  {
   "cell_type": "code",
   "execution_count": 65,
   "metadata": {},
   "outputs": [
    {
     "ename": "AttributeError",
     "evalue": "'Graph' object has no attribute 'draw'",
     "output_type": "error",
     "traceback": [
      "\u001b[0;31m---------------------------------------------------------------------------\u001b[0m",
      "\u001b[0;31mAttributeError\u001b[0m                            Traceback (most recent call last)",
      "\u001b[1;32m/Users/ritikbatra/Desktop/phd/year1/info6850/reaction_paper/scrap.ipynb Cell 32\u001b[0m line \u001b[0;36m<cell line: 1>\u001b[0;34m()\u001b[0m\n\u001b[0;32m----> <a href='vscode-notebook-cell:/Users/ritikbatra/Desktop/phd/year1/info6850/reaction_paper/scrap.ipynb#Y100sZmlsZQ%3D%3D?line=0'>1</a>\u001b[0m G\u001b[39m.\u001b[39;49mdraw()\n",
      "\u001b[0;31mAttributeError\u001b[0m: 'Graph' object has no attribute 'draw'"
     ]
    }
   ],
   "source": []
  },
  {
   "cell_type": "code",
   "execution_count": 14,
   "metadata": {},
   "outputs": [
    {
     "data": {
      "text/html": [
       "<div>\n",
       "<style scoped>\n",
       "    .dataframe tbody tr th:only-of-type {\n",
       "        vertical-align: middle;\n",
       "    }\n",
       "\n",
       "    .dataframe tbody tr th {\n",
       "        vertical-align: top;\n",
       "    }\n",
       "\n",
       "    .dataframe thead th {\n",
       "        text-align: right;\n",
       "    }\n",
       "</style>\n",
       "<table border=\"1\" class=\"dataframe\">\n",
       "  <thead>\n",
       "    <tr style=\"text-align: right;\">\n",
       "      <th></th>\n",
       "      <th>id</th>\n",
       "      <th>date_created</th>\n",
       "      <th>date_modified</th>\n",
       "      <th>date_completed</th>\n",
       "      <th>fjc_id</th>\n",
       "      <th>slug</th>\n",
       "      <th>name_first</th>\n",
       "      <th>name_middle</th>\n",
       "      <th>name_last</th>\n",
       "      <th>name_suffix</th>\n",
       "      <th>...</th>\n",
       "      <th>dod_city</th>\n",
       "      <th>dod_state</th>\n",
       "      <th>dod_country</th>\n",
       "      <th>gender</th>\n",
       "      <th>religion</th>\n",
       "      <th>ftm_total_received</th>\n",
       "      <th>ftm_eid</th>\n",
       "      <th>has_photo</th>\n",
       "      <th>is_alias_of_id</th>\n",
       "      <th>name_slug</th>\n",
       "    </tr>\n",
       "  </thead>\n",
       "  <tbody>\n",
       "    <tr>\n",
       "      <th>0</th>\n",
       "      <td>7607</td>\n",
       "      <td>2016-04-20 15:28:29.008834+00</td>\n",
       "      <td>2018-06-27 21:22:40.185313+00</td>\n",
       "      <td>NaN</td>\n",
       "      <td>NaN</td>\n",
       "      <td>robert-p-young-jr</td>\n",
       "      <td>Robert</td>\n",
       "      <td>P.</td>\n",
       "      <td>Young</td>\n",
       "      <td>jr</td>\n",
       "      <td>...</td>\n",
       "      <td>NaN</td>\n",
       "      <td>NaN</td>\n",
       "      <td>United States</td>\n",
       "      <td>NaN</td>\n",
       "      <td>NaN</td>\n",
       "      <td>NaN</td>\n",
       "      <td>NaN</td>\n",
       "      <td>f</td>\n",
       "      <td>4803.0</td>\n",
       "      <td>RPYoung</td>\n",
       "    </tr>\n",
       "    <tr>\n",
       "      <th>1</th>\n",
       "      <td>2749</td>\n",
       "      <td>2016-04-20 15:22:10.885793+00</td>\n",
       "      <td>2020-11-25 16:30:20.6966+00</td>\n",
       "      <td>NaN</td>\n",
       "      <td>2031.0</td>\n",
       "      <td>spottswood-william-robinson-iii</td>\n",
       "      <td>Spottswood</td>\n",
       "      <td>William</td>\n",
       "      <td>Robinson</td>\n",
       "      <td>3</td>\n",
       "      <td>...</td>\n",
       "      <td>Richmond</td>\n",
       "      <td>VA</td>\n",
       "      <td>United States</td>\n",
       "      <td>m</td>\n",
       "      <td>NaN</td>\n",
       "      <td>NaN</td>\n",
       "      <td>NaN</td>\n",
       "      <td>t</td>\n",
       "      <td>NaN</td>\n",
       "      <td>SWRobinson</td>\n",
       "    </tr>\n",
       "    <tr>\n",
       "      <th>2</th>\n",
       "      <td>1560</td>\n",
       "      <td>2016-04-20 15:19:23.275867+00</td>\n",
       "      <td>2020-11-25 16:30:20.706481+00</td>\n",
       "      <td>NaN</td>\n",
       "      <td>1122.0</td>\n",
       "      <td>david-campbell-humphreys</td>\n",
       "      <td>David</td>\n",
       "      <td>Campbell</td>\n",
       "      <td>Humphreys</td>\n",
       "      <td>NaN</td>\n",
       "      <td>...</td>\n",
       "      <td>Fairfax County</td>\n",
       "      <td>VA</td>\n",
       "      <td>United States</td>\n",
       "      <td>m</td>\n",
       "      <td>NaN</td>\n",
       "      <td>NaN</td>\n",
       "      <td>NaN</td>\n",
       "      <td>t</td>\n",
       "      <td>NaN</td>\n",
       "      <td>DCHumphreys</td>\n",
       "    </tr>\n",
       "    <tr>\n",
       "      <th>3</th>\n",
       "      <td>9092</td>\n",
       "      <td>2020-05-13 23:56:23.358945+00</td>\n",
       "      <td>2020-11-25 16:30:20.763424+00</td>\n",
       "      <td>NaN</td>\n",
       "      <td>NaN</td>\n",
       "      <td>elizabeth-d-laporte</td>\n",
       "      <td>Elizabeth</td>\n",
       "      <td>D.</td>\n",
       "      <td>Laporte</td>\n",
       "      <td>NaN</td>\n",
       "      <td>...</td>\n",
       "      <td>NaN</td>\n",
       "      <td>NaN</td>\n",
       "      <td>United States</td>\n",
       "      <td>f</td>\n",
       "      <td>NaN</td>\n",
       "      <td>NaN</td>\n",
       "      <td>NaN</td>\n",
       "      <td>t</td>\n",
       "      <td>NaN</td>\n",
       "      <td>EDLaporte</td>\n",
       "    </tr>\n",
       "    <tr>\n",
       "      <th>4</th>\n",
       "      <td>1429</td>\n",
       "      <td>2016-04-20 15:19:03.438215+00</td>\n",
       "      <td>2020-11-25 16:30:20.795811+00</td>\n",
       "      <td>NaN</td>\n",
       "      <td>1024.0</td>\n",
       "      <td>thelton-eugene-henderson</td>\n",
       "      <td>Thelton</td>\n",
       "      <td>Eugene</td>\n",
       "      <td>Henderson</td>\n",
       "      <td>NaN</td>\n",
       "      <td>...</td>\n",
       "      <td>NaN</td>\n",
       "      <td>NaN</td>\n",
       "      <td>United States</td>\n",
       "      <td>m</td>\n",
       "      <td>NaN</td>\n",
       "      <td>NaN</td>\n",
       "      <td>NaN</td>\n",
       "      <td>t</td>\n",
       "      <td>NaN</td>\n",
       "      <td>TEHenderson</td>\n",
       "    </tr>\n",
       "  </tbody>\n",
       "</table>\n",
       "<p>5 rows × 27 columns</p>\n",
       "</div>"
      ],
      "text/plain": [
       "     id                   date_created                  date_modified  \\\n",
       "0  7607  2016-04-20 15:28:29.008834+00  2018-06-27 21:22:40.185313+00   \n",
       "1  2749  2016-04-20 15:22:10.885793+00    2020-11-25 16:30:20.6966+00   \n",
       "2  1560  2016-04-20 15:19:23.275867+00  2020-11-25 16:30:20.706481+00   \n",
       "3  9092  2020-05-13 23:56:23.358945+00  2020-11-25 16:30:20.763424+00   \n",
       "4  1429  2016-04-20 15:19:03.438215+00  2020-11-25 16:30:20.795811+00   \n",
       "\n",
       "  date_completed  fjc_id                             slug  name_first  \\\n",
       "0            NaN     NaN                robert-p-young-jr      Robert   \n",
       "1            NaN  2031.0  spottswood-william-robinson-iii  Spottswood   \n",
       "2            NaN  1122.0         david-campbell-humphreys       David   \n",
       "3            NaN     NaN              elizabeth-d-laporte   Elizabeth   \n",
       "4            NaN  1024.0         thelton-eugene-henderson     Thelton   \n",
       "\n",
       "  name_middle  name_last name_suffix  ...        dod_city dod_state  \\\n",
       "0          P.      Young          jr  ...             NaN       NaN   \n",
       "1     William   Robinson           3  ...        Richmond        VA   \n",
       "2    Campbell  Humphreys         NaN  ...  Fairfax County        VA   \n",
       "3          D.    Laporte         NaN  ...             NaN       NaN   \n",
       "4      Eugene  Henderson         NaN  ...             NaN       NaN   \n",
       "\n",
       "     dod_country gender religion ftm_total_received ftm_eid has_photo  \\\n",
       "0  United States    NaN      NaN                NaN     NaN         f   \n",
       "1  United States      m      NaN                NaN     NaN         t   \n",
       "2  United States      m      NaN                NaN     NaN         t   \n",
       "3  United States      f      NaN                NaN     NaN         t   \n",
       "4  United States      m      NaN                NaN     NaN         t   \n",
       "\n",
       "  is_alias_of_id    name_slug  \n",
       "0         4803.0      RPYoung  \n",
       "1            NaN   SWRobinson  \n",
       "2            NaN  DCHumphreys  \n",
       "3            NaN    EDLaporte  \n",
       "4            NaN  TEHenderson  \n",
       "\n",
       "[5 rows x 27 columns]"
      ]
     },
     "execution_count": 14,
     "metadata": {},
     "output_type": "execute_result"
    }
   ],
   "source": [
    "# now let's iterate through our amicus briefs and store the lexisCite, position, and amicus name\n",
    "# data from https://amicispace.ucmerced.edu/data\n",
    "people_csv = pd.read_csv('people.csv', encoding = \"latin\")\n",
    "people_csv['name_slug'] = people_csv['name_first'].astype(str).str[0] + people_csv['name_middle'].astype(str).str[0] + people_csv['name_last'].astype(str)\n",
    "people_csv.head(5)"
   ]
  },
  {
   "cell_type": "code",
   "execution_count": null,
   "metadata": {},
   "outputs": [],
   "source": [
    "# # we are going to see what the political affiliations are for each judge\n",
    "\n",
    "# # data from https://www.courtlistener.com/help/api/rest/#judge-endpoint-notes\n",
    "# people_csv = pd.read_csv('people.csv', encoding = \"latin\")\n",
    "\n",
    "# people_csv['justiceName'] = np.where(people_csv['name_middle'].astype(str).eq('nan'), people_csv['name_first'].astype(str).str[0] + + people_csv['name_last'].astype(str), people_csv['name_first'].astype(str).str[0] + people_csv['name_middle'].astype(str).str[0] + people_csv['name_last'].astype(str))\n",
    "# people_csv['justiceName'] = people_csv['justiceName'].str.replace('[^a-zA-Z]', '')\n",
    "# people_csv.head(5)\n",
    "\n",
    "# # check which judges are not being considered now \n",
    "# for justiceName in justices_csv['justiceName'].unique():\n",
    "#     if justiceName not in list(people_csv['justiceName']):\n",
    "#         print(justiceName)\n",
    "\n",
    "# # lets merge the justices tables together\n",
    "# justice_mapping = {}\n",
    "\n",
    "# for _, justice_row in justices_csv.iterrows():\n",
    "#     if justice_row['justiceName'] not in justice_mapping:\n",
    "#         justice_mapping[justice_row['justiceName']] = people_csv.loc[people_csv['justiceName'] == justice_row['justiceName']]\n",
    "#     justice_row['person_id'] = justice_mapping[justice_row['justiceName']]['id']"
   ]
  }
 ],
 "metadata": {
  "kernelspec": {
   "display_name": ".venv",
   "language": "python",
   "name": "python3"
  },
  "language_info": {
   "codemirror_mode": {
    "name": "ipython",
    "version": 3
   },
   "file_extension": ".py",
   "mimetype": "text/x-python",
   "name": "python",
   "nbconvert_exporter": "python",
   "pygments_lexer": "ipython3",
   "version": "3.9.12"
  },
  "orig_nbformat": 4
 },
 "nbformat": 4,
 "nbformat_minor": 2
}
