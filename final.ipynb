{
 "cells": [
  {
   "cell_type": "code",
   "execution_count": 187,
   "metadata": {},
   "outputs": [],
   "source": [
    "# import libraries\n",
    "import pandas as pd\n",
    "import networkx as nx\n",
    "from pyvis.network import Network\n",
    "import numpy as np\n",
    "import random\n",
    "import matplotlib.pyplot as plt\n",
    "\n",
    "# this is to mimic ggplot\n",
    "plt.rcParams['axes.spines.right'] = False\n",
    "plt.rcParams['axes.spines.top'] = False\n",
    "\n",
    "# color constants\n",
    "green_fill = '#DAF2C2'\n",
    "red_fill = '#FEB3B5'"
   ]
  },
  {
   "cell_type": "markdown",
   "metadata": {},
   "source": [
    "# Load Data and Create Network"
   ]
  },
  {
   "cell_type": "markdown",
   "metadata": {},
   "source": [
    "## Amicus Briefs Dataset"
   ]
  },
  {
   "cell_type": "code",
   "execution_count": 188,
   "metadata": {},
   "outputs": [
    {
     "data": {
      "text/html": [
       "<div>\n",
       "<style scoped>\n",
       "    .dataframe tbody tr th:only-of-type {\n",
       "        vertical-align: middle;\n",
       "    }\n",
       "\n",
       "    .dataframe tbody tr th {\n",
       "        vertical-align: top;\n",
       "    }\n",
       "\n",
       "    .dataframe thead th {\n",
       "        text-align: right;\n",
       "    }\n",
       "</style>\n",
       "<table border=\"1\" class=\"dataframe\">\n",
       "  <thead>\n",
       "    <tr style=\"text-align: right;\">\n",
       "      <th></th>\n",
       "      <th>LexisCite</th>\n",
       "      <th>Position</th>\n",
       "      <th>AmicusName</th>\n",
       "    </tr>\n",
       "  </thead>\n",
       "  <tbody>\n",
       "    <tr>\n",
       "      <th>0</th>\n",
       "      <td>1953 U.S. LEXIS 2673</td>\n",
       "      <td>1</td>\n",
       "      <td>SECURITIES AND EXCHANGE COMMISSION</td>\n",
       "    </tr>\n",
       "    <tr>\n",
       "      <th>1</th>\n",
       "      <td>1953 U.S. LEXIS 2680</td>\n",
       "      <td>2</td>\n",
       "      <td>BOSTON AMERICAN LEAGUE BASE BALL COMPANY</td>\n",
       "    </tr>\n",
       "    <tr>\n",
       "      <th>2</th>\n",
       "      <td>1954 U.S. LEXIS 2094</td>\n",
       "      <td>1</td>\n",
       "      <td>AMERICAN FEDERATION OF TEACHERS</td>\n",
       "    </tr>\n",
       "    <tr>\n",
       "      <th>3</th>\n",
       "      <td>1954 U.S. LEXIS 2094</td>\n",
       "      <td>1</td>\n",
       "      <td>UNITED STATES</td>\n",
       "    </tr>\n",
       "    <tr>\n",
       "      <th>4</th>\n",
       "      <td>1954 U.S. LEXIS 2094</td>\n",
       "      <td>1</td>\n",
       "      <td>AMERICAN JEWISH CONGRESS</td>\n",
       "    </tr>\n",
       "  </tbody>\n",
       "</table>\n",
       "</div>"
      ],
      "text/plain": [
       "              LexisCite  Position                                AmicusName\n",
       "0  1953 U.S. LEXIS 2673         1        SECURITIES AND EXCHANGE COMMISSION\n",
       "1  1953 U.S. LEXIS 2680         2  BOSTON AMERICAN LEAGUE BASE BALL COMPANY\n",
       "2  1954 U.S. LEXIS 2094         1           AMERICAN FEDERATION OF TEACHERS\n",
       "3  1954 U.S. LEXIS 2094         1                             UNITED STATES\n",
       "4  1954 U.S. LEXIS 2094         1                  AMERICAN JEWISH CONGRESS"
      ]
     },
     "execution_count": 188,
     "metadata": {},
     "output_type": "execute_result"
    }
   ],
   "source": [
    "# now let's iterate through our amicus briefs and store the lexisCite, position, and amicus name\n",
    "# data from https://amicispace.ucmerced.edu/data\n",
    "amicus_briefs_csv = pd.read_csv(\"amicus_briefs.csv\", encoding=\"latin\")\n",
    "amicus_briefs_csv = amicus_briefs_csv[[\"LexisCite\", \"Position\", \"AmicusName\"]]\n",
    "amicus_briefs_csv.head(5)"
   ]
  },
  {
   "cell_type": "code",
   "execution_count": 189,
   "metadata": {},
   "outputs": [
    {
     "data": {
      "image/png": "[encoded data removed]",
      "text/plain": [
       "<Figure size 640x480 with 1 Axes>"
      ]
     },
     "metadata": {},
     "output_type": "display_data"
    }
   ],
   "source": [
    "plt.hist(amicus_briefs_csv.groupby(\"LexisCite\")[\"Position\"].mean(), bins=100, color=green_fill)\n",
    "plt.title(\"Histogram of Number of Cases with Each Deci\")\n",
    "plt.ylabel(\"Average position per case\")\n",
    "plt.xlabel(\"Number of cases\")\n",
    "plt.savefig('./plots/average_position_distribution.pdf',  bbox_inches='tight');"
   ]
  },
  {
   "cell_type": "code",
   "execution_count": 190,
   "metadata": {},
   "outputs": [],
   "source": [
    "# drop perfect duplicates\n",
    "amicus_briefs_csv = amicus_briefs_csv.drop_duplicates()"
   ]
  },
  {
   "cell_type": "code",
   "execution_count": 191,
   "metadata": {},
   "outputs": [
    {
     "data": {
      "text/plain": [
       "Position\n",
       "1    36942\n",
       "2    38977\n",
       "3     2058\n",
       "Name: count, dtype: int64"
      ]
     },
     "execution_count": 191,
     "metadata": {},
     "output_type": "execute_result"
    }
   ],
   "source": [
    "# position variable in amicus briefs\n",
    "# = 1 if the brief argues the lower court decision should be reversed\n",
    "# = 2 if lower court decision should be affirmed\n",
    "# = 3 if the brief explicitly does not adopt a position or the position is unclear\n",
    "amicus_briefs_csv[\"Position\"].value_counts().sort_index()"
   ]
  },
  {
   "cell_type": "markdown",
   "metadata": {},
   "source": [
    "## Justices"
   ]
  },
  {
   "cell_type": "code",
   "execution_count": 192,
   "metadata": {},
   "outputs": [
    {
     "name": "stderr",
     "output_type": "stream",
     "text": [
      "/var/folders/_3/sy3t66qx59z0h8k2_18_hldh0000gn/T/ipykernel_22457/56783121.py:3: DtypeWarning: Columns (6,16) have mixed types. Specify dtype option on import or set low_memory=False.\n",
      "  justices_csv = pd.read_csv(\"justices.csv\", encoding=\"latin\")\n"
     ]
    },
    {
     "data": {
      "text/plain": [
       "Index(['caseId', 'docketId', 'caseIssuesId', 'voteId', 'dateDecision',\n",
       "       'decisionType', 'usCite', 'sctCite', 'ledCite', 'lexisCite', 'term',\n",
       "       'naturalCourt', 'chief', 'docket', 'caseName', 'dateArgument',\n",
       "       'dateRearg', 'petitioner', 'petitionerState', 'respondent',\n",
       "       'respondentState', 'jurisdiction', 'adminAction', 'adminActionState',\n",
       "       'threeJudgeFdc', 'caseOrigin', 'caseOriginState', 'caseSource',\n",
       "       'caseSourceState', 'lcDisagreement', 'certReason', 'lcDisposition',\n",
       "       'lcDispositionDirection', 'declarationUncon', 'caseDisposition',\n",
       "       'caseDispositionUnusual', 'partyWinning', 'precedentAlteration',\n",
       "       'voteUnclear', 'issue', 'issueArea', 'decisionDirection',\n",
       "       'decisionDirectionDissent', 'authorityDecision1', 'authorityDecision2',\n",
       "       'lawType', 'lawSupp', 'lawMinor', 'majOpinWriter', 'majOpinAssigner',\n",
       "       'splitVote', 'majVotes', 'minVotes', 'justice', 'justiceName', 'vote',\n",
       "       'opinion', 'direction', 'majority', 'firstAgreement',\n",
       "       'secondAgreement'],\n",
       "      dtype='object')"
      ]
     },
     "execution_count": 192,
     "metadata": {},
     "output_type": "execute_result"
    }
   ],
   "source": [
    "# let's now get the justices and their votes for each case (identified by LexisCite and caseName)\n",
    "# data from http://scdb.wustl.edu/documentation.php\n",
    "justices_csv = pd.read_csv(\"justices.csv\", encoding=\"latin\")\n",
    "justices_csv.columns"
   ]
  },
  {
   "cell_type": "code",
   "execution_count": 193,
   "metadata": {},
   "outputs": [
    {
     "data": {
      "text/html": [
       "<div>\n",
       "<style scoped>\n",
       "    .dataframe tbody tr th:only-of-type {\n",
       "        vertical-align: middle;\n",
       "    }\n",
       "\n",
       "    .dataframe tbody tr th {\n",
       "        vertical-align: top;\n",
       "    }\n",
       "\n",
       "    .dataframe thead th {\n",
       "        text-align: right;\n",
       "    }\n",
       "</style>\n",
       "<table border=\"1\" class=\"dataframe\">\n",
       "  <thead>\n",
       "    <tr style=\"text-align: right;\">\n",
       "      <th></th>\n",
       "      <th>lexisCite</th>\n",
       "      <th>justiceName</th>\n",
       "      <th>vote</th>\n",
       "      <th>caseName</th>\n",
       "      <th>caseDisposition</th>\n",
       "      <th>decisionDirection</th>\n",
       "      <th>direction</th>\n",
       "    </tr>\n",
       "  </thead>\n",
       "  <tbody>\n",
       "    <tr>\n",
       "      <th>0</th>\n",
       "      <td>1946 U.S. LEXIS 1724</td>\n",
       "      <td>HHBurton</td>\n",
       "      <td>2.0</td>\n",
       "      <td>HALLIBURTON OIL WELL CEMENTING CO. v. WALKER e...</td>\n",
       "      <td>3.0</td>\n",
       "      <td>2.0</td>\n",
       "      <td>1.0</td>\n",
       "    </tr>\n",
       "    <tr>\n",
       "      <th>1</th>\n",
       "      <td>1946 U.S. LEXIS 1724</td>\n",
       "      <td>RHJackson</td>\n",
       "      <td>1.0</td>\n",
       "      <td>HALLIBURTON OIL WELL CEMENTING CO. v. WALKER e...</td>\n",
       "      <td>3.0</td>\n",
       "      <td>2.0</td>\n",
       "      <td>2.0</td>\n",
       "    </tr>\n",
       "    <tr>\n",
       "      <th>2</th>\n",
       "      <td>1946 U.S. LEXIS 1724</td>\n",
       "      <td>WODouglas</td>\n",
       "      <td>1.0</td>\n",
       "      <td>HALLIBURTON OIL WELL CEMENTING CO. v. WALKER e...</td>\n",
       "      <td>3.0</td>\n",
       "      <td>2.0</td>\n",
       "      <td>2.0</td>\n",
       "    </tr>\n",
       "    <tr>\n",
       "      <th>3</th>\n",
       "      <td>1946 U.S. LEXIS 1724</td>\n",
       "      <td>FFrankfurter</td>\n",
       "      <td>4.0</td>\n",
       "      <td>HALLIBURTON OIL WELL CEMENTING CO. v. WALKER e...</td>\n",
       "      <td>3.0</td>\n",
       "      <td>2.0</td>\n",
       "      <td>2.0</td>\n",
       "    </tr>\n",
       "    <tr>\n",
       "      <th>4</th>\n",
       "      <td>1946 U.S. LEXIS 1724</td>\n",
       "      <td>SFReed</td>\n",
       "      <td>1.0</td>\n",
       "      <td>HALLIBURTON OIL WELL CEMENTING CO. v. WALKER e...</td>\n",
       "      <td>3.0</td>\n",
       "      <td>2.0</td>\n",
       "      <td>2.0</td>\n",
       "    </tr>\n",
       "  </tbody>\n",
       "</table>\n",
       "</div>"
      ],
      "text/plain": [
       "              lexisCite   justiceName  vote  \\\n",
       "0  1946 U.S. LEXIS 1724      HHBurton   2.0   \n",
       "1  1946 U.S. LEXIS 1724     RHJackson   1.0   \n",
       "2  1946 U.S. LEXIS 1724     WODouglas   1.0   \n",
       "3  1946 U.S. LEXIS 1724  FFrankfurter   4.0   \n",
       "4  1946 U.S. LEXIS 1724        SFReed   1.0   \n",
       "\n",
       "                                            caseName  caseDisposition  \\\n",
       "0  HALLIBURTON OIL WELL CEMENTING CO. v. WALKER e...              3.0   \n",
       "1  HALLIBURTON OIL WELL CEMENTING CO. v. WALKER e...              3.0   \n",
       "2  HALLIBURTON OIL WELL CEMENTING CO. v. WALKER e...              3.0   \n",
       "3  HALLIBURTON OIL WELL CEMENTING CO. v. WALKER e...              3.0   \n",
       "4  HALLIBURTON OIL WELL CEMENTING CO. v. WALKER e...              3.0   \n",
       "\n",
       "   decisionDirection  direction  \n",
       "0                2.0        1.0  \n",
       "1                2.0        2.0  \n",
       "2                2.0        2.0  \n",
       "3                2.0        2.0  \n",
       "4                2.0        2.0  "
      ]
     },
     "execution_count": 193,
     "metadata": {},
     "output_type": "execute_result"
    }
   ],
   "source": [
    "justices_csv = justices_csv[\n",
    "    [\n",
    "        \"lexisCite\",\n",
    "        \"justiceName\",\n",
    "        \"vote\",\n",
    "        \"caseName\",\n",
    "        \"caseDisposition\",\n",
    "        \"decisionDirection\",\n",
    "        \"direction\",\n",
    "    ]\n",
    "]\n",
    "justices_csv.head(5)"
   ]
  },
  {
   "cell_type": "code",
   "execution_count": 194,
   "metadata": {},
   "outputs": [],
   "source": [
    "# drop perfect duplicates\n",
    "justices_csv = justices_csv.drop_duplicates()"
   ]
  },
  {
   "cell_type": "code",
   "execution_count": 195,
   "metadata": {},
   "outputs": [
    {
     "data": {
      "text/plain": [
       "vote\n",
       "1.0    57671\n",
       "2.0    14056\n",
       "3.0     3039\n",
       "4.0     3627\n",
       "5.0      256\n",
       "6.0       20\n",
       "7.0      390\n",
       "8.0      924\n",
       "Name: count, dtype: int64"
      ]
     },
     "execution_count": 195,
     "metadata": {},
     "output_type": "execute_result"
    }
   ],
   "source": [
    "# note the values of votes:\n",
    "# Values:\n",
    "# 1\tvoted with majority or plurality\n",
    "# 2\tdissent\n",
    "# 3\tregular concurrence\n",
    "# 4\tspecial concurrence\n",
    "# 5\tjudgment of the Court\n",
    "# 6\tdissent from a denial or dismissal of certiorari , or dissent from summary affirmation of an appeal\n",
    "# 7\tjurisdictional dissent\n",
    "# 8\tjustice participated in an equally divided vote\n",
    "justices_csv[\"vote\"].value_counts().sort_index()"
   ]
  },
  {
   "cell_type": "code",
   "execution_count": 196,
   "metadata": {},
   "outputs": [
    {
     "data": {
      "text/plain": [
       "8907"
      ]
     },
     "execution_count": 196,
     "metadata": {},
     "output_type": "execute_result"
    }
   ],
   "source": [
    "justices_csv[\"caseName\"].unique().shape[0]"
   ]
  },
  {
   "cell_type": "code",
   "execution_count": 197,
   "metadata": {},
   "outputs": [
    {
     "data": {
      "text/plain": [
       "0.024680819930005975"
      ]
     },
     "execution_count": 197,
     "metadata": {},
     "output_type": "execute_result"
    }
   ],
   "source": [
    "justices_csv[\n",
    "    \"vote\"\n",
    "].isna().mean()  # votes are missing in about 2% of cases -- should we drop these?"
   ]
  },
  {
   "cell_type": "code",
   "execution_count": 198,
   "metadata": {},
   "outputs": [
    {
     "data": {
      "text/plain": [
       "direction\n",
       "1.0    36635\n",
       "2.0    40699\n",
       "Name: count, dtype: int64"
      ]
     },
     "execution_count": 198,
     "metadata": {},
     "output_type": "execute_result"
    }
   ],
   "source": [
    "# direction is the \"Direction of the Individual Justice's Votes\"\n",
    "# 1 = conservative\n",
    "# 2 = liberal\n",
    "justices_csv[\"direction\"].value_counts().sort_index()"
   ]
  },
  {
   "cell_type": "code",
   "execution_count": 199,
   "metadata": {},
   "outputs": [
    {
     "data": {
      "text/plain": [
       "decisionDirection\n",
       "1.0    39242\n",
       "2.0    40970\n",
       "3.0     1427\n",
       "Name: count, dtype: int64"
      ]
     },
     "execution_count": 199,
     "metadata": {},
     "output_type": "execute_result"
    }
   ],
   "source": [
    "# In order to determine whether the Court supports or opposes the issue to which the case pertains, this variable codes the ideological \"direction\" of the decision.\n",
    "# 1\tconservative\n",
    "# 2\tliberal\n",
    "# 3\tunspecifiable\n",
    "justices_csv[\"decisionDirection\"].value_counts().sort_index()"
   ]
  },
  {
   "cell_type": "code",
   "execution_count": 200,
   "metadata": {},
   "outputs": [
    {
     "data": {
      "text/plain": [
       "array([1, 0])"
      ]
     },
     "execution_count": 200,
     "metadata": {},
     "output_type": "execute_result"
    }
   ],
   "source": [
    "# check that decision direction doesn't vary by case\n",
    "justices_csv.groupby(\"lexisCite\")[\"decisionDirection\"].nunique().unique()"
   ]
  },
  {
   "cell_type": "code",
   "execution_count": 201,
   "metadata": {},
   "outputs": [
    {
     "data": {
      "text/html": [
       "<div>\n",
       "<style scoped>\n",
       "    .dataframe tbody tr th:only-of-type {\n",
       "        vertical-align: middle;\n",
       "    }\n",
       "\n",
       "    .dataframe tbody tr th {\n",
       "        vertical-align: top;\n",
       "    }\n",
       "\n",
       "    .dataframe thead th {\n",
       "        text-align: right;\n",
       "    }\n",
       "</style>\n",
       "<table border=\"1\" class=\"dataframe\">\n",
       "  <thead>\n",
       "    <tr style=\"text-align: right;\">\n",
       "      <th></th>\n",
       "      <th>lexisCite</th>\n",
       "      <th>justiceName</th>\n",
       "      <th>vote</th>\n",
       "      <th>caseName</th>\n",
       "      <th>caseDisposition</th>\n",
       "      <th>decisionDirection</th>\n",
       "      <th>direction</th>\n",
       "    </tr>\n",
       "  </thead>\n",
       "  <tbody>\n",
       "    <tr>\n",
       "      <th>8911</th>\n",
       "      <td>1955 U.S. LEXIS 945</td>\n",
       "      <td>EWarren</td>\n",
       "      <td>8.0</td>\n",
       "      <td>RYAN STEVEDORING CO., INC. v. PANATLANTIC STEA...</td>\n",
       "      <td>2.0</td>\n",
       "      <td>NaN</td>\n",
       "      <td>NaN</td>\n",
       "    </tr>\n",
       "    <tr>\n",
       "      <th>8912</th>\n",
       "      <td>1955 U.S. LEXIS 945</td>\n",
       "      <td>HLBlack</td>\n",
       "      <td>8.0</td>\n",
       "      <td>RYAN STEVEDORING CO., INC. v. PANATLANTIC STEA...</td>\n",
       "      <td>2.0</td>\n",
       "      <td>NaN</td>\n",
       "      <td>NaN</td>\n",
       "    </tr>\n",
       "    <tr>\n",
       "      <th>8913</th>\n",
       "      <td>1955 U.S. LEXIS 945</td>\n",
       "      <td>SFReed</td>\n",
       "      <td>8.0</td>\n",
       "      <td>RYAN STEVEDORING CO., INC. v. PANATLANTIC STEA...</td>\n",
       "      <td>2.0</td>\n",
       "      <td>NaN</td>\n",
       "      <td>NaN</td>\n",
       "    </tr>\n",
       "    <tr>\n",
       "      <th>8914</th>\n",
       "      <td>1955 U.S. LEXIS 945</td>\n",
       "      <td>FFrankfurter</td>\n",
       "      <td>8.0</td>\n",
       "      <td>RYAN STEVEDORING CO., INC. v. PANATLANTIC STEA...</td>\n",
       "      <td>2.0</td>\n",
       "      <td>NaN</td>\n",
       "      <td>NaN</td>\n",
       "    </tr>\n",
       "    <tr>\n",
       "      <th>8915</th>\n",
       "      <td>1955 U.S. LEXIS 945</td>\n",
       "      <td>WODouglas</td>\n",
       "      <td>8.0</td>\n",
       "      <td>RYAN STEVEDORING CO., INC. v. PANATLANTIC STEA...</td>\n",
       "      <td>2.0</td>\n",
       "      <td>NaN</td>\n",
       "      <td>NaN</td>\n",
       "    </tr>\n",
       "    <tr>\n",
       "      <th>8916</th>\n",
       "      <td>1955 U.S. LEXIS 945</td>\n",
       "      <td>HHBurton</td>\n",
       "      <td>8.0</td>\n",
       "      <td>RYAN STEVEDORING CO., INC. v. PANATLANTIC STEA...</td>\n",
       "      <td>2.0</td>\n",
       "      <td>NaN</td>\n",
       "      <td>NaN</td>\n",
       "    </tr>\n",
       "    <tr>\n",
       "      <th>8917</th>\n",
       "      <td>1955 U.S. LEXIS 945</td>\n",
       "      <td>TCClark</td>\n",
       "      <td>8.0</td>\n",
       "      <td>RYAN STEVEDORING CO., INC. v. PANATLANTIC STEA...</td>\n",
       "      <td>2.0</td>\n",
       "      <td>NaN</td>\n",
       "      <td>NaN</td>\n",
       "    </tr>\n",
       "    <tr>\n",
       "      <th>8918</th>\n",
       "      <td>1955 U.S. LEXIS 945</td>\n",
       "      <td>SMinton</td>\n",
       "      <td>8.0</td>\n",
       "      <td>RYAN STEVEDORING CO., INC. v. PANATLANTIC STEA...</td>\n",
       "      <td>2.0</td>\n",
       "      <td>NaN</td>\n",
       "      <td>NaN</td>\n",
       "    </tr>\n",
       "    <tr>\n",
       "      <th>8919</th>\n",
       "      <td>1955 U.S. LEXIS 945</td>\n",
       "      <td>JHarlan2</td>\n",
       "      <td>NaN</td>\n",
       "      <td>RYAN STEVEDORING CO., INC. v. PANATLANTIC STEA...</td>\n",
       "      <td>2.0</td>\n",
       "      <td>NaN</td>\n",
       "      <td>NaN</td>\n",
       "    </tr>\n",
       "  </tbody>\n",
       "</table>\n",
       "</div>"
      ],
      "text/plain": [
       "                lexisCite   justiceName  vote  \\\n",
       "8911  1955 U.S. LEXIS 945       EWarren   8.0   \n",
       "8912  1955 U.S. LEXIS 945       HLBlack   8.0   \n",
       "8913  1955 U.S. LEXIS 945        SFReed   8.0   \n",
       "8914  1955 U.S. LEXIS 945  FFrankfurter   8.0   \n",
       "8915  1955 U.S. LEXIS 945     WODouglas   8.0   \n",
       "8916  1955 U.S. LEXIS 945      HHBurton   8.0   \n",
       "8917  1955 U.S. LEXIS 945       TCClark   8.0   \n",
       "8918  1955 U.S. LEXIS 945       SMinton   8.0   \n",
       "8919  1955 U.S. LEXIS 945      JHarlan2   NaN   \n",
       "\n",
       "                                               caseName  caseDisposition  \\\n",
       "8911  RYAN STEVEDORING CO., INC. v. PANATLANTIC STEA...              2.0   \n",
       "8912  RYAN STEVEDORING CO., INC. v. PANATLANTIC STEA...              2.0   \n",
       "8913  RYAN STEVEDORING CO., INC. v. PANATLANTIC STEA...              2.0   \n",
       "8914  RYAN STEVEDORING CO., INC. v. PANATLANTIC STEA...              2.0   \n",
       "8915  RYAN STEVEDORING CO., INC. v. PANATLANTIC STEA...              2.0   \n",
       "8916  RYAN STEVEDORING CO., INC. v. PANATLANTIC STEA...              2.0   \n",
       "8917  RYAN STEVEDORING CO., INC. v. PANATLANTIC STEA...              2.0   \n",
       "8918  RYAN STEVEDORING CO., INC. v. PANATLANTIC STEA...              2.0   \n",
       "8919  RYAN STEVEDORING CO., INC. v. PANATLANTIC STEA...              2.0   \n",
       "\n",
       "      decisionDirection  direction  \n",
       "8911                NaN        NaN  \n",
       "8912                NaN        NaN  \n",
       "8913                NaN        NaN  \n",
       "8914                NaN        NaN  \n",
       "8915                NaN        NaN  \n",
       "8916                NaN        NaN  \n",
       "8917                NaN        NaN  \n",
       "8918                NaN        NaN  \n",
       "8919                NaN        NaN  "
      ]
     },
     "execution_count": 201,
     "metadata": {},
     "output_type": "execute_result"
    }
   ],
   "source": [
    "# cases with 0 unique values are missing -- should we drop these?\n",
    "justices_csv.loc[justices_csv[\"lexisCite\"] == \"1955 U.S. LEXIS 945\"]"
   ]
  },
  {
   "cell_type": "code",
   "execution_count": 202,
   "metadata": {},
   "outputs": [
    {
     "data": {
      "text/plain": [
       "0.05698294048069067"
      ]
     },
     "execution_count": 202,
     "metadata": {},
     "output_type": "execute_result"
    }
   ],
   "source": [
    "#  A missing value code indicates that the decisionDirection was unspecifiable or that that justice did not participate.\n",
    "justices_csv[\n",
    "    \"direction\"\n",
    "].isna().mean()  # direction is missing in about 5% of justice/case combinations"
   ]
  },
  {
   "cell_type": "code",
   "execution_count": 203,
   "metadata": {},
   "outputs": [
    {
     "data": {
      "text/plain": [
       "justiceName  lexisCite           \n",
       "WODouglas    1974 U.S. LEXIS 102     2\n",
       "SFReed       1955 U.S. LEXIS 1542    1\n",
       "             1955 U.S. LEXIS 602     1\n",
       "             1955 U.S. LEXIS 601     1\n",
       "             1955 U.S. LEXIS 37      1\n",
       "                                    ..\n",
       "HHBurton     1948 U.S. LEXIS 2110    1\n",
       "             1948 U.S. LEXIS 2086    1\n",
       "             1948 U.S. LEXIS 2085    1\n",
       "             1948 U.S. LEXIS 2084    1\n",
       "WODouglas    1975 U.S. LEXIS 93      1\n",
       "Name: count, Length: 82006, dtype: int64"
      ]
     },
     "execution_count": 203,
     "metadata": {},
     "output_type": "execute_result"
    }
   ],
   "source": [
    "justices_csv[[\"justiceName\", \"lexisCite\"]].value_counts()"
   ]
  },
  {
   "cell_type": "code",
   "execution_count": 204,
   "metadata": {},
   "outputs": [
    {
     "data": {
      "text/html": [
       "<div>\n",
       "<style scoped>\n",
       "    .dataframe tbody tr th:only-of-type {\n",
       "        vertical-align: middle;\n",
       "    }\n",
       "\n",
       "    .dataframe tbody tr th {\n",
       "        vertical-align: top;\n",
       "    }\n",
       "\n",
       "    .dataframe thead th {\n",
       "        text-align: right;\n",
       "    }\n",
       "</style>\n",
       "<table border=\"1\" class=\"dataframe\">\n",
       "  <thead>\n",
       "    <tr style=\"text-align: right;\">\n",
       "      <th></th>\n",
       "      <th>lexisCite</th>\n",
       "      <th>justiceName</th>\n",
       "      <th>vote</th>\n",
       "      <th>caseName</th>\n",
       "      <th>caseDisposition</th>\n",
       "      <th>decisionDirection</th>\n",
       "      <th>direction</th>\n",
       "    </tr>\n",
       "  </thead>\n",
       "  <tbody>\n",
       "    <tr>\n",
       "      <th>33240</th>\n",
       "      <td>1974 U.S. LEXIS 102</td>\n",
       "      <td>WODouglas</td>\n",
       "      <td>2.0</td>\n",
       "      <td>MISSISSIPPI v. ARKANSAS</td>\n",
       "      <td>NaN</td>\n",
       "      <td>3.0</td>\n",
       "      <td>NaN</td>\n",
       "    </tr>\n",
       "    <tr>\n",
       "      <th>33249</th>\n",
       "      <td>1974 U.S. LEXIS 102</td>\n",
       "      <td>WODouglas</td>\n",
       "      <td>1.0</td>\n",
       "      <td>MISSISSIPPI v. ARKANSAS</td>\n",
       "      <td>NaN</td>\n",
       "      <td>3.0</td>\n",
       "      <td>NaN</td>\n",
       "    </tr>\n",
       "  </tbody>\n",
       "</table>\n",
       "</div>"
      ],
      "text/plain": [
       "                 lexisCite justiceName  vote                 caseName  \\\n",
       "33240  1974 U.S. LEXIS 102   WODouglas   2.0  MISSISSIPPI v. ARKANSAS   \n",
       "33249  1974 U.S. LEXIS 102   WODouglas   1.0  MISSISSIPPI v. ARKANSAS   \n",
       "\n",
       "       caseDisposition  decisionDirection  direction  \n",
       "33240              NaN                3.0        NaN  \n",
       "33249              NaN                3.0        NaN  "
      ]
     },
     "execution_count": 204,
     "metadata": {},
     "output_type": "execute_result"
    }
   ],
   "source": [
    "# drop case with contradictory votes or check online to corroborate?\n",
    "justices_csv[\n",
    "    justices_csv[[\"justiceName\", \"lexisCite\"]].duplicated(keep=False)\n",
    "].sort_values([\"lexisCite\", \"justiceName\"])"
   ]
  },
  {
   "cell_type": "code",
   "execution_count": 205,
   "metadata": {},
   "outputs": [
    {
     "data": {
      "text/plain": [
       "caseDisposition\n",
       "1.0       421\n",
       "2.0     24302\n",
       "3.0     17954\n",
       "4.0     22277\n",
       "5.0     10045\n",
       "6.0       683\n",
       "7.0      1508\n",
       "8.0       303\n",
       "9.0      3204\n",
       "10.0      116\n",
       "11.0        9\n",
       "Name: count, dtype: int64"
      ]
     },
     "execution_count": 205,
     "metadata": {},
     "output_type": "execute_result"
    }
   ],
   "source": [
    "# for final case decision:\n",
    "# 1\tstay, petition, or motion granted\n",
    "# 2\taffirmed (includes modified)\n",
    "# 3\treversed\n",
    "# 4\treversed and remanded\n",
    "# 5\tvacated and remanded\n",
    "# 6\taffirmed and reversed (or vacated) in part\n",
    "# 7\taffirmed and reversed (or vacated) in part and remanded\n",
    "# 8\tvacated\n",
    "# 9\tpetition denied or appeal dismissed\n",
    "# 10\tcertification to or from a lower court\n",
    "# 11\tno disposition\n",
    "\n",
    "# do we want to drop any of these where the case disposition seems like it would be tricky...\n",
    "# or does it matter less because we care mostly about judge voting behavior?\n",
    "justices_csv[\"caseDisposition\"].value_counts().sort_index()"
   ]
  },
  {
   "cell_type": "code",
   "execution_count": 206,
   "metadata": {},
   "outputs": [
    {
     "data": {
      "text/plain": [
       "0.014449985976806858"
      ]
     },
     "execution_count": 206,
     "metadata": {},
     "output_type": "execute_result"
    }
   ],
   "source": [
    "justices_csv[\"caseDisposition\"].isna().mean()  # around 1% are missing case disposition"
   ]
  },
  {
   "cell_type": "code",
   "execution_count": 207,
   "metadata": {},
   "outputs": [
    {
     "data": {
      "text/plain": [
       "0.004487421805455632"
      ]
     },
     "execution_count": 207,
     "metadata": {},
     "output_type": "execute_result"
    }
   ],
   "source": [
    "justices_csv[\"decisionDirection\"].isna().mean()  # < 1% are missing decision direction"
   ]
  },
  {
   "cell_type": "markdown",
   "metadata": {},
   "source": [
    "## Create Dictionary for Generating Network"
   ]
  },
  {
   "cell_type": "code",
   "execution_count": 208,
   "metadata": {},
   "outputs": [
    {
     "data": {
      "text/plain": [
       "[('1953 U.S. LEXIS 2673', [('SECURITIES AND EXCHANGE COMMISSION', 1)]),\n",
       " ('1953 U.S. LEXIS 2680', [('BOSTON AMERICAN LEAGUE BASE BALL COMPANY', 2)]),\n",
       " ('1954 U.S. LEXIS 2094',\n",
       "  [('AMERICAN FEDERATION OF TEACHERS', 1),\n",
       "   ('UNITED STATES', 1),\n",
       "   ('AMERICAN JEWISH CONGRESS', 1),\n",
       "   ('AMERICAN VETERANS COMMITTEE', 1),\n",
       "   ('AMERICAN ETHICAL UNION', 1),\n",
       "   ('AMERICAN JEWISH COMMITTEE', 1),\n",
       "   ('ANTI-DEFAMATION LEAGUE', 1),\n",
       "   ('JAPANESE AMERICAN CITIZENS LEAGUE', 1),\n",
       "   ('UNITARIAN FELLOWSHIP FOR SOCIAL JUSTICE', 1),\n",
       "   ('AMERICAN CIVIL LIBERTIES UNION', 1),\n",
       "   ('CONGRESS OF INDUSTRIAL ORGANIZATIONS', 1)])]"
      ]
     },
     "execution_count": 208,
     "metadata": {},
     "output_type": "execute_result"
    }
   ],
   "source": [
    "# for simplicity, we want the final form factor to be a dictionary as it's easier to parse and find information\n",
    "# let's first convert the amicus briefs into a dictionary with one key per docket\n",
    "# each docket will have all the amicus briefs with the organization names and their positions\n",
    "\n",
    "amici_data = {}\n",
    "\n",
    "for _, brief_row in amicus_briefs_csv.iterrows():\n",
    "    lexis_cite = brief_row[\"LexisCite\"]\n",
    "    amicus_name = brief_row[\"AmicusName\"]\n",
    "    position = brief_row[\"Position\"]\n",
    "\n",
    "    if lexis_cite not in amici_data:\n",
    "        amici_data[lexis_cite] = []\n",
    "\n",
    "    amici_data[lexis_cite].append((amicus_name, position))\n",
    "\n",
    "list(amici_data.items())[:3]"
   ]
  },
  {
   "cell_type": "code",
   "execution_count": 209,
   "metadata": {},
   "outputs": [
    {
     "data": {
      "text/plain": [
       "[('1946 U.S. LEXIS 1724',\n",
       "  {'justices': [('HHBurton', 2.0, 1.0),\n",
       "    ('RHJackson', 1.0, 2.0),\n",
       "    ('WODouglas', 1.0, 2.0),\n",
       "    ('FFrankfurter', 4.0, 2.0),\n",
       "    ('SFReed', 1.0, 2.0),\n",
       "    ('HLBlack', 1.0, 2.0),\n",
       "    ('WBRutledge', 1.0, 2.0),\n",
       "    ('FMurphy', 1.0, 2.0),\n",
       "    ('FMVinson', 1.0, 2.0)],\n",
       "   'caseName': 'HALLIBURTON OIL WELL CEMENTING CO. v. WALKER et al., DOING BUSINESS AS DEPTHOGRAPH CO.',\n",
       "   'decision': 3.0,\n",
       "   'decisiondirection': 2.0}),\n",
       " ('1946 U.S. LEXIS 1725',\n",
       "  {'justices': [('HHBurton', 1.0, 1.0),\n",
       "    ('RHJackson', 2.0, 2.0),\n",
       "    ('WODouglas', 1.0, 1.0),\n",
       "    ('FFrankfurter', 1.0, 1.0),\n",
       "    ('SFReed', 1.0, 1.0),\n",
       "    ('HLBlack', 2.0, 2.0),\n",
       "    ('WBRutledge', 4.0, 1.0),\n",
       "    ('FMurphy', 2.0, 2.0),\n",
       "    ('FMVinson', 1.0, 1.0)],\n",
       "   'caseName': 'CLEVELAND v. UNITED STATES',\n",
       "   'decision': 2.0,\n",
       "   'decisiondirection': 1.0})]"
      ]
     },
     "execution_count": 209,
     "metadata": {},
     "output_type": "execute_result"
    }
   ],
   "source": [
    "# let's also do this for the judges\n",
    "justices_data = {}\n",
    "\n",
    "for _, justice_row in justices_csv.iterrows():\n",
    "    lexis_cite = justice_row[\"lexisCite\"]\n",
    "    justice_name = justice_row[\"justiceName\"]\n",
    "    case_name = justice_row[\"caseName\"]\n",
    "    vote = justice_row[\"vote\"]\n",
    "    disposition = justice_row[\"caseDisposition\"]\n",
    "    decisiondirection = justice_row[\"decisionDirection\"]\n",
    "    direction = justice_row[\"direction\"]\n",
    "\n",
    "    if lexis_cite not in justices_data:\n",
    "        justices_data[lexis_cite] = {\n",
    "            \"justices\": [],\n",
    "            \"caseName\": case_name,\n",
    "            \"decision\": disposition,\n",
    "            \"decisiondirection\": decisiondirection,\n",
    "        }\n",
    "\n",
    "    justices_data[lexis_cite][\"justices\"].append((justice_name, vote, direction))\n",
    "\n",
    "list(justices_data.items())[:2]"
   ]
  },
  {
   "cell_type": "code",
   "execution_count": 210,
   "metadata": {},
   "outputs": [],
   "source": [
    "# make a function for determining ideological position of amicus\n",
    "\n",
    "# position variable in amicus briefs\n",
    "# = 1 if the brief argues the lower court decision should be reversed\n",
    "# = 2 if lower court decision should be affirmed\n",
    "# = 3 if the brief explicitly does not adopt a position or the position is unclear\n",
    "\n",
    "# case decision values\n",
    "# 1\tstay, petition, or motion granted\n",
    "# 2\taffirmed (includes modified)\n",
    "# 3\treversed\n",
    "# 4\treversed and remanded\n",
    "# 5\tvacated and remanded\n",
    "# 6\taffirmed and reversed (or vacated) in part\n",
    "# 7\taffirmed and reversed (or vacated) in part and remanded\n",
    "# 8\tvacated\n",
    "# 9\tpetition denied or appeal dismissed\n",
    "# 10 certification to or from a lower court\n",
    "# 11 no disposition\n",
    "\n",
    "# case direction values\n",
    "\n",
    "def amicusDirection(brief_position, case_decision, case_direction):\n",
    "    \"\"\"\n",
    "    Determines the direction of the amicus based on agreement between judge decision and amicus.\n",
    "    \"\"\"\n",
    "    # if we have any invalid values, let's remove this scenario\n",
    "    try:\n",
    "        position, decision, direction = (\n",
    "            int(brief_position),\n",
    "            int(case_decision),\n",
    "            int(case_direction),\n",
    "        )\n",
    "    except:\n",
    "        return 99\n",
    "\n",
    "    # also invalid if direction is unspecifiable\n",
    "    if direction == 3:\n",
    "        return 99\n",
    "\n",
    "    # case where brief argues the lower court decision should be reversed\n",
    "    # and decision is (3) reversed, (4) reversed and remanded\n",
    "    # also including:\n",
    "    # (5) vacated and remanded\n",
    "    # (8) vacated\n",
    "    # (9) petition denied or appeal dismissed\n",
    "\n",
    "    # direction of amicus brief should match case direction\n",
    "    if position == 1 and (decision in [3, 4, 5, 8, 9]):\n",
    "        return direction\n",
    "    # argue lower court decision should be affirmed\n",
    "    # and decision is (2) affirmed (includes modified)\n",
    "    # -- note: should this also include (1)?\n",
    "    # (1) stay, petition, or motion granted\n",
    "    elif position == 2 and (decision in [1, 2]):\n",
    "        return direction\n",
    "    # if the position is to reverse\n",
    "    # and decision is (2) affirmed (includes modified)\n",
    "    elif position == 1 and (decision in [1, 2]):\n",
    "        return 1 if direction == 2 else 2\n",
    "    # if the position is to reverse\n",
    "    # and decision is (2) affirmed (includes modified)\n",
    "    elif position == 2 and (decision in [3, 4, 5, 8, 9]):\n",
    "        return 1 if direction == 2 else 2\n",
    "    else:\n",
    "        return 99"
   ]
  },
  {
   "cell_type": "code",
   "execution_count": 211,
   "metadata": {},
   "outputs": [],
   "source": [
    "# Function to determine if a direction is conservative\n",
    "def isConservative(direction):\n",
    "    \"\"\"\n",
    "    Identifies whether direction is conservative (i.e., = 1)\n",
    "    \"\"\"\n",
    "    if direction == 99:\n",
    "        return np.nan\n",
    "    else:\n",
    "        return direction == 1"
   ]
  },
  {
   "cell_type": "code",
   "execution_count": 212,
   "metadata": {},
   "outputs": [
    {
     "data": {
      "text/plain": [
       "[('1953 U.S. LEXIS 2673',\n",
       "  {'case_name': 'WILKO v. SWAN et al., DOING BUSINESS AS HAYDEN, STONE & CO., et al.',\n",
       "   'justices': [('HLBlack', 1.0, 2.0),\n",
       "    ('WODouglas', 1.0, 2.0),\n",
       "    ('EWarren', 1.0, 2.0),\n",
       "    ('TCClark', 1.0, 2.0),\n",
       "    ('FFrankfurter', 2.0, 1.0),\n",
       "    ('HHBurton', 1.0, 2.0),\n",
       "    ('SFReed', 1.0, 2.0),\n",
       "    ('SMinton', 2.0, 1.0),\n",
       "    ('RHJackson', 3.0, 2.0)],\n",
       "   'case_decision': 3.0,\n",
       "   'decisiondirection': 2.0,\n",
       "   'amici': [('SECURITIES AND EXCHANGE COMMISSION', 1)],\n",
       "   'conservative_amici': [False],\n",
       "   'percent_conservative': 0.0,\n",
       "   'distinct_amicus_positions': 1}),\n",
       " ('1953 U.S. LEXIS 2680',\n",
       "  {'case_name': 'TOOLSON v. NEW YORK YANKEES, INC. et al.',\n",
       "   'justices': [('HLBlack', 1.0, 1.0),\n",
       "    ('WODouglas', 1.0, 1.0),\n",
       "    ('EWarren', 1.0, 1.0),\n",
       "    ('TCClark', 1.0, 1.0),\n",
       "    ('FFrankfurter', 1.0, 1.0),\n",
       "    ('HHBurton', 2.0, 2.0),\n",
       "    ('SFReed', 2.0, 2.0),\n",
       "    ('SMinton', 1.0, 1.0),\n",
       "    ('RHJackson', 1.0, 1.0)],\n",
       "   'case_decision': 2.0,\n",
       "   'decisiondirection': 1.0,\n",
       "   'amici': [('BOSTON AMERICAN LEAGUE BASE BALL COMPANY', 2)],\n",
       "   'conservative_amici': [True],\n",
       "   'percent_conservative': 1.0,\n",
       "   'distinct_amicus_positions': 1}),\n",
       " ('1954 U.S. LEXIS 2094',\n",
       "  {'case_name': 'BROWN et al. v. BOARD OF EDUCATION OF TOPEKA et al.',\n",
       "   'justices': [('HLBlack', 1.0, 2.0),\n",
       "    ('WODouglas', 1.0, 2.0),\n",
       "    ('EWarren', 1.0, 2.0),\n",
       "    ('TCClark', 1.0, 2.0),\n",
       "    ('FFrankfurter', 1.0, 2.0),\n",
       "    ('HHBurton', 1.0, 2.0),\n",
       "    ('SFReed', 1.0, 2.0),\n",
       "    ('SMinton', 1.0, 2.0),\n",
       "    ('RHJackson', 1.0, 2.0)],\n",
       "   'case_decision': 1.0,\n",
       "   'decisiondirection': 2.0,\n",
       "   'amici': [('AMERICAN FEDERATION OF TEACHERS', 1),\n",
       "    ('UNITED STATES', 1),\n",
       "    ('AMERICAN JEWISH CONGRESS', 1),\n",
       "    ('AMERICAN VETERANS COMMITTEE', 1),\n",
       "    ('AMERICAN ETHICAL UNION', 1),\n",
       "    ('AMERICAN JEWISH COMMITTEE', 1),\n",
       "    ('ANTI-DEFAMATION LEAGUE', 1),\n",
       "    ('JAPANESE AMERICAN CITIZENS LEAGUE', 1),\n",
       "    ('UNITARIAN FELLOWSHIP FOR SOCIAL JUSTICE', 1),\n",
       "    ('AMERICAN CIVIL LIBERTIES UNION', 1),\n",
       "    ('CONGRESS OF INDUSTRIAL ORGANIZATIONS', 1)],\n",
       "   'conservative_amici': [True,\n",
       "    True,\n",
       "    True,\n",
       "    True,\n",
       "    True,\n",
       "    True,\n",
       "    True,\n",
       "    True,\n",
       "    True,\n",
       "    True,\n",
       "    True],\n",
       "   'percent_conservative': 1.0,\n",
       "   'distinct_amicus_positions': 1})]"
      ]
     },
     "execution_count": 212,
     "metadata": {},
     "output_type": "execute_result"
    }
   ],
   "source": [
    "# Now we can merge our dictionaries together to get a final pre-processed dictionary\n",
    "preproc_data = {}\n",
    "\n",
    "for lexis_cite, brief in amici_data.items():\n",
    "    justices_found = justices_data[lexis_cite]\n",
    "\n",
    "    # if we can't find the corresponding case, we'll skip this row\n",
    "    if justices_found is None:\n",
    "        continue\n",
    "\n",
    "    # calculate the percent conservative\n",
    "    amicus_conservative_list = [\n",
    "        isConservative(\n",
    "            amicusDirection(\n",
    "                amicus[1],\n",
    "                justices_found[\"decision\"],\n",
    "                justices_found[\"decisiondirection\"],\n",
    "            )\n",
    "        )\n",
    "        for amicus in brief\n",
    "    ]\n",
    "    amicus_unique_positions = np.unique([amicus[1] for amicus in brief])\n",
    "    assert len(amicus_conservative_list) == len(brief)\n",
    "\n",
    "    preproc_data[lexis_cite] = {\n",
    "        \"case_name\": justices_found[\"caseName\"],\n",
    "        \"justices\": justices_found[\"justices\"],\n",
    "        \"case_decision\": justices_found[\"decision\"],\n",
    "        \"decisiondirection\": justices_found[\"decisiondirection\"],\n",
    "        \"amici\": brief,\n",
    "        \"conservative_amici\": amicus_conservative_list,\n",
    "        \"percent_conservative\": np.mean(amicus_conservative_list),\n",
    "        \"distinct_amicus_positions\": len(amicus_unique_positions),\n",
    "    }\n",
    "\n",
    "list(preproc_data.items())[:3]"
   ]
  },
  {
   "cell_type": "code",
   "execution_count": 213,
   "metadata": {},
   "outputs": [],
   "source": [
    "# let's make a function to determine if the judges agreed with the amicus brief\n",
    "# here we need to determine whether the judge followed the amicus decision\n",
    "\n",
    "# for amicus brief position:\n",
    "# Indicates the position on the case expressed by the amicus brief.\n",
    "# = 1 if the brief argues the lower court decision should be reversed,\n",
    "# = 2 if lower court decision should be affirmed,\n",
    "# = 3 if the brief explicitly does not adopt a position or the position is unclear.\n",
    "\n",
    "# for final case decision:\n",
    "# 1\tstay, petition, or motion granted\n",
    "# 2\taffirmed (includes modified)\n",
    "# 3\treversed\n",
    "# 4\treversed and remanded\n",
    "# 5\tvacated and remanded\n",
    "# 6\taffirmed and reversed (or vacated) in part\n",
    "# 7\taffirmed and reversed (or vacated) in part and remanded\n",
    "# 8\tvacated\n",
    "# 9\tpetition denied or appeal dismissed\n",
    "# 10 certification to or from a lower court\n",
    "# 11 no disposition\n",
    "\n",
    "# for justice vote:\n",
    "# 1\tvoted with majority or plurality\n",
    "# 2\tdissent\n",
    "# 3\tregular concurrence\n",
    "# 4\tspecial concurrence\n",
    "# 5\tjudgment of the Court\n",
    "# 6\tdissent from a denial or dismissal of certiorari , or dissent from summary affirmation of an appeal\n",
    "# 7\tjurisdictional dissent\n",
    "# 8\tjustice participated in an equally divided vote\n",
    "\n",
    "def judgeAgreesWithAmicus(brief_position, case_decision, justice_vote):\n",
    "    # if we have any invalid values, let's remove this scenario\n",
    "    try:\n",
    "        position, decision, vote = (\n",
    "            int(brief_position),\n",
    "            int(case_decision),\n",
    "            int(justice_vote),\n",
    "        )\n",
    "    except:\n",
    "        return 2\n",
    "\n",
    "    # agrees with amicus brief for reversing lower court decision\n",
    "    if position == 1 and (decision == 3 or decision == 4) and vote == 1:\n",
    "        return 1\n",
    "\n",
    "    # disagrees with amicus brief for reversing lower court decision\n",
    "    if position == 1 and (decision == 3 or decision == 4) and vote == 2:\n",
    "        return 0\n",
    "\n",
    "    # agrees with amicus brief for affirming lower court decision\n",
    "    if position == 2 and (decision == 2) and vote == 1:\n",
    "        return 1\n",
    "\n",
    "    # disagrees with amicus brief for affirming lower court decision\n",
    "    if position == 2 and (decision == 2) and vote == 2:\n",
    "        return 0\n",
    "\n",
    "    # invalid scenario\n",
    "    return 2"
   ]
  },
  {
   "cell_type": "markdown",
   "metadata": {},
   "source": [
    "## Construct graphs"
   ]
  },
  {
   "cell_type": "code",
   "execution_count": 214,
   "metadata": {},
   "outputs": [],
   "source": [
    "# Let's construct a graph now\n",
    "# We make an assumption that the judges and amicus organizations have no overlapping names\n",
    "\n",
    "G = nx.MultiDiGraph()\n",
    "\n",
    "# We also are going to keep track of the justices and amici that make the final graph\n",
    "final_justices = set()\n",
    "final_amici = set()\n",
    "final_cases = set()\n",
    "final_cases_per_justice = {}\n",
    "\n",
    "for lexis_cite, docket in preproc_data.items():\n",
    "    for amicus in docket[\"amici\"]:\n",
    "        # identify the ideological direction of the amicus brief based on its relationship with the disposition\n",
    "        # and the disposition direction\n",
    "        amicus_direction = amicusDirection(\n",
    "            amicus[1], docket[\"case_decision\"], docket[\"decisiondirection\"]\n",
    "        )\n",
    "        for justice in docket[\"justices\"]:\n",
    "            # identify whether the judge agrees with the amicus\n",
    "            # 0 = disagree, 1 = agree, 2 = trash\n",
    "            agreement = judgeAgreesWithAmicus(\n",
    "                amicus[1], docket[\"case_decision\"], justice[1]\n",
    "            )\n",
    "            # identify whether judge's opinion is conservative\n",
    "            conservative_position = int(justice[2] == 1)\n",
    "            ideological_agreement = int(justice[2] == amicus_direction)\n",
    "            # only add if amicus direction is NOT invalid or if agreement is not invalid?\n",
    "            # or just add all... or base this on the df_filt dataset?\n",
    "            if (amicus_direction != 99):\n",
    "                final_justices.add(justice[0])\n",
    "                final_amici.add(amicus[0])\n",
    "                final_cases.add(lexis_cite)\n",
    "\n",
    "                if justice[0] not in final_cases_per_justice:\n",
    "                    final_cases_per_justice[justice[0]] = set()\n",
    "                final_cases_per_justice[justice[0]].add(lexis_cite)\n",
    "\n",
    "                G.add_edge(\n",
    "                    justice[0],\n",
    "                    amicus[0],\n",
    "                    caseName=docket[\"case_name\"],\n",
    "                    agreement=agreement,\n",
    "                    ideological_agreement=ideological_agreement,\n",
    "                    amicus_direction=amicus_direction,\n",
    "                    judge_direction=justice[2],\n",
    "                )"
   ]
  },
  {
   "cell_type": "code",
   "execution_count": 215,
   "metadata": {},
   "outputs": [
    {
     "name": "stdout",
     "output_type": "stream",
     "text": [
      "open the test.html file created!!\n"
     ]
    }
   ],
   "source": [
    "# Create a visualization of a mini-version of the graph\n",
    "G_mini = nx.MultiDiGraph()\n",
    "\n",
    "# going to use a counter so we can visualize faster\n",
    "maxCount = 10  # Comment line out for full graph\n",
    "counter = 0\n",
    "\n",
    "for lexis_cite, docket in preproc_data.items():\n",
    "    if counter >= maxCount:\n",
    "        break\n",
    "    for amicus in docket[\"amici\"]:\n",
    "        for justice in docket[\"justices\"]:\n",
    "            # 0 = disagree, 1 = agree, 2 = trash\n",
    "            agreement = judgeAgreesWithAmicus(\n",
    "                amicus[1], docket[\"case_decision\"], justice[1]\n",
    "            )\n",
    "            if agreement < 2:\n",
    "                G_mini.add_edge(\n",
    "                    justice[0],\n",
    "                    amicus[0],\n",
    "                    caseName=docket[\"case_name\"],\n",
    "                    agreement=agreement,\n",
    "                )\n",
    "                counter += 1\n",
    "\n",
    "net = Network(\n",
    "    directed=True,\n",
    "    select_menu=True,  # Show part 1 in the plot (optional)\n",
    "    filter_menu=True,  # Show part 2 in the plot (optional)\n",
    ")\n",
    "\n",
    "net.show_buttons()  # Show part 3 in the plot (optional)\n",
    "net.from_nx(G_mini)  # Create directly from nx graph\n",
    "#net.show(\"test.html\", notebook=False)\n",
    "print(\"open the test.html file created!!\")"
   ]
  },
  {
   "cell_type": "code",
   "execution_count": 216,
   "metadata": {},
   "outputs": [
    {
     "name": "stdout",
     "output_type": "stream",
     "text": [
      "full graph\n",
      "agree: 575294 \n",
      "disagree: 62120 \n",
      "total: 637414\n",
      "\n",
      "mini graph\n",
      "agree: 13 \n",
      "disagree: 4 \n",
      "total: 17\n"
     ]
    }
   ],
   "source": [
    "# Quick sanity check for the two graphs\n",
    "agree = 0\n",
    "disagree = 0\n",
    "for edge in G.edges(data=True):\n",
    "    if edge[2][\"agreement\"]:\n",
    "        agree += 1\n",
    "    else:\n",
    "        disagree += 1\n",
    "\n",
    "print(\"full graph\")\n",
    "print(\"agree:\", agree, \"\\ndisagree:\", disagree, \"\\ntotal:\", agree + disagree)\n",
    "\n",
    "agree = 0\n",
    "disagree = 0\n",
    "for edge in G_mini.edges(data=True):\n",
    "    if edge[2][\"agreement\"]:\n",
    "        agree += 1\n",
    "    else:\n",
    "        disagree += 1\n",
    "\n",
    "print(\"\\nmini graph\")\n",
    "print(\"agree:\", agree, \"\\ndisagree:\", disagree, \"\\ntotal:\", agree + disagree)"
   ]
  },
  {
   "cell_type": "code",
   "execution_count": 217,
   "metadata": {},
   "outputs": [
    {
     "name": "stdout",
     "output_type": "stream",
     "text": [
      "number of judges: 33\n",
      "number of amici: 19276\n",
      "number of cases: 4118\n",
      "avg number of cases per judge: 1119.4848484848485\n",
      "avg number of cases per amicus: 9.0\n"
     ]
    }
   ],
   "source": [
    "# sanity check for our data\n",
    "\n",
    "# number of judges\n",
    "print(\"number of judges:\", len(final_justices))\n",
    "\n",
    "# number of amici organizations\n",
    "print(\"number of amici:\", len(final_amici))\n",
    "\n",
    "# total number of amicus briefs\n",
    "print(\"number of cases:\", len(final_cases))\n",
    "\n",
    "# number of cases per judge\n",
    "cases_per_justice = {}\n",
    "\n",
    "for justice in final_justices:\n",
    "    cases_per_justice[justice] = len(final_cases_per_justice[justice])\n",
    "\n",
    "# number of cases per amicus\n",
    "cases_per_amicus = {}\n",
    "\n",
    "for amicus in final_amici:\n",
    "    cases_per_amicus[justice] = len(G.in_edges(amicus))\n",
    "\n",
    "print(\"avg number of cases per judge:\", np.mean(list(cases_per_justice.values())))\n",
    "print(\"avg number of cases per amicus:\", np.mean(list(cases_per_amicus.values())))"
   ]
  },
  {
   "cell_type": "markdown",
   "metadata": {},
   "source": [
    "### General graph characteristics"
   ]
  },
  {
   "cell_type": "code",
   "execution_count": 218,
   "metadata": {},
   "outputs": [
    {
     "name": "stdout",
     "output_type": "stream",
     "text": [
      "General Network Characteristics\n",
      "Graph size: 637414\n",
      "density: 0.0017097181625578058\n",
      "is graph strongly connected?: False\n",
      "average shortest path length 0.9112662334678272\n",
      "Average degree centrality 0.0034194363251156116\n",
      "Average eigenvector centrality 0.0010373886617149352\n",
      "Top 5 judges by degree:\n",
      "('JPStevens', 57061)\n",
      "('AScalia', 54530)\n",
      "('AMKennedy', 52522)\n",
      "('WHRehnquist', 48417)\n",
      "('CThomas', 45407)\n"
     ]
    }
   ],
   "source": [
    "print(\"General Network Characteristics\")\n",
    "print(\"Graph size:\", G.size())\n",
    "print(f\"density: {nx.density(G)}\")\n",
    "print(f\"is graph strongly connected?: {nx.is_strongly_connected(G)}\")\n",
    "\n",
    "pathlengths = []\n",
    "\n",
    "for v in G.nodes():\n",
    "    spl = dict(nx.single_source_shortest_path_length(G, v))\n",
    "    for p in spl:\n",
    "        pathlengths.append(spl[p])\n",
    "\n",
    "print(f\"average shortest path length {sum(pathlengths) / len(pathlengths)}\")\n",
    "\n",
    "# The degree centrality for a node v is the fraction of nodes it is connected to\n",
    "deg_centrality = list(nx.degree_centrality(G).values())\n",
    "print(\"Average degree centrality\", np.mean(deg_centrality))\n",
    "\n",
    "# Eigenvector Centrality\n",
    "eigenvector_centrality = list(nx.eigenvector_centrality_numpy(G).values())\n",
    "print(\"Average eigenvector centrality\", np.mean(eigenvector_centrality))\n",
    "\n",
    "# Top 5 judges based on their degree\n",
    "print(\"Top 5 judges by degree:\")\n",
    "from operator import itemgetter\n",
    "degree_dict = dict(G.degree(G.nodes()))\n",
    "nx.set_node_attributes(G, degree_dict, 'degree')\n",
    "sorted_degree = sorted(degree_dict.items(), key=itemgetter(1), reverse=True)\n",
    "for d in sorted_degree[:5]:\n",
    "    print(d)\n"
   ]
  },
  {
   "cell_type": "code",
   "execution_count": 219,
   "metadata": {},
   "outputs": [
    {
     "name": "stdout",
     "output_type": "stream",
     "text": [
      "Average degree centrality 0.0034194363251156116\n",
      "Average eigenvector centrality 0.0010744351586668701\n"
     ]
    }
   ],
   "source": [
    "# The degree centrality for a node v is the fraction of nodes it is connected to\n",
    "deg_centrality = list(nx.degree_centrality(G).values())\n",
    "print(\"Average degree centrality\", np.mean(deg_centrality))\n",
    "\n",
    "eigenvector_centrality = list(nx.eigenvector_centrality_numpy(G).values())\n",
    "print(\"Average eigenvector centrality\", np.mean(eigenvector_centrality))"
   ]
  },
  {
   "cell_type": "markdown",
   "metadata": {},
   "source": [
    "## Plot distribution of filings across cases"
   ]
  },
  {
   "cell_type": "code",
   "execution_count": 220,
   "metadata": {},
   "outputs": [
    {
     "data": {
      "text/html": [
       "<div>\n",
       "<style scoped>\n",
       "    .dataframe tbody tr th:only-of-type {\n",
       "        vertical-align: middle;\n",
       "    }\n",
       "\n",
       "    .dataframe tbody tr th {\n",
       "        vertical-align: top;\n",
       "    }\n",
       "\n",
       "    .dataframe thead th {\n",
       "        text-align: right;\n",
       "    }\n",
       "</style>\n",
       "<table border=\"1\" class=\"dataframe\">\n",
       "  <thead>\n",
       "    <tr style=\"text-align: right;\">\n",
       "      <th></th>\n",
       "      <th>case_name</th>\n",
       "      <th>justices</th>\n",
       "      <th>case_decision</th>\n",
       "      <th>decisiondirection</th>\n",
       "      <th>amici</th>\n",
       "      <th>conservative_amici</th>\n",
       "      <th>percent_conservative</th>\n",
       "      <th>distinct_amicus_positions</th>\n",
       "    </tr>\n",
       "  </thead>\n",
       "  <tbody>\n",
       "    <tr>\n",
       "      <th>1953 U.S. LEXIS 2673</th>\n",
       "      <td>WILKO v. SWAN et al., DOING BUSINESS AS HAYDEN...</td>\n",
       "      <td>[(HLBlack, 1.0, 2.0), (WODouglas, 1.0, 2.0), (...</td>\n",
       "      <td>3.0</td>\n",
       "      <td>2.0</td>\n",
       "      <td>[(SECURITIES AND EXCHANGE COMMISSION, 1)]</td>\n",
       "      <td>[False]</td>\n",
       "      <td>0.0</td>\n",
       "      <td>1</td>\n",
       "    </tr>\n",
       "    <tr>\n",
       "      <th>1953 U.S. LEXIS 2680</th>\n",
       "      <td>TOOLSON v. NEW YORK YANKEES, INC. et al.</td>\n",
       "      <td>[(HLBlack, 1.0, 1.0), (WODouglas, 1.0, 1.0), (...</td>\n",
       "      <td>2.0</td>\n",
       "      <td>1.0</td>\n",
       "      <td>[(BOSTON AMERICAN LEAGUE BASE BALL COMPANY, 2)]</td>\n",
       "      <td>[True]</td>\n",
       "      <td>1.0</td>\n",
       "      <td>1</td>\n",
       "    </tr>\n",
       "    <tr>\n",
       "      <th>1954 U.S. LEXIS 2094</th>\n",
       "      <td>BROWN et al. v. BOARD OF EDUCATION OF TOPEKA e...</td>\n",
       "      <td>[(HLBlack, 1.0, 2.0), (WODouglas, 1.0, 2.0), (...</td>\n",
       "      <td>1.0</td>\n",
       "      <td>2.0</td>\n",
       "      <td>[(AMERICAN FEDERATION OF TEACHERS, 1), (UNITED...</td>\n",
       "      <td>[True, True, True, True, True, True, True, Tru...</td>\n",
       "      <td>1.0</td>\n",
       "      <td>1</td>\n",
       "    </tr>\n",
       "    <tr>\n",
       "      <th>1954 U.S. LEXIS 2095</th>\n",
       "      <td>BOLLING et al. v. SHARPE et al.</td>\n",
       "      <td>[(HLBlack, 1.0, 2.0), (WODouglas, 1.0, 2.0), (...</td>\n",
       "      <td>1.0</td>\n",
       "      <td>2.0</td>\n",
       "      <td>[(AMERICAN FEDERATION OF TEACHERS, 1), (UNITED...</td>\n",
       "      <td>[True, True, True, True, True, True, True, Tru...</td>\n",
       "      <td>1.0</td>\n",
       "      <td>1</td>\n",
       "    </tr>\n",
       "    <tr>\n",
       "      <th>1954 U.S. LEXIS 2336</th>\n",
       "      <td>BENTSEN et al. v. BLACKWELL et al.</td>\n",
       "      <td>[(HLBlack, 1.0, 1.0), (WODouglas, 1.0, 1.0), (...</td>\n",
       "      <td>9.0</td>\n",
       "      <td>1.0</td>\n",
       "      <td>[(SECURITIES AND EXCHANGE COMMISSION, 2)]</td>\n",
       "      <td>[False]</td>\n",
       "      <td>0.0</td>\n",
       "      <td>1</td>\n",
       "    </tr>\n",
       "  </tbody>\n",
       "</table>\n",
       "</div>"
      ],
      "text/plain": [
       "                                                              case_name  \\\n",
       "1953 U.S. LEXIS 2673  WILKO v. SWAN et al., DOING BUSINESS AS HAYDEN...   \n",
       "1953 U.S. LEXIS 2680           TOOLSON v. NEW YORK YANKEES, INC. et al.   \n",
       "1954 U.S. LEXIS 2094  BROWN et al. v. BOARD OF EDUCATION OF TOPEKA e...   \n",
       "1954 U.S. LEXIS 2095                    BOLLING et al. v. SHARPE et al.   \n",
       "1954 U.S. LEXIS 2336                 BENTSEN et al. v. BLACKWELL et al.   \n",
       "\n",
       "                                                               justices  \\\n",
       "1953 U.S. LEXIS 2673  [(HLBlack, 1.0, 2.0), (WODouglas, 1.0, 2.0), (...   \n",
       "1953 U.S. LEXIS 2680  [(HLBlack, 1.0, 1.0), (WODouglas, 1.0, 1.0), (...   \n",
       "1954 U.S. LEXIS 2094  [(HLBlack, 1.0, 2.0), (WODouglas, 1.0, 2.0), (...   \n",
       "1954 U.S. LEXIS 2095  [(HLBlack, 1.0, 2.0), (WODouglas, 1.0, 2.0), (...   \n",
       "1954 U.S. LEXIS 2336  [(HLBlack, 1.0, 1.0), (WODouglas, 1.0, 1.0), (...   \n",
       "\n",
       "                      case_decision  decisiondirection  \\\n",
       "1953 U.S. LEXIS 2673            3.0                2.0   \n",
       "1953 U.S. LEXIS 2680            2.0                1.0   \n",
       "1954 U.S. LEXIS 2094            1.0                2.0   \n",
       "1954 U.S. LEXIS 2095            1.0                2.0   \n",
       "1954 U.S. LEXIS 2336            9.0                1.0   \n",
       "\n",
       "                                                                  amici  \\\n",
       "1953 U.S. LEXIS 2673          [(SECURITIES AND EXCHANGE COMMISSION, 1)]   \n",
       "1953 U.S. LEXIS 2680    [(BOSTON AMERICAN LEAGUE BASE BALL COMPANY, 2)]   \n",
       "1954 U.S. LEXIS 2094  [(AMERICAN FEDERATION OF TEACHERS, 1), (UNITED...   \n",
       "1954 U.S. LEXIS 2095  [(AMERICAN FEDERATION OF TEACHERS, 1), (UNITED...   \n",
       "1954 U.S. LEXIS 2336          [(SECURITIES AND EXCHANGE COMMISSION, 2)]   \n",
       "\n",
       "                                                     conservative_amici  \\\n",
       "1953 U.S. LEXIS 2673                                            [False]   \n",
       "1953 U.S. LEXIS 2680                                             [True]   \n",
       "1954 U.S. LEXIS 2094  [True, True, True, True, True, True, True, Tru...   \n",
       "1954 U.S. LEXIS 2095  [True, True, True, True, True, True, True, Tru...   \n",
       "1954 U.S. LEXIS 2336                                            [False]   \n",
       "\n",
       "                      percent_conservative  distinct_amicus_positions  \n",
       "1953 U.S. LEXIS 2673                   0.0                          1  \n",
       "1953 U.S. LEXIS 2680                   1.0                          1  \n",
       "1954 U.S. LEXIS 2094                   1.0                          1  \n",
       "1954 U.S. LEXIS 2095                   1.0                          1  \n",
       "1954 U.S. LEXIS 2336                   0.0                          1  "
      ]
     },
     "execution_count": 220,
     "metadata": {},
     "output_type": "execute_result"
    }
   ],
   "source": [
    "# create dataframe for ease of data manipulation\n",
    "df = pd.DataFrame.from_dict(preproc_data, orient=\"index\")\n",
    "df.head()"
   ]
  },
  {
   "cell_type": "code",
   "execution_count": 221,
   "metadata": {},
   "outputs": [
    {
     "data": {
      "text/html": [
       "<div>\n",
       "<style scoped>\n",
       "    .dataframe tbody tr th:only-of-type {\n",
       "        vertical-align: middle;\n",
       "    }\n",
       "\n",
       "    .dataframe tbody tr th {\n",
       "        vertical-align: top;\n",
       "    }\n",
       "\n",
       "    .dataframe thead th {\n",
       "        text-align: right;\n",
       "    }\n",
       "</style>\n",
       "<table border=\"1\" class=\"dataframe\">\n",
       "  <thead>\n",
       "    <tr style=\"text-align: right;\">\n",
       "      <th></th>\n",
       "      <th>amici</th>\n",
       "      <th>num_amici</th>\n",
       "    </tr>\n",
       "  </thead>\n",
       "  <tbody>\n",
       "    <tr>\n",
       "      <th>1953 U.S. LEXIS 2673</th>\n",
       "      <td>[(SECURITIES AND EXCHANGE COMMISSION, 1)]</td>\n",
       "      <td>1</td>\n",
       "    </tr>\n",
       "    <tr>\n",
       "      <th>1953 U.S. LEXIS 2680</th>\n",
       "      <td>[(BOSTON AMERICAN LEAGUE BASE BALL COMPANY, 2)]</td>\n",
       "      <td>1</td>\n",
       "    </tr>\n",
       "    <tr>\n",
       "      <th>1954 U.S. LEXIS 2094</th>\n",
       "      <td>[(AMERICAN FEDERATION OF TEACHERS, 1), (UNITED...</td>\n",
       "      <td>11</td>\n",
       "    </tr>\n",
       "    <tr>\n",
       "      <th>1954 U.S. LEXIS 2095</th>\n",
       "      <td>[(AMERICAN FEDERATION OF TEACHERS, 1), (UNITED...</td>\n",
       "      <td>21</td>\n",
       "    </tr>\n",
       "    <tr>\n",
       "      <th>1954 U.S. LEXIS 2336</th>\n",
       "      <td>[(SECURITIES AND EXCHANGE COMMISSION, 2)]</td>\n",
       "      <td>1</td>\n",
       "    </tr>\n",
       "  </tbody>\n",
       "</table>\n",
       "</div>"
      ],
      "text/plain": [
       "                                                                  amici  \\\n",
       "1953 U.S. LEXIS 2673          [(SECURITIES AND EXCHANGE COMMISSION, 1)]   \n",
       "1953 U.S. LEXIS 2680    [(BOSTON AMERICAN LEAGUE BASE BALL COMPANY, 2)]   \n",
       "1954 U.S. LEXIS 2094  [(AMERICAN FEDERATION OF TEACHERS, 1), (UNITED...   \n",
       "1954 U.S. LEXIS 2095  [(AMERICAN FEDERATION OF TEACHERS, 1), (UNITED...   \n",
       "1954 U.S. LEXIS 2336          [(SECURITIES AND EXCHANGE COMMISSION, 2)]   \n",
       "\n",
       "                      num_amici  \n",
       "1953 U.S. LEXIS 2673          1  \n",
       "1953 U.S. LEXIS 2680          1  \n",
       "1954 U.S. LEXIS 2094         11  \n",
       "1954 U.S. LEXIS 2095         21  \n",
       "1954 U.S. LEXIS 2336          1  "
      ]
     },
     "execution_count": 221,
     "metadata": {},
     "output_type": "execute_result"
    }
   ],
   "source": [
    "# Determine number of amici\n",
    "df[\"num_amici\"] = df[\"amici\"].apply(lambda x: len(x))\n",
    "df[[\"amici\", \"num_amici\"]].head(5)"
   ]
  },
  {
   "cell_type": "code",
   "execution_count": 222,
   "metadata": {},
   "outputs": [
    {
     "data": {
      "text/plain": [
       "Text(0.5, 0, 'Number of amici filings per case')"
      ]
     },
     "execution_count": 222,
     "metadata": {},
     "output_type": "execute_result"
    },
    {
     "data": {
      "image/png": "[encoded data removed]",
      "text/plain": [
       "<Figure size 640x480 with 1 Axes>"
      ]
     },
     "metadata": {},
     "output_type": "display_data"
    }
   ],
   "source": [
    "plt.hist(df[\"num_amici\"], bins=100)\n",
    "plt.title(\"Number of Amici Filings per Case\")\n",
    "plt.ylabel(\"Count of cases\")\n",
    "plt.xlabel(\"Number of amici filings per case\")"
   ]
  },
  {
   "cell_type": "code",
   "execution_count": 223,
   "metadata": {},
   "outputs": [
    {
     "data": {
      "image/png": "[encoded data removed]",
      "text/plain": [
       "<Figure size 640x480 with 1 Axes>"
      ]
     },
     "metadata": {},
     "output_type": "display_data"
    }
   ],
   "source": [
    "plt.hist(df[\"percent_conservative\"], bins=100)\n",
    "plt.ylabel(\"Count of cases\")\n",
    "plt.title(\"Conservative Amici Filings\")\n",
    "plt.xlabel(\"Share of amici filings that align with conservative position per case\");"
   ]
  },
  {
   "cell_type": "code",
   "execution_count": 224,
   "metadata": {},
   "outputs": [
    {
     "data": {
      "text/plain": [
       "0.4544424297370807"
      ]
     },
     "execution_count": 224,
     "metadata": {},
     "output_type": "execute_result"
    }
   ],
   "source": [
    "(df[\"distinct_amicus_positions\"] == 1).mean()\n",
    "# in about 45% of cases all amici share the same position"
   ]
  },
  {
   "cell_type": "code",
   "execution_count": 225,
   "metadata": {},
   "outputs": [
    {
     "data": {
      "text/plain": [
       "0.16613780598368086"
      ]
     },
     "execution_count": 225,
     "metadata": {},
     "output_type": "execute_result"
    }
   ],
   "source": [
    "df[\"percent_conservative\"].isna().mean()\n",
    "# About 16.6% of the amici organizations created conservative"
   ]
  },
  {
   "cell_type": "code",
   "execution_count": 226,
   "metadata": {},
   "outputs": [
    {
     "data": {
      "text/plain": [
       "0.20126926563916592"
      ]
     },
     "execution_count": 226,
     "metadata": {},
     "output_type": "execute_result"
    }
   ],
   "source": [
    "# cut down cases with 1\n",
    "(df[\"num_amici\"] == 1).mean()"
   ]
  },
  {
   "cell_type": "markdown",
   "metadata": {},
   "source": [
    "## Check Distribution of Amici Directions"
   ]
  },
  {
   "cell_type": "code",
   "execution_count": 227,
   "metadata": {},
   "outputs": [
    {
     "data": {
      "text/html": [
       "<div>\n",
       "<style scoped>\n",
       "    .dataframe tbody tr th:only-of-type {\n",
       "        vertical-align: middle;\n",
       "    }\n",
       "\n",
       "    .dataframe tbody tr th {\n",
       "        vertical-align: top;\n",
       "    }\n",
       "\n",
       "    .dataframe thead th {\n",
       "        text-align: right;\n",
       "    }\n",
       "</style>\n",
       "<table border=\"1\" class=\"dataframe\">\n",
       "  <thead>\n",
       "    <tr style=\"text-align: right;\">\n",
       "      <th></th>\n",
       "      <th>lexisCite</th>\n",
       "      <th>amicus</th>\n",
       "      <th>position</th>\n",
       "      <th>direction</th>\n",
       "    </tr>\n",
       "  </thead>\n",
       "  <tbody>\n",
       "    <tr>\n",
       "      <th>0</th>\n",
       "      <td>1953 U.S. LEXIS 2673</td>\n",
       "      <td>SECURITIES AND EXCHANGE COMMISSION</td>\n",
       "      <td>1</td>\n",
       "      <td>2</td>\n",
       "    </tr>\n",
       "    <tr>\n",
       "      <th>1</th>\n",
       "      <td>1953 U.S. LEXIS 2680</td>\n",
       "      <td>BOSTON AMERICAN LEAGUE BASE BALL COMPANY</td>\n",
       "      <td>2</td>\n",
       "      <td>1</td>\n",
       "    </tr>\n",
       "    <tr>\n",
       "      <th>2</th>\n",
       "      <td>1954 U.S. LEXIS 2094</td>\n",
       "      <td>CONGRESS OF INDUSTRIAL ORGANIZATIONS</td>\n",
       "      <td>1</td>\n",
       "      <td>1</td>\n",
       "    </tr>\n",
       "    <tr>\n",
       "      <th>3</th>\n",
       "      <td>1954 U.S. LEXIS 2095</td>\n",
       "      <td>AMERICAN COUNCIL ON HUMAN RIGHTS</td>\n",
       "      <td>1</td>\n",
       "      <td>1</td>\n",
       "    </tr>\n",
       "    <tr>\n",
       "      <th>4</th>\n",
       "      <td>1954 U.S. LEXIS 2336</td>\n",
       "      <td>SECURITIES AND EXCHANGE COMMISSION</td>\n",
       "      <td>2</td>\n",
       "      <td>2</td>\n",
       "    </tr>\n",
       "  </tbody>\n",
       "</table>\n",
       "</div>"
      ],
      "text/plain": [
       "              lexisCite                                    amicus  position  \\\n",
       "0  1953 U.S. LEXIS 2673        SECURITIES AND EXCHANGE COMMISSION         1   \n",
       "1  1953 U.S. LEXIS 2680  BOSTON AMERICAN LEAGUE BASE BALL COMPANY         2   \n",
       "2  1954 U.S. LEXIS 2094      CONGRESS OF INDUSTRIAL ORGANIZATIONS         1   \n",
       "3  1954 U.S. LEXIS 2095          AMERICAN COUNCIL ON HUMAN RIGHTS         1   \n",
       "4  1954 U.S. LEXIS 2336        SECURITIES AND EXCHANGE COMMISSION         2   \n",
       "\n",
       "   direction  \n",
       "0          2  \n",
       "1          1  \n",
       "2          1  \n",
       "3          1  \n",
       "4          2  "
      ]
     },
     "execution_count": 227,
     "metadata": {},
     "output_type": "execute_result"
    }
   ],
   "source": [
    "# create a dataframe of all amicus positions for each case\n",
    "# we want to look at the direction of each position across all cases\n",
    "# and then we want to identify \"conservative\" amici as a static filter\n",
    "amici_cases = []\n",
    "for lexis_cite, docket in preproc_data.items():\n",
    "    amicus_case_data = {\"lexisCite\": lexis_cite}\n",
    "    for amicus in docket[\"amici\"]:\n",
    "        # identify the ideological direction of the amicus brief based on its relationship with the disposition\n",
    "        # and the disposition direction\n",
    "        amicus_direction = amicusDirection(\n",
    "            amicus[1], docket[\"case_decision\"], docket[\"decisiondirection\"]\n",
    "        )\n",
    "        \n",
    "        amicus_case_data['amicus'] = amicus[0]\n",
    "        amicus_case_data['position'] = amicus[1]\n",
    "        amicus_case_data['direction'] = amicus_direction\n",
    "        \n",
    "    amici_cases += [amicus_case_data]\n",
    "\n",
    "amicus_direction_data = pd.DataFrame(amici_cases)\n",
    "amicus_direction_data.head()"
   ]
  },
  {
   "cell_type": "code",
   "execution_count": 228,
   "metadata": {},
   "outputs": [
    {
     "data": {
      "text/plain": [
       "direction\n",
       "2     0.496147\n",
       "1     0.402765\n",
       "99    0.101088\n",
       "Name: proportion, dtype: float64"
      ]
     },
     "execution_count": 228,
     "metadata": {},
     "output_type": "execute_result"
    }
   ],
   "source": [
    "# see counts of different directions\n",
    "amicus_direction_data['direction'].value_counts(normalize=True)"
   ]
  },
  {
   "cell_type": "code",
   "execution_count": 229,
   "metadata": {},
   "outputs": [],
   "source": [
    "# Remove invalid directions\n",
    "amicus_direction_data = amicus_direction_data[amicus_direction_data['direction'] != 99]"
   ]
  },
  {
   "cell_type": "code",
   "execution_count": 230,
   "metadata": {},
   "outputs": [
    {
     "data": {
      "text/plain": [
       "0.14712005551700208"
      ]
     },
     "execution_count": 230,
     "metadata": {},
     "output_type": "execute_result"
    }
   ],
   "source": [
    "# Get direction by amicus\n",
    "direction_by_amicus = amicus_direction_data.groupby('amicus')['direction'].apply(lambda x: len(np.unique(x))).to_frame()\n",
    "(direction_by_amicus['direction'] > 1).mean()"
   ]
  },
  {
   "cell_type": "code",
   "execution_count": 231,
   "metadata": {},
   "outputs": [
    {
     "data": {
      "text/plain": [
       "direction\n",
       "1    0.85288\n",
       "2    0.14712\n",
       "Name: proportion, dtype: float64"
      ]
     },
     "execution_count": 231,
     "metadata": {},
     "output_type": "execute_result"
    }
   ],
   "source": [
    "# Normal amicus directions\n",
    "direction_by_amicus['direction'].value_counts(normalize=True)"
   ]
  },
  {
   "cell_type": "code",
   "execution_count": 232,
   "metadata": {},
   "outputs": [
    {
     "data": {
      "text/plain": [
       "Text(0.5, 0, 'Percent of cases')"
      ]
     },
     "execution_count": 232,
     "metadata": {},
     "output_type": "execute_result"
    },
    {
     "data": {
      "image/png": "[encoded data removed]",
      "text/plain": [
       "<Figure size 640x480 with 1 Axes>"
      ]
     },
     "metadata": {},
     "output_type": "display_data"
    }
   ],
   "source": [
    "plt.hist((amicus_direction_data[['amicus', 'direction']].value_counts() / amicus_direction_data['amicus'].value_counts()).sort_index())\n",
    "plt.ylabel('Number of amici')\n",
    "plt.title(\"Percent of Cases with given direction per amicus\")\n",
    "plt.xlabel('Percent of cases')"
   ]
  },
  {
   "cell_type": "code",
   "execution_count": 233,
   "metadata": {},
   "outputs": [
    {
     "data": {
      "text/plain": [
       "(1441, 1)"
      ]
     },
     "execution_count": 233,
     "metadata": {},
     "output_type": "execute_result"
    }
   ],
   "source": [
    "# Directions per Amicus\n",
    "directions_per_amicus = amicus_direction_data[['amicus', 'direction']].value_counts().to_frame()\n",
    "directions_per_amicus.loc[directions_per_amicus.groupby('amicus')['count'].idxmax()].shape"
   ]
  },
  {
   "cell_type": "code",
   "execution_count": 234,
   "metadata": {},
   "outputs": [
    {
     "data": {
      "text/plain": [
       "0.8577376821651631"
      ]
     },
     "execution_count": 234,
     "metadata": {},
     "output_type": "execute_result"
    }
   ],
   "source": [
    "# amicus direction percentage\n",
    "amicus_direction_mgd = pd.merge(directions_per_amicus.loc[directions_per_amicus.groupby('amicus')['count'].idxmax()]\\\n",
    "                                .rename({'count':'count_top_amicus'}, axis=1),  \\\n",
    "  amicus_direction_data['amicus'].value_counts().to_frame(), on = 'amicus')\n",
    "amicus_direction_mgd['percent'] = amicus_direction_mgd['count_top_amicus']/amicus_direction_mgd['count']\n",
    "(amicus_direction_mgd['percent'] > 0.9).mean()"
   ]
  },
  {
   "cell_type": "code",
   "execution_count": 235,
   "metadata": {},
   "outputs": [
    {
     "data": {
      "text/html": [
       "<div>\n",
       "<style scoped>\n",
       "    .dataframe tbody tr th:only-of-type {\n",
       "        vertical-align: middle;\n",
       "    }\n",
       "\n",
       "    .dataframe tbody tr th {\n",
       "        vertical-align: top;\n",
       "    }\n",
       "\n",
       "    .dataframe thead th {\n",
       "        text-align: right;\n",
       "    }\n",
       "</style>\n",
       "<table border=\"1\" class=\"dataframe\">\n",
       "  <thead>\n",
       "    <tr style=\"text-align: right;\">\n",
       "      <th></th>\n",
       "      <th>case_name</th>\n",
       "      <th>justices</th>\n",
       "      <th>case_decision</th>\n",
       "      <th>decisiondirection</th>\n",
       "      <th>amici</th>\n",
       "      <th>conservative_amici</th>\n",
       "      <th>percent_conservative</th>\n",
       "      <th>distinct_amicus_positions</th>\n",
       "      <th>num_amici</th>\n",
       "    </tr>\n",
       "  </thead>\n",
       "  <tbody>\n",
       "    <tr>\n",
       "      <th>1954 U.S. LEXIS 2621</th>\n",
       "      <td>FEDERAL POWER COMMISSION v. NIAGARA MOHAWK POW...</td>\n",
       "      <td>[(HLBlack, 2.0, 2.0), (WODouglas, 2.0, 2.0), (...</td>\n",
       "      <td>2.0</td>\n",
       "      <td>1.0</td>\n",
       "      <td>[(NEW YORK, 3)]</td>\n",
       "      <td>[nan]</td>\n",
       "      <td>NaN</td>\n",
       "      <td>1</td>\n",
       "      <td>1</td>\n",
       "    </tr>\n",
       "    <tr>\n",
       "      <th>1954 U.S. LEXIS 2690</th>\n",
       "      <td>RADIO OFFICERS' UNION OF THE COMMERCIAL TELEGR...</td>\n",
       "      <td>[(HLBlack, 2.0, 2.0), (WODouglas, 2.0, 2.0), (...</td>\n",
       "      <td>2.0</td>\n",
       "      <td>1.0</td>\n",
       "      <td>[(NEWSPAPER AND MAIL DELIVERERS UNION OF NEW Y...</td>\n",
       "      <td>[nan]</td>\n",
       "      <td>NaN</td>\n",
       "      <td>1</td>\n",
       "      <td>1</td>\n",
       "    </tr>\n",
       "    <tr>\n",
       "      <th>1955 U.S. LEXIS 1186</th>\n",
       "      <td>TEE-HIT-TON INDIANS v. UNITED STATES</td>\n",
       "      <td>[(HLBlack, 1.0, 2.0), (WODouglas, 2.0, 1.0), (...</td>\n",
       "      <td>2.0</td>\n",
       "      <td>2.0</td>\n",
       "      <td>[(IDAHO, 3), (UTAH, 1), (NEW MEXICO, 3)]</td>\n",
       "      <td>[nan, True, nan]</td>\n",
       "      <td>NaN</td>\n",
       "      <td>2</td>\n",
       "      <td>3</td>\n",
       "    </tr>\n",
       "    <tr>\n",
       "      <th>1955 U.S. LEXIS 734</th>\n",
       "      <td>BROWN et al. v. BOARD OF EDUCATION OF TOPEKA e...</td>\n",
       "      <td>[(JHarlan2, 1.0, 2.0), (HLBlack, 1.0, 2.0), (W...</td>\n",
       "      <td>4.0</td>\n",
       "      <td>2.0</td>\n",
       "      <td>[(NORTH CAROLINA, 3), (UNITED STATES, 3), (MAR...</td>\n",
       "      <td>[nan, nan, nan, nan, nan, nan, nan, nan]</td>\n",
       "      <td>NaN</td>\n",
       "      <td>1</td>\n",
       "      <td>8</td>\n",
       "    </tr>\n",
       "    <tr>\n",
       "      <th>1956 U.S. LEXIS 1803</th>\n",
       "      <td>DE SYLVA v. BALLENTINE, GUARDIAN</td>\n",
       "      <td>[(JHarlan2, 1.0, 2.0), (HLBlack, 4.0, 2.0), (W...</td>\n",
       "      <td>2.0</td>\n",
       "      <td>2.0</td>\n",
       "      <td>[(REGISTER OF COPYRIGHTS, 3), (SONGWRITERS GUI...</td>\n",
       "      <td>[nan, True, True, True, True]</td>\n",
       "      <td>NaN</td>\n",
       "      <td>2</td>\n",
       "      <td>5</td>\n",
       "    </tr>\n",
       "    <tr>\n",
       "      <th>...</th>\n",
       "      <td>...</td>\n",
       "      <td>...</td>\n",
       "      <td>...</td>\n",
       "      <td>...</td>\n",
       "      <td>...</td>\n",
       "      <td>...</td>\n",
       "      <td>...</td>\n",
       "      <td>...</td>\n",
       "      <td>...</td>\n",
       "    </tr>\n",
       "    <tr>\n",
       "      <th>2014 U.S. LEXIS 4496</th>\n",
       "      <td>AMERICAN BROADCASTING COS. v. AEREO, INC.</td>\n",
       "      <td>[(JGRoberts, 1.0, 1.0), (AScalia, 2.0, 2.0), (...</td>\n",
       "      <td>4.0</td>\n",
       "      <td>1.0</td>\n",
       "      <td>[(MEDIA INSTITUTE, 1), (MAJOR LEAGUE BASEBALL,...</td>\n",
       "      <td>[True, True, True, True, True, True, True, Tru...</td>\n",
       "      <td>NaN</td>\n",
       "      <td>3</td>\n",
       "      <td>81</td>\n",
       "    </tr>\n",
       "    <tr>\n",
       "      <th>2014 U.S. LEXIS 4499</th>\n",
       "      <td>MCCULLEN v. COAKLEY</td>\n",
       "      <td>[(JGRoberts, 1.0, 1.0), (AScalia, 4.0, 1.0), (...</td>\n",
       "      <td>4.0</td>\n",
       "      <td>1.0</td>\n",
       "      <td>[(CENTER FOR CONSTITUTIONAL JURISPRUDENCE, 1),...</td>\n",
       "      <td>[True, True, True, True, True, True, True, Tru...</td>\n",
       "      <td>NaN</td>\n",
       "      <td>3</td>\n",
       "      <td>174</td>\n",
       "    </tr>\n",
       "    <tr>\n",
       "      <th>2014 U.S. LEXIS 4504</th>\n",
       "      <td>HARRIS v. QUINN</td>\n",
       "      <td>[(JGRoberts, 1.0, 1.0), (AScalia, 1.0, 1.0), (...</td>\n",
       "      <td>7.0</td>\n",
       "      <td>1.0</td>\n",
       "      <td>[(ILLINOIS POLICY INSTITUTE, 1), (CATO INSTITU...</td>\n",
       "      <td>[nan, nan, nan, nan, nan, nan, nan, nan, nan, ...</td>\n",
       "      <td>NaN</td>\n",
       "      <td>2</td>\n",
       "      <td>81</td>\n",
       "    </tr>\n",
       "    <tr>\n",
       "      <th>2014 U.S. LEXIS 4505</th>\n",
       "      <td>BURWELL v. HOBBY LOBBY STORES</td>\n",
       "      <td>[(JGRoberts, 1.0, 2.0), (AScalia, 1.0, 2.0), (...</td>\n",
       "      <td>2.0</td>\n",
       "      <td>2.0</td>\n",
       "      <td>[(INDIVIDUAL RIGHTS FOUNDATION, 2), (PACIFIC L...</td>\n",
       "      <td>[False, False, False, False, False, nan, nan, ...</td>\n",
       "      <td>NaN</td>\n",
       "      <td>3</td>\n",
       "      <td>356</td>\n",
       "    </tr>\n",
       "    <tr>\n",
       "      <th>2014 U.S. LEXIS 788</th>\n",
       "      <td>MEDTRONIC, INC. v. MIROWSKI FAMILY VENTURES, LLC</td>\n",
       "      <td>[(JGRoberts, 1.0, 2.0), (AScalia, 1.0, 2.0), (...</td>\n",
       "      <td>4.0</td>\n",
       "      <td>2.0</td>\n",
       "      <td>[(TESSERA TECHNOLOGIES, INC., 3), (UNITED STAT...</td>\n",
       "      <td>[nan, False, True, True]</td>\n",
       "      <td>NaN</td>\n",
       "      <td>3</td>\n",
       "      <td>4</td>\n",
       "    </tr>\n",
       "  </tbody>\n",
       "</table>\n",
       "<p>733 rows × 9 columns</p>\n",
       "</div>"
      ],
      "text/plain": [
       "                                                              case_name  \\\n",
       "1954 U.S. LEXIS 2621  FEDERAL POWER COMMISSION v. NIAGARA MOHAWK POW...   \n",
       "1954 U.S. LEXIS 2690  RADIO OFFICERS' UNION OF THE COMMERCIAL TELEGR...   \n",
       "1955 U.S. LEXIS 1186               TEE-HIT-TON INDIANS v. UNITED STATES   \n",
       "1955 U.S. LEXIS 734   BROWN et al. v. BOARD OF EDUCATION OF TOPEKA e...   \n",
       "1956 U.S. LEXIS 1803                   DE SYLVA v. BALLENTINE, GUARDIAN   \n",
       "...                                                                 ...   \n",
       "2014 U.S. LEXIS 4496          AMERICAN BROADCASTING COS. v. AEREO, INC.   \n",
       "2014 U.S. LEXIS 4499                                MCCULLEN v. COAKLEY   \n",
       "2014 U.S. LEXIS 4504                                    HARRIS v. QUINN   \n",
       "2014 U.S. LEXIS 4505                      BURWELL v. HOBBY LOBBY STORES   \n",
       "2014 U.S. LEXIS 788    MEDTRONIC, INC. v. MIROWSKI FAMILY VENTURES, LLC   \n",
       "\n",
       "                                                               justices  \\\n",
       "1954 U.S. LEXIS 2621  [(HLBlack, 2.0, 2.0), (WODouglas, 2.0, 2.0), (...   \n",
       "1954 U.S. LEXIS 2690  [(HLBlack, 2.0, 2.0), (WODouglas, 2.0, 2.0), (...   \n",
       "1955 U.S. LEXIS 1186  [(HLBlack, 1.0, 2.0), (WODouglas, 2.0, 1.0), (...   \n",
       "1955 U.S. LEXIS 734   [(JHarlan2, 1.0, 2.0), (HLBlack, 1.0, 2.0), (W...   \n",
       "1956 U.S. LEXIS 1803  [(JHarlan2, 1.0, 2.0), (HLBlack, 4.0, 2.0), (W...   \n",
       "...                                                                 ...   \n",
       "2014 U.S. LEXIS 4496  [(JGRoberts, 1.0, 1.0), (AScalia, 2.0, 2.0), (...   \n",
       "2014 U.S. LEXIS 4499  [(JGRoberts, 1.0, 1.0), (AScalia, 4.0, 1.0), (...   \n",
       "2014 U.S. LEXIS 4504  [(JGRoberts, 1.0, 1.0), (AScalia, 1.0, 1.0), (...   \n",
       "2014 U.S. LEXIS 4505  [(JGRoberts, 1.0, 2.0), (AScalia, 1.0, 2.0), (...   \n",
       "2014 U.S. LEXIS 788   [(JGRoberts, 1.0, 2.0), (AScalia, 1.0, 2.0), (...   \n",
       "\n",
       "                      case_decision  decisiondirection  \\\n",
       "1954 U.S. LEXIS 2621            2.0                1.0   \n",
       "1954 U.S. LEXIS 2690            2.0                1.0   \n",
       "1955 U.S. LEXIS 1186            2.0                2.0   \n",
       "1955 U.S. LEXIS 734             4.0                2.0   \n",
       "1956 U.S. LEXIS 1803            2.0                2.0   \n",
       "...                             ...                ...   \n",
       "2014 U.S. LEXIS 4496            4.0                1.0   \n",
       "2014 U.S. LEXIS 4499            4.0                1.0   \n",
       "2014 U.S. LEXIS 4504            7.0                1.0   \n",
       "2014 U.S. LEXIS 4505            2.0                2.0   \n",
       "2014 U.S. LEXIS 788             4.0                2.0   \n",
       "\n",
       "                                                                  amici  \\\n",
       "1954 U.S. LEXIS 2621                                    [(NEW YORK, 3)]   \n",
       "1954 U.S. LEXIS 2690  [(NEWSPAPER AND MAIL DELIVERERS UNION OF NEW Y...   \n",
       "1955 U.S. LEXIS 1186           [(IDAHO, 3), (UTAH, 1), (NEW MEXICO, 3)]   \n",
       "1955 U.S. LEXIS 734   [(NORTH CAROLINA, 3), (UNITED STATES, 3), (MAR...   \n",
       "1956 U.S. LEXIS 1803  [(REGISTER OF COPYRIGHTS, 3), (SONGWRITERS GUI...   \n",
       "...                                                                 ...   \n",
       "2014 U.S. LEXIS 4496  [(MEDIA INSTITUTE, 1), (MAJOR LEAGUE BASEBALL,...   \n",
       "2014 U.S. LEXIS 4499  [(CENTER FOR CONSTITUTIONAL JURISPRUDENCE, 1),...   \n",
       "2014 U.S. LEXIS 4504  [(ILLINOIS POLICY INSTITUTE, 1), (CATO INSTITU...   \n",
       "2014 U.S. LEXIS 4505  [(INDIVIDUAL RIGHTS FOUNDATION, 2), (PACIFIC L...   \n",
       "2014 U.S. LEXIS 788   [(TESSERA TECHNOLOGIES, INC., 3), (UNITED STAT...   \n",
       "\n",
       "                                                     conservative_amici  \\\n",
       "1954 U.S. LEXIS 2621                                              [nan]   \n",
       "1954 U.S. LEXIS 2690                                              [nan]   \n",
       "1955 U.S. LEXIS 1186                                   [nan, True, nan]   \n",
       "1955 U.S. LEXIS 734            [nan, nan, nan, nan, nan, nan, nan, nan]   \n",
       "1956 U.S. LEXIS 1803                      [nan, True, True, True, True]   \n",
       "...                                                                 ...   \n",
       "2014 U.S. LEXIS 4496  [True, True, True, True, True, True, True, Tru...   \n",
       "2014 U.S. LEXIS 4499  [True, True, True, True, True, True, True, Tru...   \n",
       "2014 U.S. LEXIS 4504  [nan, nan, nan, nan, nan, nan, nan, nan, nan, ...   \n",
       "2014 U.S. LEXIS 4505  [False, False, False, False, False, nan, nan, ...   \n",
       "2014 U.S. LEXIS 788                            [nan, False, True, True]   \n",
       "\n",
       "                      percent_conservative  distinct_amicus_positions  \\\n",
       "1954 U.S. LEXIS 2621                   NaN                          1   \n",
       "1954 U.S. LEXIS 2690                   NaN                          1   \n",
       "1955 U.S. LEXIS 1186                   NaN                          2   \n",
       "1955 U.S. LEXIS 734                    NaN                          1   \n",
       "1956 U.S. LEXIS 1803                   NaN                          2   \n",
       "...                                    ...                        ...   \n",
       "2014 U.S. LEXIS 4496                   NaN                          3   \n",
       "2014 U.S. LEXIS 4499                   NaN                          3   \n",
       "2014 U.S. LEXIS 4504                   NaN                          2   \n",
       "2014 U.S. LEXIS 4505                   NaN                          3   \n",
       "2014 U.S. LEXIS 788                    NaN                          3   \n",
       "\n",
       "                      num_amici  \n",
       "1954 U.S. LEXIS 2621          1  \n",
       "1954 U.S. LEXIS 2690          1  \n",
       "1955 U.S. LEXIS 1186          3  \n",
       "1955 U.S. LEXIS 734           8  \n",
       "1956 U.S. LEXIS 1803          5  \n",
       "...                         ...  \n",
       "2014 U.S. LEXIS 4496         81  \n",
       "2014 U.S. LEXIS 4499        174  \n",
       "2014 U.S. LEXIS 4504         81  \n",
       "2014 U.S. LEXIS 4505        356  \n",
       "2014 U.S. LEXIS 788           4  \n",
       "\n",
       "[733 rows x 9 columns]"
      ]
     },
     "execution_count": 235,
     "metadata": {},
     "output_type": "execute_result"
    }
   ],
   "source": [
    "df.loc[df[\"percent_conservative\"].isna()]"
   ]
  },
  {
   "cell_type": "code",
   "execution_count": 236,
   "metadata": {},
   "outputs": [
    {
     "data": {
      "text/plain": [
       "0.5861287398005439"
      ]
     },
     "execution_count": 236,
     "metadata": {},
     "output_type": "execute_result"
    }
   ],
   "source": [
    "(\n",
    "    (df[\"num_amici\"] == 1)\n",
    "    | (df[\"decisiondirection\"] == 3)\n",
    "    | (df[\"percent_conservative\"].isna())\n",
    "    | (df['percent_conservative']>=1)\n",
    "    | (df['percent_conservative']<=0)\n",
    ").mean()\n",
    "# we are dropping ~59% of the data"
   ]
  },
  {
   "cell_type": "code",
   "execution_count": 237,
   "metadata": {},
   "outputs": [],
   "source": [
    "assert df.index.unique().shape[0] == df.shape[0]"
   ]
  },
  {
   "cell_type": "code",
   "execution_count": 238,
   "metadata": {},
   "outputs": [],
   "source": [
    "df_filt = df[\n",
    "    ~(\n",
    "        (df[\"num_amici\"] == 1)\n",
    "        | (df[\"decisiondirection\"] == 3)\n",
    "        | (df[\"percent_conservative\"].isna())\n",
    "    )\n",
    "]\n",
    "\n",
    "# exclude cases where amici are all in agreement\n",
    "df_filt = df_filt.loc[(df_filt['percent_conservative']<1) & (df_filt['percent_conservative']>0)]"
   ]
  },
  {
   "cell_type": "code",
   "execution_count": 239,
   "metadata": {},
   "outputs": [
    {
     "data": {
      "text/plain": [
       "Text(0.5, 0, 'Amici Positions')"
      ]
     },
     "execution_count": 239,
     "metadata": {},
     "output_type": "execute_result"
    },
    {
     "data": {
      "image/png": "[encoded data removed]",
      "text/plain": [
       "<Figure size 640x480 with 1 Axes>"
      ]
     },
     "metadata": {},
     "output_type": "display_data"
    }
   ],
   "source": [
    "plt.hist(df_filt[\"percent_conservative\"], bins=100)\n",
    "plt.ylabel(\"Count of cases\")\n",
    "plt.title(\"Share of amici filings that align with conservative position per case\")\n",
    "plt.xlabel(\"Amici Positions\")"
   ]
  },
  {
   "cell_type": "markdown",
   "metadata": {},
   "source": [
    "## Apply Threshold Algorithm"
   ]
  },
  {
   "cell_type": "code",
   "execution_count": 240,
   "metadata": {},
   "outputs": [
    {
     "data": {
      "text/plain": [
       "{'AFortas',\n",
       " 'AJGoldberg',\n",
       " 'AMKennedy',\n",
       " 'AScalia',\n",
       " 'BRWhite',\n",
       " 'CEWhittaker',\n",
       " 'CThomas',\n",
       " 'DHSouter',\n",
       " 'EKagan',\n",
       " 'EWarren',\n",
       " 'FFrankfurter',\n",
       " 'HABlackmun',\n",
       " 'HHBurton',\n",
       " 'HLBlack',\n",
       " 'JGRoberts',\n",
       " 'JHarlan2',\n",
       " 'JPStevens',\n",
       " 'LFPowell',\n",
       " 'PStewart',\n",
       " 'RBGinsburg',\n",
       " 'RHJackson',\n",
       " 'SAAlito',\n",
       " 'SDOConnor',\n",
       " 'SFReed',\n",
       " 'SGBreyer',\n",
       " 'SMinton',\n",
       " 'SSotomayor',\n",
       " 'TCClark',\n",
       " 'TMarshall',\n",
       " 'WEBurger',\n",
       " 'WHRehnquist',\n",
       " 'WJBrennan',\n",
       " 'WODouglas'}"
      ]
     },
     "execution_count": 240,
     "metadata": {},
     "output_type": "execute_result"
    }
   ],
   "source": [
    "# swing vote justices\n",
    "# pick one extreme and one expected moderate\n",
    "# SAAlito, JGRoberts, SSotomayor\n",
    "\n",
    "# other options\n",
    "# JGRoberts\n",
    "# DHSouter\n",
    "# SAAlito\n",
    "# AScalia\n",
    "# CThomas\n",
    "# SSotomayor\n",
    "# EKagan\n",
    "\n",
    "selected_judge = \"SSotomayor\"\n",
    "final_justices"
   ]
  },
  {
   "cell_type": "code",
   "execution_count": 241,
   "metadata": {},
   "outputs": [
    {
     "data": {
      "text/html": [
       "<div>\n",
       "<style scoped>\n",
       "    .dataframe tbody tr th:only-of-type {\n",
       "        vertical-align: middle;\n",
       "    }\n",
       "\n",
       "    .dataframe tbody tr th {\n",
       "        vertical-align: top;\n",
       "    }\n",
       "\n",
       "    .dataframe thead th {\n",
       "        text-align: right;\n",
       "    }\n",
       "</style>\n",
       "<table border=\"1\" class=\"dataframe\">\n",
       "  <thead>\n",
       "    <tr style=\"text-align: right;\">\n",
       "      <th></th>\n",
       "      <th>lexisCite</th>\n",
       "      <th>conservative_amici</th>\n",
       "      <th>amici</th>\n",
       "      <th>percent_conservative</th>\n",
       "      <th>distinct_amicus_positions</th>\n",
       "      <th>num_amici</th>\n",
       "      <th>vote</th>\n",
       "      <th>direction</th>\n",
       "      <th>decisionDirection</th>\n",
       "      <th>conservative_vote</th>\n",
       "    </tr>\n",
       "  </thead>\n",
       "  <tbody>\n",
       "    <tr>\n",
       "      <th>0</th>\n",
       "      <td>2009 U.S. LEXIS 8941</td>\n",
       "      <td>[False, False, False, False, False, False, Fal...</td>\n",
       "      <td>[(WOMEN'S CRIMINAL DEFENSE BAR ASSOCIATION, 2)...</td>\n",
       "      <td>0.771429</td>\n",
       "      <td>2</td>\n",
       "      <td>35</td>\n",
       "      <td>1.0</td>\n",
       "      <td>1.0</td>\n",
       "      <td>1.0</td>\n",
       "      <td>1.0</td>\n",
       "    </tr>\n",
       "    <tr>\n",
       "      <th>1</th>\n",
       "      <td>2009 U.S. LEXIS 8942</td>\n",
       "      <td>[True, False, False, False]</td>\n",
       "      <td>[(UNITED STATES, 2), (DRI -- THE VOICE OF THE ...</td>\n",
       "      <td>0.250000</td>\n",
       "      <td>2</td>\n",
       "      <td>4</td>\n",
       "      <td>1.0</td>\n",
       "      <td>1.0</td>\n",
       "      <td>1.0</td>\n",
       "      <td>1.0</td>\n",
       "    </tr>\n",
       "    <tr>\n",
       "      <th>2</th>\n",
       "      <td>2009 U.S. LEXIS 8943</td>\n",
       "      <td>[False, False, True, True, True]</td>\n",
       "      <td>[(BROTHERHOOD OF LOCOMOTIVE ENGINEERS AND TRAI...</td>\n",
       "      <td>0.600000</td>\n",
       "      <td>2</td>\n",
       "      <td>5</td>\n",
       "      <td>1.0</td>\n",
       "      <td>2.0</td>\n",
       "      <td>2.0</td>\n",
       "      <td>0.0</td>\n",
       "    </tr>\n",
       "    <tr>\n",
       "      <th>3</th>\n",
       "      <td>2010 U.S. LEXIS 1</td>\n",
       "      <td>[False, False, False, False, False, True, True...</td>\n",
       "      <td>[(BLACK COPS AGAINST POLICE BRUTALITY, 2), (CE...</td>\n",
       "      <td>0.883721</td>\n",
       "      <td>2</td>\n",
       "      <td>43</td>\n",
       "      <td>1.0</td>\n",
       "      <td>1.0</td>\n",
       "      <td>1.0</td>\n",
       "      <td>1.0</td>\n",
       "    </tr>\n",
       "    <tr>\n",
       "      <th>4</th>\n",
       "      <td>2010 U.S. LEXIS 1897</td>\n",
       "      <td>[True, False, False, False, False]</td>\n",
       "      <td>[(LEGAL AID SOCIETY, EMPLOYMENT LAW CENTER, 2)...</td>\n",
       "      <td>0.200000</td>\n",
       "      <td>2</td>\n",
       "      <td>5</td>\n",
       "      <td>1.0</td>\n",
       "      <td>2.0</td>\n",
       "      <td>2.0</td>\n",
       "      <td>0.0</td>\n",
       "    </tr>\n",
       "  </tbody>\n",
       "</table>\n",
       "</div>"
      ],
      "text/plain": [
       "              lexisCite                                 conservative_amici  \\\n",
       "0  2009 U.S. LEXIS 8941  [False, False, False, False, False, False, Fal...   \n",
       "1  2009 U.S. LEXIS 8942                        [True, False, False, False]   \n",
       "2  2009 U.S. LEXIS 8943                   [False, False, True, True, True]   \n",
       "3     2010 U.S. LEXIS 1  [False, False, False, False, False, True, True...   \n",
       "4  2010 U.S. LEXIS 1897                 [True, False, False, False, False]   \n",
       "\n",
       "                                               amici  percent_conservative  \\\n",
       "0  [(WOMEN'S CRIMINAL DEFENSE BAR ASSOCIATION, 2)...              0.771429   \n",
       "1  [(UNITED STATES, 2), (DRI -- THE VOICE OF THE ...              0.250000   \n",
       "2  [(BROTHERHOOD OF LOCOMOTIVE ENGINEERS AND TRAI...              0.600000   \n",
       "3  [(BLACK COPS AGAINST POLICE BRUTALITY, 2), (CE...              0.883721   \n",
       "4  [(LEGAL AID SOCIETY, EMPLOYMENT LAW CENTER, 2)...              0.200000   \n",
       "\n",
       "   distinct_amicus_positions  num_amici  vote  direction  decisionDirection  \\\n",
       "0                          2         35   1.0        1.0                1.0   \n",
       "1                          2          4   1.0        1.0                1.0   \n",
       "2                          2          5   1.0        2.0                2.0   \n",
       "3                          2         43   1.0        1.0                1.0   \n",
       "4                          2          5   1.0        2.0                2.0   \n",
       "\n",
       "   conservative_vote  \n",
       "0                1.0  \n",
       "1                1.0  \n",
       "2                0.0  \n",
       "3                1.0  \n",
       "4                0.0  "
      ]
     },
     "execution_count": 241,
     "metadata": {},
     "output_type": "execute_result"
    }
   ],
   "source": [
    "def filterJudgeData(df, justice_df, selected_judge):\n",
    "    # select data with which the judge has been a decision-maker\n",
    "    sel_cases_justice = justice_df.loc[justice_df[\"justiceName\"] == selected_judge]\n",
    "\n",
    "    if sel_cases_justice[\"lexisCite\"].unique().shape[0] != sel_cases_justice.shape[0]:\n",
    "        print(sel_cases_justice[\"lexisCite\"].unique().shape[0])\n",
    "        print(sel_cases_justice.shape[0])\n",
    "\n",
    "    # merge selected cases where judge was a decision-maker back onto the original data\n",
    "    df_selected = pd.merge(\n",
    "        df.reset_index(drop=False).rename({\"index\": \"lexisCite\"}, axis=1)[\n",
    "            [\n",
    "                \"lexisCite\",\n",
    "                \"conservative_amici\",\n",
    "                \"amici\",\n",
    "                \"percent_conservative\",\n",
    "                \"distinct_amicus_positions\",\n",
    "                \"num_amici\",\n",
    "            ]\n",
    "        ],\n",
    "        sel_cases_justice[[\"lexisCite\", \"vote\", \"direction\", \"decisionDirection\"]],\n",
    "        on=\"lexisCite\",\n",
    "        how=\"inner\",\n",
    "    )\n",
    "\n",
    "    # check for uniqueness\n",
    "    assert df_selected[\"lexisCite\"].unique().shape[0] == df_selected.shape[0]\n",
    "    # determine whether the judges vote was conservative\n",
    "    # based on the judges direction of the vote\n",
    "    df_selected[\"conservative_vote\"] = np.select(\n",
    "        [\n",
    "            df_selected[\"direction\"] == 1,\n",
    "            df_selected[\"direction\"] == 2,\n",
    "            df_selected[\"direction\"] == 3,\n",
    "        ],\n",
    "        [1, 0, np.nan],\n",
    "    )\n",
    "\n",
    "    return df_selected\n",
    "\n",
    "\n",
    "df_selected = filterJudgeData(df_filt, justices_csv, selected_judge)\n",
    "df_selected.head()"
   ]
  },
  {
   "cell_type": "code",
   "execution_count": 242,
   "metadata": {},
   "outputs": [],
   "source": [
    "assert df_selected[\"percent_conservative\"].isna().sum() == 0"
   ]
  },
  {
   "cell_type": "code",
   "execution_count": 243,
   "metadata": {},
   "outputs": [],
   "source": [
    "def learningThresholds(judge_name, df, iter=100):\n",
    "    # initialize lower and upper bounds of thresholds\n",
    "    judge_threshold_min = [0]\n",
    "    judge_threshold_max = [1]\n",
    "\n",
    "    observed_thresholds = []\n",
    "    cons_votes = []\n",
    "    for i in range(iter):\n",
    "        if i >= df.shape[0]:\n",
    "            continue\n",
    "        case_selection = df.sort_values(\"lexisCite\").iloc[i, :]\n",
    "        observed_threshold = case_selection[\"percent_conservative\"]\n",
    "        judge_vote = case_selection[\"conservative_vote\"]\n",
    "        if judge_vote == 0:\n",
    "            judge_threshold_min += [max(observed_threshold, max(judge_threshold_min))]\n",
    "            judge_threshold_max += [min(judge_threshold_max)]\n",
    "            cons_votes += [False]\n",
    "        else:\n",
    "            judge_threshold_min += [max(judge_threshold_min)]\n",
    "            judge_threshold_max += [min(observed_threshold, min(judge_threshold_max))]\n",
    "            cons_votes += [True]\n",
    "        observed_thresholds += [observed_threshold]\n",
    "\n",
    "    return (judge_threshold_min, judge_threshold_max, observed_thresholds, cons_votes)"
   ]
  },
  {
   "cell_type": "code",
   "execution_count": 244,
   "metadata": {},
   "outputs": [],
   "source": [
    "def plotAmicusThresholds(df, selected_judge, weighted=False):\n",
    "    df = df.sort_values('observed_thresholds', ascending=False).reset_index(drop=True)\n",
    "    if weighted==True:\n",
    "        w_lab = 'weighted'\n",
    "    else:\n",
    "        w_lab = 'unweighted'\n",
    "    # plot data of thresholds\n",
    "    plt.scatter(df.loc[df['votes']==True].index,\n",
    "                df.loc[df['votes']==True, 'observed_thresholds'],\n",
    "            color = red_fill)\n",
    "    plt.scatter(df.loc[df['votes']==False].index,\n",
    "                df.loc[df['votes']==False, 'observed_thresholds'],\n",
    "                color = green_fill,\n",
    "                alpha=1)\n",
    "    plt.legend([\"conservative\", \"liberal\"], bbox_to_anchor=(0.7, -0.15))\n",
    "    plt.xticks(\n",
    "        np.arange(0, len(judge_threshold_min), np.round(len(judge_threshold_min) / 10, -1))\n",
    "    )\n",
    "    plt.ylabel('Threshold (share conservative amici positions)')\n",
    "    plt.xlabel('Number of cases observed')\n",
    "    plt.savefig(f'./plots/{selected_judge}_{w_lab}_threshold.pdf', bbox_inches='tight')"
   ]
  },
  {
   "cell_type": "code",
   "execution_count": 245,
   "metadata": {},
   "outputs": [
    {
     "data": {
      "text/html": [
       "<div>\n",
       "<style scoped>\n",
       "    .dataframe tbody tr th:only-of-type {\n",
       "        vertical-align: middle;\n",
       "    }\n",
       "\n",
       "    .dataframe tbody tr th {\n",
       "        vertical-align: top;\n",
       "    }\n",
       "\n",
       "    .dataframe thead th {\n",
       "        text-align: right;\n",
       "    }\n",
       "</style>\n",
       "<table border=\"1\" class=\"dataframe\">\n",
       "  <thead>\n",
       "    <tr style=\"text-align: right;\">\n",
       "      <th></th>\n",
       "      <th>observed_thresholds</th>\n",
       "      <th>votes</th>\n",
       "    </tr>\n",
       "  </thead>\n",
       "  <tbody>\n",
       "    <tr>\n",
       "      <th>27</th>\n",
       "      <td>0.978723</td>\n",
       "      <td>True</td>\n",
       "    </tr>\n",
       "    <tr>\n",
       "      <th>6</th>\n",
       "      <td>0.975000</td>\n",
       "      <td>True</td>\n",
       "    </tr>\n",
       "    <tr>\n",
       "      <th>49</th>\n",
       "      <td>0.973684</td>\n",
       "      <td>True</td>\n",
       "    </tr>\n",
       "    <tr>\n",
       "      <th>28</th>\n",
       "      <td>0.972222</td>\n",
       "      <td>False</td>\n",
       "    </tr>\n",
       "    <tr>\n",
       "      <th>72</th>\n",
       "      <td>0.968750</td>\n",
       "      <td>True</td>\n",
       "    </tr>\n",
       "  </tbody>\n",
       "</table>\n",
       "</div>"
      ],
      "text/plain": [
       "    observed_thresholds  votes\n",
       "27             0.978723   True\n",
       "6              0.975000   True\n",
       "49             0.973684   True\n",
       "28             0.972222  False\n",
       "72             0.968750   True"
      ]
     },
     "execution_count": 245,
     "metadata": {},
     "output_type": "execute_result"
    }
   ],
   "source": [
    "judge_threshold_min, judge_threshold_max, observed_thresholds, cons_votes = learningThresholds(\n",
    "    selected_judge, df_selected\n",
    ")\n",
    "\n",
    "df_plot = pd.DataFrame({'observed_thresholds': observed_thresholds, 'votes': cons_votes})\n",
    "df_plot.sort_values('observed_thresholds', ascending=False).head()"
   ]
  },
  {
   "cell_type": "code",
   "execution_count": 246,
   "metadata": {},
   "outputs": [
    {
     "data": {
      "image/png": "[encoded data removed]",
      "text/plain": [
       "<Figure size 640x480 with 1 Axes>"
      ]
     },
     "metadata": {},
     "output_type": "display_data"
    }
   ],
   "source": [
    "plotAmicusThresholds(df_plot, selected_judge)"
   ]
  },
  {
   "cell_type": "code",
   "execution_count": 247,
   "metadata": {},
   "outputs": [
    {
     "name": "stdout",
     "output_type": "stream",
     "text": [
      "(5, 10)\n"
     ]
    },
    {
     "data": {
      "text/html": [
       "<div>\n",
       "<style scoped>\n",
       "    .dataframe tbody tr th:only-of-type {\n",
       "        vertical-align: middle;\n",
       "    }\n",
       "\n",
       "    .dataframe tbody tr th {\n",
       "        vertical-align: top;\n",
       "    }\n",
       "\n",
       "    .dataframe thead th {\n",
       "        text-align: right;\n",
       "    }\n",
       "</style>\n",
       "<table border=\"1\" class=\"dataframe\">\n",
       "  <thead>\n",
       "    <tr style=\"text-align: right;\">\n",
       "      <th></th>\n",
       "      <th>lexisCite</th>\n",
       "      <th>conservative_amici</th>\n",
       "      <th>amici</th>\n",
       "      <th>percent_conservative</th>\n",
       "      <th>distinct_amicus_positions</th>\n",
       "      <th>num_amici</th>\n",
       "      <th>vote</th>\n",
       "      <th>direction</th>\n",
       "      <th>decisionDirection</th>\n",
       "      <th>conservative_vote</th>\n",
       "    </tr>\n",
       "  </thead>\n",
       "  <tbody>\n",
       "    <tr>\n",
       "      <th>11</th>\n",
       "      <td>2010 U.S. LEXIS 2927</td>\n",
       "      <td>[True, True, False, False, False, False, False...</td>\n",
       "      <td>[(AMERICAN CENTER FOR LAW AND JUSTICE, 2), (UN...</td>\n",
       "      <td>0.045455</td>\n",
       "      <td>2</td>\n",
       "      <td>44</td>\n",
       "      <td>2.0</td>\n",
       "      <td>1.0</td>\n",
       "      <td>2.0</td>\n",
       "      <td>1.0</td>\n",
       "    </tr>\n",
       "    <tr>\n",
       "      <th>55</th>\n",
       "      <td>2011 U.S. LEXIS 2593</td>\n",
       "      <td>[False, False, False, False, False, False, Fal...</td>\n",
       "      <td>[(UNITED STATES, 2), (CRIMINAL JUSTICE LEGAL F...</td>\n",
       "      <td>0.032258</td>\n",
       "      <td>2</td>\n",
       "      <td>31</td>\n",
       "      <td>1.0</td>\n",
       "      <td>1.0</td>\n",
       "      <td>1.0</td>\n",
       "      <td>1.0</td>\n",
       "    </tr>\n",
       "    <tr>\n",
       "      <th>122</th>\n",
       "      <td>2013 U.S. LEXIS 1612</td>\n",
       "      <td>[False, False, False, False, False, False, Fal...</td>\n",
       "      <td>[(INTELLECTUAL PROPERTY LAW ASSOCIATION OF CHI...</td>\n",
       "      <td>0.090909</td>\n",
       "      <td>2</td>\n",
       "      <td>11</td>\n",
       "      <td>1.0</td>\n",
       "      <td>1.0</td>\n",
       "      <td>1.0</td>\n",
       "      <td>1.0</td>\n",
       "    </tr>\n",
       "    <tr>\n",
       "      <th>137</th>\n",
       "      <td>2013 U.S. LEXIS 3317</td>\n",
       "      <td>[True, True, True, True, False, False, False, ...</td>\n",
       "      <td>[(VIRGINIA ASSOCIATION OF COUNTIES, 2), (VIRGI...</td>\n",
       "      <td>0.045455</td>\n",
       "      <td>2</td>\n",
       "      <td>88</td>\n",
       "      <td>1.0</td>\n",
       "      <td>1.0</td>\n",
       "      <td>1.0</td>\n",
       "      <td>1.0</td>\n",
       "    </tr>\n",
       "    <tr>\n",
       "      <th>153</th>\n",
       "      <td>2013 U.S. LEXIS 4701</td>\n",
       "      <td>[False, False, False, False, False, False, Fal...</td>\n",
       "      <td>[(HISPANIC NATIONAL BAR ASSOCIATION, 2), (NATI...</td>\n",
       "      <td>0.040193</td>\n",
       "      <td>2</td>\n",
       "      <td>622</td>\n",
       "      <td>1.0</td>\n",
       "      <td>1.0</td>\n",
       "      <td>1.0</td>\n",
       "      <td>1.0</td>\n",
       "    </tr>\n",
       "  </tbody>\n",
       "</table>\n",
       "</div>"
      ],
      "text/plain": [
       "                lexisCite                                 conservative_amici  \\\n",
       "11   2010 U.S. LEXIS 2927  [True, True, False, False, False, False, False...   \n",
       "55   2011 U.S. LEXIS 2593  [False, False, False, False, False, False, Fal...   \n",
       "122  2013 U.S. LEXIS 1612  [False, False, False, False, False, False, Fal...   \n",
       "137  2013 U.S. LEXIS 3317  [True, True, True, True, False, False, False, ...   \n",
       "153  2013 U.S. LEXIS 4701  [False, False, False, False, False, False, Fal...   \n",
       "\n",
       "                                                 amici  percent_conservative  \\\n",
       "11   [(AMERICAN CENTER FOR LAW AND JUSTICE, 2), (UN...              0.045455   \n",
       "55   [(UNITED STATES, 2), (CRIMINAL JUSTICE LEGAL F...              0.032258   \n",
       "122  [(INTELLECTUAL PROPERTY LAW ASSOCIATION OF CHI...              0.090909   \n",
       "137  [(VIRGINIA ASSOCIATION OF COUNTIES, 2), (VIRGI...              0.045455   \n",
       "153  [(HISPANIC NATIONAL BAR ASSOCIATION, 2), (NATI...              0.040193   \n",
       "\n",
       "     distinct_amicus_positions  num_amici  vote  direction  decisionDirection  \\\n",
       "11                           2         44   2.0        1.0                2.0   \n",
       "55                           2         31   1.0        1.0                1.0   \n",
       "122                          2         11   1.0        1.0                1.0   \n",
       "137                          2         88   1.0        1.0                1.0   \n",
       "153                          2        622   1.0        1.0                1.0   \n",
       "\n",
       "     conservative_vote  \n",
       "11                 1.0  \n",
       "55                 1.0  \n",
       "122                1.0  \n",
       "137                1.0  \n",
       "153                1.0  "
      ]
     },
     "execution_count": 247,
     "metadata": {},
     "output_type": "execute_result"
    }
   ],
   "source": [
    "# investigate contradictory cases\n",
    "print(df_selected.loc[(df_selected['percent_conservative'] < 0.1) & (df_selected['direction']==1)].shape)\n",
    "cases_sotomayor = df_selected.loc[(df_selected['percent_conservative'] < 0.1) & (df_selected['direction']==1), 'lexisCite']\n",
    "df_selected.loc[(df_selected['percent_conservative'] < 0.1) & (df_selected['direction']==1)]"
   ]
  },
  {
   "cell_type": "code",
   "execution_count": 248,
   "metadata": {},
   "outputs": [
    {
     "data": {
      "text/plain": [
       "[[2.0, 2.0, 2.0, 2.0, 2.0, 2.0, 1.0, 2.0, 1.0],\n",
       " [1.0, 1.0, 1.0, 1.0, 1.0, 1.0, 1.0, 1.0, 1.0],\n",
       " [1.0, 1.0, 1.0, 1.0, 1.0, 1.0, 1.0, 1.0, 1.0],\n",
       " [1.0, 1.0, 1.0, 1.0, 1.0, 1.0, 1.0, 1.0, 1.0],\n",
       " [1.0, 1.0, 1.0, 1.0, 2.0, 1.0, 1.0, 1.0, nan]]"
      ]
     },
     "execution_count": 248,
     "metadata": {},
     "output_type": "execute_result"
    }
   ],
   "source": [
    "# list of lists of directions of each justice in cases where sotomayor voted conservatively\n",
    "[[y[2] for y in x] for x in df_filt.loc[df_filt.index.isin(cases_sotomayor), 'justices']]"
   ]
  },
  {
   "cell_type": "code",
   "execution_count": 249,
   "metadata": {},
   "outputs": [
    {
     "data": {
      "image/png": "[encoded data removed]",
      "text/plain": [
       "<Figure size 640x480 with 1 Axes>"
      ]
     },
     "metadata": {},
     "output_type": "display_data"
    },
    {
     "data": {
      "image/png": "[encoded data removed]",
      "text/plain": [
       "<Figure size 640x480 with 1 Axes>"
      ]
     },
     "metadata": {},
     "output_type": "display_data"
    },
    {
     "data": {
      "image/png": "[encoded data removed]",
      "text/plain": [
       "<Figure size 640x480 with 1 Axes>"
      ]
     },
     "metadata": {},
     "output_type": "display_data"
    }
   ],
   "source": [
    "# learn thresholds for each justice using the filtered data\n",
    "for i in ['SAAlito', 'JGRoberts', 'SSotomayor']:\n",
    "    # identify cases for only this justice\n",
    "    df_selected = filterJudgeData(df_filt, justices_csv, i)\n",
    "    df_selected = df_selected[(df_selected['percent_conservative'] < 1) & (df_selected['percent_conservative'] > 0)]\n",
    "    # learn the threshold (i.e., apply the threshold alg)\n",
    "    judge_threshold_min, judge_threshold_max, observed_thresholds, cons_votes = learningThresholds(i, df_selected)\n",
    "\n",
    "    # plot data\n",
    "    df_plot = pd.DataFrame({'observed_thresholds': observed_thresholds, 'votes': cons_votes})\n",
    "    plotAmicusThresholds(df_plot, i)\n",
    "    plt.show();"
   ]
  },
  {
   "cell_type": "markdown",
   "metadata": {},
   "source": [
    "## Learning Weights\n",
    "\n",
    "This is a simple baseline model where we infer the weights based on past agreement of amicus and justice"
   ]
  },
  {
   "cell_type": "code",
   "execution_count": 250,
   "metadata": {},
   "outputs": [],
   "source": [
    "# we need a matrix representing each amicus as 1, 0, -1\n",
    "amici_cases = []\n",
    "justice_cases = []\n",
    "for lexis_cite, docket in preproc_data.items():\n",
    "    # only include cases in previously filtered data\n",
    "    if lexis_cite not in df_filt.index:\n",
    "        continue\n",
    "\n",
    "    amicus_case_data = {\"lexisCite\": lexis_cite}\n",
    "    justice_case_data = {\"lexisCite\": lexis_cite}\n",
    "    for amicus in docket[\"amici\"]:\n",
    "        # identify the ideological direction of the amicus brief based on its relationship with the disposition\n",
    "        # and the disposition direction\n",
    "        amicus_direction = amicusDirection(\n",
    "            amicus[1], docket[\"case_decision\"], docket[\"decisiondirection\"]\n",
    "        )\n",
    "        if amicus_direction == 1:\n",
    "            amicus_case_data[amicus[0]] = 1\n",
    "        elif amicus_direction == 2:\n",
    "            amicus_case_data[amicus[0]] = -1\n",
    "        else:\n",
    "            amicus_case_data[amicus[0]] = 0\n",
    "    amici_cases += [amicus_case_data]\n",
    "\n",
    "    for justice in docket[\"justices\"]:\n",
    "        # identify the ideological direction of the justice\n",
    "        # 1 is conservative\n",
    "        if justice[2] == 1:\n",
    "            justice_case_data[justice[0]] = 1\n",
    "        elif justice[2] == 2:\n",
    "            # 2 is liberal\n",
    "            justice_case_data[justice[0]] = -1\n",
    "        else:\n",
    "            # unspecified\n",
    "            justice_case_data[justice[0]] = 0\n",
    "    justice_cases += [justice_case_data]"
   ]
  },
  {
   "cell_type": "code",
   "execution_count": 251,
   "metadata": {},
   "outputs": [
    {
     "data": {
      "text/plain": [
       "((1826, 13735), (1826, 9))"
      ]
     },
     "execution_count": 251,
     "metadata": {},
     "output_type": "execute_result"
    }
   ],
   "source": [
    "# amici that don't sign on to a case should be neutral (i.e. = 0)\n",
    "# why are we replacing na with 0? This feels like it should be preprocessed better but we can fix after\n",
    "X = pd.DataFrame(amici_cases).fillna(0)\n",
    "X = X[(X != 99).all(axis=1)]\n",
    "X.shape, df_filt.shape"
   ]
  },
  {
   "cell_type": "code",
   "execution_count": 252,
   "metadata": {},
   "outputs": [
    {
     "data": {
      "text/plain": [
       "(1826, 34)"
      ]
     },
     "execution_count": 252,
     "metadata": {},
     "output_type": "execute_result"
    }
   ],
   "source": [
    "# let's get the actual decisions\n",
    "# if they didn't rule on the case they should be neutral (or they should be missing?)\n",
    "y = pd.DataFrame(justice_cases).fillna(0) # unspecified so they're neutral\n",
    "y = pd.merge(y, X['lexisCite'], on='lexisCite', how='inner')\n",
    "\n",
    "np.array(y.drop('lexisCite', axis=1)).shape\n",
    "y.shape"
   ]
  },
  {
   "cell_type": "code",
   "execution_count": 253,
   "metadata": {},
   "outputs": [],
   "source": [
    "amici_cols = [x for x in X.columns if x != 'lexisCite']\n",
    "X_comp = pd.merge(X, y, on='lexisCite').copy().sort_values('lexisCite')\n",
    "X_comp = pd.concat([X_comp[amici_cols]\\\n",
    "                    .rename(lambda x: x + '_agree', axis=1), X_comp], axis=1)\n",
    "X_comp = X_comp.loc[X_comp[selected_judge] != 0].reset_index(drop=True)"
   ]
  },
  {
   "cell_type": "code",
   "execution_count": 254,
   "metadata": {},
   "outputs": [],
   "source": [
    "for i in amici_cols:\n",
    "    X_comp[i+'_agree'] = (X_comp[i] == X_comp[selected_judge]).astype(int)\n",
    "    X_comp.loc[X_comp[i] == 0, i+'_agree'] = np.nan"
   ]
  },
  {
   "cell_type": "code",
   "execution_count": 255,
   "metadata": {},
   "outputs": [],
   "source": [
    "X_comp[[x + '_agree' for x in amici_cols]] = X_comp[[x + '_agree' for x in amici_cols]].expanding().mean()"
   ]
  },
  {
   "cell_type": "code",
   "execution_count": 256,
   "metadata": {},
   "outputs": [
    {
     "data": {
      "text/plain": [
       "(187, 187)"
      ]
     },
     "execution_count": 256,
     "metadata": {},
     "output_type": "execute_result"
    }
   ],
   "source": [
    "np.matmul(X_comp.iloc[1:][amici_cols].values,\n",
    "          np.transpose(X_comp.iloc[1:][[x + '_agree' for x in amici_cols]].fillna(0).values)).shape"
   ]
  },
  {
   "cell_type": "code",
   "execution_count": null,
   "metadata": {},
   "outputs": [],
   "source": [
    "amici_cols = [x for x in X.columns if x != 'lexisCite']\n",
    "\n",
    "def make_opinion_df():\n",
    "    amici = pd.DataFrame(amici_cases).fillna(0)\n",
    "    amici = amici[(amici != 99).all(axis=1)]\n",
    "\n",
    "    return pd.merge(amici, pd.DataFrame(justice_cases), on='lexisCite').copy().sort_values('lexisCite')\n",
    "\n",
    "opinion_df = make_opinion_df()\n",
    "\n",
    "def overall_agreement(op_df, justice, amicus_list=None):\n",
    "    \"\"\"justice_decisions is an array of cases where a given justice voted either -1 or 1\"\"\"\n",
    "\n",
    "    amicus_list = amici_cols if amicus_list is None else amicus_list\n",
    "    amicus_opinions = np.array(op_df[amicus_list])\n",
    "    justice_opinions = np.array(op_df[justice])[:, np.newaxis]\n",
    "    justice_present = (justice_opinions != 0)#[:, np.newaxis]\n",
    "\n",
    "    agree = (justice_opinions == amicus_opinions) & justice_present\n",
    "    disagree = (-1*justice_opinions == amicus_opinions) & justice_present ## equal only if op_df is not 1\n",
    "    both_present = np.logical_or(agree, disagree)\n",
    "\n",
    "    ## when do they agree?\n",
    "    agreement_indicator = (np.abs(justice_opinions + amicus_opinions) == 2).astype(float) ## coarse; 0s for nas\n",
    "\n",
    "    ## when is this amicus relevant to this judge?\n",
    "    cumulative_agreement_freqs = np.cumsum(agreement_indicator, axis=0) / np.cumsum(both_present, axis=0)\n",
    "\n",
    "\n",
    "    weight_by_time = pd.DataFrame(cumulative_agreement_freqs, columns=amicus_list).fillna(0)\n",
    "    weight_by_time['lexisCite'] = opinion_df['lexisCite']\n",
    "\n",
    "    return weight_by_time\n",
    "\n",
    "def predict(weight_df, opinion_df):\n",
    "    if 'lexisCite' in weight_df.columns:\n",
    "        weight_mat = np.array(weight_df.drop(columns='lexisCite').fillna(0)) \n",
    "    else:\n",
    "        weight_mat = np.array(weight_df.fillna(0))\n",
    "    weight_mat = np.nan_to_num(weight_mat / np.sum(weight_mat, axis=1)[:, np.newaxis])\n",
    "    yhat = np.sum(weight_mat * np.array(opinion_df.fillna(0)), axis=1)\n",
    "    return yhat\n",
    "\n",
    "alito_weight_matrix = overall_agreement(opinion_df, \"SAAlito\")\n",
    "predictions = predict(alito_weight_matrix, X[amici_cols])\n"
   ]
  },
  {
   "cell_type": "markdown",
   "metadata": {},
   "source": [
    "## Learning Weights - Predictive Model"
   ]
  },
  {
   "cell_type": "code",
   "execution_count": 257,
   "metadata": {},
   "outputs": [],
   "source": [
    "from sklearn.linear_model import LinearRegression, Ridge, Lasso\n",
    "from sklearn.multioutput import MultiOutputRegressor\n",
    "from sklearn.cross_decomposition import PLSRegression\n",
    "from sklearn import metrics\n",
    "from sklearn.model_selection import train_test_split\n",
    "from sklearn.neural_network import MLPRegressor\n",
    "from sklearn.preprocessing import StandardScaler\n",
    "from sklearn.decomposition import PCA\n",
    "from sklearn.pipeline import make_pipeline, Pipeline\n",
    "from sklearn.model_selection import GridSearchCV"
   ]
  },
  {
   "cell_type": "code",
   "execution_count": 258,
   "metadata": {},
   "outputs": [
    {
     "data": {
      "text/plain": [
       "((1460, 13734), (366, 13734), (1460, 33), (366, 33))"
      ]
     },
     "execution_count": 258,
     "metadata": {},
     "output_type": "execute_result"
    }
   ],
   "source": [
    "# (from Ritik's code below)\n",
    "# so we first need to split up the data so that we have test and training, let's save about 100 cases for testing\n",
    "X_train, X_test, y_train, y_test = train_test_split(X.drop('lexisCite', axis=1), \n",
    "                                                    y.drop('lexisCite', axis=1), test_size=0.2, random_state=0)\n",
    "X_train.shape, X_test.shape, y_train.shape, y_test.shape"
   ]
  },
  {
   "cell_type": "code",
   "execution_count": 259,
   "metadata": {},
   "outputs": [],
   "source": [
    "scaler = StandardScaler()\n",
    "X_train_scaled = scaler.fit_transform(X_train)\n",
    "X_test_scaled = scaler.fit_transform(X_test)"
   ]
  },
  {
   "cell_type": "code",
   "execution_count": 260,
   "metadata": {},
   "outputs": [],
   "source": [
    "linreg = MultiOutputRegressor(LinearRegression()).fit(X_train_scaled, \n",
    "                                                    y_train)"
   ]
  },
  {
   "cell_type": "code",
   "execution_count": 261,
   "metadata": {},
   "outputs": [],
   "source": [
    "coefficients = [estimator.coef_ for estimator in linreg.estimators_]\n",
    "len(coefficients), coefficients[0].shape"
   ]
  },
  {
   "cell_type": "code",
   "execution_count": 262,
   "metadata": {},
   "outputs": [],
   "source": [
    "# predict the outcomes and compare (for the test data)\n",
    "y_pred = linreg.predict(X_test_scaled)\n",
    "y_pred"
   ]
  },
  {
   "cell_type": "code",
   "execution_count": 263,
   "metadata": {},
   "outputs": [],
   "source": [
    "# check mse\n",
    "mae_linreg = metrics.mean_absolute_error(y_test, y_pred)\n",
    "mse_linreg = metrics.mean_squared_error(y_test, y_pred)\n",
    "rmse_linreg = np.sqrt(metrics.mean_squared_error(y_test, y_pred))"
   ]
  },
  {
   "cell_type": "code",
   "execution_count": 264,
   "metadata": {},
   "outputs": [
    {
     "name": "stdout",
     "output_type": "stream",
     "text": [
      "Mean Absolute Error: 9349525159.515902\n",
      "Mean Squared Error: 1.882618273093858e+21\n",
      "Root Mean Squared Error: 43389149255.244194\n"
     ]
    }
   ],
   "source": [
    "print('Mean Absolute Error:', mae_linreg)  \n",
    "print('Mean Squared Error:', mse_linreg)  \n",
    "print('Root Mean Squared Error:', rmse_linreg)"
   ]
  },
  {
   "cell_type": "code",
   "execution_count": 265,
   "metadata": {},
   "outputs": [
    {
     "data": {
      "text/plain": [
       "(-0.01644413849043716, -91554682161.96101, 663009062544.4774)"
      ]
     },
     "execution_count": 265,
     "metadata": {},
     "output_type": "execute_result"
    }
   ],
   "source": [
    "np.mean(y_pred[:,0]), np.min(y_pred[:,0]), np.max(y_pred[:,0])"
   ]
  },
  {
   "cell_type": "code",
   "execution_count": 266,
   "metadata": {},
   "outputs": [
    {
     "data": {
      "image/png": "[encoded data removed]",
      "text/plain": [
       "<Figure size 640x480 with 1 Axes>"
      ]
     },
     "metadata": {},
     "output_type": "display_data"
    }
   ],
   "source": [
    "plt.figure()\n",
    "s = 50\n",
    "a = 0.4\n",
    "plt.scatter(\n",
    "    y_pred[:,0],\n",
    "    (y_test.iloc[:,0] - y_pred[:,0]),\n",
    "    edgecolor=\"k\",\n",
    "    c=\"cornflowerblue\",\n",
    "    s=s,\n",
    "    alpha=a,\n",
    ")\n",
    "\n",
    "plt.xlabel(\"fitted values\")\n",
    "plt.ylabel(\"residuals\")\n",
    "plt.title(\"Comparing residuals and fitted values\")\n",
    "plt.show()"
   ]
  },
  {
   "cell_type": "markdown",
   "metadata": {},
   "source": [
    "## MLP Model (Ritik's Approach)"
   ]
  },
  {
   "cell_type": "code",
   "execution_count": 267,
   "metadata": {},
   "outputs": [],
   "source": [
    "# next try\n",
    "mlpregr = MLPRegressor(random_state=1, max_iter=500).fit(X_train_scaled, y_train)"
   ]
  },
  {
   "cell_type": "code",
   "execution_count": 268,
   "metadata": {},
   "outputs": [
    {
     "data": {
      "text/plain": [
       "-2.4590162229299586"
      ]
     },
     "execution_count": 268,
     "metadata": {},
     "output_type": "execute_result"
    }
   ],
   "source": [
    "mlpregr.score(X_test_scaled, y_test)"
   ]
  },
  {
   "cell_type": "code",
   "execution_count": 269,
   "metadata": {},
   "outputs": [],
   "source": [
    "# Let's get predictions\n",
    "y_pred = mlpregr.predict(X_test_scaled)\n",
    "\n",
    "mae_mlp = metrics.mean_absolute_error(y_test, y_pred)\n",
    "mse_mlp = metrics.mean_squared_error(y_test, y_pred)\n",
    "rmse_mlp = np.sqrt(metrics.mean_squared_error(y_test, y_pred))"
   ]
  },
  {
   "cell_type": "code",
   "execution_count": 270,
   "metadata": {},
   "outputs": [
    {
     "name": "stdout",
     "output_type": "stream",
     "text": [
      "Mean Absolute Error: 0.44111440029543103\n",
      "Mean Squared Error: 0.3939466930442391\n",
      "Root Mean Squared Error: 0.6276517291016086\n"
     ]
    }
   ],
   "source": [
    "print('Mean Absolute Error:', mae_mlp)  \n",
    "print('Mean Squared Error:', mse_mlp)  \n",
    "print('Root Mean Squared Error:', rmse_mlp)"
   ]
  },
  {
   "cell_type": "markdown",
   "metadata": {},
   "source": [
    "## Ridge Regression"
   ]
  },
  {
   "cell_type": "code",
   "execution_count": 271,
   "metadata": {},
   "outputs": [
    {
     "data": {
      "text/html": [
       "<style>#sk-container-id-5 {color: black;}#sk-container-id-5 pre{padding: 0;}#sk-container-id-5 div.sk-toggleable {background-color: white;}#sk-container-id-5 label.sk-toggleable__label {cursor: pointer;display: block;width: 100%;margin-bottom: 0;padding: 0.3em;box-sizing: border-box;text-align: center;}#sk-container-id-5 label.sk-toggleable__label-arrow:before {content: \"▸\";float: left;margin-right: 0.25em;color: #696969;}#sk-container-id-5 label.sk-toggleable__label-arrow:hover:before {color: black;}#sk-container-id-5 div.sk-estimator:hover label.sk-toggleable__label-arrow:before {color: black;}#sk-container-id-5 div.sk-toggleable__content {max-height: 0;max-width: 0;overflow: hidden;text-align: left;background-color: #f0f8ff;}#sk-container-id-5 div.sk-toggleable__content pre {margin: 0.2em;color: black;border-radius: 0.25em;background-color: #f0f8ff;}#sk-container-id-5 input.sk-toggleable__control:checked~div.sk-toggleable__content {max-height: 200px;max-width: 100%;overflow: auto;}#sk-container-id-5 input.sk-toggleable__control:checked~label.sk-toggleable__label-arrow:before {content: \"▾\";}#sk-container-id-5 div.sk-estimator input.sk-toggleable__control:checked~label.sk-toggleable__label {background-color: #d4ebff;}#sk-container-id-5 div.sk-label input.sk-toggleable__control:checked~label.sk-toggleable__label {background-color: #d4ebff;}#sk-container-id-5 input.sk-hidden--visually {border: 0;clip: rect(1px 1px 1px 1px);clip: rect(1px, 1px, 1px, 1px);height: 1px;margin: -1px;overflow: hidden;padding: 0;position: absolute;width: 1px;}#sk-container-id-5 div.sk-estimator {font-family: monospace;background-color: #f0f8ff;border: 1px dotted black;border-radius: 0.25em;box-sizing: border-box;margin-bottom: 0.5em;}#sk-container-id-5 div.sk-estimator:hover {background-color: #d4ebff;}#sk-container-id-5 div.sk-parallel-item::after {content: \"\";width: 100%;border-bottom: 1px solid gray;flex-grow: 1;}#sk-container-id-5 div.sk-label:hover label.sk-toggleable__label {background-color: #d4ebff;}#sk-container-id-5 div.sk-serial::before {content: \"\";position: absolute;border-left: 1px solid gray;box-sizing: border-box;top: 0;bottom: 0;left: 50%;z-index: 0;}#sk-container-id-5 div.sk-serial {display: flex;flex-direction: column;align-items: center;background-color: white;padding-right: 0.2em;padding-left: 0.2em;position: relative;}#sk-container-id-5 div.sk-item {position: relative;z-index: 1;}#sk-container-id-5 div.sk-parallel {display: flex;align-items: stretch;justify-content: center;background-color: white;position: relative;}#sk-container-id-5 div.sk-item::before, #sk-container-id-5 div.sk-parallel-item::before {content: \"\";position: absolute;border-left: 1px solid gray;box-sizing: border-box;top: 0;bottom: 0;left: 50%;z-index: -1;}#sk-container-id-5 div.sk-parallel-item {display: flex;flex-direction: column;z-index: 1;position: relative;background-color: white;}#sk-container-id-5 div.sk-parallel-item:first-child::after {align-self: flex-end;width: 50%;}#sk-container-id-5 div.sk-parallel-item:last-child::after {align-self: flex-start;width: 50%;}#sk-container-id-5 div.sk-parallel-item:only-child::after {width: 0;}#sk-container-id-5 div.sk-dashed-wrapped {border: 1px dashed gray;margin: 0 0.4em 0.5em 0.4em;box-sizing: border-box;padding-bottom: 0.4em;background-color: white;}#sk-container-id-5 div.sk-label label {font-family: monospace;font-weight: bold;display: inline-block;line-height: 1.2em;}#sk-container-id-5 div.sk-label-container {text-align: center;}#sk-container-id-5 div.sk-container {/* jupyter's `normalize.less` sets `[hidden] { display: none; }` but bootstrap.min.css set `[hidden] { display: none !important; }` so we also need the `!important` here to be able to override the default hidden behavior on the sphinx rendered scikit-learn.org. See: https://github.com/scikit-learn/scikit-learn/issues/21755 */display: inline-block !important;position: relative;}#sk-container-id-5 div.sk-text-repr-fallback {display: none;}</style><div id=\"sk-container-id-5\" class=\"sk-top-container\"><div class=\"sk-text-repr-fallback\"><pre>GridSearchCV(estimator=Ridge(),\n",
       "             param_grid={&#x27;alpha&#x27;: [0.01, 0.05, 0.1, 0.3, 0.7, 1]},\n",
       "             scoring=&#x27;neg_mean_squared_error&#x27;)</pre><b>In a Jupyter environment, please rerun this cell to show the HTML representation or trust the notebook. <br />On GitHub, the HTML representation is unable to render, please try loading this page with nbviewer.org.</b></div><div class=\"sk-container\" hidden><div class=\"sk-item sk-dashed-wrapped\"><div class=\"sk-label-container\"><div class=\"sk-label sk-toggleable\"><input class=\"sk-toggleable__control sk-hidden--visually\" id=\"sk-estimator-id-12\" type=\"checkbox\" ><label for=\"sk-estimator-id-12\" class=\"sk-toggleable__label sk-toggleable__label-arrow\">GridSearchCV</label><div class=\"sk-toggleable__content\"><pre>GridSearchCV(estimator=Ridge(),\n",
       "             param_grid={&#x27;alpha&#x27;: [0.01, 0.05, 0.1, 0.3, 0.7, 1]},\n",
       "             scoring=&#x27;neg_mean_squared_error&#x27;)</pre></div></div></div><div class=\"sk-parallel\"><div class=\"sk-parallel-item\"><div class=\"sk-item\"><div class=\"sk-label-container\"><div class=\"sk-label sk-toggleable\"><input class=\"sk-toggleable__control sk-hidden--visually\" id=\"sk-estimator-id-13\" type=\"checkbox\" ><label for=\"sk-estimator-id-13\" class=\"sk-toggleable__label sk-toggleable__label-arrow\">estimator: Ridge</label><div class=\"sk-toggleable__content\"><pre>Ridge()</pre></div></div></div><div class=\"sk-serial\"><div class=\"sk-item\"><div class=\"sk-estimator sk-toggleable\"><input class=\"sk-toggleable__control sk-hidden--visually\" id=\"sk-estimator-id-14\" type=\"checkbox\" ><label for=\"sk-estimator-id-14\" class=\"sk-toggleable__label sk-toggleable__label-arrow\">Ridge</label><div class=\"sk-toggleable__content\"><pre>Ridge()</pre></div></div></div></div></div></div></div></div></div></div>"
      ],
      "text/plain": [
       "GridSearchCV(estimator=Ridge(),\n",
       "             param_grid={'alpha': [0.01, 0.05, 0.1, 0.3, 0.7, 1]},\n",
       "             scoring='neg_mean_squared_error')"
      ]
     },
     "execution_count": 271,
     "metadata": {},
     "output_type": "execute_result"
    }
   ],
   "source": [
    "clf = Ridge()\n",
    "parameters = {'alpha':[0.01, 0.05, 0.1, 0.3, 0.7, 1]}\n",
    "ridgeregr = GridSearchCV(clf, parameters, scoring='neg_mean_squared_error')\n",
    "ridgeregr.fit(X_train_scaled, y_train)"
   ]
  },
  {
   "cell_type": "code",
   "execution_count": 272,
   "metadata": {},
   "outputs": [],
   "source": [
    "# Let's get predictions\n",
    "y_pred = ridgeregr.predict(X_test_scaled)\n",
    "\n",
    "mae_ridge = metrics.mean_absolute_error(y_test, y_pred)\n",
    "mse_ridge = metrics.mean_squared_error(y_test, y_pred)\n",
    "rmse_ridge = np.sqrt(metrics.mean_squared_error(y_test, y_pred))"
   ]
  },
  {
   "cell_type": "code",
   "execution_count": 273,
   "metadata": {},
   "outputs": [
    {
     "name": "stdout",
     "output_type": "stream",
     "text": [
      "Mean Absolute Error: 0.7070863544898025\n",
      "Mean Squared Error: 1.2833930349692817\n",
      "Root Mean Squared Error: 1.1328693812480244\n"
     ]
    }
   ],
   "source": [
    "print('Mean Absolute Error:', mae_ridge)  \n",
    "print('Mean Squared Error:', mse_ridge)  \n",
    "print('Root Mean Squared Error:', rmse_ridge)"
   ]
  },
  {
   "cell_type": "markdown",
   "metadata": {},
   "source": [
    "## LASSO"
   ]
  },
  {
   "cell_type": "code",
   "execution_count": 274,
   "metadata": {},
   "outputs": [
    {
     "name": "stderr",
     "output_type": "stream",
     "text": [
      "/Users/ritikbatra/Desktop/phd/year1/info6850/reaction_paper/.conda/lib/python3.11/site-packages/sklearn/linear_model/_coordinate_descent.py:628: ConvergenceWarning: Objective did not converge. You might want to increase the number of iterations, check the scale of the features or consider increasing regularisation. Duality gap: 0.000e+00, tolerance: 0.000e+00\n",
      "  model = cd_fast.enet_coordinate_descent(\n",
      "/Users/ritikbatra/Desktop/phd/year1/info6850/reaction_paper/.conda/lib/python3.11/site-packages/sklearn/linear_model/_coordinate_descent.py:628: ConvergenceWarning: Objective did not converge. You might want to increase the number of iterations, check the scale of the features or consider increasing regularisation. Duality gap: 0.000e+00, tolerance: 0.000e+00\n",
      "  model = cd_fast.enet_coordinate_descent(\n",
      "/Users/ritikbatra/Desktop/phd/year1/info6850/reaction_paper/.conda/lib/python3.11/site-packages/sklearn/linear_model/_coordinate_descent.py:628: ConvergenceWarning: Objective did not converge. You might want to increase the number of iterations, check the scale of the features or consider increasing regularisation. Duality gap: 0.000e+00, tolerance: 0.000e+00\n",
      "  model = cd_fast.enet_coordinate_descent(\n",
      "/Users/ritikbatra/Desktop/phd/year1/info6850/reaction_paper/.conda/lib/python3.11/site-packages/sklearn/linear_model/_coordinate_descent.py:628: ConvergenceWarning: Objective did not converge. You might want to increase the number of iterations, check the scale of the features or consider increasing regularisation. Duality gap: 0.000e+00, tolerance: 0.000e+00\n",
      "  model = cd_fast.enet_coordinate_descent(\n",
      "/Users/ritikbatra/Desktop/phd/year1/info6850/reaction_paper/.conda/lib/python3.11/site-packages/sklearn/linear_model/_coordinate_descent.py:628: ConvergenceWarning: Objective did not converge. You might want to increase the number of iterations, check the scale of the features or consider increasing regularisation. Duality gap: 0.000e+00, tolerance: 0.000e+00\n",
      "  model = cd_fast.enet_coordinate_descent(\n"
     ]
    },
    {
     "data": {
      "text/html": [
       "<style>#sk-container-id-6 {color: black;}#sk-container-id-6 pre{padding: 0;}#sk-container-id-6 div.sk-toggleable {background-color: white;}#sk-container-id-6 label.sk-toggleable__label {cursor: pointer;display: block;width: 100%;margin-bottom: 0;padding: 0.3em;box-sizing: border-box;text-align: center;}#sk-container-id-6 label.sk-toggleable__label-arrow:before {content: \"▸\";float: left;margin-right: 0.25em;color: #696969;}#sk-container-id-6 label.sk-toggleable__label-arrow:hover:before {color: black;}#sk-container-id-6 div.sk-estimator:hover label.sk-toggleable__label-arrow:before {color: black;}#sk-container-id-6 div.sk-toggleable__content {max-height: 0;max-width: 0;overflow: hidden;text-align: left;background-color: #f0f8ff;}#sk-container-id-6 div.sk-toggleable__content pre {margin: 0.2em;color: black;border-radius: 0.25em;background-color: #f0f8ff;}#sk-container-id-6 input.sk-toggleable__control:checked~div.sk-toggleable__content {max-height: 200px;max-width: 100%;overflow: auto;}#sk-container-id-6 input.sk-toggleable__control:checked~label.sk-toggleable__label-arrow:before {content: \"▾\";}#sk-container-id-6 div.sk-estimator input.sk-toggleable__control:checked~label.sk-toggleable__label {background-color: #d4ebff;}#sk-container-id-6 div.sk-label input.sk-toggleable__control:checked~label.sk-toggleable__label {background-color: #d4ebff;}#sk-container-id-6 input.sk-hidden--visually {border: 0;clip: rect(1px 1px 1px 1px);clip: rect(1px, 1px, 1px, 1px);height: 1px;margin: -1px;overflow: hidden;padding: 0;position: absolute;width: 1px;}#sk-container-id-6 div.sk-estimator {font-family: monospace;background-color: #f0f8ff;border: 1px dotted black;border-radius: 0.25em;box-sizing: border-box;margin-bottom: 0.5em;}#sk-container-id-6 div.sk-estimator:hover {background-color: #d4ebff;}#sk-container-id-6 div.sk-parallel-item::after {content: \"\";width: 100%;border-bottom: 1px solid gray;flex-grow: 1;}#sk-container-id-6 div.sk-label:hover label.sk-toggleable__label {background-color: #d4ebff;}#sk-container-id-6 div.sk-serial::before {content: \"\";position: absolute;border-left: 1px solid gray;box-sizing: border-box;top: 0;bottom: 0;left: 50%;z-index: 0;}#sk-container-id-6 div.sk-serial {display: flex;flex-direction: column;align-items: center;background-color: white;padding-right: 0.2em;padding-left: 0.2em;position: relative;}#sk-container-id-6 div.sk-item {position: relative;z-index: 1;}#sk-container-id-6 div.sk-parallel {display: flex;align-items: stretch;justify-content: center;background-color: white;position: relative;}#sk-container-id-6 div.sk-item::before, #sk-container-id-6 div.sk-parallel-item::before {content: \"\";position: absolute;border-left: 1px solid gray;box-sizing: border-box;top: 0;bottom: 0;left: 50%;z-index: -1;}#sk-container-id-6 div.sk-parallel-item {display: flex;flex-direction: column;z-index: 1;position: relative;background-color: white;}#sk-container-id-6 div.sk-parallel-item:first-child::after {align-self: flex-end;width: 50%;}#sk-container-id-6 div.sk-parallel-item:last-child::after {align-self: flex-start;width: 50%;}#sk-container-id-6 div.sk-parallel-item:only-child::after {width: 0;}#sk-container-id-6 div.sk-dashed-wrapped {border: 1px dashed gray;margin: 0 0.4em 0.5em 0.4em;box-sizing: border-box;padding-bottom: 0.4em;background-color: white;}#sk-container-id-6 div.sk-label label {font-family: monospace;font-weight: bold;display: inline-block;line-height: 1.2em;}#sk-container-id-6 div.sk-label-container {text-align: center;}#sk-container-id-6 div.sk-container {/* jupyter's `normalize.less` sets `[hidden] { display: none; }` but bootstrap.min.css set `[hidden] { display: none !important; }` so we also need the `!important` here to be able to override the default hidden behavior on the sphinx rendered scikit-learn.org. See: https://github.com/scikit-learn/scikit-learn/issues/21755 */display: inline-block !important;position: relative;}#sk-container-id-6 div.sk-text-repr-fallback {display: none;}</style><div id=\"sk-container-id-6\" class=\"sk-top-container\"><div class=\"sk-text-repr-fallback\"><pre>GridSearchCV(estimator=Lasso(tol=0.01),\n",
       "             param_grid={&#x27;alpha&#x27;: [0.005, 0.01, 0.05, 0.1, 0.7]},\n",
       "             scoring=&#x27;neg_mean_squared_error&#x27;)</pre><b>In a Jupyter environment, please rerun this cell to show the HTML representation or trust the notebook. <br />On GitHub, the HTML representation is unable to render, please try loading this page with nbviewer.org.</b></div><div class=\"sk-container\" hidden><div class=\"sk-item sk-dashed-wrapped\"><div class=\"sk-label-container\"><div class=\"sk-label sk-toggleable\"><input class=\"sk-toggleable__control sk-hidden--visually\" id=\"sk-estimator-id-15\" type=\"checkbox\" ><label for=\"sk-estimator-id-15\" class=\"sk-toggleable__label sk-toggleable__label-arrow\">GridSearchCV</label><div class=\"sk-toggleable__content\"><pre>GridSearchCV(estimator=Lasso(tol=0.01),\n",
       "             param_grid={&#x27;alpha&#x27;: [0.005, 0.01, 0.05, 0.1, 0.7]},\n",
       "             scoring=&#x27;neg_mean_squared_error&#x27;)</pre></div></div></div><div class=\"sk-parallel\"><div class=\"sk-parallel-item\"><div class=\"sk-item\"><div class=\"sk-label-container\"><div class=\"sk-label sk-toggleable\"><input class=\"sk-toggleable__control sk-hidden--visually\" id=\"sk-estimator-id-16\" type=\"checkbox\" ><label for=\"sk-estimator-id-16\" class=\"sk-toggleable__label sk-toggleable__label-arrow\">estimator: Lasso</label><div class=\"sk-toggleable__content\"><pre>Lasso(tol=0.01)</pre></div></div></div><div class=\"sk-serial\"><div class=\"sk-item\"><div class=\"sk-estimator sk-toggleable\"><input class=\"sk-toggleable__control sk-hidden--visually\" id=\"sk-estimator-id-17\" type=\"checkbox\" ><label for=\"sk-estimator-id-17\" class=\"sk-toggleable__label sk-toggleable__label-arrow\">Lasso</label><div class=\"sk-toggleable__content\"><pre>Lasso(tol=0.01)</pre></div></div></div></div></div></div></div></div></div></div>"
      ],
      "text/plain": [
       "GridSearchCV(estimator=Lasso(tol=0.01),\n",
       "             param_grid={'alpha': [0.005, 0.01, 0.05, 0.1, 0.7]},\n",
       "             scoring='neg_mean_squared_error')"
      ]
     },
     "execution_count": 274,
     "metadata": {},
     "output_type": "execute_result"
    }
   ],
   "source": [
    "clf = Lasso(tol=1e-2) # need to decrease tolerance because of convergence errors\n",
    "parameters = {'alpha':[0.005, 0.01, 0.05, 0.1, 0.7]}\n",
    "lassoregr = GridSearchCV(clf, parameters, scoring='neg_mean_squared_error')\n",
    "lassoregr.fit(X_train_scaled, y_train)"
   ]
  },
  {
   "cell_type": "code",
   "execution_count": 275,
   "metadata": {},
   "outputs": [],
   "source": [
    "# Let's get predictions\n",
    "y_pred = lassoregr.predict(X_test_scaled)\n",
    "\n",
    "mae_lasso = metrics.mean_absolute_error(y_test, y_pred)\n",
    "mse_lasso = metrics.mean_squared_error(y_test, y_pred)\n",
    "rmse_lasso = np.sqrt(metrics.mean_squared_error(y_test, y_pred))"
   ]
  },
  {
   "cell_type": "code",
   "execution_count": 276,
   "metadata": {},
   "outputs": [
    {
     "name": "stdout",
     "output_type": "stream",
     "text": [
      "{'alpha': 0.05}\n",
      "Mean Absolute Error: 0.2850011693856999\n",
      "Mean Squared Error: 0.24424721888182094\n",
      "Root Mean Squared Error: 0.49421373805451924\n"
     ]
    }
   ],
   "source": [
    "print(lassoregr.best_params_)\n",
    "print('Mean Absolute Error:', mae_lasso)  \n",
    "print('Mean Squared Error:', mse_lasso)  \n",
    "print('Root Mean Squared Error:', rmse_lasso)"
   ]
  },
  {
   "cell_type": "markdown",
   "metadata": {},
   "source": [
    "## PCA"
   ]
  },
  {
   "cell_type": "code",
   "execution_count": 277,
   "metadata": {},
   "outputs": [
    {
     "data": {
      "text/html": [
       "<style>#sk-container-id-7 {color: black;}#sk-container-id-7 pre{padding: 0;}#sk-container-id-7 div.sk-toggleable {background-color: white;}#sk-container-id-7 label.sk-toggleable__label {cursor: pointer;display: block;width: 100%;margin-bottom: 0;padding: 0.3em;box-sizing: border-box;text-align: center;}#sk-container-id-7 label.sk-toggleable__label-arrow:before {content: \"▸\";float: left;margin-right: 0.25em;color: #696969;}#sk-container-id-7 label.sk-toggleable__label-arrow:hover:before {color: black;}#sk-container-id-7 div.sk-estimator:hover label.sk-toggleable__label-arrow:before {color: black;}#sk-container-id-7 div.sk-toggleable__content {max-height: 0;max-width: 0;overflow: hidden;text-align: left;background-color: #f0f8ff;}#sk-container-id-7 div.sk-toggleable__content pre {margin: 0.2em;color: black;border-radius: 0.25em;background-color: #f0f8ff;}#sk-container-id-7 input.sk-toggleable__control:checked~div.sk-toggleable__content {max-height: 200px;max-width: 100%;overflow: auto;}#sk-container-id-7 input.sk-toggleable__control:checked~label.sk-toggleable__label-arrow:before {content: \"▾\";}#sk-container-id-7 div.sk-estimator input.sk-toggleable__control:checked~label.sk-toggleable__label {background-color: #d4ebff;}#sk-container-id-7 div.sk-label input.sk-toggleable__control:checked~label.sk-toggleable__label {background-color: #d4ebff;}#sk-container-id-7 input.sk-hidden--visually {border: 0;clip: rect(1px 1px 1px 1px);clip: rect(1px, 1px, 1px, 1px);height: 1px;margin: -1px;overflow: hidden;padding: 0;position: absolute;width: 1px;}#sk-container-id-7 div.sk-estimator {font-family: monospace;background-color: #f0f8ff;border: 1px dotted black;border-radius: 0.25em;box-sizing: border-box;margin-bottom: 0.5em;}#sk-container-id-7 div.sk-estimator:hover {background-color: #d4ebff;}#sk-container-id-7 div.sk-parallel-item::after {content: \"\";width: 100%;border-bottom: 1px solid gray;flex-grow: 1;}#sk-container-id-7 div.sk-label:hover label.sk-toggleable__label {background-color: #d4ebff;}#sk-container-id-7 div.sk-serial::before {content: \"\";position: absolute;border-left: 1px solid gray;box-sizing: border-box;top: 0;bottom: 0;left: 50%;z-index: 0;}#sk-container-id-7 div.sk-serial {display: flex;flex-direction: column;align-items: center;background-color: white;padding-right: 0.2em;padding-left: 0.2em;position: relative;}#sk-container-id-7 div.sk-item {position: relative;z-index: 1;}#sk-container-id-7 div.sk-parallel {display: flex;align-items: stretch;justify-content: center;background-color: white;position: relative;}#sk-container-id-7 div.sk-item::before, #sk-container-id-7 div.sk-parallel-item::before {content: \"\";position: absolute;border-left: 1px solid gray;box-sizing: border-box;top: 0;bottom: 0;left: 50%;z-index: -1;}#sk-container-id-7 div.sk-parallel-item {display: flex;flex-direction: column;z-index: 1;position: relative;background-color: white;}#sk-container-id-7 div.sk-parallel-item:first-child::after {align-self: flex-end;width: 50%;}#sk-container-id-7 div.sk-parallel-item:last-child::after {align-self: flex-start;width: 50%;}#sk-container-id-7 div.sk-parallel-item:only-child::after {width: 0;}#sk-container-id-7 div.sk-dashed-wrapped {border: 1px dashed gray;margin: 0 0.4em 0.5em 0.4em;box-sizing: border-box;padding-bottom: 0.4em;background-color: white;}#sk-container-id-7 div.sk-label label {font-family: monospace;font-weight: bold;display: inline-block;line-height: 1.2em;}#sk-container-id-7 div.sk-label-container {text-align: center;}#sk-container-id-7 div.sk-container {/* jupyter's `normalize.less` sets `[hidden] { display: none; }` but bootstrap.min.css set `[hidden] { display: none !important; }` so we also need the `!important` here to be able to override the default hidden behavior on the sphinx rendered scikit-learn.org. See: https://github.com/scikit-learn/scikit-learn/issues/21755 */display: inline-block !important;position: relative;}#sk-container-id-7 div.sk-text-repr-fallback {display: none;}</style><div id=\"sk-container-id-7\" class=\"sk-top-container\"><div class=\"sk-text-repr-fallback\"><pre>GridSearchCV(estimator=Pipeline(steps=[(&#x27;pca&#x27;, PCA()),\n",
       "                                       (&#x27;linreg&#x27;, LinearRegression())]),\n",
       "             param_grid={&#x27;pca__n_components&#x27;: [2, 5, 10, 15, 20]},\n",
       "             scoring=&#x27;neg_mean_squared_error&#x27;)</pre><b>In a Jupyter environment, please rerun this cell to show the HTML representation or trust the notebook. <br />On GitHub, the HTML representation is unable to render, please try loading this page with nbviewer.org.</b></div><div class=\"sk-container\" hidden><div class=\"sk-item sk-dashed-wrapped\"><div class=\"sk-label-container\"><div class=\"sk-label sk-toggleable\"><input class=\"sk-toggleable__control sk-hidden--visually\" id=\"sk-estimator-id-18\" type=\"checkbox\" ><label for=\"sk-estimator-id-18\" class=\"sk-toggleable__label sk-toggleable__label-arrow\">GridSearchCV</label><div class=\"sk-toggleable__content\"><pre>GridSearchCV(estimator=Pipeline(steps=[(&#x27;pca&#x27;, PCA()),\n",
       "                                       (&#x27;linreg&#x27;, LinearRegression())]),\n",
       "             param_grid={&#x27;pca__n_components&#x27;: [2, 5, 10, 15, 20]},\n",
       "             scoring=&#x27;neg_mean_squared_error&#x27;)</pre></div></div></div><div class=\"sk-parallel\"><div class=\"sk-parallel-item\"><div class=\"sk-item\"><div class=\"sk-label-container\"><div class=\"sk-label sk-toggleable\"><input class=\"sk-toggleable__control sk-hidden--visually\" id=\"sk-estimator-id-19\" type=\"checkbox\" ><label for=\"sk-estimator-id-19\" class=\"sk-toggleable__label sk-toggleable__label-arrow\">estimator: Pipeline</label><div class=\"sk-toggleable__content\"><pre>Pipeline(steps=[(&#x27;pca&#x27;, PCA()), (&#x27;linreg&#x27;, LinearRegression())])</pre></div></div></div><div class=\"sk-serial\"><div class=\"sk-item\"><div class=\"sk-serial\"><div class=\"sk-item\"><div class=\"sk-estimator sk-toggleable\"><input class=\"sk-toggleable__control sk-hidden--visually\" id=\"sk-estimator-id-20\" type=\"checkbox\" ><label for=\"sk-estimator-id-20\" class=\"sk-toggleable__label sk-toggleable__label-arrow\">PCA</label><div class=\"sk-toggleable__content\"><pre>PCA()</pre></div></div></div><div class=\"sk-item\"><div class=\"sk-estimator sk-toggleable\"><input class=\"sk-toggleable__control sk-hidden--visually\" id=\"sk-estimator-id-21\" type=\"checkbox\" ><label for=\"sk-estimator-id-21\" class=\"sk-toggleable__label sk-toggleable__label-arrow\">LinearRegression</label><div class=\"sk-toggleable__content\"><pre>LinearRegression()</pre></div></div></div></div></div></div></div></div></div></div></div></div>"
      ],
      "text/plain": [
       "GridSearchCV(estimator=Pipeline(steps=[('pca', PCA()),\n",
       "                                       ('linreg', LinearRegression())]),\n",
       "             param_grid={'pca__n_components': [2, 5, 10, 15, 20]},\n",
       "             scoring='neg_mean_squared_error')"
      ]
     },
     "execution_count": 277,
     "metadata": {},
     "output_type": "execute_result"
    }
   ],
   "source": [
    "clf = Pipeline([(\"pca\", PCA()), (\"linreg\", LinearRegression())])\n",
    "parameters = {'pca__n_components':[2, 5, 10, 15, 20]}\n",
    "pcr = GridSearchCV(clf, parameters, scoring='neg_mean_squared_error')\n",
    "pcr.fit(X_train_scaled, y_train)"
   ]
  },
  {
   "cell_type": "code",
   "execution_count": 278,
   "metadata": {},
   "outputs": [
    {
     "data": {
      "text/plain": [
       "{'pca__n_components': 20}"
      ]
     },
     "execution_count": 278,
     "metadata": {},
     "output_type": "execute_result"
    }
   ],
   "source": [
    "pcr.best_params_"
   ]
  },
  {
   "cell_type": "code",
   "execution_count": 279,
   "metadata": {},
   "outputs": [],
   "source": [
    "# Let's get predictions\n",
    "y_pred = pcr.predict(X_test_scaled)\n",
    "\n",
    "mae_pcr = metrics.mean_absolute_error(y_test, y_pred)\n",
    "mse_pcr = metrics.mean_squared_error(y_test, y_pred)\n",
    "rmse_pcr = np.sqrt(metrics.mean_squared_error(y_test, y_pred))"
   ]
  },
  {
   "cell_type": "code",
   "execution_count": 280,
   "metadata": {},
   "outputs": [
    {
     "name": "stdout",
     "output_type": "stream",
     "text": [
      "Mean Absolute Error: 0.28934084700963786\n",
      "Mean Squared Error: 0.25028857130061316\n",
      "Root Mean Squared Error: 0.5002884880752436\n"
     ]
    }
   ],
   "source": [
    "print('Mean Absolute Error:', mae_pcr)\n",
    "print('Mean Squared Error:', mse_pcr)  \n",
    "print('Root Mean Squared Error:', rmse_pcr)"
   ]
  },
  {
   "cell_type": "markdown",
   "metadata": {},
   "source": [
    "## PLS"
   ]
  },
  {
   "cell_type": "code",
   "execution_count": 281,
   "metadata": {},
   "outputs": [],
   "source": [
    "clf = PLSRegression()\n",
    "parameters = {'n_components':[2, 5, 10, 15, 20]}\n",
    "pls = GridSearchCV(clf, parameters, scoring='neg_mean_squared_error')\n",
    "pls.fit(X_train_scaled, y_train)\n",
    "\n",
    "# Let's get predictions\n",
    "y_pred = pls.predict(X_test_scaled)\n",
    "\n",
    "mae_pls = metrics.mean_absolute_error(y_test, y_pred)\n",
    "mse_pls = metrics.mean_squared_error(y_test, y_pred)\n",
    "rmse_pls = np.sqrt(metrics.mean_squared_error(y_test, y_pred))"
   ]
  },
  {
   "cell_type": "code",
   "execution_count": 282,
   "metadata": {},
   "outputs": [
    {
     "name": "stdout",
     "output_type": "stream",
     "text": [
      "{'n_components': 10}\n",
      "Mean Absolute Error: 0.28643671212375305\n",
      "Mean Squared Error: 0.24936997211729484\n",
      "Root Mean Squared Error: 0.4993695746812123\n"
     ]
    }
   ],
   "source": [
    "print(pls.best_params_)\n",
    "print('Mean Absolute Error:', mae_pls)\n",
    "print('Mean Squared Error:', mse_pls)  \n",
    "print('Root Mean Squared Error:', rmse_pls)"
   ]
  },
  {
   "cell_type": "markdown",
   "metadata": {},
   "source": [
    "### Model Comparison"
   ]
  },
  {
   "cell_type": "code",
   "execution_count": 283,
   "metadata": {},
   "outputs": [
    {
     "data": {
      "text/html": [
       "<div>\n",
       "<style scoped>\n",
       "    .dataframe tbody tr th:only-of-type {\n",
       "        vertical-align: middle;\n",
       "    }\n",
       "\n",
       "    .dataframe tbody tr th {\n",
       "        vertical-align: top;\n",
       "    }\n",
       "\n",
       "    .dataframe thead th {\n",
       "        text-align: right;\n",
       "    }\n",
       "</style>\n",
       "<table border=\"1\" class=\"dataframe\">\n",
       "  <thead>\n",
       "    <tr style=\"text-align: right;\">\n",
       "      <th></th>\n",
       "      <th>models</th>\n",
       "      <th>mse</th>\n",
       "      <th>rmse</th>\n",
       "      <th>mae</th>\n",
       "    </tr>\n",
       "  </thead>\n",
       "  <tbody>\n",
       "    <tr>\n",
       "      <th>1</th>\n",
       "      <td>Lasso</td>\n",
       "      <td>0.24</td>\n",
       "      <td>0.49</td>\n",
       "      <td>0.29</td>\n",
       "    </tr>\n",
       "    <tr>\n",
       "      <th>4</th>\n",
       "      <td>PLS</td>\n",
       "      <td>0.25</td>\n",
       "      <td>0.50</td>\n",
       "      <td>0.29</td>\n",
       "    </tr>\n",
       "    <tr>\n",
       "      <th>3</th>\n",
       "      <td>PCA with Lin. Regression</td>\n",
       "      <td>0.25</td>\n",
       "      <td>0.50</td>\n",
       "      <td>0.29</td>\n",
       "    </tr>\n",
       "    <tr>\n",
       "      <th>0</th>\n",
       "      <td>MLP</td>\n",
       "      <td>0.39</td>\n",
       "      <td>0.63</td>\n",
       "      <td>0.44</td>\n",
       "    </tr>\n",
       "    <tr>\n",
       "      <th>2</th>\n",
       "      <td>Ridge</td>\n",
       "      <td>1.28</td>\n",
       "      <td>1.13</td>\n",
       "      <td>0.71</td>\n",
       "    </tr>\n",
       "  </tbody>\n",
       "</table>\n",
       "</div>"
      ],
      "text/plain": [
       "                     models   mse  rmse   mae\n",
       "1                     Lasso  0.24  0.49  0.29\n",
       "4                       PLS  0.25  0.50  0.29\n",
       "3  PCA with Lin. Regression  0.25  0.50  0.29\n",
       "0                       MLP  0.39  0.63  0.44\n",
       "2                     Ridge  1.28  1.13  0.71"
      ]
     },
     "execution_count": 283,
     "metadata": {},
     "output_type": "execute_result"
    }
   ],
   "source": [
    "# create dataframe to compare outputs\n",
    "model_comp = pd.DataFrame({'models': ['MLP', 'Lasso', 'Ridge', 'PCA with Lin. Regression', 'PLS'],\n",
    "             'mse': [mse_mlp, mse_lasso, mse_ridge, mse_pcr, mse_pls],\n",
    "             'rmse': [rmse_mlp, rmse_lasso, rmse_ridge, rmse_pcr, rmse_pls],\n",
    "             'mae': [mae_mlp, mae_lasso, mae_ridge, mae_pcr, mae_pls]}).sort_values('mse', ascending=True).round(2)\n",
    "model_comp"
   ]
  },
  {
   "cell_type": "code",
   "execution_count": 284,
   "metadata": {},
   "outputs": [
    {
     "name": "stdout",
     "output_type": "stream",
     "text": [
      "\\begin{tabular}{llrrr}\n",
      "\\toprule\n",
      " & models & mse & rmse & mae \\\\\n",
      "\\midrule\n",
      "1 & Lasso & 0.240000 & 0.490000 & 0.290000 \\\\\n",
      "4 & PLS & 0.250000 & 0.500000 & 0.290000 \\\\\n",
      "3 & PCA with Lin. Regression & 0.250000 & 0.500000 & 0.290000 \\\\\n",
      "0 & MLP & 0.390000 & 0.630000 & 0.440000 \\\\\n",
      "2 & Ridge & 1.280000 & 1.130000 & 0.710000 \\\\\n",
      "\\bottomrule\n",
      "\\end{tabular}\n",
      "\n"
     ]
    }
   ],
   "source": [
    "print(model_comp.to_latex())"
   ]
  },
  {
   "cell_type": "markdown",
   "metadata": {},
   "source": [
    "## Redo Threshold Algorithm with Weights"
   ]
  },
  {
   "cell_type": "code",
   "execution_count": 285,
   "metadata": {},
   "outputs": [
    {
     "data": {
      "text/html": [
       "<style>#sk-container-id-8 {color: black;}#sk-container-id-8 pre{padding: 0;}#sk-container-id-8 div.sk-toggleable {background-color: white;}#sk-container-id-8 label.sk-toggleable__label {cursor: pointer;display: block;width: 100%;margin-bottom: 0;padding: 0.3em;box-sizing: border-box;text-align: center;}#sk-container-id-8 label.sk-toggleable__label-arrow:before {content: \"▸\";float: left;margin-right: 0.25em;color: #696969;}#sk-container-id-8 label.sk-toggleable__label-arrow:hover:before {color: black;}#sk-container-id-8 div.sk-estimator:hover label.sk-toggleable__label-arrow:before {color: black;}#sk-container-id-8 div.sk-toggleable__content {max-height: 0;max-width: 0;overflow: hidden;text-align: left;background-color: #f0f8ff;}#sk-container-id-8 div.sk-toggleable__content pre {margin: 0.2em;color: black;border-radius: 0.25em;background-color: #f0f8ff;}#sk-container-id-8 input.sk-toggleable__control:checked~div.sk-toggleable__content {max-height: 200px;max-width: 100%;overflow: auto;}#sk-container-id-8 input.sk-toggleable__control:checked~label.sk-toggleable__label-arrow:before {content: \"▾\";}#sk-container-id-8 div.sk-estimator input.sk-toggleable__control:checked~label.sk-toggleable__label {background-color: #d4ebff;}#sk-container-id-8 div.sk-label input.sk-toggleable__control:checked~label.sk-toggleable__label {background-color: #d4ebff;}#sk-container-id-8 input.sk-hidden--visually {border: 0;clip: rect(1px 1px 1px 1px);clip: rect(1px, 1px, 1px, 1px);height: 1px;margin: -1px;overflow: hidden;padding: 0;position: absolute;width: 1px;}#sk-container-id-8 div.sk-estimator {font-family: monospace;background-color: #f0f8ff;border: 1px dotted black;border-radius: 0.25em;box-sizing: border-box;margin-bottom: 0.5em;}#sk-container-id-8 div.sk-estimator:hover {background-color: #d4ebff;}#sk-container-id-8 div.sk-parallel-item::after {content: \"\";width: 100%;border-bottom: 1px solid gray;flex-grow: 1;}#sk-container-id-8 div.sk-label:hover label.sk-toggleable__label {background-color: #d4ebff;}#sk-container-id-8 div.sk-serial::before {content: \"\";position: absolute;border-left: 1px solid gray;box-sizing: border-box;top: 0;bottom: 0;left: 50%;z-index: 0;}#sk-container-id-8 div.sk-serial {display: flex;flex-direction: column;align-items: center;background-color: white;padding-right: 0.2em;padding-left: 0.2em;position: relative;}#sk-container-id-8 div.sk-item {position: relative;z-index: 1;}#sk-container-id-8 div.sk-parallel {display: flex;align-items: stretch;justify-content: center;background-color: white;position: relative;}#sk-container-id-8 div.sk-item::before, #sk-container-id-8 div.sk-parallel-item::before {content: \"\";position: absolute;border-left: 1px solid gray;box-sizing: border-box;top: 0;bottom: 0;left: 50%;z-index: -1;}#sk-container-id-8 div.sk-parallel-item {display: flex;flex-direction: column;z-index: 1;position: relative;background-color: white;}#sk-container-id-8 div.sk-parallel-item:first-child::after {align-self: flex-end;width: 50%;}#sk-container-id-8 div.sk-parallel-item:last-child::after {align-self: flex-start;width: 50%;}#sk-container-id-8 div.sk-parallel-item:only-child::after {width: 0;}#sk-container-id-8 div.sk-dashed-wrapped {border: 1px dashed gray;margin: 0 0.4em 0.5em 0.4em;box-sizing: border-box;padding-bottom: 0.4em;background-color: white;}#sk-container-id-8 div.sk-label label {font-family: monospace;font-weight: bold;display: inline-block;line-height: 1.2em;}#sk-container-id-8 div.sk-label-container {text-align: center;}#sk-container-id-8 div.sk-container {/* jupyter's `normalize.less` sets `[hidden] { display: none; }` but bootstrap.min.css set `[hidden] { display: none !important; }` so we also need the `!important` here to be able to override the default hidden behavior on the sphinx rendered scikit-learn.org. See: https://github.com/scikit-learn/scikit-learn/issues/21755 */display: inline-block !important;position: relative;}#sk-container-id-8 div.sk-text-repr-fallback {display: none;}</style><div id=\"sk-container-id-8\" class=\"sk-top-container\"><div class=\"sk-text-repr-fallback\"><pre>Lasso(alpha=0.01)</pre><b>In a Jupyter environment, please rerun this cell to show the HTML representation or trust the notebook. <br />On GitHub, the HTML representation is unable to render, please try loading this page with nbviewer.org.</b></div><div class=\"sk-container\" hidden><div class=\"sk-item\"><div class=\"sk-estimator sk-toggleable\"><input class=\"sk-toggleable__control sk-hidden--visually\" id=\"sk-estimator-id-22\" type=\"checkbox\" checked><label for=\"sk-estimator-id-22\" class=\"sk-toggleable__label sk-toggleable__label-arrow\">Lasso</label><div class=\"sk-toggleable__content\"><pre>Lasso(alpha=0.01)</pre></div></div></div></div></div>"
      ],
      "text/plain": [
       "Lasso(alpha=0.01)"
      ]
     },
     "execution_count": 285,
     "metadata": {},
     "output_type": "execute_result"
    }
   ],
   "source": [
    "# select best model and refit with all data\n",
    "# try with PCA and lin regression\n",
    "scaler = StandardScaler()\n",
    "X_scaled = scaler.fit_transform(X.drop('lexisCite', axis=1))\n",
    "\n",
    "clf_bestmodel = Lasso(alpha=0.01)\n",
    "clf_bestmodel.fit(X_scaled, y.drop('lexisCite', axis=1)[['SAAlito', 'JGRoberts', 'SSotomayor']])"
   ]
  },
  {
   "cell_type": "code",
   "execution_count": 286,
   "metadata": {},
   "outputs": [
    {
     "data": {
      "text/plain": [
       "array([[ 0.01946966,  0.00721592, -0.00547483],\n",
       "       [-0.01385365, -0.02908664, -0.01254925],\n",
       "       [ 0.01946966,  0.01269715, -0.00547483],\n",
       "       ...,\n",
       "       [ 0.57279981,  0.57279981,  0.57279981],\n",
       "       [ 0.1214305 ,  0.04599451, -0.00547483],\n",
       "       [ 0.57279981,  0.57279981,  0.57279981]])"
      ]
     },
     "execution_count": 286,
     "metadata": {},
     "output_type": "execute_result"
    }
   ],
   "source": [
    "y_pred = clf_bestmodel.predict(X_scaled)\n",
    "y_pred"
   ]
  },
  {
   "cell_type": "code",
   "execution_count": 287,
   "metadata": {},
   "outputs": [
    {
     "data": {
      "text/plain": [
       "((3, 13734), (3,), (1826, 13734))"
      ]
     },
     "execution_count": 287,
     "metadata": {},
     "output_type": "execute_result"
    }
   ],
   "source": [
    "clf_bestmodel.coef_.shape, clf_bestmodel.intercept_.shape, X_scaled.shape"
   ]
  },
  {
   "cell_type": "code",
   "execution_count": 288,
   "metadata": {},
   "outputs": [
    {
     "data": {
      "text/plain": [
       "array([[ 0.01946966,  0.00721592, -0.00547483],\n",
       "       [-0.01385365, -0.02908664, -0.01254925],\n",
       "       [ 0.01946966,  0.01269715, -0.00547483],\n",
       "       ...,\n",
       "       [ 0.57279981,  0.57279981,  0.57279981],\n",
       "       [ 0.1214305 ,  0.04599451, -0.00547483],\n",
       "       [ 0.57279981,  0.57279981,  0.57279981]])"
      ]
     },
     "execution_count": 288,
     "metadata": {},
     "output_type": "execute_result"
    }
   ],
   "source": [
    "np.matmul(X_scaled, np.transpose(clf_bestmodel.coef_)) + clf_bestmodel.intercept_ # these are the weights"
   ]
  },
  {
   "cell_type": "code",
   "execution_count": 289,
   "metadata": {},
   "outputs": [],
   "source": [
    "def learningWeightedThresholds(judge_name, y_real, y_pred, iter=100):\n",
    "    # initialize lower and upper bounds of thresholds\n",
    "    judge_threshold_min = [0]\n",
    "    judge_threshold_max = [1]\n",
    "\n",
    "    observed_thresholds = []\n",
    "    cons_votes = []\n",
    "    for i in range(min(iter, y_real.shape[0])):\n",
    "        observed_threshold = y_pred[i]\n",
    "        judge_vote = y_real[i]\n",
    "        if judge_vote == -1:\n",
    "            judge_threshold_min += [max(observed_threshold, max(judge_threshold_min))]\n",
    "            judge_threshold_max += [min(judge_threshold_max)]\n",
    "            cons_votes += [False]\n",
    "        else:\n",
    "            judge_threshold_min += [max(judge_threshold_min)]\n",
    "            judge_threshold_max += [min(observed_threshold, min(judge_threshold_max))]\n",
    "            cons_votes += [True]\n",
    "        observed_thresholds += [observed_threshold]\n",
    "\n",
    "    return (judge_threshold_min, judge_threshold_max, observed_thresholds, cons_votes)"
   ]
  },
  {
   "cell_type": "code",
   "execution_count": 290,
   "metadata": {},
   "outputs": [],
   "source": [
    "def plotWeightedAmicusThresholds(df, selected_judge, weighted=False):\n",
    "    df = df.sort_values('observed_thresholds', ascending=False).reset_index(drop=True)\n",
    "    \n",
    "    # plot data of thresholds\n",
    "    plt.scatter(df.loc[df['votes']==True].index,\n",
    "                df.loc[df['votes']==True, 'observed_thresholds'],\n",
    "            color = red_fill)\n",
    "    plt.scatter(df.loc[df['votes']==False].index,\n",
    "                df.loc[df['votes']==False, 'observed_thresholds'],\n",
    "                color = green_fill,\n",
    "                alpha=1)\n",
    "    plt.legend([\"conservative\", \"liberal\"], bbox_to_anchor=(0.7, -0.15))\n",
    "    plt.xticks(\n",
    "        np.arange(0, len(judge_threshold_min), 10)\n",
    "    )\n",
    "    plt.ylabel('Weighted threshold)')\n",
    "    plt.xlabel('Number of cases observed')\n",
    "    plt.savefig(f'./plots/{selected_judge}_weighted_threshold.pdf', bbox_inches='tight')"
   ]
  },
  {
   "cell_type": "code",
   "execution_count": 291,
   "metadata": {},
   "outputs": [
    {
     "data": {
      "image/png": "[encoded data removed]",
      "text/plain": [
       "<Figure size 640x480 with 1 Axes>"
      ]
     },
     "metadata": {},
     "output_type": "display_data"
    },
    {
     "data": {
      "image/png": "[encoded data removed]",
      "text/plain": [
       "<Figure size 640x480 with 1 Axes>"
      ]
     },
     "metadata": {},
     "output_type": "display_data"
    },
    {
     "data": {
      "image/png": "[encoded data removed]",
      "text/plain": [
       "<Figure size 640x480 with 1 Axes>"
      ]
     },
     "metadata": {},
     "output_type": "display_data"
    }
   ],
   "source": [
    "# learn thresholds for each of the selected justices using the filtered data\n",
    "sel_justices_list = ['SAAlito', 'JGRoberts', 'SSotomayor']\n",
    "\n",
    "for i in range(len(sel_justices_list)):\n",
    "    # identify cases for only this justice\n",
    "    justice_name = sel_justices_list[i]\n",
    "    # learn the threshold (i.e., apply the threshold alg)\n",
    "    y_real = y[justice_name][y[justice_name] != 0].values\n",
    "    y_pred_justice = y_pred[:,i][y[justice_name] != 0]\n",
    "    judge_threshold_min, judge_threshold_max, observed_thresholds, cons_votes = learningWeightedThresholds(i, y_real, \n",
    "                                                                                                           y_pred_justice)\n",
    "    # plot data\n",
    "    df_plot = pd.DataFrame({'observed_thresholds': observed_thresholds, 'votes': cons_votes})\n",
    "    plotWeightedAmicusThresholds(df_plot, justice_name, weighted=True)\n",
    "    plt.show()"
   ]
  },
  {
   "cell_type": "markdown",
   "metadata": {},
   "source": [
    "## Running the Baseline Weight-Predicting Model"
   ]
  },
  {
   "cell_type": "code",
   "execution_count": 292,
   "metadata": {},
   "outputs": [
    {
     "data": {
      "text/plain": [
       "<networkx.classes.multidigraph.MultiDiGraph at 0x14056a750>"
      ]
     },
     "execution_count": 292,
     "metadata": {},
     "output_type": "execute_result"
    }
   ],
   "source": [
    "def plotBaselineWeightedAmicusThresholds(df, selected_judge, weighted=False):\n",
    "    df = df.sort_values('observed_thresholds', ascending=False).reset_index(drop=True)\n",
    "    \n",
    "    # plot data of thresholds\n",
    "    plt.scatter(df.loc[df['votes']==True].index,\n",
    "                df.loc[df['votes']==True, 'observed_thresholds'],\n",
    "            color = red_fill)\n",
    "    plt.scatter(df.loc[df['votes']==False].index,\n",
    "                df.loc[df['votes']==False, 'observed_thresholds'],\n",
    "                color = green_fill,\n",
    "                alpha=1)\n",
    "    plt.legend([\"conservative\", \"liberal\"], bbox_to_anchor=(0.7, -0.15))\n",
    "    plt.xticks(\n",
    "        np.arange(0, len(judge_threshold_min), 10)\n",
    "    )\n",
    "    plt.ylabel('Weighted threshold)')\n",
    "    plt.xlabel('Number of cases observed')\n",
    "    plt.savefig(f'./plots/{selected_judge}_baseline_weighted_threshold.pdf', bbox_inches='tight')"
   ]
  },
  {
   "cell_type": "code",
   "execution_count": 294,
   "metadata": {},
   "outputs": [
    {
     "data": {
      "text/plain": [
       "19309"
      ]
     },
     "execution_count": 294,
     "metadata": {},
     "output_type": "execute_result"
    }
   ],
   "source": [
    "# learn thresholds for each of the selected justices using the filtered data\n",
    "sel_justices_list = ['SAAlito', 'JGRoberts', 'SSotomayor']\n",
    "\n",
    "for i in range(len(sel_justices_list)):\n",
    "    # identify cases for only this justice\n",
    "    justice_name = sel_justices_list[i]\n",
    "    # learn the threshold (i.e., apply the threshold alg)\n",
    "\n",
    "    print(len(y_real))\n",
    "    y_real = y[justice_name][y[justice_name] != 0].values\n",
    "    justice_weight_matrix = overall_agreement(opinion_df, justice_name)\n",
    "    y_pred_justice = predict(justice_weight_matrix, opinion_df[amici_cols])[y[justice_name] != 0]\n",
    "\n",
    "    judge_threshold_min, judge_threshold_max, observed_thresholds, cons_votes = learningWeightedThresholds(i, y_real, \n",
    "                                                                                                           y_pred_justice)\n",
    "    # plot data\n",
    "    df_plot = pd.DataFrame({'observed_thresholds': observed_thresholds, 'votes': cons_votes})\n",
    "    plotBaselineWeightedAmicusThresholds(df_plot, justice_name, weighted=True)\n",
    "    plt.show();"
   ]
  },
  {
   "cell_type": "code",
   "execution_count": null,
   "metadata": {},
   "outputs": [],
   "source": []
  }
 ],
 "metadata": {
  "kernelspec": {
   "display_name": "base",
   "language": "python",
   "name": "python3"
  },
  "language_info": {
   "codemirror_mode": {
    "name": "ipython",
    "version": 3
   },
   "file_extension": ".py",
   "mimetype": "text/x-python",
   "name": "python",
   "nbconvert_exporter": "python",
   "pygments_lexer": "ipython3",
   "version": "3.11.6"
  }
 },
 "nbformat": 4,
 "nbformat_minor": 2
}
