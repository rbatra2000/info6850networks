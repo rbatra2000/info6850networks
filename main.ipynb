{
 "cells": [
  {
   "cell_type": "code",
   "execution_count": 291,
   "metadata": {},
   "outputs": [],
   "source": [
    "# import libraries\n",
    "import pandas as pd\n",
    "import networkx as nx\n",
    "from pyvis.network import Network\n",
    "import numpy as np\n",
    "import random\n",
    "import matplotlib.pyplot as plt\n",
    "\n",
    "# this is to mimic ggplot\n",
    "plt.rcParams['axes.spines.right'] = False\n",
    "plt.rcParams['axes.spines.top'] = False\n",
    "\n",
    "green_fill = '#DAF2C2'\n",
    "red_fill = '#FEB3B5'"
   ]
  },
  {
   "cell_type": "markdown",
   "metadata": {},
   "source": [
    "# Load Data and Create Network"
   ]
  },
  {
   "cell_type": "code",
   "execution_count": 292,
   "metadata": {},
   "outputs": [
    {
     "data": {
      "text/html": [
       "<div>\n",
       "<style scoped>\n",
       "    .dataframe tbody tr th:only-of-type {\n",
       "        vertical-align: middle;\n",
       "    }\n",
       "\n",
       "    .dataframe tbody tr th {\n",
       "        vertical-align: top;\n",
       "    }\n",
       "\n",
       "    .dataframe thead th {\n",
       "        text-align: right;\n",
       "    }\n",
       "</style>\n",
       "<table border=\"1\" class=\"dataframe\">\n",
       "  <thead>\n",
       "    <tr style=\"text-align: right;\">\n",
       "      <th></th>\n",
       "      <th>LexisCite</th>\n",
       "      <th>Position</th>\n",
       "      <th>AmicusName</th>\n",
       "    </tr>\n",
       "  </thead>\n",
       "  <tbody>\n",
       "    <tr>\n",
       "      <th>0</th>\n",
       "      <td>1953 U.S. LEXIS 2673</td>\n",
       "      <td>1</td>\n",
       "      <td>SECURITIES AND EXCHANGE COMMISSION</td>\n",
       "    </tr>\n",
       "    <tr>\n",
       "      <th>1</th>\n",
       "      <td>1953 U.S. LEXIS 2680</td>\n",
       "      <td>2</td>\n",
       "      <td>BOSTON AMERICAN LEAGUE BASE BALL COMPANY</td>\n",
       "    </tr>\n",
       "    <tr>\n",
       "      <th>2</th>\n",
       "      <td>1954 U.S. LEXIS 2094</td>\n",
       "      <td>1</td>\n",
       "      <td>AMERICAN FEDERATION OF TEACHERS</td>\n",
       "    </tr>\n",
       "    <tr>\n",
       "      <th>3</th>\n",
       "      <td>1954 U.S. LEXIS 2094</td>\n",
       "      <td>1</td>\n",
       "      <td>UNITED STATES</td>\n",
       "    </tr>\n",
       "    <tr>\n",
       "      <th>4</th>\n",
       "      <td>1954 U.S. LEXIS 2094</td>\n",
       "      <td>1</td>\n",
       "      <td>AMERICAN JEWISH CONGRESS</td>\n",
       "    </tr>\n",
       "  </tbody>\n",
       "</table>\n",
       "</div>"
      ],
      "text/plain": [
       "              LexisCite  Position                                AmicusName\n",
       "0  1953 U.S. LEXIS 2673         1        SECURITIES AND EXCHANGE COMMISSION\n",
       "1  1953 U.S. LEXIS 2680         2  BOSTON AMERICAN LEAGUE BASE BALL COMPANY\n",
       "2  1954 U.S. LEXIS 2094         1           AMERICAN FEDERATION OF TEACHERS\n",
       "3  1954 U.S. LEXIS 2094         1                             UNITED STATES\n",
       "4  1954 U.S. LEXIS 2094         1                  AMERICAN JEWISH CONGRESS"
      ]
     },
     "execution_count": 292,
     "metadata": {},
     "output_type": "execute_result"
    }
   ],
   "source": [
    "# now let's iterate through our amicus briefs and store the lexisCite, position, and amicus name\n",
    "# data from https://amicispace.ucmerced.edu/data\n",
    "amicus_briefs_csv = pd.read_csv(\"amicus_briefs.csv\", encoding=\"latin\")\n",
    "amicus_briefs_csv = amicus_briefs_csv[[\"LexisCite\", \"Position\", \"AmicusName\"]]\n",
    "amicus_briefs_csv.head(5)"
   ]
  },
  {
   "cell_type": "code",
   "execution_count": 293,
   "metadata": {},
   "outputs": [
    {
     "data": {
      "image/png": "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",
      "text/plain": [
       "<Figure size 640x480 with 1 Axes>"
      ]
     },
     "metadata": {},
     "output_type": "display_data"
    }
   ],
   "source": [
    "plt.hist(amicus_briefs_csv.groupby(\"LexisCite\")[\"Position\"].mean(), bins=100, color=green_fill)\n",
    "plt.ylabel(\"Average position per case\")\n",
    "plt.xlabel(\"Number of cases\")\n",
    "plt.savefig('./plots/average_position_distribution.pdf',  bbox_inches='tight');"
   ]
  },
  {
   "cell_type": "code",
   "execution_count": 294,
   "metadata": {},
   "outputs": [
    {
     "data": {
      "text/plain": [
       "0.007130397137654863"
      ]
     },
     "execution_count": 294,
     "metadata": {},
     "output_type": "execute_result"
    }
   ],
   "source": [
    "# some perfect duplicates -- drop?\n",
    "amicus_briefs_csv.duplicated().mean()"
   ]
  },
  {
   "cell_type": "code",
   "execution_count": 295,
   "metadata": {},
   "outputs": [],
   "source": [
    "# drop perfect duplicates\n",
    "amicus_briefs_csv = amicus_briefs_csv.drop_duplicates()"
   ]
  },
  {
   "cell_type": "code",
   "execution_count": 296,
   "metadata": {},
   "outputs": [
    {
     "data": {
      "text/plain": [
       "Position\n",
       "1    36942\n",
       "2    38977\n",
       "3     2058\n",
       "Name: count, dtype: int64"
      ]
     },
     "execution_count": 296,
     "metadata": {},
     "output_type": "execute_result"
    }
   ],
   "source": [
    "# position variable in amicus briefs\n",
    "# = 1 if the brief argues the lower court decision should be reversed\n",
    "# = 2 if lower court decision should be affirmed\n",
    "# = 3 if the brief explicitly does not adopt a position or the position is unclear\n",
    "amicus_briefs_csv[\"Position\"].value_counts().sort_index()"
   ]
  },
  {
   "cell_type": "code",
   "execution_count": 297,
   "metadata": {},
   "outputs": [
    {
     "data": {
      "text/plain": [
       "0.0"
      ]
     },
     "execution_count": 297,
     "metadata": {},
     "output_type": "execute_result"
    }
   ],
   "source": [
    "amicus_briefs_csv[\"Position\"].isna().mean()  # no missing values!"
   ]
  },
  {
   "cell_type": "code",
   "execution_count": 298,
   "metadata": {},
   "outputs": [
    {
     "name": "stderr",
     "output_type": "stream",
     "text": [
      "/var/folders/f0/6vfjbpt92xx7fmgtqc2lzy8w0000gn/T/ipykernel_7215/56783121.py:3: DtypeWarning: Columns (6,16) have mixed types. Specify dtype option on import or set low_memory=False.\n",
      "  justices_csv = pd.read_csv(\"justices.csv\", encoding=\"latin\")\n"
     ]
    },
    {
     "data": {
      "text/plain": [
       "Index(['caseId', 'docketId', 'caseIssuesId', 'voteId', 'dateDecision',\n",
       "       'decisionType', 'usCite', 'sctCite', 'ledCite', 'lexisCite', 'term',\n",
       "       'naturalCourt', 'chief', 'docket', 'caseName', 'dateArgument',\n",
       "       'dateRearg', 'petitioner', 'petitionerState', 'respondent',\n",
       "       'respondentState', 'jurisdiction', 'adminAction', 'adminActionState',\n",
       "       'threeJudgeFdc', 'caseOrigin', 'caseOriginState', 'caseSource',\n",
       "       'caseSourceState', 'lcDisagreement', 'certReason', 'lcDisposition',\n",
       "       'lcDispositionDirection', 'declarationUncon', 'caseDisposition',\n",
       "       'caseDispositionUnusual', 'partyWinning', 'precedentAlteration',\n",
       "       'voteUnclear', 'issue', 'issueArea', 'decisionDirection',\n",
       "       'decisionDirectionDissent', 'authorityDecision1', 'authorityDecision2',\n",
       "       'lawType', 'lawSupp', 'lawMinor', 'majOpinWriter', 'majOpinAssigner',\n",
       "       'splitVote', 'majVotes', 'minVotes', 'justice', 'justiceName', 'vote',\n",
       "       'opinion', 'direction', 'majority', 'firstAgreement',\n",
       "       'secondAgreement'],\n",
       "      dtype='object')"
      ]
     },
     "execution_count": 298,
     "metadata": {},
     "output_type": "execute_result"
    }
   ],
   "source": [
    "# let's now get the justices and their votes for each case (identified by LexisCite and caseName)\n",
    "# data from http://scdb.wustl.edu/documentation.php\n",
    "justices_csv = pd.read_csv(\"justices.csv\", encoding=\"latin\")\n",
    "justices_csv.columns"
   ]
  },
  {
   "cell_type": "code",
   "execution_count": 299,
   "metadata": {},
   "outputs": [
    {
     "data": {
      "text/plain": [
       "['lcDispositionDirection',\n",
       " 'decisionDirection',\n",
       " 'decisionDirectionDissent',\n",
       " 'direction']"
      ]
     },
     "execution_count": 299,
     "metadata": {},
     "output_type": "execute_result"
    }
   ],
   "source": [
    "[x for x in justices_csv.columns if \"direction\" in x.lower()]"
   ]
  },
  {
   "cell_type": "code",
   "execution_count": 300,
   "metadata": {},
   "outputs": [
    {
     "data": {
      "text/html": [
       "<div>\n",
       "<style scoped>\n",
       "    .dataframe tbody tr th:only-of-type {\n",
       "        vertical-align: middle;\n",
       "    }\n",
       "\n",
       "    .dataframe tbody tr th {\n",
       "        vertical-align: top;\n",
       "    }\n",
       "\n",
       "    .dataframe thead th {\n",
       "        text-align: right;\n",
       "    }\n",
       "</style>\n",
       "<table border=\"1\" class=\"dataframe\">\n",
       "  <thead>\n",
       "    <tr style=\"text-align: right;\">\n",
       "      <th></th>\n",
       "      <th>lexisCite</th>\n",
       "      <th>justiceName</th>\n",
       "      <th>vote</th>\n",
       "      <th>caseName</th>\n",
       "      <th>caseDisposition</th>\n",
       "      <th>lcDispositionDirection</th>\n",
       "      <th>decisionDirection</th>\n",
       "      <th>direction</th>\n",
       "    </tr>\n",
       "  </thead>\n",
       "  <tbody>\n",
       "    <tr>\n",
       "      <th>0</th>\n",
       "      <td>1946 U.S. LEXIS 1724</td>\n",
       "      <td>HHBurton</td>\n",
       "      <td>2.0</td>\n",
       "      <td>HALLIBURTON OIL WELL CEMENTING CO. v. WALKER e...</td>\n",
       "      <td>3.0</td>\n",
       "      <td>1.0</td>\n",
       "      <td>2.0</td>\n",
       "      <td>1.0</td>\n",
       "    </tr>\n",
       "    <tr>\n",
       "      <th>1</th>\n",
       "      <td>1946 U.S. LEXIS 1724</td>\n",
       "      <td>RHJackson</td>\n",
       "      <td>1.0</td>\n",
       "      <td>HALLIBURTON OIL WELL CEMENTING CO. v. WALKER e...</td>\n",
       "      <td>3.0</td>\n",
       "      <td>1.0</td>\n",
       "      <td>2.0</td>\n",
       "      <td>2.0</td>\n",
       "    </tr>\n",
       "    <tr>\n",
       "      <th>2</th>\n",
       "      <td>1946 U.S. LEXIS 1724</td>\n",
       "      <td>WODouglas</td>\n",
       "      <td>1.0</td>\n",
       "      <td>HALLIBURTON OIL WELL CEMENTING CO. v. WALKER e...</td>\n",
       "      <td>3.0</td>\n",
       "      <td>1.0</td>\n",
       "      <td>2.0</td>\n",
       "      <td>2.0</td>\n",
       "    </tr>\n",
       "    <tr>\n",
       "      <th>3</th>\n",
       "      <td>1946 U.S. LEXIS 1724</td>\n",
       "      <td>FFrankfurter</td>\n",
       "      <td>4.0</td>\n",
       "      <td>HALLIBURTON OIL WELL CEMENTING CO. v. WALKER e...</td>\n",
       "      <td>3.0</td>\n",
       "      <td>1.0</td>\n",
       "      <td>2.0</td>\n",
       "      <td>2.0</td>\n",
       "    </tr>\n",
       "    <tr>\n",
       "      <th>4</th>\n",
       "      <td>1946 U.S. LEXIS 1724</td>\n",
       "      <td>SFReed</td>\n",
       "      <td>1.0</td>\n",
       "      <td>HALLIBURTON OIL WELL CEMENTING CO. v. WALKER e...</td>\n",
       "      <td>3.0</td>\n",
       "      <td>1.0</td>\n",
       "      <td>2.0</td>\n",
       "      <td>2.0</td>\n",
       "    </tr>\n",
       "  </tbody>\n",
       "</table>\n",
       "</div>"
      ],
      "text/plain": [
       "              lexisCite   justiceName  vote  \\\n",
       "0  1946 U.S. LEXIS 1724      HHBurton   2.0   \n",
       "1  1946 U.S. LEXIS 1724     RHJackson   1.0   \n",
       "2  1946 U.S. LEXIS 1724     WODouglas   1.0   \n",
       "3  1946 U.S. LEXIS 1724  FFrankfurter   4.0   \n",
       "4  1946 U.S. LEXIS 1724        SFReed   1.0   \n",
       "\n",
       "                                            caseName  caseDisposition  \\\n",
       "0  HALLIBURTON OIL WELL CEMENTING CO. v. WALKER e...              3.0   \n",
       "1  HALLIBURTON OIL WELL CEMENTING CO. v. WALKER e...              3.0   \n",
       "2  HALLIBURTON OIL WELL CEMENTING CO. v. WALKER e...              3.0   \n",
       "3  HALLIBURTON OIL WELL CEMENTING CO. v. WALKER e...              3.0   \n",
       "4  HALLIBURTON OIL WELL CEMENTING CO. v. WALKER e...              3.0   \n",
       "\n",
       "   lcDispositionDirection  decisionDirection  direction  \n",
       "0                     1.0                2.0        1.0  \n",
       "1                     1.0                2.0        2.0  \n",
       "2                     1.0                2.0        2.0  \n",
       "3                     1.0                2.0        2.0  \n",
       "4                     1.0                2.0        2.0  "
      ]
     },
     "execution_count": 300,
     "metadata": {},
     "output_type": "execute_result"
    }
   ],
   "source": [
    "justices_csv = justices_csv[\n",
    "    [\n",
    "        \"lexisCite\",\n",
    "        \"justiceName\",\n",
    "        \"vote\",\n",
    "        \"caseName\",\n",
    "        \"caseDisposition\",\n",
    "        \"lcDispositionDirection\",\n",
    "        \"decisionDirection\",\n",
    "        \"direction\",\n",
    "    ]\n",
    "]\n",
    "justices_csv.head(5)"
   ]
  },
  {
   "cell_type": "code",
   "execution_count": 301,
   "metadata": {},
   "outputs": [],
   "source": [
    "# drop perfect duplicates\n",
    "justices_csv = justices_csv.drop_duplicates()"
   ]
  },
  {
   "cell_type": "code",
   "execution_count": 302,
   "metadata": {},
   "outputs": [
    {
     "data": {
      "text/plain": [
       "vote\n",
       "1.0    57671\n",
       "2.0    14056\n",
       "3.0     3039\n",
       "4.0     3627\n",
       "5.0      256\n",
       "6.0       20\n",
       "7.0      390\n",
       "8.0      924\n",
       "Name: count, dtype: int64"
      ]
     },
     "execution_count": 302,
     "metadata": {},
     "output_type": "execute_result"
    }
   ],
   "source": [
    "# note the values of votes:\n",
    "# Values:\n",
    "# 1\tvoted with majority or plurality\n",
    "# 2\tdissent\n",
    "# 3\tregular concurrence\n",
    "# 4\tspecial concurrence\n",
    "# 5\tjudgment of the Court\n",
    "# 6\tdissent from a denial or dismissal of certiorari , or dissent from summary affirmation of an appeal\n",
    "# 7\tjurisdictional dissent\n",
    "# 8\tjustice participated in an equally divided vote\n",
    "justices_csv[\"vote\"].value_counts().sort_index()"
   ]
  },
  {
   "cell_type": "code",
   "execution_count": 303,
   "metadata": {},
   "outputs": [
    {
     "data": {
      "text/plain": [
       "8907"
      ]
     },
     "execution_count": 303,
     "metadata": {},
     "output_type": "execute_result"
    }
   ],
   "source": [
    "justices_csv[\"caseName\"].unique().shape[0]"
   ]
  },
  {
   "cell_type": "code",
   "execution_count": 304,
   "metadata": {},
   "outputs": [
    {
     "data": {
      "text/plain": [
       "0.024680819930005975"
      ]
     },
     "execution_count": 304,
     "metadata": {},
     "output_type": "execute_result"
    }
   ],
   "source": [
    "justices_csv[\n",
    "    \"vote\"\n",
    "].isna().mean()  # votes are missing in about 2% of cases -- should we drop these?"
   ]
  },
  {
   "cell_type": "code",
   "execution_count": 305,
   "metadata": {},
   "outputs": [
    {
     "data": {
      "text/plain": [
       "direction\n",
       "1.0    36635\n",
       "2.0    40699\n",
       "Name: count, dtype: int64"
      ]
     },
     "execution_count": 305,
     "metadata": {},
     "output_type": "execute_result"
    }
   ],
   "source": [
    "# direction is the \"Direction of the Individual Justice's Votes\"\n",
    "# 1 = conservative\n",
    "# 2 = liberal\n",
    "justices_csv[\"direction\"].value_counts().sort_index()"
   ]
  },
  {
   "cell_type": "code",
   "execution_count": 306,
   "metadata": {},
   "outputs": [
    {
     "data": {
      "text/plain": [
       "lcDispositionDirection\n",
       "1.0    44459\n",
       "2.0    34773\n",
       "3.0      872\n",
       "Name: count, dtype: int64"
      ]
     },
     "execution_count": 306,
     "metadata": {},
     "output_type": "execute_result"
    }
   ],
   "source": [
    "# This variable specifies whether the decision of the court whose decision the Supreme Court reviewed was itself liberal or conservative as these terms are defined in the direction of decision variable (decisionDirection).\n",
    "# 1\tconservative\n",
    "# 2\tliberal\n",
    "# 3\tunspecifiable\n",
    "justices_csv[\"lcDispositionDirection\"].value_counts().sort_index()"
   ]
  },
  {
   "cell_type": "code",
   "execution_count": 307,
   "metadata": {},
   "outputs": [
    {
     "data": {
      "text/plain": [
       "decisionDirection\n",
       "1.0    39242\n",
       "2.0    40970\n",
       "3.0     1427\n",
       "Name: count, dtype: int64"
      ]
     },
     "execution_count": 307,
     "metadata": {},
     "output_type": "execute_result"
    }
   ],
   "source": [
    "# In order to determine whether the Court supports or opposes the issue to which the case pertains, this variable codes the ideological \"direction\" of the decision.\n",
    "# 1\tconservative\n",
    "# 2\tliberal\n",
    "# 3\tunspecifiable\n",
    "justices_csv[\"decisionDirection\"].value_counts().sort_index()"
   ]
  },
  {
   "cell_type": "code",
   "execution_count": 308,
   "metadata": {},
   "outputs": [
    {
     "data": {
      "text/plain": [
       "array([1, 0])"
      ]
     },
     "execution_count": 308,
     "metadata": {},
     "output_type": "execute_result"
    }
   ],
   "source": [
    "# check that decision direction doesn't vary by case\n",
    "justices_csv.groupby(\"lexisCite\")[\"decisionDirection\"].nunique().unique()"
   ]
  },
  {
   "cell_type": "code",
   "execution_count": 309,
   "metadata": {},
   "outputs": [
    {
     "data": {
      "text/html": [
       "<div>\n",
       "<style scoped>\n",
       "    .dataframe tbody tr th:only-of-type {\n",
       "        vertical-align: middle;\n",
       "    }\n",
       "\n",
       "    .dataframe tbody tr th {\n",
       "        vertical-align: top;\n",
       "    }\n",
       "\n",
       "    .dataframe thead th {\n",
       "        text-align: right;\n",
       "    }\n",
       "</style>\n",
       "<table border=\"1\" class=\"dataframe\">\n",
       "  <thead>\n",
       "    <tr style=\"text-align: right;\">\n",
       "      <th></th>\n",
       "      <th>lexisCite</th>\n",
       "      <th>justiceName</th>\n",
       "      <th>vote</th>\n",
       "      <th>caseName</th>\n",
       "      <th>caseDisposition</th>\n",
       "      <th>lcDispositionDirection</th>\n",
       "      <th>decisionDirection</th>\n",
       "      <th>direction</th>\n",
       "    </tr>\n",
       "  </thead>\n",
       "  <tbody>\n",
       "    <tr>\n",
       "      <th>8911</th>\n",
       "      <td>1955 U.S. LEXIS 945</td>\n",
       "      <td>EWarren</td>\n",
       "      <td>8.0</td>\n",
       "      <td>RYAN STEVEDORING CO., INC. v. PANATLANTIC STEA...</td>\n",
       "      <td>2.0</td>\n",
       "      <td>NaN</td>\n",
       "      <td>NaN</td>\n",
       "      <td>NaN</td>\n",
       "    </tr>\n",
       "    <tr>\n",
       "      <th>8912</th>\n",
       "      <td>1955 U.S. LEXIS 945</td>\n",
       "      <td>HLBlack</td>\n",
       "      <td>8.0</td>\n",
       "      <td>RYAN STEVEDORING CO., INC. v. PANATLANTIC STEA...</td>\n",
       "      <td>2.0</td>\n",
       "      <td>NaN</td>\n",
       "      <td>NaN</td>\n",
       "      <td>NaN</td>\n",
       "    </tr>\n",
       "    <tr>\n",
       "      <th>8913</th>\n",
       "      <td>1955 U.S. LEXIS 945</td>\n",
       "      <td>SFReed</td>\n",
       "      <td>8.0</td>\n",
       "      <td>RYAN STEVEDORING CO., INC. v. PANATLANTIC STEA...</td>\n",
       "      <td>2.0</td>\n",
       "      <td>NaN</td>\n",
       "      <td>NaN</td>\n",
       "      <td>NaN</td>\n",
       "    </tr>\n",
       "    <tr>\n",
       "      <th>8914</th>\n",
       "      <td>1955 U.S. LEXIS 945</td>\n",
       "      <td>FFrankfurter</td>\n",
       "      <td>8.0</td>\n",
       "      <td>RYAN STEVEDORING CO., INC. v. PANATLANTIC STEA...</td>\n",
       "      <td>2.0</td>\n",
       "      <td>NaN</td>\n",
       "      <td>NaN</td>\n",
       "      <td>NaN</td>\n",
       "    </tr>\n",
       "    <tr>\n",
       "      <th>8915</th>\n",
       "      <td>1955 U.S. LEXIS 945</td>\n",
       "      <td>WODouglas</td>\n",
       "      <td>8.0</td>\n",
       "      <td>RYAN STEVEDORING CO., INC. v. PANATLANTIC STEA...</td>\n",
       "      <td>2.0</td>\n",
       "      <td>NaN</td>\n",
       "      <td>NaN</td>\n",
       "      <td>NaN</td>\n",
       "    </tr>\n",
       "    <tr>\n",
       "      <th>8916</th>\n",
       "      <td>1955 U.S. LEXIS 945</td>\n",
       "      <td>HHBurton</td>\n",
       "      <td>8.0</td>\n",
       "      <td>RYAN STEVEDORING CO., INC. v. PANATLANTIC STEA...</td>\n",
       "      <td>2.0</td>\n",
       "      <td>NaN</td>\n",
       "      <td>NaN</td>\n",
       "      <td>NaN</td>\n",
       "    </tr>\n",
       "    <tr>\n",
       "      <th>8917</th>\n",
       "      <td>1955 U.S. LEXIS 945</td>\n",
       "      <td>TCClark</td>\n",
       "      <td>8.0</td>\n",
       "      <td>RYAN STEVEDORING CO., INC. v. PANATLANTIC STEA...</td>\n",
       "      <td>2.0</td>\n",
       "      <td>NaN</td>\n",
       "      <td>NaN</td>\n",
       "      <td>NaN</td>\n",
       "    </tr>\n",
       "    <tr>\n",
       "      <th>8918</th>\n",
       "      <td>1955 U.S. LEXIS 945</td>\n",
       "      <td>SMinton</td>\n",
       "      <td>8.0</td>\n",
       "      <td>RYAN STEVEDORING CO., INC. v. PANATLANTIC STEA...</td>\n",
       "      <td>2.0</td>\n",
       "      <td>NaN</td>\n",
       "      <td>NaN</td>\n",
       "      <td>NaN</td>\n",
       "    </tr>\n",
       "    <tr>\n",
       "      <th>8919</th>\n",
       "      <td>1955 U.S. LEXIS 945</td>\n",
       "      <td>JHarlan2</td>\n",
       "      <td>NaN</td>\n",
       "      <td>RYAN STEVEDORING CO., INC. v. PANATLANTIC STEA...</td>\n",
       "      <td>2.0</td>\n",
       "      <td>NaN</td>\n",
       "      <td>NaN</td>\n",
       "      <td>NaN</td>\n",
       "    </tr>\n",
       "  </tbody>\n",
       "</table>\n",
       "</div>"
      ],
      "text/plain": [
       "                lexisCite   justiceName  vote  \\\n",
       "8911  1955 U.S. LEXIS 945       EWarren   8.0   \n",
       "8912  1955 U.S. LEXIS 945       HLBlack   8.0   \n",
       "8913  1955 U.S. LEXIS 945        SFReed   8.0   \n",
       "8914  1955 U.S. LEXIS 945  FFrankfurter   8.0   \n",
       "8915  1955 U.S. LEXIS 945     WODouglas   8.0   \n",
       "8916  1955 U.S. LEXIS 945      HHBurton   8.0   \n",
       "8917  1955 U.S. LEXIS 945       TCClark   8.0   \n",
       "8918  1955 U.S. LEXIS 945       SMinton   8.0   \n",
       "8919  1955 U.S. LEXIS 945      JHarlan2   NaN   \n",
       "\n",
       "                                               caseName  caseDisposition  \\\n",
       "8911  RYAN STEVEDORING CO., INC. v. PANATLANTIC STEA...              2.0   \n",
       "8912  RYAN STEVEDORING CO., INC. v. PANATLANTIC STEA...              2.0   \n",
       "8913  RYAN STEVEDORING CO., INC. v. PANATLANTIC STEA...              2.0   \n",
       "8914  RYAN STEVEDORING CO., INC. v. PANATLANTIC STEA...              2.0   \n",
       "8915  RYAN STEVEDORING CO., INC. v. PANATLANTIC STEA...              2.0   \n",
       "8916  RYAN STEVEDORING CO., INC. v. PANATLANTIC STEA...              2.0   \n",
       "8917  RYAN STEVEDORING CO., INC. v. PANATLANTIC STEA...              2.0   \n",
       "8918  RYAN STEVEDORING CO., INC. v. PANATLANTIC STEA...              2.0   \n",
       "8919  RYAN STEVEDORING CO., INC. v. PANATLANTIC STEA...              2.0   \n",
       "\n",
       "      lcDispositionDirection  decisionDirection  direction  \n",
       "8911                     NaN                NaN        NaN  \n",
       "8912                     NaN                NaN        NaN  \n",
       "8913                     NaN                NaN        NaN  \n",
       "8914                     NaN                NaN        NaN  \n",
       "8915                     NaN                NaN        NaN  \n",
       "8916                     NaN                NaN        NaN  \n",
       "8917                     NaN                NaN        NaN  \n",
       "8918                     NaN                NaN        NaN  \n",
       "8919                     NaN                NaN        NaN  "
      ]
     },
     "execution_count": 309,
     "metadata": {},
     "output_type": "execute_result"
    }
   ],
   "source": [
    "# cases with 0 unique values are missing -- should we drop these?\n",
    "justices_csv.loc[justices_csv[\"lexisCite\"] == \"1955 U.S. LEXIS 945\"]"
   ]
  },
  {
   "cell_type": "code",
   "execution_count": 310,
   "metadata": {},
   "outputs": [
    {
     "data": {
      "text/plain": [
       "0.05698294048069067"
      ]
     },
     "execution_count": 310,
     "metadata": {},
     "output_type": "execute_result"
    }
   ],
   "source": [
    "#  A missing value code indicates that the decisionDirection was unspecifiable or that that justice did not participate.\n",
    "justices_csv[\n",
    "    \"direction\"\n",
    "].isna().mean()  # direction is missing in about 5% of justice/case combinations"
   ]
  },
  {
   "cell_type": "code",
   "execution_count": 311,
   "metadata": {},
   "outputs": [
    {
     "data": {
      "text/plain": [
       "justiceName  lexisCite           \n",
       "WODouglas    1974 U.S. LEXIS 102     2\n",
       "SFReed       1955 U.S. LEXIS 1542    1\n",
       "             1955 U.S. LEXIS 602     1\n",
       "             1955 U.S. LEXIS 601     1\n",
       "             1955 U.S. LEXIS 37      1\n",
       "                                    ..\n",
       "HHBurton     1948 U.S. LEXIS 2110    1\n",
       "             1948 U.S. LEXIS 2086    1\n",
       "             1948 U.S. LEXIS 2085    1\n",
       "             1948 U.S. LEXIS 2084    1\n",
       "WODouglas    1975 U.S. LEXIS 93      1\n",
       "Name: count, Length: 82006, dtype: int64"
      ]
     },
     "execution_count": 311,
     "metadata": {},
     "output_type": "execute_result"
    }
   ],
   "source": [
    "justices_csv[[\"justiceName\", \"lexisCite\"]].value_counts()  # why are there duplicates?"
   ]
  },
  {
   "cell_type": "code",
   "execution_count": 312,
   "metadata": {},
   "outputs": [
    {
     "data": {
      "text/html": [
       "<div>\n",
       "<style scoped>\n",
       "    .dataframe tbody tr th:only-of-type {\n",
       "        vertical-align: middle;\n",
       "    }\n",
       "\n",
       "    .dataframe tbody tr th {\n",
       "        vertical-align: top;\n",
       "    }\n",
       "\n",
       "    .dataframe thead th {\n",
       "        text-align: right;\n",
       "    }\n",
       "</style>\n",
       "<table border=\"1\" class=\"dataframe\">\n",
       "  <thead>\n",
       "    <tr style=\"text-align: right;\">\n",
       "      <th></th>\n",
       "      <th>lexisCite</th>\n",
       "      <th>justiceName</th>\n",
       "      <th>vote</th>\n",
       "      <th>caseName</th>\n",
       "      <th>caseDisposition</th>\n",
       "      <th>lcDispositionDirection</th>\n",
       "      <th>decisionDirection</th>\n",
       "      <th>direction</th>\n",
       "    </tr>\n",
       "  </thead>\n",
       "  <tbody>\n",
       "    <tr>\n",
       "      <th>33240</th>\n",
       "      <td>1974 U.S. LEXIS 102</td>\n",
       "      <td>WODouglas</td>\n",
       "      <td>2.0</td>\n",
       "      <td>MISSISSIPPI v. ARKANSAS</td>\n",
       "      <td>NaN</td>\n",
       "      <td>NaN</td>\n",
       "      <td>3.0</td>\n",
       "      <td>NaN</td>\n",
       "    </tr>\n",
       "    <tr>\n",
       "      <th>33249</th>\n",
       "      <td>1974 U.S. LEXIS 102</td>\n",
       "      <td>WODouglas</td>\n",
       "      <td>1.0</td>\n",
       "      <td>MISSISSIPPI v. ARKANSAS</td>\n",
       "      <td>NaN</td>\n",
       "      <td>NaN</td>\n",
       "      <td>3.0</td>\n",
       "      <td>NaN</td>\n",
       "    </tr>\n",
       "  </tbody>\n",
       "</table>\n",
       "</div>"
      ],
      "text/plain": [
       "                 lexisCite justiceName  vote                 caseName  \\\n",
       "33240  1974 U.S. LEXIS 102   WODouglas   2.0  MISSISSIPPI v. ARKANSAS   \n",
       "33249  1974 U.S. LEXIS 102   WODouglas   1.0  MISSISSIPPI v. ARKANSAS   \n",
       "\n",
       "       caseDisposition  lcDispositionDirection  decisionDirection  direction  \n",
       "33240              NaN                     NaN                3.0        NaN  \n",
       "33249              NaN                     NaN                3.0        NaN  "
      ]
     },
     "execution_count": 312,
     "metadata": {},
     "output_type": "execute_result"
    }
   ],
   "source": [
    "# drop case with contradictory votes or check online to corroborate?\n",
    "justices_csv[\n",
    "    justices_csv[[\"justiceName\", \"lexisCite\"]].duplicated(keep=False)\n",
    "].sort_values([\"lexisCite\", \"justiceName\"])"
   ]
  },
  {
   "cell_type": "code",
   "execution_count": 313,
   "metadata": {},
   "outputs": [
    {
     "data": {
      "text/plain": [
       "caseDisposition\n",
       "1.0       421\n",
       "2.0     24302\n",
       "3.0     17954\n",
       "4.0     22277\n",
       "5.0     10045\n",
       "6.0       683\n",
       "7.0      1508\n",
       "8.0       303\n",
       "9.0      3204\n",
       "10.0      116\n",
       "11.0        9\n",
       "Name: count, dtype: int64"
      ]
     },
     "execution_count": 313,
     "metadata": {},
     "output_type": "execute_result"
    }
   ],
   "source": [
    "# for final case decision:\n",
    "# 1\tstay, petition, or motion granted\n",
    "# 2\taffirmed (includes modified)\n",
    "# 3\treversed\n",
    "# 4\treversed and remanded\n",
    "# 5\tvacated and remanded\n",
    "# 6\taffirmed and reversed (or vacated) in part\n",
    "# 7\taffirmed and reversed (or vacated) in part and remanded\n",
    "# 8\tvacated\n",
    "# 9\tpetition denied or appeal dismissed\n",
    "# 10\tcertification to or from a lower court\n",
    "# 11\tno disposition\n",
    "\n",
    "# do we want to drop any of these where the case disposition seems like it would be tricky...\n",
    "# or does it matter less because we care mostly about judge voting behavior?\n",
    "justices_csv[\"caseDisposition\"].value_counts().sort_index()"
   ]
  },
  {
   "cell_type": "code",
   "execution_count": 314,
   "metadata": {},
   "outputs": [
    {
     "data": {
      "text/plain": [
       "0.014449985976806858"
      ]
     },
     "execution_count": 314,
     "metadata": {},
     "output_type": "execute_result"
    }
   ],
   "source": [
    "justices_csv[\"caseDisposition\"].isna().mean()  # around 1% are missing case disposition"
   ]
  },
  {
   "cell_type": "code",
   "execution_count": 315,
   "metadata": {},
   "outputs": [
    {
     "data": {
      "text/plain": [
       "0.004487421805455632"
      ]
     },
     "execution_count": 315,
     "metadata": {},
     "output_type": "execute_result"
    }
   ],
   "source": [
    "justices_csv[\"decisionDirection\"].isna().mean()  # < 1% are missing decision direction"
   ]
  },
  {
   "cell_type": "markdown",
   "metadata": {},
   "source": [
    "## Create Dictionary for Generating Network"
   ]
  },
  {
   "cell_type": "code",
   "execution_count": 316,
   "metadata": {},
   "outputs": [
    {
     "data": {
      "text/plain": [
       "[('1953 U.S. LEXIS 2673', [('SECURITIES AND EXCHANGE COMMISSION', 1)]),\n",
       " ('1953 U.S. LEXIS 2680', [('BOSTON AMERICAN LEAGUE BASE BALL COMPANY', 2)]),\n",
       " ('1954 U.S. LEXIS 2094',\n",
       "  [('AMERICAN FEDERATION OF TEACHERS', 1),\n",
       "   ('UNITED STATES', 1),\n",
       "   ('AMERICAN JEWISH CONGRESS', 1),\n",
       "   ('AMERICAN VETERANS COMMITTEE', 1),\n",
       "   ('AMERICAN ETHICAL UNION', 1),\n",
       "   ('AMERICAN JEWISH COMMITTEE', 1),\n",
       "   ('ANTI-DEFAMATION LEAGUE', 1),\n",
       "   ('JAPANESE AMERICAN CITIZENS LEAGUE', 1),\n",
       "   ('UNITARIAN FELLOWSHIP FOR SOCIAL JUSTICE', 1),\n",
       "   ('AMERICAN CIVIL LIBERTIES UNION', 1),\n",
       "   ('CONGRESS OF INDUSTRIAL ORGANIZATIONS', 1)])]"
      ]
     },
     "execution_count": 316,
     "metadata": {},
     "output_type": "execute_result"
    }
   ],
   "source": [
    "# for simplicity, we want the final form factor to be a dictionary as it's easier to parse and find information\n",
    "# let's first convert the amicus briefs into a dictionary with one key per docket\n",
    "# each docket will have all the amicus briefs with the organization names and their positions\n",
    "\n",
    "amici_data = {}\n",
    "\n",
    "for _, brief_row in amicus_briefs_csv.iterrows():\n",
    "    lexis_cite = brief_row[\"LexisCite\"]\n",
    "    amicus_name = brief_row[\"AmicusName\"]\n",
    "    position = brief_row[\"Position\"]\n",
    "\n",
    "    if lexis_cite not in amici_data:\n",
    "        amici_data[lexis_cite] = []\n",
    "\n",
    "    amici_data[lexis_cite].append((amicus_name, position))\n",
    "\n",
    "list(amici_data.items())[:3]"
   ]
  },
  {
   "cell_type": "code",
   "execution_count": 317,
   "metadata": {},
   "outputs": [
    {
     "data": {
      "text/plain": [
       "[('1946 U.S. LEXIS 1724',\n",
       "  {'justices': [('HHBurton', 2.0, 1.0),\n",
       "    ('RHJackson', 1.0, 2.0),\n",
       "    ('WODouglas', 1.0, 2.0),\n",
       "    ('FFrankfurter', 4.0, 2.0),\n",
       "    ('SFReed', 1.0, 2.0),\n",
       "    ('HLBlack', 1.0, 2.0),\n",
       "    ('WBRutledge', 1.0, 2.0),\n",
       "    ('FMurphy', 1.0, 2.0),\n",
       "    ('FMVinson', 1.0, 2.0)],\n",
       "   'caseName': 'HALLIBURTON OIL WELL CEMENTING CO. v. WALKER et al., DOING BUSINESS AS DEPTHOGRAPH CO.',\n",
       "   'decision': 3.0,\n",
       "   'decisiondirection': 2.0}),\n",
       " ('1946 U.S. LEXIS 1725',\n",
       "  {'justices': [('HHBurton', 1.0, 1.0),\n",
       "    ('RHJackson', 2.0, 2.0),\n",
       "    ('WODouglas', 1.0, 1.0),\n",
       "    ('FFrankfurter', 1.0, 1.0),\n",
       "    ('SFReed', 1.0, 1.0),\n",
       "    ('HLBlack', 2.0, 2.0),\n",
       "    ('WBRutledge', 4.0, 1.0),\n",
       "    ('FMurphy', 2.0, 2.0),\n",
       "    ('FMVinson', 1.0, 1.0)],\n",
       "   'caseName': 'CLEVELAND v. UNITED STATES',\n",
       "   'decision': 2.0,\n",
       "   'decisiondirection': 1.0})]"
      ]
     },
     "execution_count": 317,
     "metadata": {},
     "output_type": "execute_result"
    }
   ],
   "source": [
    "# let's also do this for the judges\n",
    "justices_data = {}\n",
    "\n",
    "for _, justice_row in justices_csv.iterrows():\n",
    "    lexis_cite = justice_row[\"lexisCite\"]\n",
    "    justice_name = justice_row[\"justiceName\"]\n",
    "    case_name = justice_row[\"caseName\"]\n",
    "    vote = justice_row[\"vote\"]\n",
    "    disposition = justice_row[\"caseDisposition\"]\n",
    "    decisiondirection = justice_row[\"decisionDirection\"]\n",
    "    direction = justice_row[\"direction\"]\n",
    "\n",
    "    if lexis_cite not in justices_data:\n",
    "        justices_data[lexis_cite] = {\n",
    "            \"justices\": [],\n",
    "            \"caseName\": case_name,\n",
    "            \"decision\": disposition,\n",
    "            \"decisiondirection\": decisiondirection,\n",
    "        }\n",
    "\n",
    "    justices_data[lexis_cite][\"justices\"].append((justice_name, vote, direction))\n",
    "\n",
    "list(justices_data.items())[:2]"
   ]
  },
  {
   "cell_type": "code",
   "execution_count": 318,
   "metadata": {},
   "outputs": [],
   "source": [
    "# make a function for determining ideological position of amicus\n",
    "\n",
    "# position variable in amicus briefs\n",
    "# = 1 if the brief argues the lower court decision should be reversed\n",
    "# = 2 if lower court decision should be affirmed\n",
    "# = 3 if the brief explicitly does not adopt a position or the position is unclear\n",
    "\n",
    "# case decision values\n",
    "# 1\tstay, petition, or motion granted\n",
    "# 2\taffirmed (includes modified)\n",
    "# 3\treversed\n",
    "# 4\treversed and remanded\n",
    "# 5\tvacated and remanded\n",
    "# 6\taffirmed and reversed (or vacated) in part\n",
    "# 7\taffirmed and reversed (or vacated) in part and remanded\n",
    "# 8\tvacated\n",
    "# 9\tpetition denied or appeal dismissed\n",
    "# 10 certification to or from a lower court\n",
    "# 11 no disposition\n",
    "\n",
    "# case direction values\n",
    "\n",
    "def amicusDirection(brief_position, case_decision, case_direction):\n",
    "    \"\"\"\n",
    "    Determines the direction of the amicus based on agreement between judge decision and amicus.\n",
    "    \"\"\"\n",
    "    # if we have any invalid values, let's remove this scenario\n",
    "    try:\n",
    "        position, decision, direction = (\n",
    "            int(brief_position),\n",
    "            int(case_decision),\n",
    "            int(case_direction),\n",
    "        )\n",
    "    except:\n",
    "        return 99\n",
    "\n",
    "    # also invalid if direction is unspecifiable\n",
    "    if direction == 3:\n",
    "        return 99\n",
    "\n",
    "    # case where brief argues the lower court decision should be reversed\n",
    "    # and decision is (3) reversed, (4) reversed and remanded\n",
    "    # also including:\n",
    "    # (5) vacated and remanded\n",
    "    # (8) vacated\n",
    "    # (9) petition denied or appeal dismissed\n",
    "\n",
    "    # direction of amicus brief should match case direction\n",
    "    if position == 1 and (decision in [3, 4, 5, 8, 9]):\n",
    "        return direction\n",
    "    # argue lower court decision should be affirmed\n",
    "    # and decision is (2) affirmed (includes modified)\n",
    "    # -- note: should this also include (1)?\n",
    "    # (1) stay, petition, or motion granted\n",
    "    elif position == 2 and (decision in [1, 2]):\n",
    "        return direction\n",
    "    # if the position is to reverse\n",
    "    # and decision is (2) affirmed (includes modified)\n",
    "    elif position == 1 and (decision in [1, 2]):\n",
    "        return 1 if direction == 2 else 2\n",
    "    # if the position is to reverse\n",
    "    # and decision is (2) affirmed (includes modified)\n",
    "    elif position == 2 and (decision in [3, 4, 5, 8, 9]):\n",
    "        return 1 if direction == 2 else 2\n",
    "    else:\n",
    "        return 99"
   ]
  },
  {
   "cell_type": "code",
   "execution_count": 319,
   "metadata": {},
   "outputs": [],
   "source": [
    "def isConservative(direction):\n",
    "    \"\"\"\n",
    "    Identifies whether direction is conservative (i.e., = 1)\n",
    "    \"\"\"\n",
    "    if direction == 99:\n",
    "        return np.nan\n",
    "    else:\n",
    "        return direction == 1"
   ]
  },
  {
   "cell_type": "code",
   "execution_count": 320,
   "metadata": {},
   "outputs": [
    {
     "data": {
      "text/plain": [
       "[('1953 U.S. LEXIS 2673',\n",
       "  {'case_name': 'WILKO v. SWAN et al., DOING BUSINESS AS HAYDEN, STONE & CO., et al.',\n",
       "   'justices': [('HLBlack', 1.0, 2.0),\n",
       "    ('WODouglas', 1.0, 2.0),\n",
       "    ('EWarren', 1.0, 2.0),\n",
       "    ('TCClark', 1.0, 2.0),\n",
       "    ('FFrankfurter', 2.0, 1.0),\n",
       "    ('HHBurton', 1.0, 2.0),\n",
       "    ('SFReed', 1.0, 2.0),\n",
       "    ('SMinton', 2.0, 1.0),\n",
       "    ('RHJackson', 3.0, 2.0)],\n",
       "   'case_decision': 3.0,\n",
       "   'decisiondirection': 2.0,\n",
       "   'amici': [('SECURITIES AND EXCHANGE COMMISSION', 1)],\n",
       "   'conservative_amici': [False],\n",
       "   'percent_conservative': 0.0,\n",
       "   'distinct_amicus_positions': 1}),\n",
       " ('1953 U.S. LEXIS 2680',\n",
       "  {'case_name': 'TOOLSON v. NEW YORK YANKEES, INC. et al.',\n",
       "   'justices': [('HLBlack', 1.0, 1.0),\n",
       "    ('WODouglas', 1.0, 1.0),\n",
       "    ('EWarren', 1.0, 1.0),\n",
       "    ('TCClark', 1.0, 1.0),\n",
       "    ('FFrankfurter', 1.0, 1.0),\n",
       "    ('HHBurton', 2.0, 2.0),\n",
       "    ('SFReed', 2.0, 2.0),\n",
       "    ('SMinton', 1.0, 1.0),\n",
       "    ('RHJackson', 1.0, 1.0)],\n",
       "   'case_decision': 2.0,\n",
       "   'decisiondirection': 1.0,\n",
       "   'amici': [('BOSTON AMERICAN LEAGUE BASE BALL COMPANY', 2)],\n",
       "   'conservative_amici': [True],\n",
       "   'percent_conservative': 1.0,\n",
       "   'distinct_amicus_positions': 1}),\n",
       " ('1954 U.S. LEXIS 2094',\n",
       "  {'case_name': 'BROWN et al. v. BOARD OF EDUCATION OF TOPEKA et al.',\n",
       "   'justices': [('HLBlack', 1.0, 2.0),\n",
       "    ('WODouglas', 1.0, 2.0),\n",
       "    ('EWarren', 1.0, 2.0),\n",
       "    ('TCClark', 1.0, 2.0),\n",
       "    ('FFrankfurter', 1.0, 2.0),\n",
       "    ('HHBurton', 1.0, 2.0),\n",
       "    ('SFReed', 1.0, 2.0),\n",
       "    ('SMinton', 1.0, 2.0),\n",
       "    ('RHJackson', 1.0, 2.0)],\n",
       "   'case_decision': 1.0,\n",
       "   'decisiondirection': 2.0,\n",
       "   'amici': [('AMERICAN FEDERATION OF TEACHERS', 1),\n",
       "    ('UNITED STATES', 1),\n",
       "    ('AMERICAN JEWISH CONGRESS', 1),\n",
       "    ('AMERICAN VETERANS COMMITTEE', 1),\n",
       "    ('AMERICAN ETHICAL UNION', 1),\n",
       "    ('AMERICAN JEWISH COMMITTEE', 1),\n",
       "    ('ANTI-DEFAMATION LEAGUE', 1),\n",
       "    ('JAPANESE AMERICAN CITIZENS LEAGUE', 1),\n",
       "    ('UNITARIAN FELLOWSHIP FOR SOCIAL JUSTICE', 1),\n",
       "    ('AMERICAN CIVIL LIBERTIES UNION', 1),\n",
       "    ('CONGRESS OF INDUSTRIAL ORGANIZATIONS', 1)],\n",
       "   'conservative_amici': [True,\n",
       "    True,\n",
       "    True,\n",
       "    True,\n",
       "    True,\n",
       "    True,\n",
       "    True,\n",
       "    True,\n",
       "    True,\n",
       "    True,\n",
       "    True],\n",
       "   'percent_conservative': 1.0,\n",
       "   'distinct_amicus_positions': 1})]"
      ]
     },
     "execution_count": 320,
     "metadata": {},
     "output_type": "execute_result"
    }
   ],
   "source": [
    "# Now we can merge our dictionaries together to get a final pre-processed dictionary\n",
    "preproc_data = {}\n",
    "\n",
    "for lexis_cite, brief in amici_data.items():\n",
    "    justices_found = justices_data[lexis_cite]\n",
    "\n",
    "    # if we can't find the corresponding case, we'll skip this row\n",
    "    if justices_found is None:\n",
    "        continue\n",
    "\n",
    "    # calculate the percent conservative\n",
    "    amicus_conservative_list = [\n",
    "        isConservative(\n",
    "            amicusDirection(\n",
    "                amicus[1],\n",
    "                justices_found[\"decision\"],\n",
    "                justices_found[\"decisiondirection\"],\n",
    "            )\n",
    "        )\n",
    "        for amicus in brief\n",
    "    ]\n",
    "    amicus_unique_positions = np.unique([amicus[1] for amicus in brief])\n",
    "    assert len(amicus_conservative_list) == len(brief)\n",
    "\n",
    "    preproc_data[lexis_cite] = {\n",
    "        \"case_name\": justices_found[\"caseName\"],\n",
    "        \"justices\": justices_found[\"justices\"],\n",
    "        \"case_decision\": justices_found[\"decision\"],\n",
    "        \"decisiondirection\": justices_found[\"decisiondirection\"],\n",
    "        \"amici\": brief,\n",
    "        \"conservative_amici\": amicus_conservative_list,\n",
    "        \"percent_conservative\": np.mean(amicus_conservative_list),\n",
    "        \"distinct_amicus_positions\": len(amicus_unique_positions),\n",
    "    }\n",
    "\n",
    "list(preproc_data.items())[:3]"
   ]
  },
  {
   "cell_type": "code",
   "execution_count": 321,
   "metadata": {},
   "outputs": [],
   "source": [
    "# let's make a function to determine if the judges agreed with the amicus brief\n",
    "# here we need to determine whether the judge followed the amicus decision\n",
    "\n",
    "# for amicus brief position:\n",
    "# Indicates the position on the case expressed by the amicus brief.\n",
    "# = 1 if the brief argues the lower court decision should be reversed,\n",
    "# = 2 if lower court decision should be affirmed,\n",
    "# = 3 if the brief explicitly does not adopt a position or the position is unclear.\n",
    "\n",
    "# for final case decision:\n",
    "# 1\tstay, petition, or motion granted\n",
    "# 2\taffirmed (includes modified)\n",
    "# 3\treversed\n",
    "# 4\treversed and remanded\n",
    "# 5\tvacated and remanded\n",
    "# 6\taffirmed and reversed (or vacated) in part\n",
    "# 7\taffirmed and reversed (or vacated) in part and remanded\n",
    "# 8\tvacated\n",
    "# 9\tpetition denied or appeal dismissed\n",
    "# 10 certification to or from a lower court\n",
    "# 11 no disposition\n",
    "\n",
    "# for justice vote:\n",
    "# 1\tvoted with majority or plurality\n",
    "# 2\tdissent\n",
    "# 3\tregular concurrence\n",
    "# 4\tspecial concurrence\n",
    "# 5\tjudgment of the Court\n",
    "# 6\tdissent from a denial or dismissal of certiorari , or dissent from summary affirmation of an appeal\n",
    "# 7\tjurisdictional dissent\n",
    "# 8\tjustice participated in an equally divided vote\n",
    "\n",
    "def judgeAgreesWithAmicus(brief_position, case_decision, justice_vote):\n",
    "    # if we have any invalid values, let's remove this scenario\n",
    "    try:\n",
    "        position, decision, vote = (\n",
    "            int(brief_position),\n",
    "            int(case_decision),\n",
    "            int(justice_vote),\n",
    "        )\n",
    "    except:\n",
    "        return 2\n",
    "\n",
    "    # agrees with amicus brief for reversing lower court decision\n",
    "    if position == 1 and (decision == 3 or decision == 4) and vote == 1:\n",
    "        return 1\n",
    "\n",
    "    # disagrees with amicus brief for reversing lower court decision\n",
    "    if position == 1 and (decision == 3 or decision == 4) and vote == 2:\n",
    "        return 0\n",
    "\n",
    "    # agrees with amicus brief for affirming lower court decision\n",
    "    if position == 2 and (decision == 2) and vote == 1:\n",
    "        return 1\n",
    "\n",
    "    # disagrees with amicus brief for affirming lower court decision\n",
    "    if position == 2 and (decision == 2) and vote == 2:\n",
    "        return 0\n",
    "\n",
    "    # invalid scenario\n",
    "    return 2"
   ]
  },
  {
   "cell_type": "markdown",
   "metadata": {},
   "source": [
    "## Construct graphs"
   ]
  },
  {
   "cell_type": "code",
   "execution_count": 322,
   "metadata": {},
   "outputs": [],
   "source": [
    "# Let's construct a graph now\n",
    "# We make an assumption that the judges and amicus organizations have no overlapping names\n",
    "\n",
    "G = nx.MultiDiGraph()\n",
    "\n",
    "# We also are going to keep track of the justices and amici that make the final graph\n",
    "final_justices = set()\n",
    "final_amici = set()\n",
    "final_cases = set()\n",
    "final_cases_per_justice = {}\n",
    "\n",
    "for lexis_cite, docket in preproc_data.items():\n",
    "    for amicus in docket[\"amici\"]:\n",
    "        # identify the ideological direction of the amicus brief based on its relationship with the disposition\n",
    "        # and the disposition direction\n",
    "        amicus_direction = amicusDirection(\n",
    "            amicus[1], docket[\"case_decision\"], docket[\"decisiondirection\"]\n",
    "        )\n",
    "        for justice in docket[\"justices\"]:\n",
    "            # identify whether the judge agrees with the amicus\n",
    "            # 0 = disagree, 1 = agree, 2 = trash\n",
    "            agreement = judgeAgreesWithAmicus(\n",
    "                amicus[1], docket[\"case_decision\"], justice[1]\n",
    "            )\n",
    "            # identify whether judge's opinion is conservative\n",
    "            conservative_position = int(justice[2] == 1)\n",
    "            ideological_agreement = int(justice[2] == amicus_direction)\n",
    "            # only add if amicus direction is NOT invalid or if agreement is not invalid?\n",
    "            # or just add all... or base this on the df_filt dataset?\n",
    "            if (amicus_direction != 99):\n",
    "                final_justices.add(justice[0])\n",
    "                final_amici.add(amicus[0])\n",
    "                final_cases.add(lexis_cite)\n",
    "\n",
    "                if justice[0] not in final_cases_per_justice:\n",
    "                    final_cases_per_justice[justice[0]] = set()\n",
    "                final_cases_per_justice[justice[0]].add(lexis_cite)\n",
    "\n",
    "                G.add_edge(\n",
    "                    justice[0],\n",
    "                    amicus[0],\n",
    "                    caseName=docket[\"case_name\"],\n",
    "                    agreement=agreement,\n",
    "                    ideological_agreement=ideological_agreement,\n",
    "                    amicus_direction=amicus_direction,\n",
    "                    judge_direction=justice[2],\n",
    "                )"
   ]
  },
  {
   "cell_type": "code",
   "execution_count": 323,
   "metadata": {},
   "outputs": [
    {
     "name": "stdout",
     "output_type": "stream",
     "text": [
      "open the test.html file created!!\n"
     ]
    }
   ],
   "source": [
    "# Create a visualization of a mini-version of the graph\n",
    "G_mini = nx.MultiDiGraph()\n",
    "\n",
    "# going to use a counter so we can visualize faster\n",
    "maxCount = 10  # Comment line out for full graph\n",
    "counter = 0\n",
    "\n",
    "for lexis_cite, docket in preproc_data.items():\n",
    "    if counter >= maxCount:\n",
    "        break\n",
    "    for amicus in docket[\"amici\"]:\n",
    "        for justice in docket[\"justices\"]:\n",
    "            # 0 = disagree, 1 = agree, 2 = trash\n",
    "            agreement = judgeAgreesWithAmicus(\n",
    "                amicus[1], docket[\"case_decision\"], justice[1]\n",
    "            )\n",
    "            if agreement < 2:\n",
    "                G_mini.add_edge(\n",
    "                    justice[0],\n",
    "                    amicus[0],\n",
    "                    caseName=docket[\"case_name\"],\n",
    "                    agreement=agreement,\n",
    "                )\n",
    "                counter += 1\n",
    "\n",
    "net = Network(\n",
    "    directed=True,\n",
    "    select_menu=True,  # Show part 1 in the plot (optional)\n",
    "    filter_menu=True,  # Show part 2 in the plot (optional)\n",
    ")\n",
    "\n",
    "net.show_buttons()  # Show part 3 in the plot (optional)\n",
    "net.from_nx(G_mini)  # Create directly from nx graph\n",
    "#net.show(\"test.html\", notebook=False)\n",
    "print(\"open the test.html file created!!\")"
   ]
  },
  {
   "cell_type": "code",
   "execution_count": 324,
   "metadata": {},
   "outputs": [
    {
     "name": "stdout",
     "output_type": "stream",
     "text": [
      "full graph\n",
      "agree: 575294 \n",
      "disagree: 62120 \n",
      "total: 637414\n",
      "\n",
      "mini graph\n",
      "agree: 13 \n",
      "disagree: 4 \n",
      "total: 17\n"
     ]
    }
   ],
   "source": [
    "# Quick sanity check for the two graphs\n",
    "agree = 0\n",
    "disagree = 0\n",
    "for edge in G.edges(data=True):\n",
    "    if edge[2][\"agreement\"]:\n",
    "        agree += 1\n",
    "    else:\n",
    "        disagree += 1\n",
    "\n",
    "print(\"full graph\")\n",
    "print(\"agree:\", agree, \"\\ndisagree:\", disagree, \"\\ntotal:\", agree + disagree)\n",
    "\n",
    "agree = 0\n",
    "disagree = 0\n",
    "for edge in G_mini.edges(data=True):\n",
    "    if edge[2][\"agreement\"]:\n",
    "        agree += 1\n",
    "    else:\n",
    "        disagree += 1\n",
    "\n",
    "print(\"\\nmini graph\")\n",
    "print(\"agree:\", agree, \"\\ndisagree:\", disagree, \"\\ntotal:\", agree + disagree)"
   ]
  },
  {
   "cell_type": "code",
   "execution_count": 325,
   "metadata": {},
   "outputs": [
    {
     "name": "stdout",
     "output_type": "stream",
     "text": [
      "number of judges: 33\n",
      "number of amici: 19276\n",
      "number of cases: 4118\n",
      "avg number of cases per judge: 1119.4848484848485\n",
      "avg number of cases per amicus: 27.0\n"
     ]
    }
   ],
   "source": [
    "# sanity check for our data\n",
    "\n",
    "# number of judges\n",
    "print(\"number of judges:\", len(final_justices))\n",
    "\n",
    "# number of amici organizations\n",
    "print(\"number of amici:\", len(final_amici))\n",
    "\n",
    "# total number of amicus briefs\n",
    "print(\"number of cases:\", len(final_cases))\n",
    "\n",
    "# number of cases per judge\n",
    "cases_per_justice = {}\n",
    "\n",
    "for justice in final_justices:\n",
    "    cases_per_justice[justice] = len(final_cases_per_justice[justice])\n",
    "\n",
    "# number of cases per amicus\n",
    "cases_per_amicus = {}\n",
    "\n",
    "for amicus in final_amici:\n",
    "    cases_per_amicus[justice] = len(G.in_edges(amicus))\n",
    "\n",
    "print(\"avg number of cases per judge:\", np.mean(list(cases_per_justice.values())))\n",
    "print(\"avg number of cases per amicus:\", np.mean(list(cases_per_amicus.values())))"
   ]
  },
  {
   "cell_type": "markdown",
   "metadata": {},
   "source": [
    "### General graph characteristics"
   ]
  },
  {
   "cell_type": "code",
   "execution_count": 326,
   "metadata": {},
   "outputs": [
    {
     "name": "stdout",
     "output_type": "stream",
     "text": [
      "Graph size: 637414\n",
      "density: 0.0017097181625578058\n",
      "source vertex {target:length, }\n",
      "\n",
      "average shortest path length 0.9112662334678272\n"
     ]
    }
   ],
   "source": [
    "print(\"Graph size:\", G.size())\n",
    "print(f\"density: {nx.density(G)}\")\n",
    "\n",
    "pathlengths = []\n",
    "\n",
    "print(\"source vertex {target:length, }\")\n",
    "for v in G.nodes():\n",
    "    spl = dict(nx.single_source_shortest_path_length(G, v))\n",
    "    for p in spl:\n",
    "        pathlengths.append(spl[p])\n",
    "\n",
    "print()\n",
    "print(f\"average shortest path length {sum(pathlengths) / len(pathlengths)}\")"
   ]
  },
  {
   "cell_type": "code",
   "execution_count": 327,
   "metadata": {},
   "outputs": [
    {
     "name": "stdout",
     "output_type": "stream",
     "text": [
      "Average degree centrality 0.0034194363251156116\n",
      "Average eigenvector centrality 0.0010696872378155781\n"
     ]
    }
   ],
   "source": [
    "# The degree centrality for a node v is the fraction of nodes it is connected to\n",
    "deg_centrality = list(nx.degree_centrality(G).values())\n",
    "print(\"Average degree centrality\", np.mean(deg_centrality))\n",
    "\n",
    "eigenvector_centrality = list(nx.eigenvector_centrality_numpy(G).values())\n",
    "print(\"Average eigenvector centrality\", np.mean(eigenvector_centrality))\n",
    "\n",
    "# nx.average_node_connectivity(G)"
   ]
  },
  {
   "cell_type": "markdown",
   "metadata": {},
   "source": [
    "## Plot distribution of filings across cases"
   ]
  },
  {
   "cell_type": "code",
   "execution_count": 328,
   "metadata": {},
   "outputs": [
    {
     "data": {
      "text/html": [
       "<div>\n",
       "<style scoped>\n",
       "    .dataframe tbody tr th:only-of-type {\n",
       "        vertical-align: middle;\n",
       "    }\n",
       "\n",
       "    .dataframe tbody tr th {\n",
       "        vertical-align: top;\n",
       "    }\n",
       "\n",
       "    .dataframe thead th {\n",
       "        text-align: right;\n",
       "    }\n",
       "</style>\n",
       "<table border=\"1\" class=\"dataframe\">\n",
       "  <thead>\n",
       "    <tr style=\"text-align: right;\">\n",
       "      <th></th>\n",
       "      <th>case_name</th>\n",
       "      <th>justices</th>\n",
       "      <th>case_decision</th>\n",
       "      <th>decisiondirection</th>\n",
       "      <th>amici</th>\n",
       "      <th>conservative_amici</th>\n",
       "      <th>percent_conservative</th>\n",
       "      <th>distinct_amicus_positions</th>\n",
       "    </tr>\n",
       "  </thead>\n",
       "  <tbody>\n",
       "    <tr>\n",
       "      <th>1953 U.S. LEXIS 2673</th>\n",
       "      <td>WILKO v. SWAN et al., DOING BUSINESS AS HAYDEN...</td>\n",
       "      <td>[(HLBlack, 1.0, 2.0), (WODouglas, 1.0, 2.0), (...</td>\n",
       "      <td>3.0</td>\n",
       "      <td>2.0</td>\n",
       "      <td>[(SECURITIES AND EXCHANGE COMMISSION, 1)]</td>\n",
       "      <td>[False]</td>\n",
       "      <td>0.0</td>\n",
       "      <td>1</td>\n",
       "    </tr>\n",
       "    <tr>\n",
       "      <th>1953 U.S. LEXIS 2680</th>\n",
       "      <td>TOOLSON v. NEW YORK YANKEES, INC. et al.</td>\n",
       "      <td>[(HLBlack, 1.0, 1.0), (WODouglas, 1.0, 1.0), (...</td>\n",
       "      <td>2.0</td>\n",
       "      <td>1.0</td>\n",
       "      <td>[(BOSTON AMERICAN LEAGUE BASE BALL COMPANY, 2)]</td>\n",
       "      <td>[True]</td>\n",
       "      <td>1.0</td>\n",
       "      <td>1</td>\n",
       "    </tr>\n",
       "    <tr>\n",
       "      <th>1954 U.S. LEXIS 2094</th>\n",
       "      <td>BROWN et al. v. BOARD OF EDUCATION OF TOPEKA e...</td>\n",
       "      <td>[(HLBlack, 1.0, 2.0), (WODouglas, 1.0, 2.0), (...</td>\n",
       "      <td>1.0</td>\n",
       "      <td>2.0</td>\n",
       "      <td>[(AMERICAN FEDERATION OF TEACHERS, 1), (UNITED...</td>\n",
       "      <td>[True, True, True, True, True, True, True, Tru...</td>\n",
       "      <td>1.0</td>\n",
       "      <td>1</td>\n",
       "    </tr>\n",
       "    <tr>\n",
       "      <th>1954 U.S. LEXIS 2095</th>\n",
       "      <td>BOLLING et al. v. SHARPE et al.</td>\n",
       "      <td>[(HLBlack, 1.0, 2.0), (WODouglas, 1.0, 2.0), (...</td>\n",
       "      <td>1.0</td>\n",
       "      <td>2.0</td>\n",
       "      <td>[(AMERICAN FEDERATION OF TEACHERS, 1), (UNITED...</td>\n",
       "      <td>[True, True, True, True, True, True, True, Tru...</td>\n",
       "      <td>1.0</td>\n",
       "      <td>1</td>\n",
       "    </tr>\n",
       "    <tr>\n",
       "      <th>1954 U.S. LEXIS 2336</th>\n",
       "      <td>BENTSEN et al. v. BLACKWELL et al.</td>\n",
       "      <td>[(HLBlack, 1.0, 1.0), (WODouglas, 1.0, 1.0), (...</td>\n",
       "      <td>9.0</td>\n",
       "      <td>1.0</td>\n",
       "      <td>[(SECURITIES AND EXCHANGE COMMISSION, 2)]</td>\n",
       "      <td>[False]</td>\n",
       "      <td>0.0</td>\n",
       "      <td>1</td>\n",
       "    </tr>\n",
       "  </tbody>\n",
       "</table>\n",
       "</div>"
      ],
      "text/plain": [
       "                                                              case_name  \\\n",
       "1953 U.S. LEXIS 2673  WILKO v. SWAN et al., DOING BUSINESS AS HAYDEN...   \n",
       "1953 U.S. LEXIS 2680           TOOLSON v. NEW YORK YANKEES, INC. et al.   \n",
       "1954 U.S. LEXIS 2094  BROWN et al. v. BOARD OF EDUCATION OF TOPEKA e...   \n",
       "1954 U.S. LEXIS 2095                    BOLLING et al. v. SHARPE et al.   \n",
       "1954 U.S. LEXIS 2336                 BENTSEN et al. v. BLACKWELL et al.   \n",
       "\n",
       "                                                               justices  \\\n",
       "1953 U.S. LEXIS 2673  [(HLBlack, 1.0, 2.0), (WODouglas, 1.0, 2.0), (...   \n",
       "1953 U.S. LEXIS 2680  [(HLBlack, 1.0, 1.0), (WODouglas, 1.0, 1.0), (...   \n",
       "1954 U.S. LEXIS 2094  [(HLBlack, 1.0, 2.0), (WODouglas, 1.0, 2.0), (...   \n",
       "1954 U.S. LEXIS 2095  [(HLBlack, 1.0, 2.0), (WODouglas, 1.0, 2.0), (...   \n",
       "1954 U.S. LEXIS 2336  [(HLBlack, 1.0, 1.0), (WODouglas, 1.0, 1.0), (...   \n",
       "\n",
       "                      case_decision  decisiondirection  \\\n",
       "1953 U.S. LEXIS 2673            3.0                2.0   \n",
       "1953 U.S. LEXIS 2680            2.0                1.0   \n",
       "1954 U.S. LEXIS 2094            1.0                2.0   \n",
       "1954 U.S. LEXIS 2095            1.0                2.0   \n",
       "1954 U.S. LEXIS 2336            9.0                1.0   \n",
       "\n",
       "                                                                  amici  \\\n",
       "1953 U.S. LEXIS 2673          [(SECURITIES AND EXCHANGE COMMISSION, 1)]   \n",
       "1953 U.S. LEXIS 2680    [(BOSTON AMERICAN LEAGUE BASE BALL COMPANY, 2)]   \n",
       "1954 U.S. LEXIS 2094  [(AMERICAN FEDERATION OF TEACHERS, 1), (UNITED...   \n",
       "1954 U.S. LEXIS 2095  [(AMERICAN FEDERATION OF TEACHERS, 1), (UNITED...   \n",
       "1954 U.S. LEXIS 2336          [(SECURITIES AND EXCHANGE COMMISSION, 2)]   \n",
       "\n",
       "                                                     conservative_amici  \\\n",
       "1953 U.S. LEXIS 2673                                            [False]   \n",
       "1953 U.S. LEXIS 2680                                             [True]   \n",
       "1954 U.S. LEXIS 2094  [True, True, True, True, True, True, True, Tru...   \n",
       "1954 U.S. LEXIS 2095  [True, True, True, True, True, True, True, Tru...   \n",
       "1954 U.S. LEXIS 2336                                            [False]   \n",
       "\n",
       "                      percent_conservative  distinct_amicus_positions  \n",
       "1953 U.S. LEXIS 2673                   0.0                          1  \n",
       "1953 U.S. LEXIS 2680                   1.0                          1  \n",
       "1954 U.S. LEXIS 2094                   1.0                          1  \n",
       "1954 U.S. LEXIS 2095                   1.0                          1  \n",
       "1954 U.S. LEXIS 2336                   0.0                          1  "
      ]
     },
     "execution_count": 328,
     "metadata": {},
     "output_type": "execute_result"
    }
   ],
   "source": [
    "# create dataframe for ease of data manipulation\n",
    "df = pd.DataFrame.from_dict(preproc_data, orient=\"index\")\n",
    "df.head()"
   ]
  },
  {
   "cell_type": "code",
   "execution_count": 329,
   "metadata": {},
   "outputs": [
    {
     "data": {
      "text/html": [
       "<div>\n",
       "<style scoped>\n",
       "    .dataframe tbody tr th:only-of-type {\n",
       "        vertical-align: middle;\n",
       "    }\n",
       "\n",
       "    .dataframe tbody tr th {\n",
       "        vertical-align: top;\n",
       "    }\n",
       "\n",
       "    .dataframe thead th {\n",
       "        text-align: right;\n",
       "    }\n",
       "</style>\n",
       "<table border=\"1\" class=\"dataframe\">\n",
       "  <thead>\n",
       "    <tr style=\"text-align: right;\">\n",
       "      <th></th>\n",
       "      <th>amici</th>\n",
       "      <th>num_amici</th>\n",
       "    </tr>\n",
       "  </thead>\n",
       "  <tbody>\n",
       "    <tr>\n",
       "      <th>1953 U.S. LEXIS 2673</th>\n",
       "      <td>[(SECURITIES AND EXCHANGE COMMISSION, 1)]</td>\n",
       "      <td>1</td>\n",
       "    </tr>\n",
       "    <tr>\n",
       "      <th>1953 U.S. LEXIS 2680</th>\n",
       "      <td>[(BOSTON AMERICAN LEAGUE BASE BALL COMPANY, 2)]</td>\n",
       "      <td>1</td>\n",
       "    </tr>\n",
       "    <tr>\n",
       "      <th>1954 U.S. LEXIS 2094</th>\n",
       "      <td>[(AMERICAN FEDERATION OF TEACHERS, 1), (UNITED...</td>\n",
       "      <td>11</td>\n",
       "    </tr>\n",
       "    <tr>\n",
       "      <th>1954 U.S. LEXIS 2095</th>\n",
       "      <td>[(AMERICAN FEDERATION OF TEACHERS, 1), (UNITED...</td>\n",
       "      <td>21</td>\n",
       "    </tr>\n",
       "    <tr>\n",
       "      <th>1954 U.S. LEXIS 2336</th>\n",
       "      <td>[(SECURITIES AND EXCHANGE COMMISSION, 2)]</td>\n",
       "      <td>1</td>\n",
       "    </tr>\n",
       "  </tbody>\n",
       "</table>\n",
       "</div>"
      ],
      "text/plain": [
       "                                                                  amici  \\\n",
       "1953 U.S. LEXIS 2673          [(SECURITIES AND EXCHANGE COMMISSION, 1)]   \n",
       "1953 U.S. LEXIS 2680    [(BOSTON AMERICAN LEAGUE BASE BALL COMPANY, 2)]   \n",
       "1954 U.S. LEXIS 2094  [(AMERICAN FEDERATION OF TEACHERS, 1), (UNITED...   \n",
       "1954 U.S. LEXIS 2095  [(AMERICAN FEDERATION OF TEACHERS, 1), (UNITED...   \n",
       "1954 U.S. LEXIS 2336          [(SECURITIES AND EXCHANGE COMMISSION, 2)]   \n",
       "\n",
       "                      num_amici  \n",
       "1953 U.S. LEXIS 2673          1  \n",
       "1953 U.S. LEXIS 2680          1  \n",
       "1954 U.S. LEXIS 2094         11  \n",
       "1954 U.S. LEXIS 2095         21  \n",
       "1954 U.S. LEXIS 2336          1  "
      ]
     },
     "execution_count": 329,
     "metadata": {},
     "output_type": "execute_result"
    }
   ],
   "source": [
    "df[\"num_amici\"] = df[\"amici\"].apply(lambda x: len(x))\n",
    "df[[\"amici\", \"num_amici\"]].head(5)"
   ]
  },
  {
   "cell_type": "code",
   "execution_count": 330,
   "metadata": {},
   "outputs": [
    {
     "data": {
      "image/png": "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",
      "text/plain": [
       "<Figure size 640x480 with 1 Axes>"
      ]
     },
     "metadata": {},
     "output_type": "display_data"
    }
   ],
   "source": [
    "plt.hist(df[\"num_amici\"], bins=100)\n",
    "plt.ylabel(\"Count of cases\")\n",
    "plt.xlabel(\"Number of amici filings per case\");"
   ]
  },
  {
   "cell_type": "code",
   "execution_count": 331,
   "metadata": {},
   "outputs": [
    {
     "data": {
      "image/png": "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",
      "text/plain": [
       "<Figure size 640x480 with 1 Axes>"
      ]
     },
     "metadata": {},
     "output_type": "display_data"
    }
   ],
   "source": [
    "plt.hist(df[\"percent_conservative\"], bins=100)\n",
    "plt.ylabel(\"Count of cases\")\n",
    "plt.xlabel(\"Share of amici filings that align with conservative position per case\");"
   ]
  },
  {
   "cell_type": "code",
   "execution_count": 332,
   "metadata": {},
   "outputs": [
    {
     "data": {
      "text/plain": [
       "0.4544424297370807"
      ]
     },
     "execution_count": 332,
     "metadata": {},
     "output_type": "execute_result"
    }
   ],
   "source": [
    "(df[\"distinct_amicus_positions\"] == 1).mean()\n",
    "# in about 45% of cases all amici share the same position"
   ]
  },
  {
   "cell_type": "code",
   "execution_count": 333,
   "metadata": {},
   "outputs": [
    {
     "data": {
      "text/plain": [
       "0.16613780598368086"
      ]
     },
     "execution_count": 333,
     "metadata": {},
     "output_type": "execute_result"
    }
   ],
   "source": [
    "df[\"percent_conservative\"].isna().mean()"
   ]
  },
  {
   "cell_type": "code",
   "execution_count": 334,
   "metadata": {},
   "outputs": [
    {
     "data": {
      "text/plain": [
       "0.20126926563916592"
      ]
     },
     "execution_count": 334,
     "metadata": {},
     "output_type": "execute_result"
    }
   ],
   "source": [
    "# cut down cases with 1\n",
    "(df[\"num_amici\"] == 1).mean()"
   ]
  },
  {
   "cell_type": "markdown",
   "metadata": {},
   "source": [
    "## Check Distribution of Amici Directions\n",
    "\n",
    "* Additionally, check consistency of amici directions (are they always advocating for the same direction or does it switch frequently)"
   ]
  },
  {
   "cell_type": "code",
   "execution_count": 335,
   "metadata": {},
   "outputs": [
    {
     "data": {
      "text/html": [
       "<div>\n",
       "<style scoped>\n",
       "    .dataframe tbody tr th:only-of-type {\n",
       "        vertical-align: middle;\n",
       "    }\n",
       "\n",
       "    .dataframe tbody tr th {\n",
       "        vertical-align: top;\n",
       "    }\n",
       "\n",
       "    .dataframe thead th {\n",
       "        text-align: right;\n",
       "    }\n",
       "</style>\n",
       "<table border=\"1\" class=\"dataframe\">\n",
       "  <thead>\n",
       "    <tr style=\"text-align: right;\">\n",
       "      <th></th>\n",
       "      <th>lexisCite</th>\n",
       "      <th>amicus</th>\n",
       "      <th>position</th>\n",
       "      <th>direction</th>\n",
       "    </tr>\n",
       "  </thead>\n",
       "  <tbody>\n",
       "    <tr>\n",
       "      <th>0</th>\n",
       "      <td>1953 U.S. LEXIS 2673</td>\n",
       "      <td>SECURITIES AND EXCHANGE COMMISSION</td>\n",
       "      <td>1</td>\n",
       "      <td>2</td>\n",
       "    </tr>\n",
       "    <tr>\n",
       "      <th>1</th>\n",
       "      <td>1953 U.S. LEXIS 2680</td>\n",
       "      <td>BOSTON AMERICAN LEAGUE BASE BALL COMPANY</td>\n",
       "      <td>2</td>\n",
       "      <td>1</td>\n",
       "    </tr>\n",
       "    <tr>\n",
       "      <th>2</th>\n",
       "      <td>1954 U.S. LEXIS 2094</td>\n",
       "      <td>CONGRESS OF INDUSTRIAL ORGANIZATIONS</td>\n",
       "      <td>1</td>\n",
       "      <td>1</td>\n",
       "    </tr>\n",
       "    <tr>\n",
       "      <th>3</th>\n",
       "      <td>1954 U.S. LEXIS 2095</td>\n",
       "      <td>AMERICAN COUNCIL ON HUMAN RIGHTS</td>\n",
       "      <td>1</td>\n",
       "      <td>1</td>\n",
       "    </tr>\n",
       "    <tr>\n",
       "      <th>4</th>\n",
       "      <td>1954 U.S. LEXIS 2336</td>\n",
       "      <td>SECURITIES AND EXCHANGE COMMISSION</td>\n",
       "      <td>2</td>\n",
       "      <td>2</td>\n",
       "    </tr>\n",
       "  </tbody>\n",
       "</table>\n",
       "</div>"
      ],
      "text/plain": [
       "              lexisCite                                    amicus  position  \\\n",
       "0  1953 U.S. LEXIS 2673        SECURITIES AND EXCHANGE COMMISSION         1   \n",
       "1  1953 U.S. LEXIS 2680  BOSTON AMERICAN LEAGUE BASE BALL COMPANY         2   \n",
       "2  1954 U.S. LEXIS 2094      CONGRESS OF INDUSTRIAL ORGANIZATIONS         1   \n",
       "3  1954 U.S. LEXIS 2095          AMERICAN COUNCIL ON HUMAN RIGHTS         1   \n",
       "4  1954 U.S. LEXIS 2336        SECURITIES AND EXCHANGE COMMISSION         2   \n",
       "\n",
       "   direction  \n",
       "0          2  \n",
       "1          1  \n",
       "2          1  \n",
       "3          1  \n",
       "4          2  "
      ]
     },
     "execution_count": 335,
     "metadata": {},
     "output_type": "execute_result"
    }
   ],
   "source": [
    "# create a dataframe of all amicus positions for each case\n",
    "# we want to look at the direction of each position across all cases\n",
    "# and then we want to identify \"conservative\" amici as a static filter\n",
    "amici_cases = []\n",
    "for lexis_cite, docket in preproc_data.items():\n",
    "    amicus_case_data = {\"lexisCite\": lexis_cite}\n",
    "    for amicus in docket[\"amici\"]:\n",
    "        # identify the ideological direction of the amicus brief based on its relationship with the disposition\n",
    "        # and the disposition direction\n",
    "        amicus_direction = amicusDirection(\n",
    "            amicus[1], docket[\"case_decision\"], docket[\"decisiondirection\"]\n",
    "        )\n",
    "        \n",
    "        amicus_case_data['amicus'] = amicus[0]\n",
    "        amicus_case_data['position'] = amicus[1]\n",
    "        amicus_case_data['direction'] = amicus_direction\n",
    "        \n",
    "    amici_cases += [amicus_case_data]\n",
    "\n",
    "amicus_direction_data = pd.DataFrame(amici_cases)\n",
    "amicus_direction_data.head()"
   ]
  },
  {
   "cell_type": "code",
   "execution_count": 336,
   "metadata": {},
   "outputs": [
    {
     "data": {
      "text/plain": [
       "direction\n",
       "2     0.496147\n",
       "1     0.402765\n",
       "99    0.101088\n",
       "Name: proportion, dtype: float64"
      ]
     },
     "execution_count": 336,
     "metadata": {},
     "output_type": "execute_result"
    }
   ],
   "source": [
    "amicus_direction_data['direction'].value_counts(normalize=True)"
   ]
  },
  {
   "cell_type": "code",
   "execution_count": 337,
   "metadata": {},
   "outputs": [],
   "source": [
    "amicus_direction_data = amicus_direction_data[amicus_direction_data['direction'] != 99]"
   ]
  },
  {
   "cell_type": "code",
   "execution_count": 338,
   "metadata": {},
   "outputs": [
    {
     "data": {
      "text/plain": [
       "0.14712005551700208"
      ]
     },
     "execution_count": 338,
     "metadata": {},
     "output_type": "execute_result"
    }
   ],
   "source": [
    "direction_by_amicus = amicus_direction_data.groupby('amicus')['direction'].apply(lambda x: len(np.unique(x))).to_frame()\n",
    "(direction_by_amicus['direction'] > 1).mean()"
   ]
  },
  {
   "cell_type": "code",
   "execution_count": 339,
   "metadata": {},
   "outputs": [
    {
     "data": {
      "text/plain": [
       "direction\n",
       "1    0.85288\n",
       "2    0.14712\n",
       "Name: proportion, dtype: float64"
      ]
     },
     "execution_count": 339,
     "metadata": {},
     "output_type": "execute_result"
    }
   ],
   "source": [
    "direction_by_amicus['direction'].value_counts(normalize=True)"
   ]
  },
  {
   "cell_type": "code",
   "execution_count": 340,
   "metadata": {},
   "outputs": [
    {
     "data": {
      "text/plain": [
       "Text(0.5, 0, 'Percent of cases with a given direction per amicus')"
      ]
     },
     "execution_count": 340,
     "metadata": {},
     "output_type": "execute_result"
    },
    {
     "data": {
      "image/png": "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",
      "text/plain": [
       "<Figure size 640x480 with 1 Axes>"
      ]
     },
     "metadata": {},
     "output_type": "display_data"
    }
   ],
   "source": [
    "plt.hist((amicus_direction_data[['amicus', 'direction']].value_counts() / amicus_direction_data['amicus'].value_counts()).sort_index())\n",
    "plt.ylabel('Number of amici')\n",
    "plt.xlabel('Percent of cases with a given direction per amicus')"
   ]
  },
  {
   "cell_type": "code",
   "execution_count": 341,
   "metadata": {},
   "outputs": [
    {
     "data": {
      "text/plain": [
       "(1441, 1)"
      ]
     },
     "execution_count": 341,
     "metadata": {},
     "output_type": "execute_result"
    }
   ],
   "source": [
    "directions_per_amicus = amicus_direction_data[['amicus', 'direction']].value_counts().to_frame()\n",
    "directions_per_amicus.loc[directions_per_amicus.groupby('amicus')['count'].idxmax()].shape"
   ]
  },
  {
   "cell_type": "code",
   "execution_count": 342,
   "metadata": {},
   "outputs": [
    {
     "data": {
      "text/plain": [
       "(1441,)"
      ]
     },
     "execution_count": 342,
     "metadata": {},
     "output_type": "execute_result"
    }
   ],
   "source": [
    "amicus_direction_data['amicus'].value_counts().shape"
   ]
  },
  {
   "cell_type": "code",
   "execution_count": 343,
   "metadata": {},
   "outputs": [
    {
     "data": {
      "text/plain": [
       "0.8577376821651631"
      ]
     },
     "execution_count": 343,
     "metadata": {},
     "output_type": "execute_result"
    }
   ],
   "source": [
    "amicus_direction_mgd = pd.merge(directions_per_amicus.loc[directions_per_amicus.groupby('amicus')['count'].idxmax()]\\\n",
    "                                .rename({'count':'count_top_amicus'}, axis=1),  \\\n",
    "  amicus_direction_data['amicus'].value_counts().to_frame(), on = 'amicus')\n",
    "amicus_direction_mgd['percent'] = amicus_direction_mgd['count_top_amicus']/amicus_direction_mgd['count']\n",
    "(amicus_direction_mgd['percent'] > 0.9).mean()"
   ]
  },
  {
   "cell_type": "markdown",
   "metadata": {},
   "source": [
    "#"
   ]
  },
  {
   "cell_type": "markdown",
   "metadata": {},
   "source": [
    "## Apply additional filters, check dist\n",
    "* Drop cases with only 1 amicus\n",
    "* Drop cases with any amicus that has a missing value for conservative\n",
    "* Drop cases with unspecifiable decision direction"
   ]
  },
  {
   "cell_type": "code",
   "execution_count": 344,
   "metadata": {},
   "outputs": [
    {
     "data": {
      "text/html": [
       "<div>\n",
       "<style scoped>\n",
       "    .dataframe tbody tr th:only-of-type {\n",
       "        vertical-align: middle;\n",
       "    }\n",
       "\n",
       "    .dataframe tbody tr th {\n",
       "        vertical-align: top;\n",
       "    }\n",
       "\n",
       "    .dataframe thead th {\n",
       "        text-align: right;\n",
       "    }\n",
       "</style>\n",
       "<table border=\"1\" class=\"dataframe\">\n",
       "  <thead>\n",
       "    <tr style=\"text-align: right;\">\n",
       "      <th></th>\n",
       "      <th>case_name</th>\n",
       "      <th>justices</th>\n",
       "      <th>case_decision</th>\n",
       "      <th>decisiondirection</th>\n",
       "      <th>amici</th>\n",
       "      <th>conservative_amici</th>\n",
       "      <th>percent_conservative</th>\n",
       "      <th>distinct_amicus_positions</th>\n",
       "      <th>num_amici</th>\n",
       "    </tr>\n",
       "  </thead>\n",
       "  <tbody>\n",
       "    <tr>\n",
       "      <th>1954 U.S. LEXIS 2621</th>\n",
       "      <td>FEDERAL POWER COMMISSION v. NIAGARA MOHAWK POW...</td>\n",
       "      <td>[(HLBlack, 2.0, 2.0), (WODouglas, 2.0, 2.0), (...</td>\n",
       "      <td>2.0</td>\n",
       "      <td>1.0</td>\n",
       "      <td>[(NEW YORK, 3)]</td>\n",
       "      <td>[nan]</td>\n",
       "      <td>NaN</td>\n",
       "      <td>1</td>\n",
       "      <td>1</td>\n",
       "    </tr>\n",
       "    <tr>\n",
       "      <th>1954 U.S. LEXIS 2690</th>\n",
       "      <td>RADIO OFFICERS' UNION OF THE COMMERCIAL TELEGR...</td>\n",
       "      <td>[(HLBlack, 2.0, 2.0), (WODouglas, 2.0, 2.0), (...</td>\n",
       "      <td>2.0</td>\n",
       "      <td>1.0</td>\n",
       "      <td>[(NEWSPAPER AND MAIL DELIVERERS UNION OF NEW Y...</td>\n",
       "      <td>[nan]</td>\n",
       "      <td>NaN</td>\n",
       "      <td>1</td>\n",
       "      <td>1</td>\n",
       "    </tr>\n",
       "    <tr>\n",
       "      <th>1955 U.S. LEXIS 1186</th>\n",
       "      <td>TEE-HIT-TON INDIANS v. UNITED STATES</td>\n",
       "      <td>[(HLBlack, 1.0, 2.0), (WODouglas, 2.0, 1.0), (...</td>\n",
       "      <td>2.0</td>\n",
       "      <td>2.0</td>\n",
       "      <td>[(IDAHO, 3), (UTAH, 1), (NEW MEXICO, 3)]</td>\n",
       "      <td>[nan, True, nan]</td>\n",
       "      <td>NaN</td>\n",
       "      <td>2</td>\n",
       "      <td>3</td>\n",
       "    </tr>\n",
       "    <tr>\n",
       "      <th>1955 U.S. LEXIS 734</th>\n",
       "      <td>BROWN et al. v. BOARD OF EDUCATION OF TOPEKA e...</td>\n",
       "      <td>[(JHarlan2, 1.0, 2.0), (HLBlack, 1.0, 2.0), (W...</td>\n",
       "      <td>4.0</td>\n",
       "      <td>2.0</td>\n",
       "      <td>[(NORTH CAROLINA, 3), (UNITED STATES, 3), (MAR...</td>\n",
       "      <td>[nan, nan, nan, nan, nan, nan, nan, nan]</td>\n",
       "      <td>NaN</td>\n",
       "      <td>1</td>\n",
       "      <td>8</td>\n",
       "    </tr>\n",
       "    <tr>\n",
       "      <th>1956 U.S. LEXIS 1803</th>\n",
       "      <td>DE SYLVA v. BALLENTINE, GUARDIAN</td>\n",
       "      <td>[(JHarlan2, 1.0, 2.0), (HLBlack, 4.0, 2.0), (W...</td>\n",
       "      <td>2.0</td>\n",
       "      <td>2.0</td>\n",
       "      <td>[(REGISTER OF COPYRIGHTS, 3), (SONGWRITERS GUI...</td>\n",
       "      <td>[nan, True, True, True, True]</td>\n",
       "      <td>NaN</td>\n",
       "      <td>2</td>\n",
       "      <td>5</td>\n",
       "    </tr>\n",
       "    <tr>\n",
       "      <th>...</th>\n",
       "      <td>...</td>\n",
       "      <td>...</td>\n",
       "      <td>...</td>\n",
       "      <td>...</td>\n",
       "      <td>...</td>\n",
       "      <td>...</td>\n",
       "      <td>...</td>\n",
       "      <td>...</td>\n",
       "      <td>...</td>\n",
       "    </tr>\n",
       "    <tr>\n",
       "      <th>2014 U.S. LEXIS 4496</th>\n",
       "      <td>AMERICAN BROADCASTING COS. v. AEREO, INC.</td>\n",
       "      <td>[(JGRoberts, 1.0, 1.0), (AScalia, 2.0, 2.0), (...</td>\n",
       "      <td>4.0</td>\n",
       "      <td>1.0</td>\n",
       "      <td>[(MEDIA INSTITUTE, 1), (MAJOR LEAGUE BASEBALL,...</td>\n",
       "      <td>[True, True, True, True, True, True, True, Tru...</td>\n",
       "      <td>NaN</td>\n",
       "      <td>3</td>\n",
       "      <td>81</td>\n",
       "    </tr>\n",
       "    <tr>\n",
       "      <th>2014 U.S. LEXIS 4499</th>\n",
       "      <td>MCCULLEN v. COAKLEY</td>\n",
       "      <td>[(JGRoberts, 1.0, 1.0), (AScalia, 4.0, 1.0), (...</td>\n",
       "      <td>4.0</td>\n",
       "      <td>1.0</td>\n",
       "      <td>[(CENTER FOR CONSTITUTIONAL JURISPRUDENCE, 1),...</td>\n",
       "      <td>[True, True, True, True, True, True, True, Tru...</td>\n",
       "      <td>NaN</td>\n",
       "      <td>3</td>\n",
       "      <td>174</td>\n",
       "    </tr>\n",
       "    <tr>\n",
       "      <th>2014 U.S. LEXIS 4504</th>\n",
       "      <td>HARRIS v. QUINN</td>\n",
       "      <td>[(JGRoberts, 1.0, 1.0), (AScalia, 1.0, 1.0), (...</td>\n",
       "      <td>7.0</td>\n",
       "      <td>1.0</td>\n",
       "      <td>[(ILLINOIS POLICY INSTITUTE, 1), (CATO INSTITU...</td>\n",
       "      <td>[nan, nan, nan, nan, nan, nan, nan, nan, nan, ...</td>\n",
       "      <td>NaN</td>\n",
       "      <td>2</td>\n",
       "      <td>81</td>\n",
       "    </tr>\n",
       "    <tr>\n",
       "      <th>2014 U.S. LEXIS 4505</th>\n",
       "      <td>BURWELL v. HOBBY LOBBY STORES</td>\n",
       "      <td>[(JGRoberts, 1.0, 2.0), (AScalia, 1.0, 2.0), (...</td>\n",
       "      <td>2.0</td>\n",
       "      <td>2.0</td>\n",
       "      <td>[(INDIVIDUAL RIGHTS FOUNDATION, 2), (PACIFIC L...</td>\n",
       "      <td>[False, False, False, False, False, nan, nan, ...</td>\n",
       "      <td>NaN</td>\n",
       "      <td>3</td>\n",
       "      <td>356</td>\n",
       "    </tr>\n",
       "    <tr>\n",
       "      <th>2014 U.S. LEXIS 788</th>\n",
       "      <td>MEDTRONIC, INC. v. MIROWSKI FAMILY VENTURES, LLC</td>\n",
       "      <td>[(JGRoberts, 1.0, 2.0), (AScalia, 1.0, 2.0), (...</td>\n",
       "      <td>4.0</td>\n",
       "      <td>2.0</td>\n",
       "      <td>[(TESSERA TECHNOLOGIES, INC., 3), (UNITED STAT...</td>\n",
       "      <td>[nan, False, True, True]</td>\n",
       "      <td>NaN</td>\n",
       "      <td>3</td>\n",
       "      <td>4</td>\n",
       "    </tr>\n",
       "  </tbody>\n",
       "</table>\n",
       "<p>733 rows × 9 columns</p>\n",
       "</div>"
      ],
      "text/plain": [
       "                                                              case_name  \\\n",
       "1954 U.S. LEXIS 2621  FEDERAL POWER COMMISSION v. NIAGARA MOHAWK POW...   \n",
       "1954 U.S. LEXIS 2690  RADIO OFFICERS' UNION OF THE COMMERCIAL TELEGR...   \n",
       "1955 U.S. LEXIS 1186               TEE-HIT-TON INDIANS v. UNITED STATES   \n",
       "1955 U.S. LEXIS 734   BROWN et al. v. BOARD OF EDUCATION OF TOPEKA e...   \n",
       "1956 U.S. LEXIS 1803                   DE SYLVA v. BALLENTINE, GUARDIAN   \n",
       "...                                                                 ...   \n",
       "2014 U.S. LEXIS 4496          AMERICAN BROADCASTING COS. v. AEREO, INC.   \n",
       "2014 U.S. LEXIS 4499                                MCCULLEN v. COAKLEY   \n",
       "2014 U.S. LEXIS 4504                                    HARRIS v. QUINN   \n",
       "2014 U.S. LEXIS 4505                      BURWELL v. HOBBY LOBBY STORES   \n",
       "2014 U.S. LEXIS 788    MEDTRONIC, INC. v. MIROWSKI FAMILY VENTURES, LLC   \n",
       "\n",
       "                                                               justices  \\\n",
       "1954 U.S. LEXIS 2621  [(HLBlack, 2.0, 2.0), (WODouglas, 2.0, 2.0), (...   \n",
       "1954 U.S. LEXIS 2690  [(HLBlack, 2.0, 2.0), (WODouglas, 2.0, 2.0), (...   \n",
       "1955 U.S. LEXIS 1186  [(HLBlack, 1.0, 2.0), (WODouglas, 2.0, 1.0), (...   \n",
       "1955 U.S. LEXIS 734   [(JHarlan2, 1.0, 2.0), (HLBlack, 1.0, 2.0), (W...   \n",
       "1956 U.S. LEXIS 1803  [(JHarlan2, 1.0, 2.0), (HLBlack, 4.0, 2.0), (W...   \n",
       "...                                                                 ...   \n",
       "2014 U.S. LEXIS 4496  [(JGRoberts, 1.0, 1.0), (AScalia, 2.0, 2.0), (...   \n",
       "2014 U.S. LEXIS 4499  [(JGRoberts, 1.0, 1.0), (AScalia, 4.0, 1.0), (...   \n",
       "2014 U.S. LEXIS 4504  [(JGRoberts, 1.0, 1.0), (AScalia, 1.0, 1.0), (...   \n",
       "2014 U.S. LEXIS 4505  [(JGRoberts, 1.0, 2.0), (AScalia, 1.0, 2.0), (...   \n",
       "2014 U.S. LEXIS 788   [(JGRoberts, 1.0, 2.0), (AScalia, 1.0, 2.0), (...   \n",
       "\n",
       "                      case_decision  decisiondirection  \\\n",
       "1954 U.S. LEXIS 2621            2.0                1.0   \n",
       "1954 U.S. LEXIS 2690            2.0                1.0   \n",
       "1955 U.S. LEXIS 1186            2.0                2.0   \n",
       "1955 U.S. LEXIS 734             4.0                2.0   \n",
       "1956 U.S. LEXIS 1803            2.0                2.0   \n",
       "...                             ...                ...   \n",
       "2014 U.S. LEXIS 4496            4.0                1.0   \n",
       "2014 U.S. LEXIS 4499            4.0                1.0   \n",
       "2014 U.S. LEXIS 4504            7.0                1.0   \n",
       "2014 U.S. LEXIS 4505            2.0                2.0   \n",
       "2014 U.S. LEXIS 788             4.0                2.0   \n",
       "\n",
       "                                                                  amici  \\\n",
       "1954 U.S. LEXIS 2621                                    [(NEW YORK, 3)]   \n",
       "1954 U.S. LEXIS 2690  [(NEWSPAPER AND MAIL DELIVERERS UNION OF NEW Y...   \n",
       "1955 U.S. LEXIS 1186           [(IDAHO, 3), (UTAH, 1), (NEW MEXICO, 3)]   \n",
       "1955 U.S. LEXIS 734   [(NORTH CAROLINA, 3), (UNITED STATES, 3), (MAR...   \n",
       "1956 U.S. LEXIS 1803  [(REGISTER OF COPYRIGHTS, 3), (SONGWRITERS GUI...   \n",
       "...                                                                 ...   \n",
       "2014 U.S. LEXIS 4496  [(MEDIA INSTITUTE, 1), (MAJOR LEAGUE BASEBALL,...   \n",
       "2014 U.S. LEXIS 4499  [(CENTER FOR CONSTITUTIONAL JURISPRUDENCE, 1),...   \n",
       "2014 U.S. LEXIS 4504  [(ILLINOIS POLICY INSTITUTE, 1), (CATO INSTITU...   \n",
       "2014 U.S. LEXIS 4505  [(INDIVIDUAL RIGHTS FOUNDATION, 2), (PACIFIC L...   \n",
       "2014 U.S. LEXIS 788   [(TESSERA TECHNOLOGIES, INC., 3), (UNITED STAT...   \n",
       "\n",
       "                                                     conservative_amici  \\\n",
       "1954 U.S. LEXIS 2621                                              [nan]   \n",
       "1954 U.S. LEXIS 2690                                              [nan]   \n",
       "1955 U.S. LEXIS 1186                                   [nan, True, nan]   \n",
       "1955 U.S. LEXIS 734            [nan, nan, nan, nan, nan, nan, nan, nan]   \n",
       "1956 U.S. LEXIS 1803                      [nan, True, True, True, True]   \n",
       "...                                                                 ...   \n",
       "2014 U.S. LEXIS 4496  [True, True, True, True, True, True, True, Tru...   \n",
       "2014 U.S. LEXIS 4499  [True, True, True, True, True, True, True, Tru...   \n",
       "2014 U.S. LEXIS 4504  [nan, nan, nan, nan, nan, nan, nan, nan, nan, ...   \n",
       "2014 U.S. LEXIS 4505  [False, False, False, False, False, nan, nan, ...   \n",
       "2014 U.S. LEXIS 788                            [nan, False, True, True]   \n",
       "\n",
       "                      percent_conservative  distinct_amicus_positions  \\\n",
       "1954 U.S. LEXIS 2621                   NaN                          1   \n",
       "1954 U.S. LEXIS 2690                   NaN                          1   \n",
       "1955 U.S. LEXIS 1186                   NaN                          2   \n",
       "1955 U.S. LEXIS 734                    NaN                          1   \n",
       "1956 U.S. LEXIS 1803                   NaN                          2   \n",
       "...                                    ...                        ...   \n",
       "2014 U.S. LEXIS 4496                   NaN                          3   \n",
       "2014 U.S. LEXIS 4499                   NaN                          3   \n",
       "2014 U.S. LEXIS 4504                   NaN                          2   \n",
       "2014 U.S. LEXIS 4505                   NaN                          3   \n",
       "2014 U.S. LEXIS 788                    NaN                          3   \n",
       "\n",
       "                      num_amici  \n",
       "1954 U.S. LEXIS 2621          1  \n",
       "1954 U.S. LEXIS 2690          1  \n",
       "1955 U.S. LEXIS 1186          3  \n",
       "1955 U.S. LEXIS 734           8  \n",
       "1956 U.S. LEXIS 1803          5  \n",
       "...                         ...  \n",
       "2014 U.S. LEXIS 4496         81  \n",
       "2014 U.S. LEXIS 4499        174  \n",
       "2014 U.S. LEXIS 4504         81  \n",
       "2014 U.S. LEXIS 4505        356  \n",
       "2014 U.S. LEXIS 788           4  \n",
       "\n",
       "[733 rows x 9 columns]"
      ]
     },
     "execution_count": 344,
     "metadata": {},
     "output_type": "execute_result"
    }
   ],
   "source": [
    "df.loc[df[\"percent_conservative\"].isna()]"
   ]
  },
  {
   "cell_type": "code",
   "execution_count": 345,
   "metadata": {},
   "outputs": [
    {
     "data": {
      "text/plain": [
       "0.5861287398005439"
      ]
     },
     "execution_count": 345,
     "metadata": {},
     "output_type": "execute_result"
    }
   ],
   "source": [
    "(\n",
    "    (df[\"num_amici\"] == 1)\n",
    "    | (df[\"decisiondirection\"] == 3)\n",
    "    | (df[\"percent_conservative\"].isna())\n",
    "    | (df['percent_conservative']>=1)\n",
    "    | (df['percent_conservative']<=0)\n",
    ").mean()\n",
    "# we are dropping ~59% of the data"
   ]
  },
  {
   "cell_type": "code",
   "execution_count": 346,
   "metadata": {},
   "outputs": [],
   "source": [
    "assert df.index.unique().shape[0] == df.shape[0]"
   ]
  },
  {
   "cell_type": "code",
   "execution_count": 347,
   "metadata": {},
   "outputs": [],
   "source": [
    "df_filt = df[\n",
    "    ~(\n",
    "        (df[\"num_amici\"] == 1)\n",
    "        | (df[\"decisiondirection\"] == 3)\n",
    "        | (df[\"percent_conservative\"].isna())\n",
    "    )\n",
    "]\n",
    "\n",
    "# exclude cases where amici are all in agreement\n",
    "df_filt = df_filt.loc[(df_filt['percent_conservative']<1) & (df_filt['percent_conservative']>0)]"
   ]
  },
  {
   "cell_type": "code",
<<<<<<< HEAD
   "execution_count": 697,
=======
   "execution_count": 348,
>>>>>>> 74cdbbe0f09637b9981b0198e116947092911304
   "metadata": {},
   "outputs": [
    {
     "data": {
<<<<<<< HEAD
      "image/png": "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",
=======
      "image/png": "iVBORw0KGgoAAAANSUhEUgAAAjsAAAGwCAYAAABPSaTdAAAAOXRFWHRTb2Z0d2FyZQBNYXRwbG90bGliIHZlcnNpb24zLjguMiwgaHR0cHM6Ly9tYXRwbG90bGliLm9yZy8g+/7EAAAACXBIWXMAAA9hAAAPYQGoP6dpAABJR0lEQVR4nO3deVhUZf8/8PcAMkBsgrIlihuIIrgloQYuuGeZprmkmKapuKKlPC64VJiWWUb61Z+plWaPPi6lPi5g4IamKK6AoqCVgLkxojls9+8PL87jsCiDM8zM8f26rrkuzjn3nPmcm5kz77nPmTMKIYQAERERkUyZGboAIiIiIn1i2CEiIiJZY9ghIiIiWWPYISIiIllj2CEiIiJZY9ghIiIiWWPYISIiIllj2AEghIBKpQIvOURERCQ/DDsA7t+/DwcHB9y/f9/QpRAREZGOMewQERGRrDHsEBERkawx7BAREZGsMewQERGRrDHsEBERkawx7BAREZGsMewQERGRrDHsEBERkawx7BAREZGsMewQERGRrDHsEBERkawx7BAREZGsMewQERGRrDHsEBERkawx7BAREZGsMewQERGRrDHsEBERkaxZGLoAIiJd8pq5q8y8zEW9DVAJERkLjuwQERGRrDHsEBERkawx7BAREZGsMewQERGRrDHsEBERkawx7BAREZGsMewQERGRrDHsEBERkawx7BAREZGsMewQERGRrBk07ERHR+OVV16BnZ0dXFxc0LdvX6SlpWm0efToEcLDw+Hs7AxbW1v0798fOTk5Gm2uX7+O3r17w8bGBi4uLvjwww9RWFhYnZtCRERERsqgYSchIQHh4eE4duwY9u/fj4KCAnTr1g0PHjyQ2kydOhW//vorNm/ejISEBNy4cQP9+vWTlhcVFaF3797Iz8/H0aNHsX79eqxbtw5z5841xCYRERGRkVEIIYShiyjx999/w8XFBQkJCQgODkZubi5q166NjRs34u233wYApKamwtfXF4mJiXj11Vfx3//+F6+//jpu3LgBV1dXAMDKlSsxY8YM/P3337C0tHzm46pUKjg4OCA3Nxf29vZ63UYi0i/+ECgRlWZU5+zk5uYCAJycnAAASUlJKCgoQGhoqNSmSZMmqFu3LhITEwEAiYmJaN68uRR0AKB79+5QqVS4cOFCuY+jVquhUqk0bkRERCRPRhN2iouLMWXKFLRv3x5+fn4AgOzsbFhaWsLR0VGjraurK7Kzs6U2TwadkuUly8oTHR0NBwcH6ebp6anjrSEiIiJjYTRhJzw8HOfPn8emTZv0/liRkZHIzc2Vbn/88YfeH5OIiIgMw8LQBQDAhAkTsHPnThw8eBB16tSR5ru5uSE/Px/37t3TGN3JycmBm5ub1Ob333/XWF/Jt7VK2pSmVCqhVCp1vBVERERkjAw6siOEwIQJE7Bt2zYcOHAA9evX11jeunVr1KhRA3FxcdK8tLQ0XL9+HUFBQQCAoKAgnDt3Djdv3pTa7N+/H/b29mjatGn1bAgREREZLYOO7ISHh2Pjxo3YsWMH7OzspHNsHBwcYG1tDQcHB4waNQoRERFwcnKCvb09Jk6ciKCgILz66qsAgG7duqFp06YYNmwYFi9ejOzsbMyePRvh4eEcvSEiIiLDhp0VK1YAADp27Kgxf+3atRgxYgQA4Msvv4SZmRn69+8PtVqN7t2749tvv5XampubY+fOnRg3bhyCgoLw0ksvISwsDAsWLKiuzSAiIiIjZlTX2TEUXmeHSD54nR0iKs1ovo1FREREpA8MO0RERCRrDDtEREQkaww7REREJGsMO0RERCRrDDtEREQkaww7REREJGsMO0RERCRrDDtEREQkaww7REREJGsMO0RERCRrDDtEREQkaww7REREJGsMO0RERCRrDDtEREQkaww7REREJGsMO0RERCRrDDtEREQkaww7REREJGsMO0RERCRrDDtEREQkaww7REREJGsMO0RERCRrDDtEREQkaww7REREJGsMO0RERCRrDDtEREQkaww7REREJGsMO0RERCRrDDtEREQkaww7REREJGsGDTsHDx5Enz594OHhAYVCge3bt2ssVygU5d6WLFkitfHy8iqzfNGiRdW8JURERGSsDBp2Hjx4gICAAMTExJS7PCsrS+P23XffQaFQoH///hrtFixYoNFu4sSJ1VE+ERERmQALQz54z5490bNnzwqXu7m5aUzv2LEDnTp1QoMGDTTm29nZlWlLREREBJjQOTs5OTnYtWsXRo0aVWbZokWL4OzsjJYtW2LJkiUoLCx86rrUajVUKpXGjYiIiOTJoCM72li/fj3s7OzQr18/jfmTJk1Cq1at4OTkhKNHjyIyMhJZWVlYunRpheuKjo7G/Pnz9V0yERERGQGFEEIYugjg8cnI27ZtQ9++fctd3qRJE3Tt2hXLly9/6nq+++47fPDBB8jLy4NSqSy3jVqthlqtlqZVKhU8PT2Rm5sLe3v7Km8DERme18xdZeZlLuptgEqIyFiYxMjOoUOHkJaWhp9//vmZbQMDA1FYWIjMzEz4+PiU20apVFYYhIiIiEheTOKcnTVr1qB169YICAh4Ztvk5GSYmZnBxcWlGiojIiIiY2fQkZ28vDykp6dL0xkZGUhOToaTkxPq1q0L4PEhps2bN+OLL74oc//ExEQcP34cnTp1gp2dHRITEzF16lS8++67qFmzZrVtBxERERkvg4adkydPolOnTtJ0REQEACAsLAzr1q0DAGzatAlCCAwePLjM/ZVKJTZt2oR58+ZBrVajfv36mDp1qrQeIiIiIqM5QdmQVCoVHBwceIIykQzwBGUiKs0kztkhIiIiqiqGHSIiIpI1hh0iIiKSNYYdIiIikjWGHSIiIpI1hh0iIiKSNYYdIiIikjWGHSIiIpI1hh0iIiKSNYYdIiIikjWGHSIiIpI1hh0iIiKSNYYdIiIikjWGHSIiIpI1hh0iIiKSNYYdIiIikjWGHSIiIpI1hh0iIiKSNYYdIiIikjWGHSIiIpI1hh0iIiKSNYYdIiIikjWGHSIiIpI1hh0iIiKSNYYdIiIikjWGHSIiIpI1hh0iIiKSNYYdIiIikjWGHSIiIpI1hh0iIiKSNYYdIiIikjWDhp2DBw+iT58+8PDwgEKhwPbt2zWWjxgxAgqFQuPWo0cPjTZ37tzB0KFDYW9vD0dHR4waNQp5eXnVuBVERERkzAwadh48eICAgADExMRU2KZHjx7IysqSbj/99JPG8qFDh+LChQvYv38/du7ciYMHD2LMmDH6Lp2IiIhMhIUhH7xnz57o2bPnU9solUq4ubmVuywlJQV79uzBiRMn0KZNGwDA8uXL0atXL3z++efw8PDQec1ERERkWoz+nJ34+Hi4uLjAx8cH48aNw+3bt6VliYmJcHR0lIIOAISGhsLMzAzHjx+vcJ1qtRoqlUrjRkRERPJk1GGnR48e+P777xEXF4fPPvsMCQkJ6NmzJ4qKigAA2dnZcHFx0biPhYUFnJyckJ2dXeF6o6Oj4eDgIN08PT31uh1ERERkOAY9jPUsgwYNkv5u3rw5/P390bBhQ8THx6NLly5VXm9kZCQiIiKkaZVKxcBDREQkU0Y9slNagwYNUKtWLaSnpwMA3NzccPPmTY02hYWFuHPnToXn+QCPzwOyt7fXuBEREZE8mVTY+fPPP3H79m24u7sDAIKCgnDv3j0kJSVJbQ4cOIDi4mIEBgYaqkwiIiIyIgY9jJWXlyeN0gBARkYGkpOT4eTkBCcnJ8yfPx/9+/eHm5sbrly5go8++giNGjVC9+7dAQC+vr7o0aMHRo8ejZUrV6KgoAATJkzAoEGD+E0sIiIiAmDgkZ2TJ0+iZcuWaNmyJQAgIiICLVu2xNy5c2Fubo6zZ8/ijTfegLe3N0aNGoXWrVvj0KFDUCqV0jo2bNiAJk2aoEuXLujVqxc6dOiAVatWGWqTiIiIyMgohBDC0EUYmkqlgoODA3Jzc3n+DpGJ85q5q8y8zEW9DVAJERkLkzpnh4iIiEhbDDtEREQkaww7REREJGsMO0RERCRrDDtEREQkaww7REREJGsMO0RERCRrDDtEREQkaww7REREJGsMO0RERCRrDDtEREQkaww7REREJGtah509e/bg8OHD0nRMTAxatGiBIUOG4O7duzotjoiIiOh5aR12PvzwQ6hUKgDAuXPnMG3aNPTq1QsZGRmIiIjQeYFEREREz8NC2ztkZGSgadOmAID//Oc/eP311/Hpp5/i1KlT6NWrl84LJCIiInoeWo/sWFpa4uHDhwCA2NhYdOvWDQDg5OQkjfgQERERGQutR3Y6dOiAiIgItG/fHr///jt+/vlnAMClS5dQp04dnRdIRERE9Dy0Htn55ptvYGFhgS1btmDFihV4+eWXAQD//e9/0aNHD50XSERERPQ8FEIIYegiDE2lUsHBwQG5ubmwt7c3dDlE9By8Zu4qMy9zUW8DVEJExqJK19m5cuUKZs+ejcGDB+PmzZsAHo/sXLhwQafFERERET0vrcNOQkICmjdvjuPHj2Pr1q3Iy8sDAJw5cwZRUVE6L5CIiIjoeWgddmbOnImPP/4Y+/fvh6WlpTS/c+fOOHbsmE6LIyIiInpeWoedc+fO4a233ioz38XFBbdu3dJJUURERES6onXYcXR0RFZWVpn5p0+flr6ZRURERGQstA47gwYNwowZM5CdnQ2FQoHi4mIcOXIE06dPx/Dhw/VRIxEREVGVaR12Pv30UzRp0gSenp7Iy8tD06ZNERwcjHbt2mH27Nn6qJGIiIioyrS+grKlpSVWr16NuXPn4ty5c8jLy0PLli3RuHFjfdRHRERE9Fy0DjslPD094enpiaKiIpw7dw53795FzZo1dVkbERER0XPT+jDWlClTsGbNGgBAUVERQkJC0KpVK3h6eiI+Pl7X9RERERE9F63DzpYtWxAQEAAA+PXXX3H16lWkpqZi6tSpmDVrls4LJCIiInoeWoedW7duwc3NDQCwe/duDBw4EN7e3hg5ciTOnTun8wKJiIiInofWYcfV1RUXL15EUVER9uzZg65duwIAHj58CHNzc50XSERERPQ8tA477733HgYOHAg/Pz8oFAqEhoYCAI4fP44mTZpota6DBw+iT58+8PDwgEKhwPbt26VlBQUFmDFjBpo3b46XXnoJHh4eGD58OG7cuKGxDi8vLygUCo3bokWLtN0sIiIikimtv401b948+Pn54Y8//sCAAQOgVCoBAObm5pg5c6ZW63rw4AECAgIwcuRI9OvXT2PZw4cPcerUKcyZMwcBAQG4e/cuJk+ejDfeeAMnT57UaLtgwQKMHj1amrazs9N2s4iIiEimqvTV87fffrvMvLCwMK3X07NnT/Ts2bPcZQ4ODti/f7/GvG+++QZt27bF9evXUbduXWm+nZ2ddB5RZajVaqjVamlapVJpWTkRERGZiiqFnQcPHiAhIQHXr19Hfn6+xrJJkybppLDy5ObmQqFQwNHRUWP+okWLsHDhQtStWxdDhgzB1KlTYWFR8aZFR0dj/vz5equTiIiIjIfWYef06dPo1asXHj58iAcPHsDJyQm3bt2CjY0NXFxc9BZ2Hj16hBkzZmDw4MGwt7eX5k+aNAmtWrWCk5MTjh49isjISGRlZWHp0qUVrisyMhIRERHStEqlgqenp17qJiIiIsPSOuxMnToVffr0wcqVK+Hg4IBjx46hRo0aePfddzF58mR91IiCggIMHDgQQgisWLFCY9mTocXf3x+Wlpb44IMPEB0dLZ1PVJpSqaxwGREREcmL1t/GSk5OxrRp02BmZgZzc3Oo1Wp4enpi8eLF+Ne//qXzAkuCzrVr17B//36NUZ3yBAYGorCwEJmZmTqvhYiIiEyP1mGnRo0aMDN7fDcXFxdcv34dwOMTiv/44w+dFlcSdC5fvozY2Fg4Ozs/8z7JyckwMzODi4uLTmshIiIi06T1YayWLVvixIkTaNy4MUJCQjB37lzcunULP/zwA/z8/LRaV15eHtLT06XpjIwMJCcnw8nJCe7u7nj77bdx6tQp7Ny5E0VFRcjOzgYAODk5wdLSEomJiTh+/Dg6deoEOzs7JCYmYurUqXj33Xf5o6REREQEAFAIIYQ2dzh58iTu37+PTp064ebNmxg+fDiOHj2Kxo0bY82aNWjRokWl1xUfH49OnTqVmR8WFoZ58+ahfv365d7vt99+Q8eOHXHq1CmMHz8eqampUKvVqF+/PoYNG4aIiAitzslRqVRwcHBAbm7uMw+TEZFx85q5q8y8zEW9DVAJERkLrcOOHDHsEMkHww4Rlab1OTsZGRm4fPlymfmXL1/mScFERERkdLQOOyNGjMDRo0fLzD9+/DhGjBihi5qIiIiIdEbrsHP69Gm0b9++zPxXX30VycnJuqiJiIiISGe0DjsKhQL3798vMz83NxdFRUU6KYqIiIhIV7QOO8HBwYiOjtYINkVFRYiOjkaHDh10WhwRERHR89L6OjufffYZgoOD4ePjg9deew0AcOjQIahUKhw4cEDnBRIRERE9D61Hdpo2bYqzZ89i4MCBuHnzJu7fv4/hw4cjNTVV64sKEhEREemb1iM7AODh4YFPP/1U17UQERER6ZzWIztEREREpoRhh4iIiGSNYYeIiIhkrVJh55dffkFBQYG+ayEiIiLSuUqFnbfeegv37t0DAJibm+PmzZv6rImIiIhIZyoVdmrXro1jx44BAIQQUCgUei2KiIiISFcq9dXzsWPH4s0334RCoYBCoYCbm1uFbfmTEUS64zVzV5l5mYt6G6ASIiLTVamwM2/ePAwaNAjp6el44403sHbtWjg6Ouq5NCIiIqLnV+mLCjZp0gRNmjRBVFQUBgwYABsbG33WRURERKQTWl9BOSoqCgDw999/Iy0tDQDg4+OD2rVr67YyIiIiIh3Q+jo7Dx8+xMiRI+Hh4YHg4GAEBwfDw8MDo0aNwsOHD/VRIxEREVGVaR12pk6dioSEBPzyyy+4d+8e7t27hx07diAhIQHTpk3TR41EREREVab1Yaz//Oc/2LJlCzp27CjN69WrF6ytrTFw4ECsWLFCl/URERERPZcqHcZydXUtM9/FxYWHsYiIiMjoaB12goKCEBUVhUePHknz/vnnH8yfPx9BQUE6LY6IiIjoeWl9GOurr75C9+7dUadOHQQEBAAAzpw5AysrK+zdu1fnBRIRERE9D63Djp+fHy5fvowNGzYgNTUVADB48GAMHToU1tbWOi+QiIiI6HloHXYAwMbGBqNHj9Z1LUREREQ6p/U5O0RERESmhGGHiIiIZI1hh4iIiGSNYYeIiIhkTeuw06BBA9y+fbvM/Hv37qFBgwY6KYqIiIhIV7QOO5mZmSgqKiozX61W46+//tJqXQcPHkSfPn3g4eEBhUKB7du3aywXQmDu3Llwd3eHtbU1QkNDcfnyZY02d+7cwdChQ2Fvbw9HR0eMGjUKeXl52m4WERERyVSlv3r+yy+/SH/v3bsXDg4O0nRRURHi4uLg5eWl1YM/ePAAAQEBGDlyJPr161dm+eLFi/H1119j/fr1qF+/PubMmYPu3bvj4sWLsLKyAgAMHToUWVlZ2L9/PwoKCvDee+9hzJgx2Lhxo1a1EBERkTxVOuz07dsXAKBQKBAWFqaxrEaNGvDy8sIXX3yh1YP37NkTPXv2LHeZEALLli3D7Nmz8eabbwIAvv/+e7i6umL79u0YNGgQUlJSsGfPHpw4cQJt2rQBACxfvhy9evXC559/Dg8Pj3LXrVaroVarpWmVSqVV3URERGQ6Kh12iouLAQD169fHiRMnUKtWLb0VBQAZGRnIzs5GaGioNM/BwQGBgYFITEzEoEGDkJiYCEdHRynoAEBoaCjMzMxw/PhxvPXWW+WuOzo6GvPnz9dr/UREpsJr5i6N6cxFvQ1UCZF+aH3OTkZGht6DDgBkZ2cDQJlfWHd1dZWWZWdnw8XFRWO5hYUFnJycpDbliYyMRG5urnT7448/dFw9ERERGYsq/VxEXFwc4uLicPPmTWnEp8R3332nk8L0SalUQqlUGroMIiIiqgZaj+zMnz8f3bp1Q1xcHG7duoW7d+9q3HTFzc0NAJCTk6MxPycnR1rm5uaGmzdvaiwvLCzEnTt3pDZERET0YtN6ZGflypVYt24dhg0bpo96JPXr14ebmxvi4uLQokULAI9PJD5+/DjGjRsHAAgKCsK9e/eQlJSE1q1bAwAOHDiA4uJiBAYG6rU+IiIiMg1ah538/Hy0a9dOJw+el5eH9PR0aTojIwPJyclwcnJC3bp1MWXKFHz88cdo3Lix9NVzDw8P6Zthvr6+6NGjB0aPHo2VK1eioKAAEyZMwKBBgyr8JhYRERG9WLQ+jPX+++/r7Bo2J0+eRMuWLdGyZUsAQEREBFq2bIm5c+cCAD766CNMnDgRY8aMwSuvvIK8vDzs2bNHusYOAGzYsAFNmjRBly5d0KtXL3To0AGrVq3SSX1ERERk+rQe2Xn06BFWrVqF2NhY+Pv7o0aNGhrLly5dWul1dezYEUKICpcrFAosWLAACxYsqLCNk5MTLyBIREREFdI67Jw9e1Y6h+b8+fMayxQKhU6KIiIiItIVrcPOb7/9po86iIiIiPRC63N2iIiIiEyJ1iM7nTp1eurhqgMHDjxXQURERES6pHXYKTlfp0RBQQGSk5Nx/vz5Mj8QSkRERGRoWoedL7/8stz58+bNQ15e3nMXRERERKRLOjtn59133zWJ38UiIiKiF4vOwk5iYqLGxf6IiIiIjIHWh7H69eunMS2EQFZWFk6ePIk5c+borDAiIiIiXdA67Dg4OGhMm5mZwcfHBwsWLEC3bt10VhgRERGRLmgddtauXauPOoiIiIj0QuuwUyIpKQkpKSkAgGbNmkk/5klERERkTLQOOzdv3sSgQYMQHx8PR0dHAMC9e/fQqVMnbNq0CbVr19Z1jURERERVpvW3sSZOnIj79+/jwoULuHPnDu7cuYPz589DpVJh0qRJ+qiRiIiIqMq0HtnZs2cPYmNj4evrK81r2rQpYmJieIIyERERGR2tR3aKi4tRo0aNMvNr1KiB4uJinRRFREREpCtah53OnTtj8uTJuHHjhjTvr7/+wtSpU9GlSxedFkdERET0vLQOO9988w1UKhW8vLzQsGFDNGzYEPXr14dKpcLy5cv1USMRERFRlWl9zo6npydOnTqF2NhYpKamAgB8fX0RGhqq8+KIiIiInleVrrOjUCjQtWtXdO3aVdf1EBEREelUpQ9jHThwAE2bNoVKpSqzLDc3F82aNcOhQ4d0WhwRERHR86p02Fm2bBlGjx4Ne3v7MsscHBzwwQcfYOnSpTotjoiIiOh5VTrsnDlzBj169Khwebdu3ZCUlKSTooiIiIh0pdJhJycnp9zr65SwsLDA33//rZOiiIiIiHSl0mHn5Zdfxvnz5ytcfvbsWbi7u+ukKCIiIiJdqXTY6dWrF+bMmYNHjx6VWfbPP/8gKioKr7/+uk6LIyIiInpelf7q+ezZs7F161Z4e3tjwoQJ8PHxAQCkpqYiJiYGRUVFmDVrlt4KJSIiIqqKSocdV1dXHD16FOPGjUNkZCSEEAAeX3One/fuiImJgaurq94KJSIiIqoKrS4qWK9ePezevRt3795Feno6hBBo3Lgxatasqa/6iIiIiJ5Lla6gXLNmTbzyyiu6roWIiIhI57T+IVAiIiIiU2L0YcfLywsKhaLMLTw8HADQsWPHMsvGjh1r4KrJVHnN3FXmRkREpq1Kh7Gq04kTJ1BUVCRNnz9/Hl27dsWAAQOkeaNHj8aCBQukaRsbm2qtkYiIiIyX0Yed2rVra0wvWrQIDRs2REhIiDTPxsYGbm5ulV6nWq2GWq2Wpsv7cVMiIiKSB6M/jPWk/Px8/Pjjjxg5ciQUCoU0f8OGDahVqxb8/PwQGRmJhw8fPnU90dHRcHBwkG6enp76Lp2IiIgMxOhHdp60fft23Lt3DyNGjJDmDRkyBPXq1YOHhwfOnj2LGTNmIC0tDVu3bq1wPZGRkYiIiJCmVSoVAw8REZFMmVTYWbNmDXr27AkPDw9p3pgxY6S/mzdvDnd3d3Tp0gVXrlxBw4YNy12PUqmEUqnUe71ERERkeCZzGOvatWuIjY3F+++//9R2gYGBAID09PTqKIuIiIiMnMmEnbVr18LFxQW9e/d+arvk5GQA4C+wExEREQATOYxVXFyMtWvXIiwsDBYW/yv5ypUr2LhxI3r16gVnZ2ecPXsWU6dORXBwMPz9/Q1YMRERERkLkwg7sbGxuH79OkaOHKkx39LSErGxsVi2bBkePHgAT09P9O/fH7NnzzZQpURERGRsTCLsdOvWTfqV9Sd5enoiISHBABURERGRqTCZc3aIiIiIqoJhh4iIiGSNYYeIiIhkjWGHiIiIZI1hh4iIiGSNYYeIiIhkjWGHiIiIZI1hh4iIiGSNYYeIiIhkjWGHiIiIZI1hh4iIiGSNYYeIiIhkjWGHiIiIZI1hh4iIiGSNYYeIiIhkjWGHiIiIZI1hh4iIiGSNYYeIiIhkjWGHiIiIZI1hh4iIiGSNYYeIiIhkjWGHiIiIZI1hh4iIiGSNYYeIiIhkjWGHiIiIZI1hh4iIiGSNYYeIiIhkjWGHiIiIZI1hh4iIiGSNYYeIiIhkjWGHiIiIZM2ow868efOgUCg0bk2aNJGWP3r0COHh4XB2doatrS369++PnJwcA1ZMRERExsaoww4ANGvWDFlZWdLt8OHD0rKpU6fi119/xebNm5GQkIAbN26gX79+BqyWiIiIjI2FoQt4FgsLC7i5uZWZn5ubizVr1mDjxo3o3LkzAGDt2rXw9fXFsWPH8Oqrr1Z3qURERGSEjH5k5/Lly/Dw8ECDBg0wdOhQXL9+HQCQlJSEgoIChIaGSm2bNGmCunXrIjEx8anrVKvVUKlUGjciIiKSJ6MOO4GBgVi3bh327NmDFStWICMjA6+99hru37+P7OxsWFpawtHRUeM+rq6uyM7Ofup6o6Oj4eDgIN08PT31uBVERERkSEZ9GKtnz57S3/7+/ggMDES9evXw73//G9bW1lVeb2RkJCIiIqRplUrFwENERCRTRj2yU5qjoyO8vb2Rnp4ONzc35Ofn4969exptcnJyyj3H50lKpRL29vYaNyIiIpInox7ZKS0vLw9XrlzBsGHD0Lp1a9SoUQNxcXHo378/ACAtLQ3Xr19HUFCQgSslIqKq8pq5S2M6c1FvA1VCcmHUYWf69Ono06cP6tWrhxs3biAqKgrm5uYYPHgwHBwcMGrUKERERMDJyQn29vaYOHEigoKC+E0sIiIikhh12Pnzzz8xePBg3L59G7Vr10aHDh1w7Ngx1K5dGwDw5ZdfwszMDP3794darUb37t3x7bffGrhqIiIyRqVHjACOGr0ojDrsbNq06anLraysEBMTg5iYmGqqiIiIiEyNSZ2gTERERKQthh0iIiKSNYYdIiIikjWGHSIiIpI1hh0iIiKSNYYdIiIikjWGHSIiIpI1hh0iIiKSNYYdIiIikjWGHSIiIpI1hh0iIiKSNaP+bSyiipT+QT/+mB8REVWEIztEREQkaww7REREJGsMO0RERCRrDDtEREQkaww7REREJGsMO0RERCRrDDtEREQka7zODlUrXh+HiIiqG0d2iIiISNY4skNEZGClRzwBjnoS6RJHdoiIiEjWOLJDRERkJDjKpx8c2SEiIiJZY9ghIiIiWeNhLCIiIpmpzOGwF+mQGUd2iIiISNYYdoiIiEjWGHaIiIhI1hh2iIiISNaM+gTl6OhobN26FampqbC2tka7du3w2WefwcfHR2rTsWNHJCQkaNzvgw8+wMqVK6u7XCIiokor7wRh0g+jHtlJSEhAeHg4jh07hv3796OgoADdunXDgwcPNNqNHj0aWVlZ0m3x4sUGqpiIiIiMjVGP7OzZs0djet26dXBxcUFSUhKCg4Ol+TY2NnBzc6vu8qgU/qI5EZH+vUhfGdcVox7ZKS03NxcA4OTkpDF/w4YNqFWrFvz8/BAZGYmHDx8+dT1qtRoqlUrjRkRERPJk1CM7TyouLsaUKVPQvn17+Pn5SfOHDBmCevXqwcPDA2fPnsWMGTOQlpaGrVu3Vriu6OhozJ8/vzrKphcER7WIXhwcWTE9JhN2wsPDcf78eRw+fFhj/pgxY6S/mzdvDnd3d3Tp0gVXrlxBw4YNy11XZGQkIiIipGmVSgVPT0/9FG6C+EImIqKKmOKHO5MIOxMmTMDOnTtx8OBB1KlT56ltAwMDAQDp6ekVhh2lUgmlUqnzOomIiMj4GHXYEUJg4sSJ2LZtG+Lj41G/fv1n3ic5ORkA4O7urufqiIiIjAO/xv50Rh12wsPDsXHjRuzYsQN2dnbIzs4GADg4OMDa2hpXrlzBxo0b0atXLzg7O+Ps2bOYOnUqgoOD4e/vb+DqiYiIyBgYddhZsWIFgMcXDnzS2rVrMWLECFhaWiI2NhbLli3DgwcP4Onpif79+2P27NkGqNY08HwcIiJ60Rh12BFCPHW5p6dnmasnmyJDBxAOfxIRkZyZ1HV2iIiIiLRl1CM7RGRYhh51JCLSBY7sEBERkaxxZIeIiIgAmOYFAyuDYYdIhnj4iYzBi/Q8rMwXPUxx2+XyBRYexiIiIiJZ48gOEemcXIfCicg0cWSHiIiIZI0jO0aqKsdJ5XIhQo4KEJG2XqTzg0h7DDsGYIonfJlizUSGwLBOZHx4GIuIiIhkjSM7MscRGSIyZtxHVZ8Xua85skNERESyxpEdGXmRU3tlvOgnMPJcEvl5kf+n3N+RNjiyQ0RERLLGkR3SG37yIpIvUxgp1dU+iPuypzOF5wLDDsmCKbzYXmRy/f8Y25ugKfSzsfUZvRh4GIuIiIhkjSM7JFv6+gTJT6b6UZ2jElV9rBflf28KI0RE2uDIDhEREckaR3aInuFF+TRP8vQifz29Mkyhf7gPen4MO0RE1cwU37xMseaqeFG280XDw1hEREQkaxzZ0TN+SjBu1fn/ketweVX7UFePZYz9qA+msC8xhRoNif1jOBzZISIiIlnjyA6RgbzIoxSVxU/CRKQLDDtkUHwzMz3G9j+T608CGFs9RKaMh7GIiIhI1jiyQ2REKvNpnp/4iYi0w5EdIiIikjWO7JDRM8WRDFOo2RRqlAP28/NjH9Lzkk3YiYmJwZIlS5CdnY2AgAAsX74cbdu2NXRZRGQE+GZJ9GKTxWGsn3/+GREREYiKisKpU6cQEBCA7t274+bNm4YujYiIiAxMIYQQhi7ieQUGBuKVV17BN998AwAoLi6Gp6cnJk6ciJkzZz7z/iqVCg4ODsjNzYW9vb1Oa+MnSiIyJuVdy4n7KdI3Q19DzOQPY+Xn5yMpKQmRkZHSPDMzM4SGhiIxMbHc+6jVaqjVamk6NzcXwOPQo2vF6oc6XycRUVWVt5/jfor0TR/vr0+ys7ODQqGocLnJh51bt26hqKgIrq6uGvNdXV2Rmppa7n2io6Mxf/78MvM9PT31UiMRkbFwWGboCuhFpO/n3bOOzJh82KmKyMhIRERESNPFxcW4c+cOnJ2dn5oMn0alUsHT0xN//PGHzg+FUVns7+rDvq4+7Ovqxf6uPvruazs7u6cuN/mwU6tWLZibmyMnJ0djfk5ODtzc3Mq9j1KphFKp1Jjn6Oiok3rs7e35oqlG7O/qw76uPuzr6sX+rj6G6muT/zaWpaUlWrdujbi4OGlecXEx4uLiEBQUZMDKiIiIyBiY/MgOAERERCAsLAxt2rRB27ZtsWzZMjx48ADvvfeeoUsjIiIiA5NF2HnnnXfw999/Y+7cucjOzkaLFi2wZ8+eMict65NSqURUVFSZw2OkH+zv6sO+rj7s6+rF/q4+hu5rWVxnh4iIiKgiJn/ODhEREdHTMOwQERGRrDHsEBERkawx7BAREZGsMexoISYmBl5eXrCyskJgYCB+//33p7bfvHkzmjRpAisrKzRv3hy7d++upkrlQZv+Xr16NV577TXUrFkTNWvWRGho6DP/P/Q/2j63S2zatAkKhQJ9+/bVb4Eyom1f37t3D+Hh4XB3d4dSqYS3tzf3JVrQtr+XLVsGHx8fWFtbw9PTE1OnTsWjR4+qqVrTdfDgQfTp0wceHh5QKBTYvn37M+8THx+PVq1aQalUolGjRli3bp3+ChRUKZs2bRKWlpbiu+++ExcuXBCjR48Wjo6OIicnp9z2R44cEebm5mLx4sXi4sWLYvbs2aJGjRri3Llz1Vy5adK2v4cMGSJiYmLE6dOnRUpKihgxYoRwcHAQf/75ZzVXbnq07esSGRkZ4uWXXxavvfaaePPNN6unWBOnbV+r1WrRpk0b0atXL3H48GGRkZEh4uPjRXJycjVXbpq07e8NGzYIpVIpNmzYIDIyMsTevXuFu7u7mDp1ajVXbnp2794tZs2aJbZu3SoAiG3btj21/dWrV4WNjY2IiIgQFy9eFMuXLxfm5uZiz549eqmPYaeS2rZtK8LDw6XpoqIi4eHhIaKjo8ttP3DgQNG7d2+NeYGBgeKDDz7Qa51yoW1/l1ZYWCjs7OzE+vXr9VWibFSlrwsLC0W7du3E//t//0+EhYUx7FSStn29YsUK0aBBA5Gfn19dJcqKtv0dHh4uOnfurDEvIiJCtG/fXq91yk1lws5HH30kmjVrpjHvnXfeEd27d9dLTTyMVQn5+flISkpCaGioNM/MzAyhoaFITEws9z6JiYka7QGge/fuFban/6lKf5f28OFDFBQUwMnJSV9lykJV+3rBggVwcXHBqFGjqqNMWahKX//yyy8ICgpCeHg4XF1d4efnh08//RRFRUXVVbbJqkp/t2vXDklJSdKhrqtXr2L37t3o1atXtdT8Iqnu90hZXEFZ327duoWioqIyV2R2dXVFampquffJzs4ut312drbe6pSLqvR3aTNmzICHh0eZFxNpqkpfHz58GGvWrEFycnI1VCgfVenrq1ev4sCBAxg6dCh2796N9PR0jB8/HgUFBYiKiqqOsk1WVfp7yJAhuHXrFjp06AAhBAoLCzF27Fj861//qo6SXygVvUeqVCr8888/sLa21unjcWSHZGfRokXYtGkTtm3bBisrK0OXIyv379/HsGHDsHr1atSqVcvQ5checXExXFxcsGrVKrRu3RrvvPMOZs2ahZUrVxq6NFmKj4/Hp59+im+//RanTp3C1q1bsWvXLixcuNDQpdFz4shOJdSqVQvm5ubIycnRmJ+TkwM3N7dy7+Pm5qZVe/qfqvR3ic8//xyLFi1CbGws/P399VmmLGjb11euXEFmZib69OkjzSsuLgYAWFhYIC0tDQ0bNtRv0SaqKs9rd3d31KhRA+bm5tI8X19fZGdnIz8/H5aWlnqt2ZRVpb/nzJmDYcOG4f333wcANG/eHA8ePMCYMWMwa9YsmJlxfEBXKnqPtLe31/moDsCRnUqxtLRE69atERcXJ80rLi5GXFwcgoKCyr1PUFCQRnsA2L9/f4Xt6X+q0t8AsHjxYixcuBB79uxBmzZtqqNUk6dtXzdp0gTnzp1DcnKydHvjjTfQqVMnJCcnw9PTszrLNylVeV63b98e6enpUqAEgEuXLsHd3Z1B5xmq0t8PHz4sE2hKgqbgz0jqVLW/R+rltGcZ2rRpk1AqlWLdunXi4sWLYsyYMcLR0VFkZ2cLIYQYNmyYmDlzptT+yJEjwsLCQnz++eciJSVFREVF8avnWtC2vxctWiQsLS3Fli1bRFZWlnS7f/++oTbBZGjb16Xx21iVp21fX79+XdjZ2YkJEyaItLQ0sXPnTuHi4iI+/vhjQ22CSdG2v6OiooSdnZ346aefxNWrV8W+fftEw4YNxcCBAw21CSbj/v374vTp0+L06dMCgFi6dKk4ffq0uHbtmhBCiJkzZ4phw4ZJ7Uu+ev7hhx+KlJQUERMTw6+eG4vly5eLunXrCktLS9G2bVtx7NgxaVlISIgICwvTaP/vf/9beHt7C0tLS9GsWTOxa9euaq7YtGnT3/Xq1RMAytyioqKqv3ATpO1z+0kMO9rRtq+PHj0qAgMDhVKpFA0aNBCffPKJKCwsrOaqTZc2/V1QUCDmzZsnGjZsKKysrISnp6cYP368uHv3bvUXbmJ+++23cvfBJf0bFhYmQkJCytynRYsWwtLSUjRo0ECsXbtWb/UphODYHBEREckXz9khIiIiWWPYISIiIllj2CEiIiJZY9ghIiIiWWPYISIiIllj2CEiIiJZY9ghIiIiWWPYISIiIllj2KkmCoUC27dvN3QZlSaEwJgxY+Dk5ASFQoHk5ORqe+z4+HgoFArcu3evUu07duyIKVOmPLXNqlWr4OnpCTMzMyxbtgzz5s1DixYtpOUjRoxA3759tVqnIWjbN/q2bt06ODo6StOl+9UYVLbPvLy8sGzZsmqpSa4yMzOrfX+hD6X3B+UxttciPYPers38Arl586YYO3as8PT0FJaWlsLV1VV069ZNHD58WGoDQGzbts1wRWpp9+7dokaNGuLIkSMiKytLFBQUVNtjq9VqkZWVJYqLiyvV/vbt20KlUlW4PDc3V9SoUUMsX75c3LhxQzx48EDcv39f3Lp1S2pT+icPnrXO6hASEiImT56sMa/kkuzPe/n6evXqiS+//PK51iGEEGvXrhUODg7SdOl+NQaln0+lay6hqz55UZT3MyGFhYXVvr/Qh3v37mm8xsp7LWq7nyLDsjB02JKD/v37Iz8/H+vXr0eDBg2Qk5ODuLg43L59W6+Pm5+fr7dfPr5y5Qrc3d3Rrl07vaz/aSwtLeHm5lbp9k5OTk9dfv36dRQUFKB3795wd3eX5tva2lZ5nVQ+W1vbp/arIWj7fJIzIQSKiopgYaGfXb+5ubks+trBweGZbUz5eVVUVASFQlHmF95lzdBpy9TdvXtXABDx8fFPbQdArF69WvTt21dYW1uLRo0aiR07dkjLCwsLxciRI4WXl5ewsrIS3t7eYtmyZRrrKPkk9fHHHwt3d3fh5eUlhHj8y8gDBgwQDg4OombNmuKNN94QGRkZT60nPj5evPLKK8LS0lK4ubmJGTNmSJ/GwsLCNH7IrV69euWu49atW2LQoEHCw8NDWFtbCz8/P7Fx40aNNiEhIWLChAli8uTJwtHRUbi4uIhVq1aJvLw8MWLECGFraysaNmwodu/eLd2nvNGLw4cPi5CQEGFtbS0cHR1Ft27dxJ07d6THKP2pq8TatWvL/DBdRkaGiIqKEgEBAWX69sm6n1xnvXr1xCeffCLee+89YWtrKzw9PcX//d//aTzWkSNHREBAgFAqlaJ169Zi27ZtAoA4ffq0EEKIO3fuiCFDhohatWoJKysr0ahRI/Hdd9+VW3fp/0FJ3SV9ExsbK1q3bi2sra1FUFCQSE1Nle6bnp4u3njjDeHi4iJeeukl0aZNG7F//36NbSu97op88cUXws/PT9jY2Ig6deqIcePGafySfOlRktL9WlBQICZOnCgcHByEk5OT+Oijj8Tw4cPL9PXEiRPFhx9+KGrWrClcXV2f+gOu586dEwqFQty8eVMI8XgUTqFQiHfeeUdqs3DhQtG+fXshhObzqbwfKyx5rMr8j0srKioSn332mWjYsKGwtLQUnp6eGr9IfvbsWdGpUydhZWUlnJycxOjRozX6r+R5t2TJEuHm5iacnJzE+PHjRX5+vtQmJiZGNGrUSCiVSuHi4iL69++v8fiffvqptN/w9/cXmzdvlpaXbO/u3btFq1atRI0aNcT//d//CQAiJSVFY1uWLl0qGjRoIIR49v4oKiqqTD/+9ttvIiMjQ3rOFxUViZdffll8++23Go9z6tQpoVAoRGZmphDi8T501KhRolatWsLOzk506tRJJCcnV9jnJY/x008/iaCgIKFUKkWzZs3K7IOfto8TQojNmzcLPz8/6X/TpUsXkZeXp/F/Kfn7aa/FJ/dTW7ZsEU2bNhWWlpaiXr164vPPP9eoqSrPsZCQEBEeHi7Cw8OFvb29cHZ2FrNnz9YYUXr06JGYNm2a8PDwEDY2NqJt27bit99+k5aXvE537NghfH19hbm5eYXvEefPnxe9e/cWdnZ2wtbWVnTo0EGkp6cLIYT4/fffRWhoqHB2dhb29vYiODhYJCUlSfctLi4WUVFR0lEOd3d3MXHixErXqU8MO8+poKBA2NraiilTpohHjx5V2A6AqFOnjti4caO4fPmymDRpkrC1tRW3b98WQgiRn58v5s6dK06cOCGuXr0qfvzxR2FjYyN+/vlnaR1hYWHC1tZWDBs2TJw/f16cP39e5OfnC19fXzFy5Ehx9uxZcfHiRTFkyBDh4+Mj1Gp1ubX8+eefwsbGRowfP16kpKSIbdu2iVq1akk7/Xv37okFCxaIOnXqiKysLOlNpbz1LFmyRJw+fVpcuXJFfP3118Lc3FwcP35cahMSEiLs7OzEwoULxaVLl8TChQuFubm56Nmzp1i1apW4dOmSGDdunHB2dhYPHjwQQpQNO6dPnxZKpVKMGzdOJCcni/Pnz4vly5eLv//+W3qMisLOw4cPRWxsrAAgfv/9d5GVlSUKCwurFHacnJxETEyMuHz5soiOjhZmZmZSyMjNzRVOTk7i3XffFRcuXBC7d+8W3t7eGmEnPDxctGjRQpw4cUJkZGSI/fv3i19++aXcuu/duyeCgoLE6NGjRVZWllR3Sd8EBgaK+Ph4ceHCBfHaa6+Jdu3aSfdNTk4WK1euFOfOnROXLl0Ss2fPFlZWVuLatWtCiMfhoE6dOmLBggXSuivy5ZdfigMHDoiMjAwRFxcnfHx8xLhx46Tlzwo7H3/8sXBychJbt24VKSkpYuzYscLe3r5MX9vb24t58+aJS5cuifXr1wuFQiH27dtXbk3FxcWiVq1a0pv69u3bRa1atYSbm5vUJjQ0VMyaNUsIofl8UqvVYtmyZcLe3l7a9pLw8az/cXk++ugjUbNmTbFu3TqRnp4uDh06JFavXi2EECIvL0+4u7uLfv36iXPnzom4uDhRv359jV/ZDgsLE/b29mLs2LEiJSVF/Prrr8LGxkasWrVKCCHEiRMnhLm5udi4caPIzMwUp06dEl999ZVG/zZp0kTs2bNHXLlyRaxdu1YolUrpjb9k2/39/cW+fftEenq6uH37tmjTpo2YPXu2xra0bt1amves/dH9+/fFwIEDRY8ePaR+VKvVGmFHCCGmT58uOnTooPE406ZN05gXGhoq+vTpI06cOCEuXbokpk2bJpydnaV9Y2klj1GnTh2xZcsWcfHiRfH+++8LOzs76RDqs/ZxN27cEBYWFmLp0qUiIyNDnD17VsTExEjPhSf3B896LZbsp06ePCnMzMzEggULRFpamli7dq2wtrbW+CXvqjzHQkJChK2trZg8ebJITU2V/hclzxEhhHj//fdFu3btxMGDB0V6erpYsmSJUCqV4tKlS0KIx6/TGjVqiHbt2okjR46I1NRUaX/7pD///FM4OTmJfv36iRMnToi0tDTx3XffSfXFxcWJH374QaSkpIiLFy+KUaNGCVdXV+mQ/+bNm4W9vb3YvXu3uHbtmjh+/LhWdeoTw44ObNmyRdSsWVNYWVmJdu3aicjISHHmzBmNNgA0di55eXkCgPjvf/9b4XrDw8M1PsWFhYUJV1dXjRDzww8/CB8fH42Ur1arhbW1tdi7d2+56/3Xv/5V5j4xMTHC1tZWFBUVCSEev8lVNKLzNL179xbTpk2TpkNCQjR2bIWFheKll14Sw4YNk+ZlZWUJACIxMVEIUTbsDB48WPqUXp6nhR0hHoelkk9jJaoSdt59911puri4WLi4uIgVK1YIIYRYsWKFcHZ2Fv/884/UZvXq1Ro7/j59+oj33nuvwjors11PjuyU2LVrlwCg8dilNWvWTCxfvlxje6pyfsrmzZuFs7OzNP2ssOPq6iqWLFkiTRcWFoq6deuW6evSb4ivvPKKmDFjRoV19OvXT4SHhwshhJgyZYo0KpSSkiLy8/OFjY2NFJZKP5+eds7O0/7HpalUKqFUKqVwU9qqVatEzZo1pdECIR7/r8zMzER2drYQ4vHzrl69eqKwsFBqM2DAAGmU6j//+Y+wt7cv9/yxR48eCRsbG3H06FGN+aNGjRKDBw/W2Pbt27drtPnyyy9Fw4YNpem0tLRyR3ueVN7+qPQ5O6XDzunTp4VCoZCCdsloT0mfHjp0SNjb25f5oNiwYcMKRzxKHmPRokXSvIKCAlGnTh3x2WefCSGevY9LSkoSAKTRpdKetT8QouzzasiQIaJr164abT788EPRtGlTaVrb51jJY/v6+mpsy4wZM4Svr68QQohr164Jc3Nz8ddff2ncr0uXLiIyMlII8b8R7qeNmAkhRGRkpKhfv77GyOLTFBUVCTs7O/Hrr78KIR6PBHt7e5d7/8rUqU8v0AE7/enfvz9u3LiBX375BT169EB8fDxatWqFdevWabTz9/eX/n7ppZdgb2+PmzdvSvNiYmLQunVr1K5dG7a2tli1ahWuX7+usY7mzZtrnKdz5swZpKenw87OTjpfwsnJCY8ePcKVK1fKrTclJQVBQUFQKBTSvPbt2yMvLw9//vlnpbe7qKgICxcuRPPmzeHk5ARbW1vs3bu3TM1Pbre5uTmcnZ3RvHlzaZ6rqysAaPTFk5KTk9GlS5dK16UvT26HQqGAm5ubVHNaWhr8/f1hZWUltWnbtq3G/ceNG4dNmzahRYsW+Oijj3D06FGd1FJyHlJJLXl5eZg+fTp8fX3h6OgIW1tbpKSklPm/VEZsbCy6dOmCl19+GXZ2dhg2bBhu376Nhw8fPvO+ubm5yMnJ0egHc3NztG7d+qnbU7JNFT0fACAkJATx8fEAgISEBHTu3BnBwcGIj4/HiRMnUFBQgPbt21dyK8uvo/T/uLSUlBSo1eoKn5spKSkICAjASy+9JM1r3749iouLkZaWJs1r1qwZzM3Npeknt71r166oV68eGjRogGHDhmHDhg1S36enp+Phw4fo2rWr9Nq3tbXF999/X+a136ZNG43pQYMGITMzE8eOHQMAbNiwAa1atUKTJk2kNpXZHz1LixYt4Ovri40bNwJ4/L+6efMmBgwYAODx/isvLw/Ozs4a25CRkVHh/qtEUFCQ9LeFhQXatGmDlJQUAM/exwUEBKBLly5o3rw5BgwYgNWrV+Pu3btabVtpKSkpZZ5z7du3x+XLl1FUVCTN0+Y5VuLVV1/V2JagoCBpvefOnUNRURG8vb01+jAhIUGjDy0tLcu8zkpLTk7Ga6+9hho1apS7PCcnB6NHj0bjxo3h4OAAe3t75OXlSc+LAQMG4J9//kGDBg0wevRobNu2DYWFhQBQ6Tr1hSco64iVlRW6du2Krl27Ys6cOXj//fcRFRWFESNGSG1KP4EUCgWKi4sBAJs2bcL06dPxxRdfICgoCHZ2dliyZAmOHz+ucZ8nd5zA4ze21q1bY8OGDWVqql27to62rnxLlizBV199hWXLlqF58+Z46aWXMGXKFOTn52u0K2+7n5xX8iIu6YvSrK2tdVx51Tzt/1cZPXv2xLVr17B7927s378fXbp0QXh4OD7//PPnqqV0/02fPh379+/H559/jkaNGsHa2hpvv/12mf/Ls2RmZuL111/HuHHj8Mknn8DJyQmHDx/GqFGjkJ+fDxsbG63rrsz2AM/u25JLA1y+fBkXL15Ehw4dkJqaivj4eNy9exdt2rSpUn3a1KGr5+XTHtPOzg6nTp1CfHw89u3bh7lz52LevHk4ceIE8vLyAAC7du3Cyy+/rLEOpVKpMV16v+Hm5obOnTtj48aNePXVV7Fx40aMGzdOWl7Z/VFlDB06FBs3bsTMmTOxceNG9OjRA87OzgAe77/c3d2l4PqkJy9poGvm5ubYv38/jh49in379mH58uWYNWsWjh8/jvr16+vtcYHn34+UlpeXB3NzcyQlJWmEZkDzSxjW1tYagak8z3pOh4WF4fbt2/jqq69Qr149KJVKBAUFSfsWT09PpKWlITY2Fvv378f48eOxZMkSJCQkVLpOfeHIjp40bdoUDx48qHT7I0eOoF27dhg/fjxatmyJRo0aVSrttmrVCpcvX4aLiwsaNWqkcavoGwW+vr5ITEyEEELj8e3s7FCnTh2tan7zzTfx7rvvIiAgAA0aNMClS5cqff/K8vf3R1xcnM7Xq0s+Pj44d+4c1Gq1NO/EiRNl2tWuXRthYWH48ccfsWzZMqxatarCdVpaWmp8IqysI0eOYMSIEXjrrbfQvHlzuLm5ITMzU+t1JyUlobi4GF988QVeffVVeHt748aNG5Wuw8HBAa6urhr9UFRUhFOnTmm1PeVp3rw5atasiY8//hgtWrSAra0tOnbsiISEBMTHx6Njx44V3req/Vpa48aNYW1tXeFz09fXF2fOnNHYDxw5cgRmZmbw8fGp9ONYWFggNDQUixcvxtmzZ5GZmYkDBw6gadOmUCqVuH79epnXvqen5zPXO3ToUPz8889ITEzE1atXMWjQII06n7U/qmw/DhkyBOfPn0dSUhK2bNmCoUOHSstatWqF7OxsWFhYlNmGWrVqPXW9JaNSAFBYWIikpCT4+voCqNw+TqFQoH379pg/fz5Onz4NS0tLbNu2rdzHqsy2+vr64siRIxrzjhw5Am9v7zJv7toqHTKPHTuGxo0bw9zcHC1btkRRURFu3rxZpg+1/baYv78/Dh06hIKCgnKXHzlyBJMmTUKvXr3QrFkzKJVK3Lp1S6ONtbU1+vTpg6+//hrx8fFITEzEuXPndFpnVTDsPKfbt2+jc+fO+PHHH3H27FlkZGRg8+bNWLx4Md58881Kr6dx48Y4efIk9u7di0uXLmHOnDnlvlmWNnToUNSqVQtvvvkmDh06hIyMDMTHx2PSpEkVHpIaP348/vjjD0ycOBGpqanYsWMHoqKiEBERodVXERs3bix9OkpJScEHH3yAnJycSt+/siIjI3HixAmMHz8eZ8+eRWpqKlasWFHmRWZIQ4YMQXFxMcaMGYOUlBTs3btXGrEp+TQ1d+5c7NixA+np6bhw4QJ27twp7ZzL4+XlhePHjyMzMxO3bt2q9Ke/xo0bY+vWrUhOTsaZM2ek2kqv++DBg/jrr78q7MdGjRqhoKAAy5cvx9WrV/HDDz9g5cqVlaqhxMSJExEdHY0dO3YgLS0NkydPxt27d5/5CfNZFAoFgoODsWHDBinY+Pv7Q61WIy4uDiEhIRXe18vLC3l5eYiLi8OtW7cqdUiuPFZWVpgxYwY++ugj6dDRsWPHsGbNGgCPX5tWVlYICwvD+fPn8dtvv2HixIkYNmyYdOj2WXbu3Imvv/4aycnJuHbtGr7//nsUFxfDx8cHdnZ2mD59OqZOnYr169fjypUrOHXqFJYvX47169c/c939+vXD/fv3MW7cOHTq1AkeHh7Sssrsj7y8vHD27FmkpaXh1q1bFb5Benl5oV27dhg1ahSKiorwxhtvSMtCQ0MRFBSEvn37Yt++fcjMzMTRo0cxa9YsnDx58qn1x8TEYNu2bUhNTUV4eDju3r2LkSNHAnj2Pu748eP49NNPcfLkSVy/fh1bt27F33//XeHrsTKvxWnTpiEuLg4LFy7EpUuXsH79enzzzTeYPn36U7ejMq5fv46IiAikpaXhp59+wvLlyzF58mQAgLe3N4YOHYrhw4dj69atyMjIwO+//47o6Gjs2rVLq8eZMGECVCoVBg0ahJMnT+Ly5cv44YcfpMOujRs3xg8//ICUlBQcP34cQ4cO1RgNWrduHdasWYPz58/j6tWr+PHHH2FtbY169erptM6qYNh5Tra2tggMDMSXX36J4OBg+Pn5Yc6cORg9ejS++eabSq/ngw8+QL9+/fDOO+8gMDAQt2/fxvjx4595PxsbGxw8eBB169ZFv3794Ovri1GjRuHRo0ewt7cv9z4vv/wydu/ejd9//x0BAQEYO3YsRo0ahdmzZ1e6XgCYPXs2WrVqhe7du6Njx45wc3N75lVHq8Lb2xv79u3DmTNn0LZtWwQFBWHHjh16u1ZIVdjb2+PXX39FcnIyWrRogVmzZmHu3LkAIJ3HY2lpicjISPj7+yM4OBjm5ubYtGlTheucPn06zM3N0bRpU9SuXbvS50ssXboUNWvWRLt27dCnTx90794drVq10mizYMECZGZmomHDhhUe7gwICMDSpUvx2Wefwc/PDxs2bEB0dHSlaigxY8YMDB48GMOHD0dQUBBsbW3RvXt3jXObqiokJARFRUVS2DEzM0NwcLD0ib0i7dq1w9ixY/HOO++gdu3aWLx4cZVrmDNnDqZNm4a5c+fC19cX77zzjnT+hY2NDfbu3Ys7d+7glVdewdtvv40uXbpotV9wdHTE1q1b0blzZ/j6+mLlypX46aef0KxZMwDAwoULMWfOHERHR8PX1xc9evTArl27KnUoxs7ODn369MGZM2c0RluAyu2PRo8eDR8fH7Rp0wa1a9cuM6rxpKFDh+LMmTN46623NN4cFQoFdu/ejeDgYLz33nvw9vbGoEGDcO3atWcGwkWLFmHRokUICAjA4cOH8csvv0ijQc/ax9nb2+PgwYPo1asXvL29MXv2bHzxxRfo2bNnuY9Vmddiq1at8O9//xubNm2Cn58f5s6diwULFmicylBVw4cPxz///IO2bdsiPDwckydPxpgxY6Tla9euxfDhwzFt2jT4+Pigb9++OHHiBOrWravV4zg7O+PAgQPIy8tDSEgIWrdujdWrV0uH3tasWYO7d++iVatWGDZsGCZNmgQXFxfp/o6Ojli9ejXat28Pf39/xMbG4tdff5UOW+qqzqpQiCfH+YhIZzZs2ID33nsPubm5RnPekaEVFxfD19cXAwcOxMKFCw1dDpmgzMxM1K9fH6dPnza6nybRh44dO6JFixb8KZPnZDwfjYlM3Pfff48GDRrg5ZdfxpkzZzBjxgwMHDjwhQ46165dw759+xASEgK1Wo1vvvkGGRkZGDJkiKFLI6IXCMMOkY5kZ2dj7ty5yM7Ohru7OwYMGIBPPvnE0GUZlJmZGdatW4fp06dDCAE/Pz/ExsY+9VwlIiJd42EsIiIikjWeoExERESyxrBDREREssawQ0RERLLGsENERESyxrBDREREssawQ0RERLLGsENERESyxrBDREREsvb/AfscKwN7ge+MAAAAAElFTkSuQmCC",
>>>>>>> 74cdbbe0f09637b9981b0198e116947092911304
      "text/plain": [
       "<Figure size 640x480 with 1 Axes>"
      ]
     },
     "metadata": {},
     "output_type": "display_data"
    }
   ],
   "source": [
    "plt.hist(df[\"percent_conservative\"], bins=100, color=green_fill)\n",
    "plt.ylabel(\"Number of cases\")\n",
    "plt.xlabel(\"Proportion of conservative amici per case\")\n",
    "plt.savefig('./plots/conservative_proportion_fulldata.pdf');"
   ]
  },
  {
   "cell_type": "code",
   "execution_count": 698,
   "metadata": {},
   "outputs": [
    {
     "data": {
      "image/png": "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",
      "text/plain": [
       "<Figure size 640x480 with 1 Axes>"
      ]
     },
     "metadata": {},
     "output_type": "display_data"
    }
   ],
   "source": [
    "plt.hist(df_filt[\"percent_conservative\"], bins=100, color=green_fill)\n",
    "plt.ylabel(\"Number of cases\")\n",
    "plt.xlabel(\"Proportion of conservative amici per case\")\n",
    "plt.savefig('./plots/conservative_proportion_filtered.pdf');"
   ]
  },
  {
   "cell_type": "code",
   "execution_count": 349,
   "metadata": {},
   "outputs": [
    {
     "data": {
      "text/plain": [
       "(1826,)"
      ]
     },
     "execution_count": 349,
     "metadata": {},
     "output_type": "execute_result"
    }
   ],
   "source": [
    "df_filt['case_name'].index.shape"
   ]
  },
  {
   "cell_type": "markdown",
   "metadata": {},
   "source": [
    "## Apply Threshold Algorithm"
   ]
  },
  {
   "cell_type": "code",
   "execution_count": 350,
   "metadata": {},
   "outputs": [],
   "source": [
    "# swing vote justices\n",
    "# pick one extreme and one expected moderate\n",
    "# SAAlito, JGRoberts, SSotomayor\n",
    "\n",
    "# other options\n",
    "# JGRoberts\n",
    "# DHSouter\n",
    "# SAAlito\n",
    "# AScalia\n",
    "# CThomas\n",
    "# SSotomayor\n",
    "# EKagan\n",
    "\n",
    "selected_judge = \"SSotomayor\"\n",
    "final_justices;"
   ]
  },
  {
   "cell_type": "code",
   "execution_count": 351,
   "metadata": {},
   "outputs": [
    {
     "data": {
      "text/html": [
       "<div>\n",
       "<style scoped>\n",
       "    .dataframe tbody tr th:only-of-type {\n",
       "        vertical-align: middle;\n",
       "    }\n",
       "\n",
       "    .dataframe tbody tr th {\n",
       "        vertical-align: top;\n",
       "    }\n",
       "\n",
       "    .dataframe thead th {\n",
       "        text-align: right;\n",
       "    }\n",
       "</style>\n",
       "<table border=\"1\" class=\"dataframe\">\n",
       "  <thead>\n",
       "    <tr style=\"text-align: right;\">\n",
       "      <th></th>\n",
       "      <th>lexisCite</th>\n",
       "      <th>conservative_amici</th>\n",
       "      <th>amici</th>\n",
       "      <th>percent_conservative</th>\n",
       "      <th>distinct_amicus_positions</th>\n",
       "      <th>num_amici</th>\n",
       "      <th>vote</th>\n",
       "      <th>direction</th>\n",
       "      <th>decisionDirection</th>\n",
       "      <th>conservative_vote</th>\n",
       "    </tr>\n",
       "  </thead>\n",
       "  <tbody>\n",
       "    <tr>\n",
       "      <th>0</th>\n",
       "      <td>2009 U.S. LEXIS 8941</td>\n",
       "      <td>[False, False, False, False, False, False, Fal...</td>\n",
       "      <td>[(WOMEN'S CRIMINAL DEFENSE BAR ASSOCIATION, 2)...</td>\n",
       "      <td>0.771429</td>\n",
       "      <td>2</td>\n",
       "      <td>35</td>\n",
       "      <td>1.0</td>\n",
       "      <td>1.0</td>\n",
       "      <td>1.0</td>\n",
       "      <td>1.0</td>\n",
       "    </tr>\n",
       "    <tr>\n",
       "      <th>1</th>\n",
       "      <td>2009 U.S. LEXIS 8942</td>\n",
       "      <td>[True, False, False, False]</td>\n",
       "      <td>[(UNITED STATES, 2), (DRI -- THE VOICE OF THE ...</td>\n",
       "      <td>0.250000</td>\n",
       "      <td>2</td>\n",
       "      <td>4</td>\n",
       "      <td>1.0</td>\n",
       "      <td>1.0</td>\n",
       "      <td>1.0</td>\n",
       "      <td>1.0</td>\n",
       "    </tr>\n",
       "    <tr>\n",
       "      <th>2</th>\n",
       "      <td>2009 U.S. LEXIS 8943</td>\n",
       "      <td>[False, False, True, True, True]</td>\n",
       "      <td>[(BROTHERHOOD OF LOCOMOTIVE ENGINEERS AND TRAI...</td>\n",
       "      <td>0.600000</td>\n",
       "      <td>2</td>\n",
       "      <td>5</td>\n",
       "      <td>1.0</td>\n",
       "      <td>2.0</td>\n",
       "      <td>2.0</td>\n",
       "      <td>0.0</td>\n",
       "    </tr>\n",
       "    <tr>\n",
       "      <th>3</th>\n",
       "      <td>2010 U.S. LEXIS 1</td>\n",
       "      <td>[False, False, False, False, False, True, True...</td>\n",
       "      <td>[(BLACK COPS AGAINST POLICE BRUTALITY, 2), (CE...</td>\n",
       "      <td>0.883721</td>\n",
       "      <td>2</td>\n",
       "      <td>43</td>\n",
       "      <td>1.0</td>\n",
       "      <td>1.0</td>\n",
       "      <td>1.0</td>\n",
       "      <td>1.0</td>\n",
       "    </tr>\n",
       "    <tr>\n",
       "      <th>4</th>\n",
       "      <td>2010 U.S. LEXIS 1897</td>\n",
       "      <td>[True, False, False, False, False]</td>\n",
       "      <td>[(LEGAL AID SOCIETY, EMPLOYMENT LAW CENTER, 2)...</td>\n",
       "      <td>0.200000</td>\n",
       "      <td>2</td>\n",
       "      <td>5</td>\n",
       "      <td>1.0</td>\n",
       "      <td>2.0</td>\n",
       "      <td>2.0</td>\n",
       "      <td>0.0</td>\n",
       "    </tr>\n",
       "  </tbody>\n",
       "</table>\n",
       "</div>"
      ],
      "text/plain": [
       "              lexisCite                                 conservative_amici  \\\n",
       "0  2009 U.S. LEXIS 8941  [False, False, False, False, False, False, Fal...   \n",
       "1  2009 U.S. LEXIS 8942                        [True, False, False, False]   \n",
       "2  2009 U.S. LEXIS 8943                   [False, False, True, True, True]   \n",
       "3     2010 U.S. LEXIS 1  [False, False, False, False, False, True, True...   \n",
       "4  2010 U.S. LEXIS 1897                 [True, False, False, False, False]   \n",
       "\n",
       "                                               amici  percent_conservative  \\\n",
       "0  [(WOMEN'S CRIMINAL DEFENSE BAR ASSOCIATION, 2)...              0.771429   \n",
       "1  [(UNITED STATES, 2), (DRI -- THE VOICE OF THE ...              0.250000   \n",
       "2  [(BROTHERHOOD OF LOCOMOTIVE ENGINEERS AND TRAI...              0.600000   \n",
       "3  [(BLACK COPS AGAINST POLICE BRUTALITY, 2), (CE...              0.883721   \n",
       "4  [(LEGAL AID SOCIETY, EMPLOYMENT LAW CENTER, 2)...              0.200000   \n",
       "\n",
       "   distinct_amicus_positions  num_amici  vote  direction  decisionDirection  \\\n",
       "0                          2         35   1.0        1.0                1.0   \n",
       "1                          2          4   1.0        1.0                1.0   \n",
       "2                          2          5   1.0        2.0                2.0   \n",
       "3                          2         43   1.0        1.0                1.0   \n",
       "4                          2          5   1.0        2.0                2.0   \n",
       "\n",
       "   conservative_vote  \n",
       "0                1.0  \n",
       "1                1.0  \n",
       "2                0.0  \n",
       "3                1.0  \n",
       "4                0.0  "
      ]
     },
     "execution_count": 351,
     "metadata": {},
     "output_type": "execute_result"
    }
   ],
   "source": [
    "def filterJudgeData(df, justice_df, selected_judge):\n",
    "    # select data with which the judge has been a decision-maker\n",
    "    sel_cases_justice = justice_df.loc[justice_df[\"justiceName\"] == selected_judge]\n",
    "\n",
    "    if sel_cases_justice[\"lexisCite\"].unique().shape[0] != sel_cases_justice.shape[0]:\n",
    "        print(sel_cases_justice[\"lexisCite\"].unique().shape[0])\n",
    "        print(sel_cases_justice.shape[0])\n",
    "\n",
    "    # merge selected cases where judge was a decision-maker back onto the original data\n",
    "    df_selected = pd.merge(\n",
    "        df.reset_index(drop=False).rename({\"index\": \"lexisCite\"}, axis=1)[\n",
    "            [\n",
    "                \"lexisCite\",\n",
    "                \"conservative_amici\",\n",
    "                \"amici\",\n",
    "                \"percent_conservative\",\n",
    "                \"distinct_amicus_positions\",\n",
    "                \"num_amici\",\n",
    "            ]\n",
    "        ],\n",
    "        sel_cases_justice[[\"lexisCite\", \"vote\", \"direction\", \"decisionDirection\"]],\n",
    "        on=\"lexisCite\",\n",
    "        how=\"inner\",\n",
    "    )\n",
    "\n",
    "    # check for uniqueness\n",
    "    assert df_selected[\"lexisCite\"].unique().shape[0] == df_selected.shape[0]\n",
    "    # determine whether the judges vote was conservative\n",
    "    # based on the judges direction of the vote\n",
    "    df_selected[\"conservative_vote\"] = np.select(\n",
    "        [\n",
    "            df_selected[\"direction\"] == 1,\n",
    "            df_selected[\"direction\"] == 2,\n",
    "            df_selected[\"direction\"] == 3,\n",
    "        ],\n",
    "        [1, 0, np.nan],\n",
    "    )\n",
    "\n",
    "    return df_selected\n",
    "\n",
    "\n",
    "df_selected = filterJudgeData(df_filt, justices_csv, selected_judge)\n",
    "df_selected.head()"
   ]
  },
  {
   "cell_type": "code",
   "execution_count": 352,
   "metadata": {},
   "outputs": [],
   "source": [
    "assert df_selected[\"percent_conservative\"].isna().sum() == 0"
   ]
  },
  {
   "cell_type": "code",
   "execution_count": 353,
   "metadata": {},
   "outputs": [],
   "source": [
    "def learningThresholds(judge_name, df, iter=100):\n",
    "    # initialize lower and upper bounds of thresholds\n",
    "    judge_threshold_min = [0]\n",
    "    judge_threshold_max = [1]\n",
    "\n",
    "    observed_thresholds = []\n",
    "    cons_votes = []\n",
    "    for i in range(iter):\n",
    "        if i >= df.shape[0]:\n",
    "            continue\n",
    "        case_selection = df.sort_values(\"lexisCite\").iloc[i, :]\n",
    "        observed_threshold = case_selection[\"percent_conservative\"]\n",
    "        judge_vote = case_selection[\"conservative_vote\"]\n",
    "        if judge_vote == 0:\n",
    "            judge_threshold_min += [max(observed_threshold, max(judge_threshold_min))]\n",
    "            judge_threshold_max += [min(judge_threshold_max)]\n",
    "            cons_votes += [False]\n",
    "        else:\n",
    "            judge_threshold_min += [max(judge_threshold_min)]\n",
    "            judge_threshold_max += [min(observed_threshold, min(judge_threshold_max))]\n",
    "            cons_votes += [True]\n",
    "        observed_thresholds += [observed_threshold]\n",
    "\n",
    "    return (judge_threshold_min, judge_threshold_max, observed_thresholds, cons_votes)"
   ]
  },
  {
   "cell_type": "code",
   "execution_count": 354,
   "metadata": {},
   "outputs": [],
   "source": [
    "def plotAmicusThresholds(df, selected_judge, weighted=False):\n",
    "    df = df.sort_values('observed_thresholds', ascending=False).reset_index(drop=True)\n",
    "    if weighted==True:\n",
    "        w_lab = 'weighted'\n",
    "    else:\n",
    "        w_lab = 'unweighted'\n",
    "    # plot data of thresholds\n",
    "    plt.scatter(df.loc[df['votes']==True].index,\n",
    "                df.loc[df['votes']==True, 'observed_thresholds'],\n",
    "            color = red_fill)\n",
    "    plt.scatter(df.loc[df['votes']==False].index,\n",
    "                df.loc[df['votes']==False, 'observed_thresholds'],\n",
    "                color = green_fill,\n",
    "                alpha=1)\n",
    "    plt.legend([\"conservative\", \"liberal\"], bbox_to_anchor=(0.7, -0.15))\n",
    "    plt.xticks(\n",
    "        np.arange(0, len(judge_threshold_min), np.round(len(judge_threshold_min) / 10, -1))\n",
    "    )\n",
    "    plt.ylabel('Threshold (share conservative amici positions)')\n",
    "    plt.xlabel('Number of cases observed')\n",
    "    plt.savefig(f'./plots/{selected_judge}_{w_lab}_threshold.pdf', bbox_inches='tight')"
   ]
  },
  {
   "cell_type": "code",
   "execution_count": 355,
   "metadata": {},
   "outputs": [
    {
     "data": {
      "text/html": [
       "<div>\n",
       "<style scoped>\n",
       "    .dataframe tbody tr th:only-of-type {\n",
       "        vertical-align: middle;\n",
       "    }\n",
       "\n",
       "    .dataframe tbody tr th {\n",
       "        vertical-align: top;\n",
       "    }\n",
       "\n",
       "    .dataframe thead th {\n",
       "        text-align: right;\n",
       "    }\n",
       "</style>\n",
       "<table border=\"1\" class=\"dataframe\">\n",
       "  <thead>\n",
       "    <tr style=\"text-align: right;\">\n",
       "      <th></th>\n",
       "      <th>observed_thresholds</th>\n",
       "      <th>votes</th>\n",
       "    </tr>\n",
       "  </thead>\n",
       "  <tbody>\n",
       "    <tr>\n",
       "      <th>27</th>\n",
       "      <td>0.978723</td>\n",
       "      <td>True</td>\n",
       "    </tr>\n",
       "    <tr>\n",
       "      <th>6</th>\n",
       "      <td>0.975000</td>\n",
       "      <td>True</td>\n",
       "    </tr>\n",
       "    <tr>\n",
       "      <th>49</th>\n",
       "      <td>0.973684</td>\n",
       "      <td>True</td>\n",
       "    </tr>\n",
       "    <tr>\n",
       "      <th>28</th>\n",
       "      <td>0.972222</td>\n",
       "      <td>False</td>\n",
       "    </tr>\n",
       "    <tr>\n",
       "      <th>72</th>\n",
       "      <td>0.968750</td>\n",
       "      <td>True</td>\n",
       "    </tr>\n",
       "  </tbody>\n",
       "</table>\n",
       "</div>"
      ],
      "text/plain": [
       "    observed_thresholds  votes\n",
       "27             0.978723   True\n",
       "6              0.975000   True\n",
       "49             0.973684   True\n",
       "28             0.972222  False\n",
       "72             0.968750   True"
      ]
     },
     "execution_count": 355,
     "metadata": {},
     "output_type": "execute_result"
    }
   ],
   "source": [
    "judge_threshold_min, judge_threshold_max, observed_thresholds, cons_votes = learningThresholds(\n",
    "    selected_judge, df_selected\n",
    ")\n",
    "\n",
    "df_plot = pd.DataFrame({'observed_thresholds': observed_thresholds, 'votes': cons_votes})\n",
    "df_plot.sort_values('observed_thresholds', ascending=False).head()"
   ]
  },
  {
   "cell_type": "code",
   "execution_count": 356,
   "metadata": {},
   "outputs": [
    {
     "data": {
      "image/png": "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",
      "text/plain": [
       "<Figure size 640x480 with 1 Axes>"
      ]
     },
     "metadata": {},
     "output_type": "display_data"
    }
   ],
   "source": [
    "plotAmicusThresholds(df_plot, selected_judge)"
   ]
  },
  {
   "cell_type": "code",
   "execution_count": 357,
   "metadata": {},
   "outputs": [
    {
     "name": "stdout",
     "output_type": "stream",
     "text": [
      "(5, 10)\n"
     ]
    },
    {
     "data": {
      "text/html": [
       "<div>\n",
       "<style scoped>\n",
       "    .dataframe tbody tr th:only-of-type {\n",
       "        vertical-align: middle;\n",
       "    }\n",
       "\n",
       "    .dataframe tbody tr th {\n",
       "        vertical-align: top;\n",
       "    }\n",
       "\n",
       "    .dataframe thead th {\n",
       "        text-align: right;\n",
       "    }\n",
       "</style>\n",
       "<table border=\"1\" class=\"dataframe\">\n",
       "  <thead>\n",
       "    <tr style=\"text-align: right;\">\n",
       "      <th></th>\n",
       "      <th>lexisCite</th>\n",
       "      <th>conservative_amici</th>\n",
       "      <th>amici</th>\n",
       "      <th>percent_conservative</th>\n",
       "      <th>distinct_amicus_positions</th>\n",
       "      <th>num_amici</th>\n",
       "      <th>vote</th>\n",
       "      <th>direction</th>\n",
       "      <th>decisionDirection</th>\n",
       "      <th>conservative_vote</th>\n",
       "    </tr>\n",
       "  </thead>\n",
       "  <tbody>\n",
       "    <tr>\n",
       "      <th>11</th>\n",
       "      <td>2010 U.S. LEXIS 2927</td>\n",
       "      <td>[True, True, False, False, False, False, False...</td>\n",
       "      <td>[(AMERICAN CENTER FOR LAW AND JUSTICE, 2), (UN...</td>\n",
       "      <td>0.045455</td>\n",
       "      <td>2</td>\n",
       "      <td>44</td>\n",
       "      <td>2.0</td>\n",
       "      <td>1.0</td>\n",
       "      <td>2.0</td>\n",
       "      <td>1.0</td>\n",
       "    </tr>\n",
       "    <tr>\n",
       "      <th>55</th>\n",
       "      <td>2011 U.S. LEXIS 2593</td>\n",
       "      <td>[False, False, False, False, False, False, Fal...</td>\n",
       "      <td>[(UNITED STATES, 2), (CRIMINAL JUSTICE LEGAL F...</td>\n",
       "      <td>0.032258</td>\n",
       "      <td>2</td>\n",
       "      <td>31</td>\n",
       "      <td>1.0</td>\n",
       "      <td>1.0</td>\n",
       "      <td>1.0</td>\n",
       "      <td>1.0</td>\n",
       "    </tr>\n",
       "    <tr>\n",
       "      <th>122</th>\n",
       "      <td>2013 U.S. LEXIS 1612</td>\n",
       "      <td>[False, False, False, False, False, False, Fal...</td>\n",
       "      <td>[(INTELLECTUAL PROPERTY LAW ASSOCIATION OF CHI...</td>\n",
       "      <td>0.090909</td>\n",
       "      <td>2</td>\n",
       "      <td>11</td>\n",
       "      <td>1.0</td>\n",
       "      <td>1.0</td>\n",
       "      <td>1.0</td>\n",
       "      <td>1.0</td>\n",
       "    </tr>\n",
       "    <tr>\n",
       "      <th>137</th>\n",
       "      <td>2013 U.S. LEXIS 3317</td>\n",
       "      <td>[True, True, True, True, False, False, False, ...</td>\n",
       "      <td>[(VIRGINIA ASSOCIATION OF COUNTIES, 2), (VIRGI...</td>\n",
       "      <td>0.045455</td>\n",
       "      <td>2</td>\n",
       "      <td>88</td>\n",
       "      <td>1.0</td>\n",
       "      <td>1.0</td>\n",
       "      <td>1.0</td>\n",
       "      <td>1.0</td>\n",
       "    </tr>\n",
       "    <tr>\n",
       "      <th>153</th>\n",
       "      <td>2013 U.S. LEXIS 4701</td>\n",
       "      <td>[False, False, False, False, False, False, Fal...</td>\n",
       "      <td>[(HISPANIC NATIONAL BAR ASSOCIATION, 2), (NATI...</td>\n",
       "      <td>0.040193</td>\n",
       "      <td>2</td>\n",
       "      <td>622</td>\n",
       "      <td>1.0</td>\n",
       "      <td>1.0</td>\n",
       "      <td>1.0</td>\n",
       "      <td>1.0</td>\n",
       "    </tr>\n",
       "  </tbody>\n",
       "</table>\n",
       "</div>"
      ],
      "text/plain": [
       "                lexisCite                                 conservative_amici  \\\n",
       "11   2010 U.S. LEXIS 2927  [True, True, False, False, False, False, False...   \n",
       "55   2011 U.S. LEXIS 2593  [False, False, False, False, False, False, Fal...   \n",
       "122  2013 U.S. LEXIS 1612  [False, False, False, False, False, False, Fal...   \n",
       "137  2013 U.S. LEXIS 3317  [True, True, True, True, False, False, False, ...   \n",
       "153  2013 U.S. LEXIS 4701  [False, False, False, False, False, False, Fal...   \n",
       "\n",
       "                                                 amici  percent_conservative  \\\n",
       "11   [(AMERICAN CENTER FOR LAW AND JUSTICE, 2), (UN...              0.045455   \n",
       "55   [(UNITED STATES, 2), (CRIMINAL JUSTICE LEGAL F...              0.032258   \n",
       "122  [(INTELLECTUAL PROPERTY LAW ASSOCIATION OF CHI...              0.090909   \n",
       "137  [(VIRGINIA ASSOCIATION OF COUNTIES, 2), (VIRGI...              0.045455   \n",
       "153  [(HISPANIC NATIONAL BAR ASSOCIATION, 2), (NATI...              0.040193   \n",
       "\n",
       "     distinct_amicus_positions  num_amici  vote  direction  decisionDirection  \\\n",
       "11                           2         44   2.0        1.0                2.0   \n",
       "55                           2         31   1.0        1.0                1.0   \n",
       "122                          2         11   1.0        1.0                1.0   \n",
       "137                          2         88   1.0        1.0                1.0   \n",
       "153                          2        622   1.0        1.0                1.0   \n",
       "\n",
       "     conservative_vote  \n",
       "11                 1.0  \n",
       "55                 1.0  \n",
       "122                1.0  \n",
       "137                1.0  \n",
       "153                1.0  "
      ]
     },
     "execution_count": 357,
     "metadata": {},
     "output_type": "execute_result"
    }
   ],
   "source": [
    "# investigate contradictory cases\n",
    "print(df_selected.loc[(df_selected['percent_conservative'] < 0.1) & (df_selected['direction']==1)].shape)\n",
    "cases_sotomayor = df_selected.loc[(df_selected['percent_conservative'] < 0.1) & (df_selected['direction']==1), 'lexisCite']\n",
    "df_selected.loc[(df_selected['percent_conservative'] < 0.1) & (df_selected['direction']==1)]"
   ]
  },
  {
   "cell_type": "code",
   "execution_count": 358,
   "metadata": {},
   "outputs": [
    {
     "data": {
      "text/plain": [
       "[[2.0, 2.0, 2.0, 2.0, 2.0, 2.0, 1.0, 2.0, 1.0],\n",
       " [1.0, 1.0, 1.0, 1.0, 1.0, 1.0, 1.0, 1.0, 1.0],\n",
       " [1.0, 1.0, 1.0, 1.0, 1.0, 1.0, 1.0, 1.0, 1.0],\n",
       " [1.0, 1.0, 1.0, 1.0, 1.0, 1.0, 1.0, 1.0, 1.0],\n",
       " [1.0, 1.0, 1.0, 1.0, 2.0, 1.0, 1.0, 1.0, nan]]"
      ]
     },
     "execution_count": 358,
     "metadata": {},
     "output_type": "execute_result"
    }
   ],
   "source": [
    "# list of lists of directions of each justice in cases where sotomayor voted conservatively\n",
    "[[y[2] for y in x] for x in df_filt.loc[df_filt.index.isin(cases_sotomayor), 'justices']]"
   ]
  },
  {
   "cell_type": "code",
   "execution_count": 359,
   "metadata": {},
   "outputs": [
    {
     "data": {
      "image/png": "iVBORw0KGgoAAAANSUhEUgAAAjcAAAHyCAYAAAAX5e80AAAAOXRFWHRTb2Z0d2FyZQBNYXRwbG90bGliIHZlcnNpb24zLjguMiwgaHR0cHM6Ly9tYXRwbG90bGliLm9yZy8g+/7EAAAACXBIWXMAAA9hAAAPYQGoP6dpAAB0rUlEQVR4nO3deVyU5fo/8M/DDMwMiyDrgCEgbmCumLh08pSULT/TVjPLpTqLaWq2qJVLeUyrY9Li0W+r2ck0razT4hKpqbmCmAqC4oIZCEiALDPAzP37Y2R0GJZ5YAaG4fN+vTg593PPM9eMeLi4l+uWhBACRERERC7CrbUDICIiIrInJjdERETkUpjcEBERkUthckNEREQuhckNERERuRQmN0RERORSmNwQERGRS2FyQ0RERC6l3SU3QgiUlJSAtQuJiIhcU7tLbi5fvgxfX19cvny5tUMhIiIiB2jV5OaXX37BqFGjEBYWBkmSsGnTpkafs2PHDgwYMAAqlQpdu3bF6tWrHR4nERERtR2tmtyUlZWhb9++WLFihU39z5w5g7vuugs333wzUlNTMXPmTDzxxBPYsmWLgyMlIiKitkJyloMzJUnC119/jTFjxtTbZ/bs2fj+++9x7Ngxc9tDDz2EoqIibN682abXKSkpga+vL4qLi9GhQ4fmhk1EREROpk2tudm7dy8SEhIs2kaOHIm9e/e2UkRERETkbJStHYAcubm5CAkJsWgLCQlBSUkJKioqoNForJ6j1+uh1+vNj0tKShweJxEREbWeNjVy0xRLliyBr6+v+Ss8PLy1QyIiIiIHalPJjVarxcWLFy3aLl68iA4dOtQ5agMAc+fORXFxsfnr/PnzLREqERERtZI2NS01ZMgQ/PDDDxZt27Ztw5AhQ+p9jkqlgkqlcnRoRERE5CRadeSmtLQUqampSE1NBWDa6p2amors7GwAplGXCRMmmPv/85//xOnTp/H888/jxIkT+M9//oMvvvgCTz/9dGuET0RERE6oVZObQ4cOoX///ujfvz8AYNasWejfvz/mz58PAMjJyTEnOgAQFRWF77//Htu2bUPfvn2xbNkyfPDBBxg5cmSrxE9ERETOx2nq3LQU1rkhIiJybW1qzY0zE0IAlwoBvR5QqSD8O0JnLIFBVEIheUCj8IUkSa0dJhERkctjcmMHIicXOJ4G6HQAgNJAJfK7qmFQXU1mlJIHAlVd4F3sZk6AEODPhIeIiMjOmNw0k8jJBZJTzI9LA5XIjVVb9as2ViK3Ih3aUzp4F1SbGtVqiF6xkEK1LRUuERGRy2tTdW6cjRDCNGJT8xhAfvSVbee1R2SuPCyIVsG8yEmnA5JTTAkSERER2QVHbprjUqF5KgoAKnwVMKgbyBclCdVqCRW+CngWG662/3YUwl0JBARcvS+nroiIiJqEyU1zXHNmFQAYPGxLQqz6VVUB+w4A7u5XH9fg1BUREZEsTG6ao1blY0Wlbbvq6+13bVJTo2bqqns3wMuLozlERESNYHLTHAH+gFptnprSFBug0BlNu6TqSj6EgFIvoLl2SspWmSev/pmjOURERPXiguJmkCQJ6BV79TGAoKwrU1W1ayNeeRyYpUezx1y4EJmIiKheTG6aSQrVAnEDTCM4ALwLqqFN00FRadlPqRfQpl2zDdwejqehnRWYJiIiahSnpexACtVCaEPMu5y8VSp41apQrC6tgFSaDsCOyY1OB5w+C9ElkmtwiIiIruDZUi1ICAEUXAJSDte9eLip1GqAa3CIiIgAcFqqRUmSBCkoEOjT2743rlmDk3kS4sIfEAWXOF1FRETtlqyRm/T0dKxbtw67du3CuXPnUF5ejqCgIPTv3x8jR47EfffdB1Wt7dHOxllOBa99HhWAuuvcNPX+ajUq+kTC2NHbfHAnABYIJCIil2dTcpOSkoLnn38eu3fvxrBhwzBo0CCEhYVBo9GgsLAQx44dw65du1BSUoLnn38eM2fOdNokx1mSG8D6JHEE+Jsu1LSVlVluAbdRaaAS+dEqi2rJCqMSQad08M6puNqR01lEROSCbEpuoqKi8Nxzz+Hhhx+Gn59fvf327t2Lt956C3369MELL7xgzzjtxpmSG1vUOcLTAIuDO68dlbny11znjq24AUxwiIjIZdiU3FRVVcG9ZsrEBnL7t6S2ltwAV0Z4Tp8F0tMb7gfgbLxXo0UEI/aXWdbacXcH4vrzbCsiInIJNm0FbyxRKSoqshjRcdbEpq2SJAmiSyRw5kyDIzhNPriTZ1sREZELkb1b6rXXXsP69evNjx988EEEBASgU6dOOHLkiF2Do6tqV0OuS5MP7qxRVWW9mJnVkImIqI2RndysWrUK4eHhAIBt27Zh27Zt+PHHH3HHHXfgueees3uAdFXtasi1NfvgzoawGjIREbURsisU5+bmmpOb7777Dg8++CBuu+02REZGIj4+3u4BkqXa1ZCv3VHl0IM7dTrTawYGNPMdEBEROZbskZuOHTvi/PnzAIDNmzcjISEBgGnRq8HQhB+aJJskSZACAyB1CoPUvZt5NMfhB3fq9U19JhERUYuRPXJz77334uGHH0a3bt1w6dIl3HHHHQCAw4cPo2vXrnYPkBp37WiOt14PbbUe+R55MIirp3cqhTsCTzXz4E4nrV1ERER0LdnJzfLlyxEZGYnz58/j9ddfh7e3NwAgJycHTz75pN0DJNtIkmSeMvIB4C0iUWEoNh/cqVH4AgPQ9LOt1OqrRQaJiIicGA/ObIdETi6QnCLvSSz0R0REbYTskRsAOHnyJLZv3468vDwYjUaLa/Pnz7dLYOQ4UqgWIm6AbWdbqVRARGfAaIQouGR9RMQ1x0bUHili8T8iImoNskdu3n//fUyZMgWBgYHQarUWP8AkSUJKiswRgRbGkZurbDrbKvt8owlQaagG+V3VMLhdXc+jlDwQpIqGt3tgS7wVIiIiM9nJTUREBJ588knMnj3bUTE5FJMb29g6dVXvWVZXhKpjmOAQEVGLkr0V/M8//8QDDzzgiFjISQghTFNWjfUDkB99ZQdVPVNQ+frTLP5HREQtSnZy88ADD2Dr1q2OiIWcxaVCm04hN59l1cDammqhR3nheSY4RETUYmQvKO7atSvmzZuHffv2oXfv3laHZE6fPt1uwVErsbFYn81nWZ06AVw+xQM4iYioRchecxMVFVX/zSQJp0+fbnZQjsQ1N40TBZeAffsb7Vfuq8Af/Twb7ReWWg7PYgMEgIpBPWHs6M0dVURE5DCyR27OnDnjiDjImQT4m4r2NTI1Jecsq9JAJfKjVTCoLwBXbssdVURE5Aiy19xcSwjBtRQuSJIkoFds4/1g21lWZVd2VBlUlglQtahEji4dpVUF9gibiIgIQBOTmzVr1qB3797QaDTQaDTo06cPPv30U3vHRq1ICtWaD+S04O5+tdYNAO+CamhPGqAQlmuvlHoBbZoOXgXV3FFFREQtSva01Jtvvol58+Zh2rRpGDZsGABg9+7d+Oc//4mCggI8/fTTdg+SWse1B3LWW+hPpYJ3gD+8AZQXnofh1AkoKk1TURJM63IM6oZz6GqhR4WhGJ5KP0e/JSIiageatKD45ZdfxoQJEyzaP/nkEyxcuNDp1+RwQbHjCCGApO0Wa3UuBylxMVbT6HO16h7wcQ92ZHhERNROyJ6WysnJwdChQ63ahw4dipycHLsERW1TXWt1FJW25c4KycMRIRERUTskO7np2rUrvvjiC6v29evXo1u3bnYJitqu2mt1anZUWS04voZSUkGj8G2pEImIyMXJXnPz8ssvY+zYsfjll1/Ma2727NmDpKSkOpMean+uXasj6fUIUuiRK/1eb/8gVRfWuyEiIruRveYGAJKTk7F8+XKkp6cDAGJiYvDMM8+gf//+dg/Q3rjmpnWUVhUgX5+FalFpblPAA77uWngoNCzqR0REdtOk5KYtY3LTeoQQqDAUwyAqUWmsQHFVLgzXJDss6kdERPZg07RUSUmJOREoKSlpsC8TBqqPJEnwVPqhtKoAhZXZVtdrivqFIoYJDhERNZlNyU3Hjh2Rk5OD4OBg+Pn51Tl1IISAJEkwGAx2D5JchxAC+fqsBvvk60/DSxnAKSoiImoSm5Kbn3/+Gf7+puJt27dvd2hA5NoqDMUW627qwqJ+RETUHDYlN8OHDzf/OSoqCuHh4Va/VQshcP78eftGRy7H0EhiI7cfERFRbbLr3ERFRSE/P9+qvbCwEFFRUXYJilyXrcX6WNSPiIiaSnZyU7O2prbS0lKoax+ySFSLRuELZSOJixvcUW2sRHl1EQ/UJCIi2Wwu4jdr1iwAph0v8+bNg6enp/mawWDA/v370a9fP7sHSK5FkiQEqaKRo0uvt48RVbiozwDA7eFERCSfzcnN4cOHAZhGbo4ePQoPj6u/fXt4eKBv37549tln7R8huRxv90CEIsaqqF9duD2ciIjkkl3Eb/LkyXjrrbfabD0bFvFzHjVF/aqNeuTrz8CIqnr7KiUVIr1u4PZwIiJqFCsUU6srry7ChYqjjfbrpOnN7eFERNQom6al7r33XqxevRodOnTAvffe22Dfr776yi6BUfth67bv6pJCiI48f4qIiBpmU3Lj63v1B4qvr69DA6L2x+bt4cdPAvqzEL1iIYVqHRwVERG1VZyWolYnhMDZsgP1Ly4WAkq9QMT+MpjHbOIGMMEhIqI6ya5zU1FRgfLycvPjc+fOITExEVu3brVrYNR+1GwPr9OV3DswSw+LyajjaayBQ0REdZKd3IwePRpr1qwBABQVFWHQoEFYtmwZRo8ejZUrV9o9QGofvN0DEaqOsSrwp9QLaNN08C6otnyCTgdkZEIUXILRaER5dREuV+Wx8B8REdle56ZGSkoKli9fDgDYuHEjtFotDh8+jC+//BLz58/HlClT7B4ktQ/e7oHwUgag/OJpGM5lQVEpoCk2oN7lw6eyUFp0Dvld1TCorvZi4T8iovZNdnJTXl4OHx8fAMDWrVtx7733ws3NDYMHD8a5c+fsHiC1L5IkmbZ751c32rc0UIncWOsjP2oK/2kvXwfvChWgUgEBplPtcakQ0OvNbdx5RUTkemQnN127dsWmTZtwzz33YMuWLXj66acBAHl5eVygS/YR4A+o1aapp3oIAPnRKtODuhIUIVBgyIbX4SuLkN3dTe1V1xQKVKu584qIyAXJXnMzf/58PPvss4iMjMSgQYMwZMgQAKZRnP79+9s9QGp/JEkCesU22KfCVwGD2q3uxMZ0E1Sr3VDhqzA9rqqyTGwAU/KUnAKRk2uHqImIyFnITm7uv/9+ZGdn49ChQ9iyZYu5fcSIEea1OHKsWLECkZGRUKvViI+Px4EDBxrsn5iYiB49ekCj0SA8PBxPP/00dA38hk9tkxSqBeIGmEZw6mDwsG06yaZ+vx2FKCiAEML0VXAJ4sIfpv8ajZaP6+rDBcxERE5F9rQUAGi1Wmi1Wvz+++8AgOuuuw6DBg2SfZ/169dj1qxZWLVqFeLj45GYmIiRI0ciIyMDwcHBVv3Xrl2LOXPm4KOPPsLQoUORmZmJSZMmQZIkvPnmm015K+TEpFAthDbEtE6moAA4lWW+pqi0LaGwqV9VFbDvQN1TV7VxeouIyOnJHrkxGo145ZVX4Ovri4iICERERMDPzw+LFi2C0WiUda8333wTf/vb3zB58mTExsZi1apV8PT0xEcffVRn/19//RXDhg3Dww8/jMjISNx2220YN25co6M91HZJkgQpMADo0d1iFEdTbIBCZzTXwbEiBJQ6IzTFBttfrK6pKxv6CJ0O5aeOoCT/JLeiExE5AdnJzYsvvoh3330XS5cuxeHDh3H48GG8+uqreOeddzBv3jyb71NZWYnk5GQkJCRcDcbNDQkJCdi7d2+dzxk6dCiSk5PNyczp06fxww8/4M4775T7NqiNqb0ORwIQlKU3PaidTNRX+M8BSgOVOBvvhT/6eeKiOhcXKo7ibNkBlFYVOPiViYioPrKnpT755BN88MEHuPvuu81tffr0QadOnfDkk09i8eLFNt2noKAABoMBISEhFu0hISE4ceJEnc95+OGHUVBQgBtvvBFCCFRXV+Of//wnXnjhhXpfR6/XQ6/Xmx+XlJTYFB85HylUCxE3ADieBuhMhf20abordW6u9lPqBQKz9NaF/+yssa3o/obO8FBooJA8oFHwwE8iopYiO7kpLCxEz549rdp79uyJwsJCuwRVnx07duDVV1/Ff/7zH8THx+PUqVOYMWMGFi1aVO+o0ZIlS/Dyyy87NC5qORbrcPR6eKtU8PLvCJ2xBAZRCbc/S6E5cMLhIzaNbkUHUFiVDVyZwVLAHb7uoUx2iIhagOyDM+Pj4xEfH4+3337bov2pp57CwYMHsW/fPpvuU1lZCU9PT2zcuBFjxowxt0+cOBFFRUX45ptvrJ7zl7/8BYMHD8Ybb7xhbvvvf/+Lv//97ygtLYWbm/UsW10jN+Hh4Tw404WJnFzz6I6ZLYuFZSj3VeCPfp5Nfj6rKBMROY7skZvXX38dd911F3766SdzjZu9e/fi/Pnz+OGHH2y+j4eHB+Li4pCUlGROboxGI5KSkjBt2rQ6n1NeXm6VwCgUpjom9eVoKpUKKpWqzmvkmmqP7lhUKC64BKQcbnaSY+tW9PrUV0WZozlERM0nO7kZPnw4MjMzsWLFCvPamHvvvRdPPvkkwsLCZN1r1qxZmDhxIgYOHIhBgwYhMTERZWVlmDx5MgBgwoQJ6NSpE5YsWQIAGDVqFN58803079/fPC01b948jBo1ypzkEAFXFiAHBlhfCAqE6NMbSE5p1v1t3YreoNpVlNVqiNgYwMODR0QQETVDk+rchIWF2bxwuCFjx45Ffn4+5s+fj9zcXPTr1w+bN282LzLOzs62GKl56aWXIEkSXnrpJVy4cAFBQUEYNWqUXWKh9qP2wmQzGXVuNMVVUOiMpgM7m5p8SBKq1RIqfBXwLDaYYkk5bNlHpYKI6Ax4eTHZISKykew1NwDw559/4sMPP0R6ejoAIDY2FpMnT4a/v7/dA7S3kpIS+Pr6cs0NmaYy65q6urbNvyNQ+GedfUoNl5CruYjmrl4OSauAjw0HhQIw1fphwUAiogbJTm5++eUXjBo1Cr6+vhg4cCAAIDk5GUVFRfjf//6Hm266ySGB2guTG7Kn0qoC5OuzUC0qm3yPsNRy08iNHHEDmOAQEdVDdnLTu3dvDBkyBCtXrjSvczEYDHjyySfx66+/4ujRow4J1F6Y3JC9CSFQYSiGQVSi0liBwspsW58IpV4gYn+ZrMEfAaAiSAND/15QunFbORFRbbKTG41Gg9TUVPTo0cOiPSMjA/369UNFRYVdA7Q3JjfkaDaN5lz5Z6dN08kqNlgaqER+tMp0IvoV3FZORGRJ9oLiAQMGID093Sq5SU9PR9++fe0WGFFb5e0eCC9lgMVoTnFVLgzXJDtNqaLcWEXkUMQwwSEiQhOSm+nTp2PGjBk4deoUBg8eDADYt28fVqxYgaVLl+K3334z9+3Tp4/9IiVqQyRJgqfSz/zY36OzOdlpShVlWyoi5+tPw0sZwCkqImr3ZE9L1VUF2OKGkgQhBCRJgsEgc5FkC+C0FDmDOqsoN8DWisidNL0tkioiovZI9sjNmTNnHBEHUbtSZxXlykogLb3OhMfWisiGZuzaIiJyFbKTm4iICEfEQdTu1FVFWYRqryY8ZWVA9nlAp7O5InK1sdI8ckpE1F41qUIxETlG7YRHdOsKXCqERq+DQmTDIDW8ALmg8gyKqi5w9xQRtWtMboicWE2yIwEIrlIhR5fe6HN4KCcRtXdMbojaCG/3QIQixraKyHUdysljG4ionWh46xMRORVv90BEeg1CoEdUwx0lCdVqN1T4mqqIQ6cDklNMu7SIiFwckxuiNkaSJCjdPGzqa7XL6ngamnBWLhFRm2LTtJS/vz8yMzMRGBiIjh07Njh3X1hYaLfgiKhuCsm25MZql5VOZ9qNVWuXFhGRK7EpuVm+fDl8fHzMf+bCRKLWpVH4Qil51L/25sqhnJq6ThvX6x0bHBFRK5NdobitY4VichWlVQV1755q7FDOwfGQOHJDRC5M9pqbH374AVu2bLFq37p1K3788Ue7BEVEjfN2D0SoOgbKWlNUSr2oP7FRq4EA/xaKkIiodchObubMmVPnmVFGoxFz5syxS1BEZJua3VOdNL2hVfdAWEUnROwvq/+08V6xnFYmIpcnu87NyZMnERsba9Xes2dPnDp1yi5BEZHtLE4gDw6GiPO0PpRTrTYlNqxzQ0TtgOzkxtfXF6dPn0ZkZKRF+6lTp+Dl5WWvuIioieo8lJMViomoHZE9LTV69GjMnDkTWVlZ5rZTp07hmWeewd13323X4IioaSRJghQYAKlTmOm/TGyIqB2Rndy8/vrr8PLyQs+ePREVFYWoqCjExMQgICAA//73vx0RIxEREZHNmrQVXAiBbdu24ciRI9BoNOjTpw9uuukmR8Rnd9wKTkRE5NpY54aIiIhcik0Lit9++238/e9/h1qtxttvv91g3+nTp9slMCIiIqKmsGnkJioqCocOHUJAQACiouo/jViSJJw+fdquAdobR26IiIhcG6eliIiIyKXI3i1FRERE5MxkF/ETQmDjxo3Yvn078vLyYDQaLa5/9dVXdguOiIiISC7Zyc3MmTPxf//3f7j55psREhLC4mBERETkVGSvufH398d///tf3HnnnY6KyaG45oaIiMi1yV5z4+vriy5dujgiFiIiIqJmk53cLFy4EC+//DIqKiocEQ8RERFRs8hec/Pggw/i888/R3BwMCIjI+Hu7m5xPSUlxW7BEREREcklO7mZOHEikpOT8cgjj3BBMRERETkd2QuKvby8sGXLFtx4442OismhuKCYiIjItckeuQkPD2dSQNTGCCGAS4WAXg+oVECAv+nCNW3CvyN0xhIYRCUUkgc0Cl+OzBJRmyQ7uVm2bBmef/55rFq1CpGRkQ4IiYjsSeTkAsfTAJ3uamPNWrmqKgBAaaAS+V3VMKiuJjNKyQNBqmh4uwe2ZLhERM0me1qqY8eOKC8vR3V1NTw9Pa0WFBcWFto1QHvjtBS1JyInF0hueJF/aaASubFq04M6RmpC1TFMcIioTZE9cpOYmOiAMIjI3oQQphGbhvoAyI9WmR7UMwWVrz8NL2UAp6iIqM1o0m4pImoDLhVaTkXVocJXAYO64XJX1UKPCkMxPJV+dgyOiMhxZCc319LpdKisrLRo41QPkZPQ6xvtYvCwbTTGICob70RE5CRkVyguKyvDtGnTEBwcDC8vL3Ts2NHii4ichErVaBdFpW1L7hSSR3OjISJqMbKTm+effx4///wzVq5cCZVKhQ8++AAvv/wywsLCsGbNGkfESERNEeAPqNUNdtEUG6DQGYEG9hUoJRU0Cl97R0dE5DCyd0t17twZa9aswV//+ld06NABKSkp6Nq1Kz799FN8/vnn+OGHHxwVq11wtxS1J9wtRUTtkeyRm8LCQvOp4B06dDBv/b7xxhvxyy+/2Dc6ImoWKVQLxA2wHsFxdzfXuvEuqIY2TQdFrWU1SknFxIaI2iTZC4q7dOmCM2fOoHPnzujZsye++OILDBo0CP/73//g5+fngBCJqDmkUC2ENqTBCsXeKhW86qhQDACi4JLF87glnIicnexpqeXLl0OhUGD69On46aefMGrUKAghUFVVhTfffBMzZsxwVKx2wWkpItvUWdlYrYboFQNdkIbHNBCR05Kd3NR27tw5JCcno2vXrujTp4+94nIYJjdEjatvrU5poBL50SqL2jg8poGInE2zk5u2hskNUcOEEEDSdqsCgFx4TERthewFxUTk4uqobNzoMQ0CyC/PhLGgAO3s9yUickLNqlBMRC6ojsrGjR7TIAHVkgEV6cnw1LtDxMYAHh5ciExErYLJDRFZqqOysc3HNHhIQLEOSDlseUGthugVa9qaTkTkYJyWIiJLdVQ2tvmYhvr66XRAcoppoTIRkYM1KbnJysrCSy+9hHHjxiEvLw8A8OOPP+L48eN2DY6IWp4kSUCvWIu2Ro9pEAJKnRGaYkPDNz+exjU5RORwspObnTt3onfv3ti/fz+++uorlJaWAgCOHDmCBQsW2D1AImp5tSsbSwCCsq6sxamdm1xJVgKz9Gh08kqnMy1YJiJyINnJzZw5c/Cvf/0L27Ztg4fH1ZOCb7nlFuzbt8+uwRFR65FCtcCIm4HB8UD/fvDuGgetJgZKN8sTwpV6AW2aDt4F1bbduI4Fy0RE9iR7QfHRo0exdu1aq/bg4GAUFBTYJSgicg6SJAGBAebHPgC8lYEory6C4VgqFKWV0BQbGh+xuVYdC5aJiOxJ9siNn58fcnJyrNoPHz6MTp062SUoInJekiTBy70jfLQx8JSb2KjVV8+1IiJyENnJzUMPPYTZs2cjNzcXkiTBaDRiz549ePbZZzFhwgRHxEhETqjeE8cb0iuW9W6IyOFkH79QWVmJqVOnYvXq1TAYDFAqlTAYDHj44YexevVqKBQKR8VqFzx+gci+hBCWJ45XVgJp6VYHboJ1boiohTT5bKns7GwcO3YMpaWl6N+/P7p169akAFasWIE33ngDubm56Nu3L9555x0MGjSo3v5FRUV48cUX8dVXX6GwsBARERFITEzEnXfeadPrMbkhcjyrhIcViomoBcleULx7927ceOON6Ny5Mzp37tysF1+/fj1mzZqFVatWIT4+HomJiRg5ciQyMjIQHBxs1b+yshK33norgoODsXHjRnTq1Annzp2Dn59fs+IgIvuqvRCZiKglyR658fDwQKdOnTBu3Dg88sgjiI2NbfxJ9YiPj8cNN9yAd999FwBgNBoRHh6Op556CnPmzLHqv2rVKrzxxhs4ceIE3N3dm/SaHLkhIiJybbIXFP/xxx945plnsHPnTlx//fXo168f3njjDfz++++y7lNZWYnk5GQkJCRcDcbNDQkJCdi7d2+dz/n2228xZMgQTJ06FSEhIbj++uvx6quvwmCovyqqXq9HSUmJxRcRERG5LtnJTWBgIKZNm4Y9e/YgKysLDzzwAD755BNERkbilltusfk+BQUFMBgMCAkJsWgPCQlBbm7d58+cPn0aGzduhMFgwA8//IB58+Zh2bJl+Ne//lXv6yxZsgS+vr7mr/DwcJtjJCIioranWQdnRkVFYc6cOVi6dCl69+6NnTt32iuuOhmNRgQHB+O9995DXFwcxo4dixdffBGrVq2q9zlz585FcXGx+ev8+fMOjZGIiIhal+wFxTX27NmDzz77DBs3boROp8Po0aOxZMkSm58fGBgIhUKBixcvWrRfvHgRWm3d20VDQ0Ph7u5usd08JiYGubm5qKystDgOooZKpYKKFVGJiIjaDdkjN3PnzkVUVBRuueUWZGdn46233kJubi4+/fRT3H777Tbfx8PDA3FxcUhKSjK3GY1GJCUlYciQIXU+Z9iwYTh16hSMRqO5LTMzE6GhoXUmNkRERNT+yE5ufvnlFzz33HO4cOECvvvuO4wbNw6enp5NevFZs2bh/fffxyeffIL09HRMmTIFZWVlmDx5MgBgwoQJmDt3rrn/lClTUFhYiBkzZiAzMxPff/89Xn31VUydOrVJr09ERESuR/a01J49e+z24mPHjkV+fj7mz5+P3Nxc9OvXD5s3bzYvMs7Ozoab29X8Kzw8HFu2bMHTTz+NPn36oFOnTpgxYwZmz55tt5iIiIiobbOpzs23336LO+64A+7u7vj2228b7Hv33XfbLThHYJ0bIiIi12ZTcuPm5obc3FwEBwdbjKRY3UySGqw54wyY3BAREbk2m6alrl3Ae+2fiYiIiJyN7AXFa9asgV6vt2qvrKzEmjVr7BIUERERUVPJPltKoVAgJyfH6mDLS5cuITg4mNNSRERE1Kpkj9wIIUwn/tby+++/w9fX1y5BERERETWVzVvB+/fvD0mSIEkSRowYAaXy6lMNBgPOnDkjq4gfERERkSPYnNyMGTMGAJCamoqRI0fC29vbfM3DwwORkZG477777B4gERERkRyy19x88sknGDt2LNRqtaNiciiuuSEiInJtspObto7JDRERkWuTffyCwWDA8uXL8cUXXyA7OxuVlZUW1wsLC+0WHBEREZFcsndLvfzyy3jzzTcxduxYFBcXY9asWbj33nvh5uaGhQsXOiBEIiIiItvJnpaKjo7G22+/jbvuugs+Pj5ITU01t+3btw9r1651VKx2wWkpIiIi1yZ75CY3Nxe9e/cGAHh7e6O4uBgA8P/+3//D999/b9/oiIiIiGSSndxcd911yMnJAWAaxdm6dSsA4ODBg1CpVPaNjoiIiEgm2cnNPffcg6SkJADAU089hXnz5qFbt26YMGECHnvsMbsHSERERCRHs7eC79u3D7/++iu6deuGUaNG2Ssuh+GaG6KWJ4RAhaEYBlEJheQBjcK3zmNciIjsQXZyo9Pp2mwBP4DJDVFLK60qQL4+C9XiatkIpeSBQI8uULi5M+EhIruTXecmODgY99xzDx555BGMGDECbm6yZ7aIqJ0orSpAji7dqr1aVCJXf8KiTSl5IEgVDW/3wJYKj4hclOzM5JNPPkF5eTlGjx6NTp06YebMmTh06JAjYiOiNkwIgXx9ls39q0UlcnTpKK0qcGBURNQeNGlB8YYNG3Dx4kW8+uqrSEtLw+DBg9G9e3e88sorjoiRiNqgCkOxxVSUTQSQX54JY0EB2tnJMERkR3Y5WyotLQ3jx4/Hb7/9BoPBYI+4HIZrbohaxuWqPOTqMpr03LDUcnjq3YHYGMDDA9DrAZUKCPDnuhwiapTsNTc1dDodvv32W6xduxabN29GSEgInnvuOXvGRkRtmELyaPJzDR4SUKwDUg5bXlCrIXrFQgrVNjM6InJlspObLVu2YO3atdi0aROUSiXuv/9+bN26FTfddJMj4iOiNkqj8IVS8pA/NQVAUVnPgLJOBySnQMQNYIJDRPWSndzcc889GDVqFNasWYM777wT7u7ujoiLiNo4SZIQpIquc7dUvYSAUi+gKW5kevt4GoQ2hFNURFQnWclNdXU1XnvtNTzwwAPQavlbExE1zNs9EKGIsapzU6cry/8Cs/SoL2URACp8FTB4VENReB6e/uGmC5cKLdblALAoGqh26wCdscSipk5dfaTCP63uY3Fv/45AE/owCSNqWbIXFHt6eiI9PR0RERGOismhuKCYqOXVrlBsEFUo0J+2LOynMyIwSw/vguo671EaqER+tAoG9dVNngqjEkGndPDOqbjaL1SD/K5qGNzqvg8AuF35vc6Iq30UemG6V83r14xKV1XV/8Zs6aNWA1wnRNSiZE9LDRo0CIcPH26zyQ0RtTxJkuCp9LNo81YGory6CIZjqVCUVkJTbKh3xKY0UIncWOvK6AapCrndFNBWKeFdUG3q100BoAqo926WSY35Xh5Abqwa2rQrCU5DCUsNW/pwnRBRi5Od3Dz55JN45pln8PvvvyMuLg5eXl4W1/v06WO34IjIdUmSBC/3jhDaGCA5pd5+AkB+tKrmSbVvAgiBgmgVPAuq6+9nW0Dme3kVVDeQGjUR1wkRtRjZ01J1HbcgSRKEEJAkiXVuiEg2kZMLHE8zjXLUUu6rwB/9PBu9R8ApHS51tc+5d2Gp5fBsbFFzUwyOhxQYYP/7EpEF2SM3Z86ccUQcRNSOSaFaCG2I5cLcykogLR0Gj/rXzlyrSm2/c+4MHg4aXdHrHXNfIrIgO7nhWhsicgRJkoBaoxoiVAtF4XkA5xp9vrvOaLdY6q2z01wqlWPuS0QWmvSrzqeffophw4YhLCwM586Z/k8nMTER33zzjV2DI6L2TZIkePqHQ9lQtWMhoNQZ4XuhCgqd0bylvEmu3KvROjtNoVZf3TpORA4lO7lZuXIlZs2ahTvvvBNFRUXmNTZ+fn5ITEy0d3xE1M7VFAOs0zW1cdwABGXpLdplsaHOTrP0iuViYqIWIju5eeedd/D+++/jxRdfhEKhMLcPHDgQR48etWtwRETAlWKA6hirERylcIf2pMFcm8a7oBrakwYoRMOV092gNNe6Md+rEle3gQOmGjaNVWC3pY9aDXAbOFGLatKC4v79+1u1q1QqlJWV2SUoIqLavN0D4aUMsCgGqFH4AgNgsRDZO8Af3mhChWKvDpC6/gmEs0IxUVsnO7mJiopCamqq1cLizZs3IyYmxm6BERHVVlcxQABWC5EBWPXzdLN+ntW96tqmXbutqX2IqMXITm5mzZqFqVOnQqfTQQiBAwcO4PPPP8eSJUvwwQcfOCJGIiIiIpvJTm6eeOIJaDQavPTSSygvL8fDDz+MsLAwvPXWW3jooYccESMRERGRzWRXKL5WeXk5SktLERwcbM+YHIoViomIiFyb7N1SFRUVKC8vB2A6IbyiogKJiYnYunWr3YMjIiIikkt2cjN69GisWbMGAFBUVIRBgwZh2bJlGD16NFauXGn3AImI2johBETBJYgLf5j+25xCg0TUKNnJTUpKCv7yl78AADZu3AitVotz585hzZo1ePvtt+0eIBFRWyZycoGk7cC+/cDhVNN/k7ab2onIIWQnN+Xl5fDx8QEAbN26Fffeey/c3NwwePBg81EMRER0JbFJTrE+7VynA5JTmOAQOYjs5KZr167YtGkTzp8/jy1btuC2224DAOTl5XGBLhHRFUII4Hhaw52Op3GKisgBZCc38+fPx7PPPovIyEjEx8djyJAhAEyjOHVVLiYiapcuFVqP2NSm05n6EZFdNWkreG5uLnJyctC3b1+4uZnyowMHDqBDhw7o2bOn3YO0J24FJ6KWIC78YVpj05j+/SB1CnN4PETtiewifgCg1Wqh1VoeAjdo0CC7BERE5BJUKvv2IyKbyU5uysrKsHTpUiQlJSEvLw9Go9Hi+unTp+0WHBFRmxXgbzoRvKGpKXd3QKeDKLjEAzaJ7KhJxy/s3LkTjz76KEJDQ/mPkYioDpIkQfSKNe2Wqk9VFZB6xPRntRqiVyykUG39/YnIJrLX3Pj5+eH777/HsGHDHBWTQ3HNDRG1JJGTa9o11dji4hpxA5jgEDWT7JGbjh07wt/f3xGxEBG5HClUC6ENubp7Ki0dqKys/wnH0yC0IRwVJ2oG2VvBFy1ahPnz55vPlyIiooZJkgQpMMC0BqehxAbg9nAiO5A9crNs2TJkZWUhJCQEkZGRcHd3t7iektLA/DIRUXum19d7SQCo8FXA4CFBUV0ET8EFxkRNJTu5GTNmjAPCICJqB+rZ9l0aqER+tAoGdc1g+h9QlhUgUNUF3sVupqRIpeKOKiIbNamIX1vGBcVE1FqEEKZDNK9ZXFwaqERurNr04NrERZj+R5umg3dBtalNrQa4o4qoUU0q4gcAycnJSE9PBwD06tWLRy8QETWi9vZwASA/WlVzsVZnU4eCaBW8CqohAVcP3OSOKqIGyU5u8vLy8NBDD2HHjh3w8/MDABQVFeHmm2/GunXrEBQUZO8YiYhchhSqhYgbABxPQ4Wq6pqpqLo6S6hWS6jwVcCz2HC1nTuqiBoke7fUU089hcuXL+P48eMoLCxEYWEhjh07hpKSEkyfPt0RMRIRuRQpVAuMuBmGXt1s6m/wqJXEcEcVUYNkj9xs3rwZP/30E2JiYsxtsbGxWLFiBW677Ta7BkdE5KokSYKygz9QcaHRvorKOpZGNrDziqi9kz1yYzQarbZ/A4C7u7vVOVNERFQ/jcIXSsmj/g5CQKkzQnPtlFQNHrhJVC/Zyc0tt9yCGTNm4I8//jC3XbhwAU8//TRGjBhh1+CIiFyZJEkIUkXXffHKRtbALD1qJqUEgHJfBS530qDc1w3tbLMrkc1kJzfvvvsuSkpKEBkZiejoaERHRyMqKgolJSV45513mhTEihUrEBkZCbVajfj4eBw4cMCm561btw6SJLH2DhG1Wd7ugQhVx1iN4Cj1ltvASwOVOBvvhT/6eeJiVyX+0B3D2bIDKK0qaI2wiZxak+rcCCHw008/4cSJEwCAmJgYJCQkNCmA9evXY8KECVi1ahXi4+ORmJiIDRs2ICMjA8HBwfU+7+zZs7jxxhvRpUsX+Pv7Y9OmTTa9HuvcEJEzEkKgwlAMg6iEQvKAOr8C0vF0QKervxbOFaHqGHi7B7ZwxETOq9WL+MXHx+OGG27Au+++C8C0pic8PBxPPfUU5syZU+dzDAYDbrrpJjz22GPYtWsXioqKmNwQkcsRQkBcuoSz7pkwSAagnp3fSkmFSK8buDWc6ArZ01LTp0/H22+/bdX+7rvvYubMmbLuVVlZieTkZItRHzc3NyQkJGDv3r31Pu+VV15BcHAwHn/88UZfQ6/Xo6SkxOKLiKgtkCQJOj8lDG71JzYAUC30qDAUt1xgRE5OdnLz5ZdfYtiwYVbtQ4cOxcaNG2Xdq6CgAAaDASEhIRbtISEhyM3NrfM5u3fvxocffoj333/fptdYsmQJfH19zV/h4eGyYiQiak0G0cgp4jL7EbUHspObS5cuwdfX16q9Q4cOKChw7MK2y5cv49FHH8X777+PwEDb5pfnzp2L4uJi89f58+cdGiMRkT0pGtoq3oR+RO2B7CJ+Xbt2xebNmzFt2jSL9h9//BFdunSRda/AwEAoFApcvHjRov3ixYvQaq3PTcnKysLZs2cxatQoc1tNbR2lUomMjAxER1tuq1SpVFCxHgQRtVE1tXCqGxiZUQol1BfLIFQGnhxOhCYkN7NmzcK0adOQn5+PW265BQCQlJSEZcuWITExUda9PDw8EBcXh6SkJPN2bqPRiKSkJKvkCQB69uyJo0ePWrS99NJLuHz5Mt566y1OORGRy6mphZOjS7e+eOXk8MC0y5AKjpja1GoInhxO7Zzs5Oaxxx6DXq/H4sWLsWjRIgBAZGQkVq5ciQkTJsgOYNasWZg4cSIGDhyIQYMGITExEWVlZZg8eTIAYMKECejUqROWLFkCtVqN66+/3uL5NYd31m4nInIV3u6BCEUM8vVZFiM4Sr0RgVl6cy0cADw5nAhNSG4AYMqUKZgyZQry8/Oh0Wjg7e3d5ADGjh2L/Px8zJ8/H7m5uejXrx82b95sXmScnZ0NNzfZS4OIiFyKt3sgvJQBqDAUo9pYCcXh49DkV9S/iYonh1M71up1bloa69wQUVsnCi4B+/Y33nFwPKTAAMcHRORkOCRCRNTW2HoiOE8Op3aqSdNSRETUihrYASoAVPgqYPCQoFBXw1MITk1Ru8PkhoiorQnwB9Rq0+Lha5QGKpEfrYJBXTMofw7KshwEqrrAu9jNNJKjUnG7OLm8ZiU3Op0OarXaXrEQEZENJEmC6BULJKeY2ywO17xGtbESuRXp0J66esI4t4uTq5O95sZoNGLRokXo1KkTvL29cfr0aQDAvHnz8OGHH9o9QCIisiaFaoG4AaZEBUB+9JWpqtojMlceFkSrYN49UrNdPKfuY26I2jrZyc2//vUvrF69Gq+//jo8PK6W+77++uvxwQcf2DU4IiKqnxSqBUbcjIoh15umouqbapIkVKvdUOGrsGw/noZ2tmGW2gnZyc2aNWvw3nvvYfz48VAorv5D6du3L06cOGHX4IiIqGGSJMHYwbblAQaPWsmPTgdcKnRAVEStS3Zyc+HCBXTt2tWq3Wg0oqqqyi5BERGR7Ww+XLOyjlEabhcnFyQ7uYmNjcWuXbus2jdu3Ij+/fvbJSgiIrJdzeGa9RICSp0RmmKD9TUeLEwuSPZuqfnz52PixIm4cOECjEYjvvrqK2RkZGDNmjX47rvvHBEjERE1oOHDNU2jNYFZeuujGtRq07ZyIhcje+Rm9OjR+N///oeffvoJXl5emD9/PtLT0/G///0Pt956qyNiJCKiRni7ByJUHWM1gqPUC2jTdJaHa9YI1QKXCrmomFyOrLOlqqur8eqrr+Kxxx7Ddddd58i4HIZnSxGRKxNCoMJQDIOohELygDq/AtLxdKuCfxbUaoB1b8iFyD4409vbG8eOHUNkZKSDQnIsJjdE1N4IIUy7oi5eBM6crbsPgIpBPWHs6A2F5AGNwhcALBMltw7QGUvMjzUKX1Y6Jqcke83NiBEjsHPnzjab3BARtTeSJEEE+AOpR+q8fvXYhgvAlQEetys/HoyoYzrrCqXkgSBVNLzdA+0eM1FzyE5u7rjjDsyZMwdHjx5FXFwcvLy8LK7ffffddguOiIjs5FJhnVNT9R3b0FBSU6NaVCJHl45QxDDBIacie1rKza3+NciSJMFgqGOroRPhtBQRtUfiwh/A4VTLNgBn471gUEn1Vze2gVJSIdLrBk5RkdOQPXJjNBodEQcRETlSHfVsKnwV15wg3nTVQo/yi6fhqfTjiePkFJp1KjgREbURAf6mXVHXTE1ZHcfQDIZzWUB+NaBSQUR0Bry8TAkVkx1qBU1KbsrKyrBz505kZ2ejsrLS4tr06dPtEhgREdmPJEkQvWKB5BRzW53HMTSR+V56PZB58uoFtRqC28yphclec3P48GHceeedKC8vR1lZGfz9/VFQUABPT08EBwfj9OnTjorVLrjmhojaM5GTCxxPA3Q6+6y5EQJKvUDE/jLrCsjX6t6NoznUYmSP3Dz99NMYNWoUVq1aBV9fX+zbtw/u7u545JFHMGPGDEfESEREdiKFaiG0IcClQkh6PYIUeuRKvzftZg0d7VAbR3OoBckeufHz88P+/fvRo0cP+Pn5Ye/evYiJicH+/fsxceJEnDhxwlGx2gVHboiILJVWFSBfn4VqcXWZgU11bnRGBGbp6z7awRZRkUBICEdyyO5kj9y4u7ubt4MHBwcjOzsbMTEx8PX1xfnz5+0eIBEROZa3eyC8lAEW1YgbqlBcXVIIxfGT0BQbGh+xaciZs6YvjuSQnclObvr374+DBw+iW7duGD58OObPn4+CggJ8+umnuP766x0RIxEROZgkSaat3LXUbvN084Po6AvozwKwU10znQ5IToGIG8AEh+xCdoGDV199FaGhoQCAxYsXo2PHjpgyZQry8/Px3nvv2T1AIiJyLpIkAb1i7X/j42k8oZzsQvaam7aOa26IiOzj2p1XdjM4HlJggP3uR+0Si/gREVGTXLvzCno9UFYGZJ9vXrKj19svQGq3ZCc3Fy9exLPPPoukpCTk5eVZDSE6+9lSRERkP5IkAdeMtIhuXS2TnWu3gNuijmMiiOSSndxMmjQJ2dnZmDdvHkJDQ7l9j4iIzKySHR8f26eu1GrTMRFEzSQ7udm9ezd27dqFfv36OSAcIiJyJRZTVxcvmrZ+16dXLH9hJruQndyEh4dzNTsREdnMPJoTGADh7289kqNWmxIbbgMnO5G9W2rr1q1YtmwZ/u///g+RkZEOCstxuFuKiKh1CSGursvhWVPkADaN3HTs2NHiG6+srAzR0dHw9PSEu7u7Rd/CwkL7RkhERC6l9rocwJTw1K6QzISHmsqm5CYxMdHBYRARUXtV19lWSskDQapoeLsHtmJk1FaxiB8REbWa0qoC5OjS670eqo5hgkOyyT5+ISUlBUePHjU//uabbzBmzBi88MILqKysbOCZREREVwkhkK/PaqADkF+eCWNBATeykCyyk5t//OMfyMzMBACcPn0aY8eOhaenJzZs2IDnn3/e7gESEZFrqjAUW0xFWZGAajcDKtKTgaTtpuMeiGwgO7nJzMw017jZsGEDhg8fjrVr12L16tX48ssv7R0fERG5KENDic21/TykqyeHM8EhG8hOboQQMBqNAICffvoJd955JwBT/ZuCggL7RkdERC5LIXnY1q/ymikpnhxONpCd3AwcOBD/+te/8Omnn2Lnzp246667AABnzpxBSEiI3QMkIiLXpFH4QtlQgiMElDojNMXXnFmo05lq5BA1QHZyk5iYiJSUFEybNg0vvvgiunbtCgDYuHEjhg4davcAiYjINUmShCBVdN0Xr4zOBGbpYVXthieHUyPsthVcp9NBoVBYFfVzNtwKTkTkXOqsc6MzIjBLD++CausnDI6HVKsIING1bCriJ4RotFKkWq22S0BERNS+eLsHwksZgPLqIhiOpUJRWglNscF6xAbgyeFkE5umpXr16oV169Y1Wsfm5MmTmDJlCpYuXWqX4IiIqH2QJAle7h3ho42BZ32JDcCTw8kmNk1LJSUlYfbs2Th9+jRuvfVWDBw4EGFhYVCr1fjzzz+RlpaG3bt34/jx45g2bRpeeOEF+Pr6tkT8snFaiojIuYmc3DpPDhe9YqAL0vD8KWqUrDU3u3fvxvr167Fr1y6cO3cOFRUVCAwMRP/+/TFy5EiMHz8eHTt2dGS8zcbkhojI+dU+ObzU14gC/WmeP0U24dlSRETk1Hj+FMkleys4ERFRS2n0/CkA+frTLOxHFpjcEBGR02r0/CkA1UKPCkNxC0VEbQGTGyIiclo2nz9lYz9qH5jcEBGR07L5/Ckb+1H7wOSGiIicVqPnTwFQSipoFM5ZfoRah00ViktKSmy+IXcgERGRvdScP9XQbqkgVRfWuyELNiU3fn5+Nn/jGAyGxjsRERHZyNs9EKGIsT5/SlIh0CMKbpISl6vyWNiPzGxKbrZv327+89mzZzFnzhxMmjQJQ4YMAQDs3bsXn3zyCZYsWeKYKImIqF2rOX+qwlBsrlBsEFUs7Ed1kl3Eb8SIEXjiiScwbtw4i/a1a9fivffew44dO+wZn92xiB8RUdvXWGE/P/cweCkDOJLTTslObjw9PXHkyBF069bNoj0zMxP9+vVDeXm5XQO0NyY3RERtmxACZ8sONFr/BuBITnsle7dUeHg43n//fav2Dz74AOHh4XYJioiIqD62FParUS0qkaNLR2lVgYOjImdi05qbay1fvhz33XcffvzxR8THxwMADhw4gJMnT+LLL7+0e4BERETXakrBvnz9aXgpAzhF1U7IHrm58847kZmZiVGjRqGwsBCFhYUYNWoUMjMzceeddzoiRiIiIrOmFOzjEQ3ti1OcCr5ixQq88cYbyM3NRd++ffHOO+9g0KBBdfZ9//33sWbNGhw7dgwAEBcXh1dffbXe/rVxzQ0RUdsmZ83NtULKg+GjCAQC/DmC4+Jsmpb67bffbL5hnz59ZAWwfv16zJo1C6tWrUJ8fDwSExMxcuRIZGRkIDg42Kr/jh07MG7cOAwdOhRqtRqvvfYabrvtNhw/fhydOnWS9dpERNT22FLYry6KzLNAcRagVkP0ioUUqnVMgNTqbBq5cXNzgyRJjR4pL0mS7CJ+8fHxuOGGG/Duu+8CAIxGI8LDw/HUU09hzpw5jT7fYDCgY8eOePfddzFhwoRG+3PkhojINZRWFVgV9quTEFDqBSL2l8FivCZuABMcF2XTyM2ZM2cc8uKVlZVITk7G3LlzzW1ubm5ISEjA3r17bbpHeXk5qqqq4O/v75AYiYjIOV1b2K+s+hKKqv6w7nTll/LALD2sJqKOp0FoQzhF5YJsSm4iIiIc8uIFBQUwGAwICQmxaA8JCcGJEydsusfs2bMRFhaGhISEOq/r9Xro9XrzYznnZBERkXOTJAmeSj94Kv2gUfhaH9GgFwjM0sO7oNr6yTodcKkQCAxowYipJcjeCg4AWVlZSExMRHq6ab4zNjYWM2bMQHR0tF2Da8zSpUuxbt067NixA2q1us4+S5Yswcsvv9yicRERUcu7diSn+tJFKDLPQlNssB6xudY1v/yS65C9FXzLli2IjY3FgQMH0KdPH/Tp0wf79+9Hr169sG3bNln3CgwMhEKhwMWLFy3aL168CK224XnQf//731i6dCm2bt3a4CLmuXPnori42Px1/vx5WTESEVHbUTOS46MIhGdjiQ0AqFQtERa1MNkjN3PmzMHTTz+NpUuXWrXPnj0bt956q8338vDwQFxcHJKSkjBmzBgApgXFSUlJmDZtWr3Pe/3117F48WJs2bIFAwcObPA1VCoVVPzmJSJqXwL8AbXaNPVUH7Xa1I9cjuyRm/T0dDz++ONW7Y899hjS0tJkBzBr1iy8//77+OSTT5Ceno4pU6agrKwMkydPBgBMmDDBYsHxa6+9hnnz5uGjjz5CZGQkcnNzkZubi9LSUtmvTURErkmSJKBXbMOdesVyMbGLkj1yExQUhNTUVKuDM1NTU+usS9OYsWPHIj8/H/Pnz0dubi769euHzZs3mxcZZ2dnw83tag62cuVKVFZW4v7777e4z4IFC7Bw4ULZr09ERK5JCtVCxA0AjqdZjuCo1abEhtvAXZbsCsWvvPIKli9fjjlz5mDo0KEAgD179uC1117DrFmzMG/ePIcEai+sc0NE1L4IIUy7ovR60xobVih2ebKTGyEEEhMTsWzZMvzxh6mmQFhYGJ577jlMnz7d6b9hmNwQERG5tmadLXX58mUAgI+Pj90CcjQmN0RERK6tSXVuarSlpIaIiAjgNFV7IDu5uXjxIp599lkkJSUhLy/P6rwpuWdLERERtRSRk1vnAmMepOlaZCc3kyZNQnZ2NubNm4fQ0FBmu0RE1CaInFwgOcX6gk4HkZyC8kE9YezoDYXkAY3Clz/f2jDZyc3u3buxa9cu9OvXzwHhEBER2Z8QwjRiU4fSQCXyo1UwqC8AVwZ0lJIHglTR8HYPbMEoyV5kF/ELDw+3mooiIiJyapcK66xWXBqoRG6sGgaV5ShNtahEji4dpVUFLRUh2ZHs5CYxMRFz5szB2bNnHRAOERGRA9RxQKYAkB995Xieeqag8vWn+Qt9G2TTtFTHjh0t5h7LysoQHR0NT09PuLu7W/QtLCy0b4RERETNVccZgxW+ChjUDf+OXy30qDAUw1Pp56DAyBFsSm4SExMdHAYREZED1XGQpsHDtgXD1SWFEB19AQAVhmIYRCUUkgfUbh2gM5aYH3MRsvNoVhG/tohF/IiI2qfau6XKfRX4o59no88LSy2H0dMD+V3VMLhV19tPKXkgUNUF3sVurKHTymSvuUlJScHRo0fNj7/55huMGTMGL7zwAiorK+0aHBERkb1IoVogboBpBAeAptgAhc4I1Pc7vhBQ6owwuEvI7aaAQapq8P7VxkrkVqSj9FQycDgV2LcfSNpuSqqoRclObv7xj38gMzMTAHD69GmMHTsWnp6e2LBhA55//nm7B0hERGQvUqgWGHEzMDgeUv9+CFJ0rnsx8ZWEJyBLj4JGFh1fvbnpPwXRKpjTJZ0OSE5hgtPCZCc3mZmZ5ho3GzZswPDhw7F27VqsXr0aX375pb3jIyIisitJkiAFBkDqFAYf/yiEqmOglDws+ij1Ato0HRRVwrTo2NapJUlCtdoNFb4Ky/bjadx11YJkF/ETQsBoNAIAfvrpJ/y///f/AJjq3xQUsB4AERG1Ld7ugfBSBqD84mkYzmVBUSmgKTZAAnA5qGlHMFotVtbpgIxMiMBArsNpAbL/1gYOHIh//etfSEhIwM6dO7Fy5UoAwJkzZxASEmL3AImIiBxNkiTTdu98ywXDisqmjbbU+bxTWcCpLAi1GuV9InnUgwPJTm4SExMxfvx4bNq0CS+++CK6du0KANi4cSOGDh1q9wCJiIhaRB3bxWsWHRtUkm1TU0JAqTeN/NTFdNSDwuqoh0CPLlC4uXNbuZ3YbSu4TqeDQqGwKurnbLgVnIiI6lPX4Zo1RzQAaDjBufLjVJumg3eB9ZZxm+8Dnm3VXLIXFANAUVERPvjgA8ydO9dckTgtLQ15eXl2DY6IiKgl1d4uDgDeBdXQnjRAIRr+5b1mEXJdiY0tRz1ci2dbNY/saanffvsNI0aMgJ+fH86ePYu//e1v8Pf3x1dffYXs7GysWbPGEXESERG1CClUC6ENMR22eaUYn3eAP7zRcIVidWkFpNJ0ANbJjS1HPdQlX38aXsoATlHJJDu5mTVrFiZPnozXX38dPj4+5vY777wTDz/8sF2DIyIiag2SJAGBAVbttc+Y8nS75nGoH4RWa0qKCgpMC4ivsPWoh9p4tlXTyE4jDx48iH/84x9W7Z06dUJuLosUERFR+1VTQwc9ultMbTV11xUAGASr/8slO7lRqVQoKSmxas/MzERQUJBdgiIiImrLJEkCesWaHzd61EMDFLUKDFLjZCc3d999N1555RVUVZnO2JAkCdnZ2Zg9ezbuu+8+uwdIRETUFl27OFkCEJSlN12QkeAoJRU0Cl/HBOjCZG8FLy4uxv33349Dhw7h8uXLCAsLQ25uLoYMGYIffvgBXl5ejorVLrgVnIiIWpIQwrw4uVSjR75Hns1TTaHqGG4Hb4Im17nZs2cPjhw5gtLSUgwYMAAJCQn2js0hmNwQEVFrEkJY7LoyiCoU6E+j+pqERwEP+Lpr4aHQmIv6AbDYwQX/jkDhn1cf81gHM1nJTVVVFTQaDVJTU3H99dc7Mi6HYXJDRETO5tqEp9JYgeKqXIvRHYVRiaBTOnjnVNR/E7UaolcMdEGadl/pWNZWcHd3d3Tu3BkGQ91lpYmIiEi+mrOtSqsKUFiZbXXdIFUht5sC2iplnUUCAaDUuxr5ykwYKq4up22vlY5lLyh+8cUX8cILL5grExMREVHzCSGQr8+q++KV0ZeCaBXqmm6pOdrBoLIcpWmvlY5lF/F79913cerUKYSFhSEiIsJqAXFKSko9zyQiIqL6VBiKLdbdWJEkVKslVPgq4HnNwZy2HO3Q3iody05uxowZ44AwiIiI2jdbd1DVrnZsy9EO7a3SsezkZsGCBY6Ig4iIqF2ztVhf7WrHth7t0J4qHctObmpUVlYiLy8PRqPRor1z587NDoqIiKi90Sh8oZQ86p+aEgJKvYCm2HJTj61HO7SnSseyk5vMzEw8/vjj+PXXXy3ahRCQJIk7qYiIiJpAkiQEqaKRo0u3vnilaktglh61x2lqjnYwqKR619y0t0rHspObyZMnQ6lU4rvvvkNoaGi7WZxERETkaN7ugQhFDPL1WRYjOErhjsBTujq3gdcc7ZAbqzatLq7jx3KQqku7+nktu0Kxl5cXkpOT0bNnT0fF5FAs4kdERM6udhVjWyoUl/oabap03B6SHNkjN7GxsSgoaF/75YmIiFpSTVE/K4EB9T72AeCtDLSqdFxYlQ2YzrqGUvJAoKoLvIvdXPrYBptGbkpKSsx/PnToEF566SW8+uqr6N27N9zd3S36OvtoCEduiIjI1ZVWFdSzdsf0P9q0a6a41GqgV6zpFHMXYVNy4+bmZpHV1SwevlZbWVDM5IaIiFyZEAJnyw40uusqYn+Z5fKc7t0ALy+XGM2xaVpq+/btjo6DiIiI7KCplY6RefLqn9VqiDY8mmNTcjN8+HC88sorePbZZ+Hp6enomIiIiKiJmlrp2IJOBySnQMQNaJMJjs0HZ7788ssoLS11ZCxERETUTE2tdFyn42mQuanaKdic3LTFN0dERNTe1FQ6rpcQUOqMVpWOLboAKPdV4LJPNcoLz7e5HEDWVvC2vLiIiIioPWhqpeMapYFK5EerrjmM8xyUZTltagu5zUX83Nzc4OvbePGfwsJCuwTmKNwtRURE7UFpVYF1pWOdEYFZ+jorHQOmxCY3Vm16cO3P+7q2kKtUQERnp9xhJWvk5uWXX4avb/s5m4KIiKit8nYPhJcywKLSsbq0AlJpOgDr5EYAyI9WmR7UTlIkU4eCaBW8CqpNoz56vdPusJI1cpObm4vg4GBHx+RQHLkhIqL2TAhx9RiHsjJzglLuq8Af/RrfER2WWm65hbw2J9hhZfPIjbMMNREREVHTSZJkcWyD8PEBjqfB4FH3VFVtDW4hB0w7rLQhrZo32JzctLWV0kRERNQ4KVQLoQ2BovA8gHON9m90C7lOZxoZqn0OVguyObkxGo2OjIOIiIhaiSRJ8PQPh7Isp9FjGxraQm6Wk2tag9xKi4xlnwpORERErqe5W8gtnDtn+mqlRcY2F/EjIiIi1+btHohQdYxVEUClvtY2cFvVHOOQk2vHKBvHkRsiIiIyk7uF3CYtvMiYyQ0RERFZkCQJnkq/qw2hfhBareUW8uzzppEZW7TwImMmN0RERNQoqy3k3bqaEpacXNP6msbo9Q6MzhLX3BAREZFskiRBCgwAbF0srFI5NqBrMLkhIiKipgvwB9Tqhvuo1aZ+LYTJDRERETWZJElAr9iGO/WKbdF6N0xuiIiIqFmkUC0QN8B6BEetbpWzprigmIiIiJqt5hgH844qlYoViomIiKhtq72jqrU4xbTUihUrEBkZCbVajfj4eBw4cKDB/hs2bEDPnj2hVqvRu3dv/PDDDy0UKRERETm7Vk9u1q9fj1mzZmHBggVISUlB3759MXLkSOTl5dXZ/9dff8W4cePw+OOP4/DhwxgzZgzGjBmDY8eOtXDkRERE5IwkIUQjZ5c7Vnx8PG644Qa8++67AEynj4eHh+Opp57CnDlzrPqPHTsWZWVl+O6778xtgwcPRr9+/bBq1apGX6+kpAS+vr4oLi5Ghw4d7PdGiIiIyCm06shNZWUlkpOTkZCQYG5zc3NDQkIC9u7dW+dz9u7da9EfAEaOHFlvfyIiImpfWnVBcUFBAQwGA0JCQizaQ0JCcOLEiTqfk5ubW2f/3Ny6TxzV6/XQX1PyuaSkpJlRExERkTNr9TU3jrZkyRL4+vqav8LDw1s7JCIiInKgVk1uAgMDoVAocPHiRYv2ixcvQqutu+CPVquV1X/u3LkoLi42f50/f94+wRMREZFTatXkxsPDA3FxcUhKSjK3GY1GJCUlYciQIXU+Z8iQIRb9AWDbtm319lepVOjQoYPFFxEREbmuVi/iN2vWLEycOBEDBw7EoEGDkJiYiLKyMkyePBkAMGHCBHTq1AlLliwBAMyYMQPDhw/HsmXLcNddd2HdunU4dOgQ3nvvvdZ8G0REROQkWj25GTt2LPLz8zF//nzk5uaiX79+2Lx5s3nRcHZ2Ntzcrg4wDR06FGvXrsVLL72EF154Ad26dcOmTZtw/fXX2/R6NTvfubCYiIio7fHx8Wn0SIdWr3PT0n7//XcuKiYiImqjbKlT1+6SG6PRiD/++MOmzE+ukpIShIeH4/z5821mbU9bjBlom3G3xZgBxt2S2mLMQNuMuy3GDLTNuO0dsy0/v1t9Wqqlubm54brrrnPoa7TFhcttMWagbcbdFmMGGHdLaosxA20z7rYYM9A2427JmF2+zg0RERG1L0xuiIiIyKUwubEjlUqFBQsWQKVStXYoNmuLMQNtM+62GDPAuFtSW4wZaJtxt8WYgbYZd2vE3O4WFBMREZFr48gNERERuRQmN0RERORSmNwQERGRS2FyYycrVqxAZGQk1Go14uPjceDAgdYOycIvv/yCUaNGISwsDJIkYdOmTRbXhRCYP38+QkNDodFokJCQgJMnT7ZOsFcsWbIEN9xwA3x8fBAcHIwxY8YgIyPDoo9Op8PUqVMREBAAb29v3HfffVanxre0lStXok+fPuaaDkOGDMGPP/5ovu6MMde2dOlSSJKEmTNnmtucMe6FCxdCkiSLr549e5qvO2PMAHDhwgU88sgjCAgIgEajQe/evXHo0CHzdWf89xgZGWn1WUuShKlTpwJwzs/aYDBg3rx5iIqKgkajQXR0NBYtWoRrl5o642cNAJcvX8bMmTMREREBjUaDoUOH4uDBg+brzhC3PX6uFBYWYvz48ejQoQP8/Pzw+OOPo7S0tPnBCWq2devWCQ8PD/HRRx+J48ePi7/97W/Cz89PXLx4sbVDM/vhhx/Eiy++KL766isBQHz99dcW15cuXSp8fX3Fpk2bxJEjR8Tdd98toqKiREVFResELIQYOXKk+Pjjj8WxY8dEamqquPPOO0Xnzp1FaWmpuc8///lPER4eLpKSksShQ4fE4MGDxdChQ1stZiGE+Pbbb8X3338vMjMzRUZGhnjhhReEu7u7OHbsmNPGfK0DBw6IyMhI0adPHzFjxgxzuzPGvWDBAtGrVy+Rk5Nj/srPzzdfd8aYCwsLRUREhJg0aZLYv3+/OH36tNiyZYs4deqUuY8z/nvMy8uz+Jy3bdsmAIjt27cLIZzzs168eLEICAgQ3333nThz5ozYsGGD8Pb2Fm+99Za5jzN+1kII8eCDD4rY2Fixc+dOcfLkSbFgwQLRoUMH8fvvvztN3Pb4uXL77beLvn37in379oldu3aJrl27inHjxjU7NiY3djBo0CAxdepU82ODwSDCwsLEkiVLWjGq+tX+JjQajUKr1Yo33njD3FZUVCRUKpX4/PPPWyHCuuXl5QkAYufOnUIIU4zu7u5iw4YN5j7p6ekCgNi7d29rhVmnjh07ig8++MDpY758+bLo1q2b2LZtmxg+fLg5uXHWuBcsWCD69u1b5zVnjXn27NnixhtvrPd6W/n3OGPGDBEdHS2MRqPTftZ33XWXeOyxxyza7r33XjF+/HghhPN+1uXl5UKhUIjvvvvOon3AgAHixRdfdMq4m/JzJS0tTQAQBw8eNPf58ccfhSRJ4sKFC82Kh9NSzVRZWYnk5GQkJCSY29zc3JCQkIC9e/e2YmS2O3PmDHJzcy3eg6+vL+Lj453qPRQXFwMA/P39AQDJycmoqqqyiLtnz57o3Lmz08RtMBiwbt06lJWVYciQIU4f89SpU3HXXXdZxAc492d98uRJhIWFoUuXLhg/fjyys7MBOG/M3377LQYOHIgHHngAwcHB6N+/P95//33z9bbw77GyshL//e9/8dhjj0GSJKf9rIcOHYqkpCRkZmYCAI4cOYLdu3fjjjvuAOC8n3V1dTUMBgPUarVFu0ajwe7du5027mvZEuPevXvh5+eHgQMHmvskJCTAzc0N+/fvb9brt7uzpeytoKAABoMBISEhFu0hISE4ceJEK0UlT25uLgDU+R5qrrU2o9GImTNnYtiwYbj++usBmOL28PCAn5+fRV9niPvo0aMYMmQIdDodvL298fXXXyM2NhapqalOG/O6deuQkpJiMa9fw1k/6/j4eKxevRo9evRATk4OXn75ZfzlL3/BsWPHnDbm06dPY+XKlZg1axZeeOEFHDx4ENOnT4eHhwcmTpzYJv49btq0CUVFRZg0aRIA5/3+mDNnDkpKStCzZ08oFAoYDAYsXrwY48ePB+C8/9/n4+ODIUOGYNGiRYiJiUFISAg+//xz7N27F127dnXauK9lS4y5ubkIDg62uK5UKuHv79/s98HkhtqEqVOn4tixY9i9e3drh2KTHj16IDU1FcXFxdi4cSMmTpyInTt3tnZY9Tp//jxmzJiBbdu2Wf226MxqfgMHgD59+iA+Ph4RERH44osvoNFoWjGy+hmNRgwcOBCvvvoqAKB///44duwYVq1ahYkTJ7ZydLb58MMPcccddyAsLKy1Q2nQF198gc8++wxr165Fr169kJqaipkzZyIsLMzpP+tPP/0Ujz32GDp16gSFQoEBAwZg3LhxSE5Obu3Q2gROSzVTYGAgFAqF1a6AixcvQqvVtlJU8tTE6azvYdq0afjuu++wfft2ixPdtVotKisrUVRUZNHfGeL28PBA165dERcXhyVLlqBv37546623nDbm5ORk5OXlYcCAAVAqlVAqldi5cyfefvttKJVKhISEOGXctfn5+aF79+44deqU037WoaGhiI2NtWiLiYkxT6c5+7/Hc+fO4aeffsITTzxhbnPWz/q5557DnDlz8NBDD6F379549NFH8fTTT2PJkiUAnPuzjo6Oxs6dO1FaWorz58/jwIEDqKqqQpcuXZw67hq2xKjVapGXl2dxvbq6GoWFhc1+H0xumsnDwwNxcXFISkoytxmNRiQlJWHIkCGtGJntoqKioNVqLd5DSUkJ9u/f36rvQQiBadOm4euvv8bPP/+MqKgoi+txcXFwd3e3iDsjIwPZ2dlO99kbjUbo9XqnjXnEiBE4evQoUlNTzV8DBw7E+PHjzX92xrhrKy0tRVZWFkJDQ532sx42bJhVSYPMzExEREQAcN5/jzU+/vhjBAcH46677jK3OetnXV5eDjc3yx9zCoUCRqMRgPN/1gDg5eWF0NBQ/Pnnn9iyZQtGjx7dJuK2JcYhQ4agqKjIYjTq559/htFoRHx8fPMCaNZyZBJCmLaCq1QqsXr1apGWlib+/ve/Cz8/P5Gbm9vaoZldvnxZHD58WBw+fFgAEG+++aY4fPiwOHfunBDCtGXPz89PfPPNN+K3334To0ePbvXtkFOmTBG+vr5ix44dFltQy8vLzX3++c9/is6dO4uff/5ZHDp0SAwZMkQMGTKk1WIWQog5c+aInTt3ijNnzojffvtNzJkzR0iSJLZu3eq0Mdfl2t1SQjhn3M8884zYsWOHOHPmjNizZ49ISEgQgYGBIi8vz2ljPnDggFAqlWLx4sXi5MmT4rPPPhOenp7iv//9r7mPM/57FMK0E7Rz585i9uzZVtec8bOeOHGi6NSpk3kr+FdffSUCAwPF888/b+7jrJ/15s2bxY8//ihOnz4ttm7dKvr27Svi4+NFZWWl08Rtj58rt99+u+jfv7/Yv3+/2L17t+jWrRu3gjuTd955R3Tu3Fl4eHiIQYMGiX379rV2SBa2b98uAFh9TZw4UQhh2rY3b948ERISIlQqlRgxYoTIyMho1ZjriheA+Pjjj819KioqxJNPPik6duwoPD09xT333CNycnJaL2ghxGOPPSYiIiKEh4eHCAoKEiNGjDAnNkI4Z8x1qZ3cOGPcY8eOFaGhocLDw0N06tRJjB071qJejDPGLIQQ//vf/8T1118vVCqV6Nmzp3jvvfcsrjvjv0chhNiyZYsAUGcszvhZl5SUiBkzZojOnTsLtVotunTpIl588UWh1+vNfZz1s16/fr3o0qWL8PDwEFqtVkydOlUUFRWZrztD3Pb4uXLp0iUxbtw44e3tLTp06CAmT54sLl++3OzYeCo4ERERuRSuuSEiIiKXwuSGiIiIXAqTGyIiInIpTG6IiIjIpTC5ISIiIpfC5IaIiIhcCpMbIiIicilMboiIiMilMLkhcnFnz56FJElITU1t7VDMTpw4gcGDB0OtVqNfv36tHU6LiIyMRGJiYmuHYTeu9n7ItTC5IXKwSZMmQZIkLF261KJ906ZNkCSplaJqXQsWLICXlxcyMjIsDtYjIrIHJjdELUCtVuO1117Dn3/+2dqh2E1lZWWTn5uVlYUbb7wRERERCAgIsGNUVMNgMJhPvyZqb5jcELWAhIQEaLVaLFmypN4+CxcutJqiSUxMRGRkpPnxpEmTMGbMGLz66qsICQmBn58fXnnlFVRXV+O5556Dv78/rrvuOnz88cdW9z9x4gSGDh0KtVqN66+/Hjt37rS4fuzYMdxxxx3w9vZGSEgIHn30URQUFJiv//Wvf8W0adMwc+ZMBAYGYuTIkXW+D6PRiFdeeQXXXXcdVCoV+vXrh82bN5uvS5KE5ORkvPLKK5AkCQsXLqz3Pq+//jq6du0KlUqFzp07Y/Hixebrs2fPRvfu3eHp6YkuXbpg3rx5qKqqMl8/cuQIbr75Zvj4+KBDhw6Ii4vDoUOHzNd3796Nv/zlL9BoNAgPD8f06dNRVlZmvv6f//wH3bp1g1qtRkhICO6///4646zx5ZdfolevXlCpVIiMjMSyZcus+ly+fBnjxo2Dl5cXOnXqhBUrVpivCSGwcOFCdO7cGSqVCmFhYZg+fbr5ul6vx7PPPotOnTrBy8sL8fHx2LFjh/n66tWr4efnh2+//RaxsbFQqVT44IMPoFarUVRUZBHHjBkzcMstt9j8WeTl5WHUqFHQaDSIiorCZ5991uBnQdTqmn30JhE1aOLEiWL06NHiq6++Emq1Wpw/f14IIcTXX38trv0nuGDBAtG3b1+L5y5fvlxERERY3MvHx0dMnTpVnDhxQnz44YcCgBg5cqRYvHixyMzMFIsWLRLu7u7m1zlz5owAIK677jqxceNGkZaWJp544gnh4+MjCgoKhBBC/PnnnyIoKEjMnTtXpKeni5SUFHHrrbeKm2++2fzaw4cPF97e3uK5554TJ06cECdOnKjz/b755puiQ4cO4vPPPxcnTpwQzz//vHB3dxeZmZlCCCFycnJEr169xDPPPCNycnLqPQH4+eefFx07dhSrV68Wp06dErt27RLvv/+++fqiRYvEnj17xJkzZ8S3334rQkJCxGuvvWa+3qtXL/HII4+I9PR0kZmZKb744guRmpoqhBDi1KlTwsvLSyxfvlxkZmaKPXv2iP79+4tJkyYJIYQ4ePCgUCgUYu3ateLs2bMiJSVFvPXWW/X+HR86dEi4ubmJV155RWRkZIiPP/5YaDQaixPsIyIihI+Pj1iyZInIyMgQb7/9tlAoFOYT4zds2CA6dOggfvjhB3Hu3Dmxf/9+i9PCn3jiCTF06FDxyy+/iFOnTok33nhDqFQq8+f68ccfC3d3dzF06FCxZ88eceLECVFaWipCQkLEBx98YL5PdXW1RVtjn4UQQtxxxx2ib9++Yu/eveLQoUNi6NChQqPRiOXLl9f7mRC1JiY3RA5Wk9wIIcTgwYPFY489JoRoenITEREhDAaDua1Hjx7iL3/5i/lxdXW18PLyEp9//rkQ4mpys3TpUnOfqqoqcd1115mTgUWLFonbbrvN4rXPnz8vAIiMjAwhhCm56d+/f6PvNywsTCxevNii7YYbbhBPPvmk+XHfvn3FggUL6r1HSUmJUKlUFslMY9544w0RFxdnfuzj4yNWr15dZ9/HH39c/P3vf7do27Vrl3BzcxMVFRXiyy+/FB06dBAlJSU2vfbDDz8sbr31Vou25557TsTGxpofR0REiNtvv92iz9ixY8Udd9whhBBi2bJlonv37qKystLq/ufOnRMKhUJcuHDBon3EiBFi7ty5QghTcgPAnMDVmDFjhrjlllvMj7ds2SJUKpX4888/hRCNfxYZGRkCgDhw4ID5enp6ugDA5IacFqeliFrQa6+9hk8++QTp6elNvkevXr3g5nb1n25ISAh69+5tfqxQKBAQEIC8vDyL5w0ZMsT8Z6VSiYEDB5rjOHLkCLZv3w5vb2/zV8+ePQGY1sfUiIuLazC2kpIS/PHHHxg2bJhF+7Bhw2S95/T0dOj1eowYMaLePuvXr8ewYcOg1Wrh7e2Nl156CdnZ2ebrs2bNwhNPPIGEhAQsXbrU4n0cOXIEq1evtni/I0eOhNFoxJkzZ3DrrbciIiICXbp0waOPPorPPvsM5eXlDcZb13s+efIkDAaDue3av4OaxzWfywMPPICKigp06dIFf/vb3/D111+juroaAHD06FEYDAZ0797dIuadO3davC8PDw/06dPH4jXGjx+PHTt24I8//gAAfPbZZ7jrrrvg5+dn02eRnp4OpVJp8Xffs2dP8/OJnBGTG6IWdNNNN2HkyJGYO3eu1TU3NzcIISzarl1DUsPd3d3isSRJdbbJWUxaWlqKUaNGITU11eLr5MmTuOmmm8z9vLy8bL5nc2g0mgav7927F+PHj8edd96J7777DocPH8aLL75osch54cKFOH78OO666y78/PPPiI2Nxddffw3A9H7/8Y9/WLzXI0eO4OTJk4iOjoaPjw9SUlLw+eefIzQ0FPPnz0ffvn2t1q7YU3h4ODIyMvCf//wHGo0GTz75JG666SZUVVWhtLQUCoUCycnJFjGnp6fjrbfeMt9Do9FY7cC74YYbEB0djXXr1qGiogJff/01xo8fb77e2GdB1BYpWzsAovZm6dKl6NevH3r06GHRHhQUhNzcXAghzD+g7FmbZt++feZEpbq6GsnJyZg2bRoAYMCAAfjyyy8RGRkJpbLp/7fQoUMHhIWFYc+ePRg+fLi5fc+ePRg0aJDN9+nWrRs0Gg2SkpLwxBNPWF3/9ddfERERgRdffNHcdu7cOat+3bt3R/fu3fH0009j3Lhx+Pjjj3HPPfdgwIABSEtLQ9euXeuNQalUIiEhAQkJCViwYAH8/Pzw888/495777XqGxMTgz179li07dmzB927d4dCoTC37du3z6LPvn37EBMTY36s0WgwatQojBo1ClOnTkXPnj1x9OhR9O/fHwaDAXl5efjLX/5Sb8z1GT9+PD777DNcd911cHNzw1133WW+1thn0bNnT/P3yw033AAAyMjIcGiiR9RcHLkhamG9e/fG+PHj8fbbb1u0//Wvf0V+fj5ef/11ZGVlYcWKFfjxxx/t9rorVqzA119/jRMnTmDq1Kn4888/8dhjjwEApk6disLCQowbNw4HDx5EVlYWtmzZgsmTJ1tMq9jiueeew2uvvYb169cjIyMDc+bMQWpqKmbMmGHzPdRqNWbPno3nn38ea9asQVZWFvbt24cPP/wQgCn5yc7Oxrp165CVlYW3337bPCoDABUVFZg2bRp27NiBc+fOYc+ePTh48KA5kZg9ezZ+/fVXTJs2zTxC9c0335iTve+++w5vv/02UlNTce7cOaxZswZGo9EqIa3xzDPPICkpCYsWLUJmZiY++eQTvPvuu3j22Wct+u3Zswevv/46MjMzsWLFCmzYsMH8uaxevRoffvghjh07htOnT+O///0vNBoNIiIi0L17d4wfPx4TJkzAV199hTNnzuDAgQNYsmQJvv/++0Y/z/HjxyMlJQWLFy/G/fffD5VKZb7W2GfRo0cP3H777fjHP/6B/fv3Izk5GU888USjo2tEraq1F/0QubprFxTXOHPmjPDw8BC1/wmuXLlShIeHCy8vLzFhwgSxePFiqwXFte81fPhwMWPGDIu2iIgI82LPmgXFa9euFYMGDRIeHh4iNjZW/PzzzxbPyczMFPfcc4/w8/MTGo1G9OzZU8ycOVMYjcZ6X6cuBoNBLFy4UHTq1Em4u7uLvn37ih9//NGiT2MLimvu869//UtEREQId3d30blzZ/Hqq6+arz/33HMiICBAeHt7i7Fjx4rly5cLX19fIYQQer1ePPTQQyI8PFx4eHiIsLAwMW3aNFFRUWF+/oEDB8Stt94qvL29hZeXl+jTp495IfSuXbvE8OHDRceOHYVGoxF9+vQR69evbzDejRs3itjYWHOsb7zxhsX1iIgI8fLLL4sHHnhAeHp6Cq1Wa7ED6+uvvxbx8fGiQ4cOwsvLSwwePFj89NNP5uuVlZVi/vz5IjIyUri7u4vQ0FBxzz33iN9++00IYVpQXPP+6zJo0CABwOrvvbHPQgjTDre77rpLqFQq0blzZ7FmzRqL7zEiZyMJUWuSn4iIiKgN47QUERERuRQmN0RERORSmNwQERGRS2FyQ0RERC6FyQ0RERG5FCY3RERE5FKY3BAREZFLYXJDRERELoXJDREREbkUJjdERETkUpjcEBERkUthckNEREQuhckNERERuRQmN0RERORSmNwQERGRS2FyQ0RERC6FyQ0RERG5FCY3RERE5FKY3BAREZFLYXJDRERELkXZ2gEQkfMyGAyoqqpq7TDISbm7u0OhULR2GERWmNwQkRUhBHJzc1FUVNTaoZCT8/Pzg1arhSRJrR0KkRmTGyKyUpPYBAcHw9PTkz+4yIoQAuXl5cjLywMAhIaGtnJERFcxuSEiCwaDwZzYBAQEtHY45MQ0Gg0AIC8vD8HBwZyiIqfBBcVEZKFmjY2np2crR0JtQc33CddmkTNhckNEdeJUFNmC3yfkjJjcEBERkUthckNE5ILOnj0LSZKQmpra2qEQtTguKCYiauMmTZqEoqIibNq0ydwWHh6OnJwcBAYGtl5gRK2EyQ0ROYwQArhUCOj1gEoFBPhzjcYVQggYDAYolY75v2GFQgGtVuuQexM5O05LEZFDiJxcIGk7sG8/cDjV9N+k7aZ2BzEajXj99dfRtWtXqFQqdO7cGYsXLwYAHD16FLfccgs0Gg0CAgLw97//HaWlpebnTpo0CWPGjMG///1vhIaGIiAgAFOnTrXYBfSf//wH3bp1g1qtRkhICO6//36L116yZAmioqKg0WjQt29fbNy40Xx9x44dkCQJP/74I+Li4qBSqfDRRx9BkiScOHHC4n0sX74c0dHRAExb8x9//HHzfXv06IG33nrL3HfhwoX45JNP8M0330CSJEiShB07dlhMSxmNRlx33XVYuXKlxescPnwYbm5uOHfuHACgqKgITzzxBIKCgtChQwfccsstOHLkSHP/WohaHJMbIrI7kZMLJKcAOp3lBZ0OSE5xWIIzd+5cLF26FPPmzUNaWhrWrl2LkJAQlJWVYeTIkejYsSMOHjyIDRs24KeffsK0adMsnr99+3ZkZWVh+/bt+OSTT7B69WqsXr0aAHDo0CFMnz4dr7zyCjIyMrB582bcdNNN5ucuWbIEa9aswapVq3D8+HE8/fTTeOSRR7Bz506L15gzZw6WLl2K9PR03H///Rg4cCA+++wziz6fffYZHn74YQAwJyYbNmxAWloa5s+fjxdeeAFffPEFAODZZ5/Fgw8+iNtvvx05OTnIycnB0KFDLe7n5uaGcePGYe3atVavM2zYMERERAAAHnjgAeTl5eHHH39EcnIyBgwYgBEjRqCwsLCJfyNErUQQEV2joqJCpKWliYqKiiY932g0CuO2JGH83/f1f21LEkaj0a5xl5SUCJVKJd5//32ra++9957o2LGjKC0tNbd9//33ws3NTeTm5gohhJg4caKIiIgQ1dXV5j4PPPCAGDt2rBBCiC+//FJ06NBBlJSUWN1fp9MJT09P8euvv1q0P/7442LcuHFCCCG2b98uAIhNmzZZ9Fm+fLmIjo42P87IyBAARHp6er3vderUqeK+++4zP544caIYPXq0RZ8zZ84IAOLw4cNCCCEOHz4sJEkS586dE0IIYTAYRKdOncTKlSuFEELs2rVLdOjQQeh0Oov7REdHi//7v/+rN5bmfr8QOQJHbojIvi4VWo/Y1KbTmfrZUXp6OvR6PUaMGFHntb59+8LLy8vcNmzYMBiNRmRkZJjbevXqZVFlNzQ01Hy8wK233oqIiAh06dIFjz76KD777DOUl5cDAE6dOoXy8nLceuut8Pb2Nn+tWbMGWVlZFrEMHDjQ4vFDDz2Es2fPYt++fQBMoykDBgxAz549zX1WrFiBuLg4BAUFwdvbG++99x6ys7NlfT79+vVDTEyMefRm586dyMvLwwMPPAAAOHLkCEpLSxEQEGDxHs6cOWP1HoicHRcUE5F96fX27WejmqMAmsPd3d3isSRJMBqNAAAfHx+kpKRgx44d2Lp1K+bPn4+FCxfi4MGD5rU733//PTp16mRxD5VKZfH42gQLALRaLW655RasXbsWgwcPxtq1azFlyhTz9XXr1uHZZ5/FsmXLMGTIEPj4+OCNN97A/v37Zb+/8ePHY+3atZgzZw7Wrl2L22+/3XzERmlpKUJDQ7Fjxw6r5/n5+cl+LaLWxJEbIrKvWj/Mm93PRt26dYNGo0FSUpLVtZiYGBw5cgRlZWXmtj179sDNzQ09evSw+TWUSiUSEhLw+uuv47fffsPZs2fx888/IzY2FiqVCtnZ2ejatavFV3h4eKP3HT9+PNavX4+9e/fi9OnTeOihhyziHDp0KJ588kn0798fXbt2tRpJ8fDwgMFgaPR1Hn74YRw7dgzJycnYuHEjxo8fb742YMAA5ObmQqlUWr0HbientoYjN0RkXwH+gFrd8NSUWm3qZ0dqtRqzZ8/G888/Dw8PDwwbNgz5+fk4fvw4xo8fjwULFmDixIlYuHAh8vPz8dRTT+HRRx9FSEiITff/7rvvcPr0adx0003o2LEjfvjhBxiNRvTo0QM+Pj549tln8fTTT8NoNOLGG29EcXEx9uzZgw4dOmDixIkN3vvee+/FlClTMGXKFNx8880ICwszX+vWrRvWrFmDLVu2ICoqCp9++ikOHjyIqKgoc5/IyEhs2bIFGRkZCAgIgK+vb52vExkZiaFDh+Lxxx+HwWDA3Xffbb6WkJCAIUOGYMyYMXj99dfRvXt3/PHHH/j+++9xzz33WE2nETkzjtwQkV1JkgT0im24U69Yh9S7mTdvHp555hnMnz8fMTExGDt2LPLy8uDp6YktW7agsLAQN9xwA+6//36MGDEC7777rs339vPzw1dffYVbbrkFMTExWLVqFT7//HP06tULALBo0SLMmzcPS5YsQUxMDG6//XZ8//33FklIfXx8fDBq1CgcOXLEYjQFAP7xj3/g3nvvxdixYxEfH49Lly7hySeftOjzt7/9DT169MDAgQMRFBSEPXv21Pta48ePx5EjR3DPPfdYTOVJkoQffvgBN910EyZPnozu3bvjoYcewrlz52xOAImchSSEEK0dBBE5D51OhzNnziAqKgpqtbrJ9xE5ucDxNMsRHLXalNiEsricq7DX9wuRPXFaiogcQgrVQmhDWKGYiFockxsichhJkoDAgNYOg4jaGa65ISIiIpfC5IaIiIhcCpMbIiIicilMboiIiMilMLkhIiIil8LkhoiIiFwKkxsichl//etfMXPmTACmowYSExPN1yRJwqZNm1olrh07dkCSJBQVFbXK6xO1N6xzQ0Qu6eDBg1YncBNR+8DkhohcUlBQkMNfo7KyEh4eHg5/HSKSh9NSROQwQgiUVxfhclUeyquL0JJH2dWelgKAnJwc3HHHHdBoNOjSpQs2btxocf38+fN48MEH4efnB39/f4wePRpnz541X580aRLGjBmDxYsXIywsDD169AAAfPrppxg4cCB8fHyg1Wrx8MMPIy8vz9FvkYjqweSGiByitKoAZ8sO4ELFUeTqMnCh4ijOlh1AaVVBq8U0b9483HfffebTtx966CGkp6cDAKqqqjBy5Ej4+Phg165d2LNnD7y9vXH77bejsrLSfI+kpCRkZGRg27Zt+O6778zPXbRoEY4cOYJNmzbh7NmzmDRpUmu8RSICp6WIyAFKqwqQo0u3aq8WlcjRpSMUMfB2D2zxuB544AE88cQTAIBFixZh27ZteOedd/Cf//wH69evh9FoxAcffGA+3PPjjz+Gn58fduzYgdtuuw0A4OXlhQ8++MBiOuqxxx4z/7lLly54++23ccMNN6C0tBTe3t4t+A6JCODIDRHZmRAC+fqsBvvk60+36BRVjSFDhlg9rhm5OXLkCE6dOgUfHx94e3vD29sb/v7+0Ol0yMq6+n569+5ttc4mOTkZo0aNQufOneHj44Phw4cDALKzsx38joioLhy5ISK7qjAUo1pUNtinWuhRYSiGp9KvZYKyQWlpKeLi4vDZZ59ZXbt2cXLtHVhlZWUYOXIkRo4cic8++wxBQUHIzs7GyJEjLaaziKjlMLkhIrsyNJLYyO1nT/v27cOECRMsHvfv3x8AMGDAAKxfvx7BwcHo0KGDzfc8ceIELl26hKVLlyI8PBwAcOjQIfsGTkSycFqKiOxKIdm2NdrWfva0YcMGfPTRR8jMzMSCBQtw4MABTJs2DQAwfvx4BAYGYvTo0di1axfOnDmDHTt2YPr06fj999/rvWfnzp3h4eGBd955B6dPn8a3336LRYsWtdRbIqI6MLkhIrvSKHyhbCRxUUoqaBS+LRTRVS+//DLWrVuHPn36YM2aNfj8888RGxsLAPD09MQvv/yCzp07495770VMTAwef/xx6HS6BkdygoKCsHr1amzYsAGxsbFYunQp/v3vf7fUWyKiOkiiNVb1EZHT0ul0OHPmDKKioqBWq5t0j/p2S9UIVbfObimyP3t8vxDZG0duiMjuvN0DEaqOsRrBUUoqJjZE5HBcUExEDuHtHggvZQAqDMUwiEooJA9oFL7mGjJERI7C5IaIHEaSJKfa7k1E7QOnpYiIiMilMLkhIiIil8LkhojqxI2UZAt+n5AzYnJDRBbc3d0BAOXl5a0cCbUFNd8nNd83RM6AC4qJyIJCoYCfnx/y8vIAmIrbcYcT1SaEQHl5OfLy8uDn5weFQtHaIRGZsYgfEVkRQiA3NxdFRUWtHQo5OT8/P2i1WibA5FSY3BBRvQwGA6qqqlo7DHJS7u7uHLEhp8TkhoiIiFwKFxQTERGRS2FyQ0RERC6FyQ0RERG5FCY3RERE5FKY3BAREZFLYXJDRERELoXJDREREbmU/w955bqVS8aXrgAAAABJRU5ErkJggg==",
      "text/plain": [
       "<Figure size 640x480 with 1 Axes>"
      ]
     },
     "metadata": {},
     "output_type": "display_data"
    },
    {
     "data": {
      "image/png": "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",
      "text/plain": [
       "<Figure size 640x480 with 1 Axes>"
      ]
     },
     "metadata": {},
     "output_type": "display_data"
    },
    {
     "data": {
      "image/png": "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",
      "text/plain": [
       "<Figure size 640x480 with 1 Axes>"
      ]
     },
     "metadata": {},
     "output_type": "display_data"
    }
   ],
   "source": [
    "# learn thresholds for each justice using the filtered data\n",
    "for i in ['SAAlito', 'JGRoberts', 'SSotomayor']:\n",
    "    # identify cases for only this justice\n",
    "    df_selected = filterJudgeData(df_filt, justices_csv, i)\n",
    "    df_selected = df_selected[(df_selected['percent_conservative'] < 1) & (df_selected['percent_conservative'] > 0)]\n",
    "    # learn the threshold (i.e., apply the threshold alg)\n",
    "    judge_threshold_min, judge_threshold_max, observed_thresholds, cons_votes = learningThresholds(i, df_selected)\n",
    "\n",
    "    # plot data\n",
    "    df_plot = pd.DataFrame({'observed_thresholds': observed_thresholds, 'votes': cons_votes})\n",
    "    plotAmicusThresholds(df_plot, i)\n",
    "    plt.show();"
   ]
  },
  {
   "cell_type": "markdown",
   "metadata": {},
   "source": [
    "## Learning Weights\n",
    "\n",
    "This is a simple baseline model where we infer the weights based on past agreement of amicus and justice"
   ]
  },
  {
   "cell_type": "code",
   "execution_count": 360,
   "metadata": {},
   "outputs": [],
   "source": [
    "# we need a matrix representing each amicus as 1, 0, -1\n",
    "amici_cases = []\n",
    "justice_cases = []\n",
    "for lexis_cite, docket in preproc_data.items():\n",
    "    # only include cases in previously filtered data\n",
    "    if lexis_cite not in df_filt.index:\n",
    "        continue\n",
    "\n",
    "    amicus_case_data = {\"lexisCite\": lexis_cite}\n",
    "    justice_case_data = {\"lexisCite\": lexis_cite}\n",
    "    for amicus in docket[\"amici\"]:\n",
    "        # identify the ideological direction of the amicus brief based on its relationship with the disposition\n",
    "        # and the disposition direction\n",
    "        amicus_direction = amicusDirection(\n",
    "            amicus[1], docket[\"case_decision\"], docket[\"decisiondirection\"]\n",
    "        )\n",
    "        if amicus_direction == 1:\n",
    "            amicus_case_data[amicus[0]] = 1\n",
    "        elif amicus_direction == 2:\n",
    "            amicus_case_data[amicus[0]] = -1\n",
    "        else:\n",
    "            amicus_case_data[amicus[0]] = 0\n",
    "    amici_cases += [amicus_case_data]\n",
    "\n",
    "    for justice in docket[\"justices\"]:\n",
    "        # identify the ideological direction of the justice\n",
    "        # 1 is conservative\n",
    "        if justice[2] == 1:\n",
    "            justice_case_data[justice[0]] = 1\n",
    "        elif justice[2] == 2:\n",
    "            # 2 is liberal\n",
    "            justice_case_data[justice[0]] = -1\n",
    "        else:\n",
    "            # unspecified\n",
    "            justice_case_data[justice[0]] = 0\n",
    "    justice_cases += [justice_case_data]"
   ]
  },
  {
   "cell_type": "code",
   "execution_count": 361,
   "metadata": {},
   "outputs": [
    {
     "data": {
      "text/plain": [
       "((1826, 13735), (1826, 9))"
      ]
     },
     "execution_count": 361,
     "metadata": {},
     "output_type": "execute_result"
    }
   ],
   "source": [
    "# amici that don't sign on to a case should be neutral (i.e. = 0)\n",
    "# why are we replacing na with 0? This feels like it should be preprocessed better but we can fix after\n",
    "X = pd.DataFrame(amici_cases).fillna(0)\n",
    "X = X[(X != 99).all(axis=1)]\n",
    "X.shape, df_filt.shape"
   ]
  },
  {
   "cell_type": "code",
   "execution_count": 362,
   "metadata": {},
   "outputs": [
    {
     "data": {
      "text/plain": [
       "(1826, 34)"
      ]
     },
     "execution_count": 362,
     "metadata": {},
     "output_type": "execute_result"
    }
   ],
   "source": [
    "# let's get the actual decisions\n",
    "# if they didn't rule on the case they should be neutral (or they should be missing?)\n",
    "y = pd.DataFrame(justice_cases).fillna(0) # unspecified so they're neutral\n",
    "y = pd.merge(y, X['lexisCite'], on='lexisCite', how='inner')\n",
    "\n",
    "np.array(y.drop('lexisCite', axis=1)).shape\n",
    "y.shape"
   ]
  },
  {
   "cell_type": "code",
   "execution_count": 363,
   "metadata": {},
   "outputs": [],
   "source": [
    "amici_cols = [x for x in X.columns if x != 'lexisCite']\n",
    "X_comp = pd.merge(X, y, on='lexisCite').copy().sort_values('lexisCite')\n",
    "X_comp = pd.concat([X_comp[amici_cols]\\\n",
    "                    .rename(lambda x: x + '_agree', axis=1), X_comp], axis=1)\n",
    "X_comp = X_comp.loc[X_comp[selected_judge] != 0].reset_index(drop=True)"
   ]
  },
  {
   "cell_type": "code",
   "execution_count": 364,
   "metadata": {},
   "outputs": [],
   "source": [
    "for i in amici_cols:\n",
    "    X_comp[i+'_agree'] = (X_comp[i] == X_comp[selected_judge]).astype(int)\n",
    "    X_comp.loc[X_comp[i] == 0, i+'_agree'] = np.nan"
   ]
  },
  {
   "cell_type": "code",
   "execution_count": 365,
   "metadata": {},
   "outputs": [],
   "source": [
    "X_comp[[x + '_agree' for x in amici_cols]] = X_comp[[x + '_agree' for x in amici_cols]].expanding().mean()"
   ]
  },
  {
   "cell_type": "code",
   "execution_count": 366,
   "metadata": {},
   "outputs": [
    {
     "data": {
      "text/plain": [
       "(187, 187)"
      ]
     },
     "execution_count": 366,
     "metadata": {},
     "output_type": "execute_result"
    }
   ],
   "source": [
    "np.matmul(X_comp.iloc[1:][amici_cols].values,\n",
    "          np.transpose(X_comp.iloc[1:][[x + '_agree' for x in amici_cols]].fillna(0).values)).shape"
   ]
  },
  {
   "cell_type": "code",
   "execution_count": 429,
   "metadata": {},
   "outputs": [
    {
     "name": "stderr",
     "output_type": "stream",
     "text": [
      "/var/folders/f0/6vfjbpt92xx7fmgtqc2lzy8w0000gn/T/ipykernel_7215/1962859096.py:30: RuntimeWarning: invalid value encountered in divide\n",
      "  cumulative_agreement_freqs = np.cumsum(agreement_indicator, axis=0) / np.cumsum(both_present, axis=0)#np.arange(1, len(overlap)+1)\n"
     ]
    },
    {
     "name": "stdout",
     "output_type": "stream",
     "text": [
      "339\n"
     ]
    },
    {
     "name": "stderr",
     "output_type": "stream",
     "text": [
      "/var/folders/f0/6vfjbpt92xx7fmgtqc2lzy8w0000gn/T/ipykernel_7215/1962859096.py:44: RuntimeWarning: invalid value encountered in divide\n",
      "  weight_mat = np.nan_to_num(weight_mat / np.sum(weight_mat, axis=1)[:, np.newaxis])\n"
     ]
    }
   ],
   "source": [
    "amici_cols = [x for x in X.columns if x != 'lexisCite']\n",
    "\n",
    "# opinion_df = pd.merge(X, y, on='lexisCite').copy().sort_values('lexisCite')\n",
    "# print(opinion_df)\n",
    "\n",
    "def make_opinion_df():\n",
    "    amici = pd.DataFrame(amici_cases).fillna(0)\n",
    "    amici = amici[(amici != 99).all(axis=1)]\n",
    "\n",
    "    return pd.merge(amici, pd.DataFrame(justice_cases), on='lexisCite').copy().sort_values('lexisCite')\n",
    "\n",
    "opinion_df = make_opinion_df()\n",
    "\n",
    "def overall_agreement(op_df, justice, amicus_list=None):\n",
    "    \"\"\"justice_decisions is an array of cases where a given justice voted either -1 or 1\"\"\"\n",
    "\n",
    "    amicus_list = amici_cols if amicus_list is None else amicus_list\n",
    "    amicus_opinions = np.array(op_df[amicus_list])\n",
    "    justice_opinions = np.array(op_df[justice])[:, np.newaxis]\n",
    "    justice_present = (justice_opinions != 0)#[:, np.newaxis]\n",
    "\n",
    "    agree = (justice_opinions == amicus_opinions) & justice_present\n",
    "    disagree = (-1*justice_opinions == amicus_opinions) & justice_present ## equal only if op_df is not 1\n",
    "    both_present = np.logical_or(agree, disagree)\n",
    "\n",
    "    ## when do they agree?\n",
    "    agreement_indicator = (np.abs(justice_opinions + amicus_opinions) == 2).astype(float) ## coarse; 0s for nas\n",
    "\n",
    "    ## when is this amicus relevant to this judge?\n",
    "    cumulative_agreement_freqs = np.cumsum(agreement_indicator, axis=0) / np.cumsum(both_present, axis=0)#np.arange(1, len(overlap)+1)\n",
    "\n",
    "\n",
    "    weight_by_time = pd.DataFrame(cumulative_agreement_freqs, columns=amicus_list).fillna(0)\n",
    "    weight_by_time['lexisCite'] = opinion_df['lexisCite']\n",
    "    # weight_by_time = weight_by_time.set_index('lexisCite')\n",
    "\n",
    "    return weight_by_time\n",
    "\n",
    "def predict(weight_df, opinion_df):\n",
    "    if 'lexisCite' in weight_df.columns:\n",
    "        weight_mat = np.array(weight_df.drop(columns='lexisCite').fillna(0)) \n",
    "    else:\n",
    "        weight_mat = np.array(weight_df.fillna(0))\n",
    "    weight_mat = np.nan_to_num(weight_mat / np.sum(weight_mat, axis=1)[:, np.newaxis])\n",
    "    yhat = np.sum(weight_mat * np.array(opinion_df.fillna(0)), axis=1)\n",
    "    return yhat\n",
    "\n",
    "alito_weight_matrix = overall_agreement(opinion_df, \"SAAlito\")#.set_index()\n",
    "# print((alito_weight_matrix.drop(columns='lexisCite').dtypes != float).any()) ## okay they are all floats\n",
    "# print(np.sum(alito_weight_matrix.drop(columns='lexisCite') > 0))\n",
    "# print(sum(alito_weight_matrix.drop(columns='lexisCite') > 0))\n",
    "\n",
    "# predict(alito_weight_matrix, X[amici_cols])\n",
    "predictions = predict(alito_weight_matrix, X[amici_cols])\n",
    "print(sum(predictions != 0))"
   ]
  },
  {
   "cell_type": "markdown",
   "metadata": {},
   "source": [
    "## Learning Weights - Predictive Model"
   ]
  },
  {
   "cell_type": "code",
   "execution_count": 368,
   "metadata": {},
   "outputs": [],
   "source": [
    "from sklearn.linear_model import LinearRegression, Ridge, Lasso\n",
    "from sklearn.multioutput import MultiOutputRegressor\n",
    "from sklearn.cross_decomposition import PLSRegression\n",
    "from sklearn import metrics\n",
    "from sklearn.model_selection import train_test_split\n",
    "from sklearn.neural_network import MLPRegressor\n",
    "from sklearn.preprocessing import StandardScaler\n",
    "from sklearn.decomposition import PCA\n",
    "from sklearn.pipeline import make_pipeline, Pipeline\n",
    "from sklearn.model_selection import GridSearchCV"
   ]
  },
  {
   "cell_type": "code",
   "execution_count": 369,
   "metadata": {},
   "outputs": [
    {
     "data": {
      "text/plain": [
       "((1460, 13734), (366, 13734), (1460, 3), (366, 3))"
      ]
     },
     "execution_count": 369,
     "metadata": {},
     "output_type": "execute_result"
    }
   ],
   "source": [
    "# (from Ritik's code below)\n",
    "# so we first need to split up the data so that we have test and training, let's save about 100 cases for testing\n",
    "# also, let's just filter to the 3 judges we are most interested in\n",
    "X_train, X_test, y_train, y_test = train_test_split(X.drop('lexisCite', axis=1), \n",
    "                                                    y.drop('lexisCite', axis=1)[['SAAlito', 'JGRoberts', 'SSotomayor']], test_size=0.2, random_state=0)\n",
    "X_train.shape, X_test.shape, y_train.shape, y_test.shape"
   ]
  },
  {
   "cell_type": "code",
   "execution_count": 370,
   "metadata": {},
   "outputs": [],
   "source": [
    "scaler = StandardScaler()\n",
    "X_train_scaled = scaler.fit_transform(X_train)\n",
    "X_test_scaled = scaler.fit_transform(X_test)"
   ]
  },
  {
   "cell_type": "code",
   "execution_count": 371,
   "metadata": {},
   "outputs": [],
   "source": [
    "linreg = MultiOutputRegressor(LinearRegression()).fit(X_train_scaled, \n",
    "                                                    y_train)"
   ]
  },
  {
   "cell_type": "code",
   "execution_count": 372,
   "metadata": {},
   "outputs": [],
   "source": [
    "coefficients = [estimator.coef_ for estimator in linreg.estimators_]\n",
    "len(coefficients), coefficients[0].shape;"
   ]
  },
  {
   "cell_type": "code",
   "execution_count": 373,
   "metadata": {},
   "outputs": [],
   "source": [
    "# predict the outcomes and compare (for the test data)\n",
    "y_pred = linreg.predict(X_test_scaled)\n",
    "y_pred;"
   ]
  },
  {
   "cell_type": "code",
   "execution_count": 374,
   "metadata": {},
   "outputs": [],
   "source": [
    "# check mse\n",
    "mae_linreg = metrics.mean_absolute_error(y_test, y_pred)\n",
    "mse_linreg = metrics.mean_squared_error(y_test, y_pred)\n",
    "rmse_linreg = np.sqrt(metrics.mean_squared_error(y_test, y_pred))"
   ]
  },
  {
   "cell_type": "code",
   "execution_count": 375,
   "metadata": {},
   "outputs": [
    {
     "name": "stdout",
     "output_type": "stream",
     "text": [
      "Mean Absolute Error: 793020413966.7344\n",
      "Mean Squared Error: 5.563133692014825e+24\n",
      "Root Mean Squared Error: 2358629621626.682\n"
     ]
    }
   ],
   "source": [
    "print('Mean Absolute Error:', mae_linreg)  \n",
    "print('Mean Squared Error:', mse_linreg)  \n",
    "print('Root Mean Squared Error:', rmse_linreg)"
   ]
  },
  {
   "cell_type": "code",
   "execution_count": 376,
   "metadata": {},
   "outputs": [
    {
     "data": {
      "text/plain": [
       "(0.0568967725409836, -21527981393093.547, 32308062768804.695)"
      ]
     },
     "execution_count": 376,
     "metadata": {},
     "output_type": "execute_result"
    }
   ],
   "source": [
    "np.mean(y_pred[:,0]), np.min(y_pred[:,0]), np.max(y_pred[:,0])"
   ]
  },
  {
   "cell_type": "code",
   "execution_count": 377,
   "metadata": {},
   "outputs": [
    {
     "data": {
      "image/png": "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",
      "text/plain": [
       "<Figure size 640x480 with 1 Axes>"
      ]
     },
     "metadata": {},
     "output_type": "display_data"
    }
   ],
   "source": [
    "plt.figure()\n",
    "s = 50\n",
    "a = 0.4\n",
    "plt.scatter(\n",
    "    y_pred[:,0],\n",
    "    (y_test.iloc[:,0] - y_pred[:,0]),\n",
    "    edgecolor=\"k\",\n",
    "    c=\"cornflowerblue\",\n",
    "    s=s,\n",
    "    alpha=a,\n",
    ")\n",
    "\n",
    "plt.xlabel(\"fitted values\")\n",
    "plt.ylabel(\"residuals\")\n",
    "plt.title(\"Comparing residuals and fitted values\")\n",
    "plt.show()"
   ]
  },
  {
   "cell_type": "markdown",
   "metadata": {},
   "source": [
    "## MLP Model (Ritik's Approach)"
   ]
  },
  {
   "cell_type": "code",
   "execution_count": 378,
   "metadata": {},
   "outputs": [],
   "source": [
    "# next try\n",
    "mlpregr = MLPRegressor(random_state=1, max_iter=500).fit(X_train_scaled, y_train)"
   ]
  },
  {
   "cell_type": "code",
   "execution_count": 379,
   "metadata": {},
   "outputs": [
    {
     "data": {
      "text/plain": [
       "-1.8771372227978602"
      ]
     },
     "execution_count": 379,
     "metadata": {},
     "output_type": "execute_result"
    }
   ],
   "source": [
    "mlpregr.score(X_test_scaled, y_test)"
   ]
  },
  {
   "cell_type": "code",
   "execution_count": 380,
   "metadata": {},
   "outputs": [],
   "source": [
    "# Let's get predictions\n",
    "y_pred = mlpregr.predict(X_test_scaled)\n",
    "\n",
    "mae_mlp = metrics.mean_absolute_error(y_test, y_pred)\n",
    "mse_mlp = metrics.mean_squared_error(y_test, y_pred)\n",
    "rmse_mlp = np.sqrt(metrics.mean_squared_error(y_test, y_pred))"
   ]
  },
  {
   "cell_type": "code",
   "execution_count": 381,
   "metadata": {},
   "outputs": [
    {
     "name": "stdout",
     "output_type": "stream",
     "text": [
      "Mean Absolute Error: 0.43567224154924267\n",
      "Mean Squared Error: 0.43093183320368694\n",
      "Root Mean Squared Error: 0.6564539840717604\n"
     ]
    }
   ],
   "source": [
    "print('Mean Absolute Error:', mae_mlp)  \n",
    "print('Mean Squared Error:', mse_mlp)  \n",
    "print('Root Mean Squared Error:', rmse_mlp)"
   ]
  },
  {
   "cell_type": "markdown",
   "metadata": {},
   "source": [
    "## Ridge Regression"
   ]
  },
  {
   "cell_type": "code",
   "execution_count": 382,
   "metadata": {},
   "outputs": [
    {
     "data": {
      "text/html": [
       "<style>#sk-container-id-1 {color: black;}#sk-container-id-1 pre{padding: 0;}#sk-container-id-1 div.sk-toggleable {background-color: white;}#sk-container-id-1 label.sk-toggleable__label {cursor: pointer;display: block;width: 100%;margin-bottom: 0;padding: 0.3em;box-sizing: border-box;text-align: center;}#sk-container-id-1 label.sk-toggleable__label-arrow:before {content: \"▸\";float: left;margin-right: 0.25em;color: #696969;}#sk-container-id-1 label.sk-toggleable__label-arrow:hover:before {color: black;}#sk-container-id-1 div.sk-estimator:hover label.sk-toggleable__label-arrow:before {color: black;}#sk-container-id-1 div.sk-toggleable__content {max-height: 0;max-width: 0;overflow: hidden;text-align: left;background-color: #f0f8ff;}#sk-container-id-1 div.sk-toggleable__content pre {margin: 0.2em;color: black;border-radius: 0.25em;background-color: #f0f8ff;}#sk-container-id-1 input.sk-toggleable__control:checked~div.sk-toggleable__content {max-height: 200px;max-width: 100%;overflow: auto;}#sk-container-id-1 input.sk-toggleable__control:checked~label.sk-toggleable__label-arrow:before {content: \"▾\";}#sk-container-id-1 div.sk-estimator input.sk-toggleable__control:checked~label.sk-toggleable__label {background-color: #d4ebff;}#sk-container-id-1 div.sk-label input.sk-toggleable__control:checked~label.sk-toggleable__label {background-color: #d4ebff;}#sk-container-id-1 input.sk-hidden--visually {border: 0;clip: rect(1px 1px 1px 1px);clip: rect(1px, 1px, 1px, 1px);height: 1px;margin: -1px;overflow: hidden;padding: 0;position: absolute;width: 1px;}#sk-container-id-1 div.sk-estimator {font-family: monospace;background-color: #f0f8ff;border: 1px dotted black;border-radius: 0.25em;box-sizing: border-box;margin-bottom: 0.5em;}#sk-container-id-1 div.sk-estimator:hover {background-color: #d4ebff;}#sk-container-id-1 div.sk-parallel-item::after {content: \"\";width: 100%;border-bottom: 1px solid gray;flex-grow: 1;}#sk-container-id-1 div.sk-label:hover label.sk-toggleable__label {background-color: #d4ebff;}#sk-container-id-1 div.sk-serial::before {content: \"\";position: absolute;border-left: 1px solid gray;box-sizing: border-box;top: 0;bottom: 0;left: 50%;z-index: 0;}#sk-container-id-1 div.sk-serial {display: flex;flex-direction: column;align-items: center;background-color: white;padding-right: 0.2em;padding-left: 0.2em;position: relative;}#sk-container-id-1 div.sk-item {position: relative;z-index: 1;}#sk-container-id-1 div.sk-parallel {display: flex;align-items: stretch;justify-content: center;background-color: white;position: relative;}#sk-container-id-1 div.sk-item::before, #sk-container-id-1 div.sk-parallel-item::before {content: \"\";position: absolute;border-left: 1px solid gray;box-sizing: border-box;top: 0;bottom: 0;left: 50%;z-index: -1;}#sk-container-id-1 div.sk-parallel-item {display: flex;flex-direction: column;z-index: 1;position: relative;background-color: white;}#sk-container-id-1 div.sk-parallel-item:first-child::after {align-self: flex-end;width: 50%;}#sk-container-id-1 div.sk-parallel-item:last-child::after {align-self: flex-start;width: 50%;}#sk-container-id-1 div.sk-parallel-item:only-child::after {width: 0;}#sk-container-id-1 div.sk-dashed-wrapped {border: 1px dashed gray;margin: 0 0.4em 0.5em 0.4em;box-sizing: border-box;padding-bottom: 0.4em;background-color: white;}#sk-container-id-1 div.sk-label label {font-family: monospace;font-weight: bold;display: inline-block;line-height: 1.2em;}#sk-container-id-1 div.sk-label-container {text-align: center;}#sk-container-id-1 div.sk-container {/* jupyter's `normalize.less` sets `[hidden] { display: none; }` but bootstrap.min.css set `[hidden] { display: none !important; }` so we also need the `!important` here to be able to override the default hidden behavior on the sphinx rendered scikit-learn.org. See: https://github.com/scikit-learn/scikit-learn/issues/21755 */display: inline-block !important;position: relative;}#sk-container-id-1 div.sk-text-repr-fallback {display: none;}</style><div id=\"sk-container-id-1\" class=\"sk-top-container\"><div class=\"sk-text-repr-fallback\"><pre>GridSearchCV(estimator=Ridge(),\n",
       "             param_grid={&#x27;alpha&#x27;: [0.01, 0.05, 0.1, 0.3, 0.7, 1]},\n",
       "             scoring=&#x27;neg_mean_squared_error&#x27;)</pre><b>In a Jupyter environment, please rerun this cell to show the HTML representation or trust the notebook. <br />On GitHub, the HTML representation is unable to render, please try loading this page with nbviewer.org.</b></div><div class=\"sk-container\" hidden><div class=\"sk-item sk-dashed-wrapped\"><div class=\"sk-label-container\"><div class=\"sk-label sk-toggleable\"><input class=\"sk-toggleable__control sk-hidden--visually\" id=\"sk-estimator-id-1\" type=\"checkbox\" ><label for=\"sk-estimator-id-1\" class=\"sk-toggleable__label sk-toggleable__label-arrow\">GridSearchCV</label><div class=\"sk-toggleable__content\"><pre>GridSearchCV(estimator=Ridge(),\n",
       "             param_grid={&#x27;alpha&#x27;: [0.01, 0.05, 0.1, 0.3, 0.7, 1]},\n",
       "             scoring=&#x27;neg_mean_squared_error&#x27;)</pre></div></div></div><div class=\"sk-parallel\"><div class=\"sk-parallel-item\"><div class=\"sk-item\"><div class=\"sk-label-container\"><div class=\"sk-label sk-toggleable\"><input class=\"sk-toggleable__control sk-hidden--visually\" id=\"sk-estimator-id-2\" type=\"checkbox\" ><label for=\"sk-estimator-id-2\" class=\"sk-toggleable__label sk-toggleable__label-arrow\">estimator: Ridge</label><div class=\"sk-toggleable__content\"><pre>Ridge()</pre></div></div></div><div class=\"sk-serial\"><div class=\"sk-item\"><div class=\"sk-estimator sk-toggleable\"><input class=\"sk-toggleable__control sk-hidden--visually\" id=\"sk-estimator-id-3\" type=\"checkbox\" ><label for=\"sk-estimator-id-3\" class=\"sk-toggleable__label sk-toggleable__label-arrow\">Ridge</label><div class=\"sk-toggleable__content\"><pre>Ridge()</pre></div></div></div></div></div></div></div></div></div></div>"
      ],
      "text/plain": [
       "GridSearchCV(estimator=Ridge(),\n",
       "             param_grid={'alpha': [0.01, 0.05, 0.1, 0.3, 0.7, 1]},\n",
       "             scoring='neg_mean_squared_error')"
      ]
     },
     "execution_count": 382,
     "metadata": {},
     "output_type": "execute_result"
    }
   ],
   "source": [
    "clf = Ridge()\n",
    "parameters = {'alpha':[0.01, 0.05, 0.1, 0.3, 0.7, 1]}\n",
    "ridgeregr = GridSearchCV(clf, parameters, scoring='neg_mean_squared_error')\n",
    "ridgeregr.fit(X_train_scaled, y_train)"
   ]
  },
  {
   "cell_type": "code",
   "execution_count": 383,
   "metadata": {},
   "outputs": [],
   "source": [
    "# Let's get predictions\n",
    "y_pred = ridgeregr.predict(X_test_scaled)\n",
    "\n",
    "mae_ridge = metrics.mean_absolute_error(y_test, y_pred)\n",
    "mse_ridge = metrics.mean_squared_error(y_test, y_pred)\n",
    "rmse_ridge = np.sqrt(metrics.mean_squared_error(y_test, y_pred))"
   ]
  },
  {
   "cell_type": "code",
   "execution_count": 384,
   "metadata": {},
   "outputs": [
    {
     "name": "stdout",
     "output_type": "stream",
     "text": [
      "Mean Absolute Error: 0.5337042818714407\n",
      "Mean Squared Error: 0.7097775672154333\n",
      "Root Mean Squared Error: 0.8424829774039552\n"
     ]
    }
   ],
   "source": [
    "print('Mean Absolute Error:', mae_ridge)  \n",
    "print('Mean Squared Error:', mse_ridge)  \n",
    "print('Root Mean Squared Error:', rmse_ridge)"
   ]
  },
  {
   "cell_type": "markdown",
   "metadata": {},
   "source": [
    "## LASSO"
   ]
  },
  {
   "cell_type": "code",
   "execution_count": 385,
   "metadata": {},
   "outputs": [
    {
     "data": {
      "text/html": [
       "<style>#sk-container-id-2 {color: black;}#sk-container-id-2 pre{padding: 0;}#sk-container-id-2 div.sk-toggleable {background-color: white;}#sk-container-id-2 label.sk-toggleable__label {cursor: pointer;display: block;width: 100%;margin-bottom: 0;padding: 0.3em;box-sizing: border-box;text-align: center;}#sk-container-id-2 label.sk-toggleable__label-arrow:before {content: \"▸\";float: left;margin-right: 0.25em;color: #696969;}#sk-container-id-2 label.sk-toggleable__label-arrow:hover:before {color: black;}#sk-container-id-2 div.sk-estimator:hover label.sk-toggleable__label-arrow:before {color: black;}#sk-container-id-2 div.sk-toggleable__content {max-height: 0;max-width: 0;overflow: hidden;text-align: left;background-color: #f0f8ff;}#sk-container-id-2 div.sk-toggleable__content pre {margin: 0.2em;color: black;border-radius: 0.25em;background-color: #f0f8ff;}#sk-container-id-2 input.sk-toggleable__control:checked~div.sk-toggleable__content {max-height: 200px;max-width: 100%;overflow: auto;}#sk-container-id-2 input.sk-toggleable__control:checked~label.sk-toggleable__label-arrow:before {content: \"▾\";}#sk-container-id-2 div.sk-estimator input.sk-toggleable__control:checked~label.sk-toggleable__label {background-color: #d4ebff;}#sk-container-id-2 div.sk-label input.sk-toggleable__control:checked~label.sk-toggleable__label {background-color: #d4ebff;}#sk-container-id-2 input.sk-hidden--visually {border: 0;clip: rect(1px 1px 1px 1px);clip: rect(1px, 1px, 1px, 1px);height: 1px;margin: -1px;overflow: hidden;padding: 0;position: absolute;width: 1px;}#sk-container-id-2 div.sk-estimator {font-family: monospace;background-color: #f0f8ff;border: 1px dotted black;border-radius: 0.25em;box-sizing: border-box;margin-bottom: 0.5em;}#sk-container-id-2 div.sk-estimator:hover {background-color: #d4ebff;}#sk-container-id-2 div.sk-parallel-item::after {content: \"\";width: 100%;border-bottom: 1px solid gray;flex-grow: 1;}#sk-container-id-2 div.sk-label:hover label.sk-toggleable__label {background-color: #d4ebff;}#sk-container-id-2 div.sk-serial::before {content: \"\";position: absolute;border-left: 1px solid gray;box-sizing: border-box;top: 0;bottom: 0;left: 50%;z-index: 0;}#sk-container-id-2 div.sk-serial {display: flex;flex-direction: column;align-items: center;background-color: white;padding-right: 0.2em;padding-left: 0.2em;position: relative;}#sk-container-id-2 div.sk-item {position: relative;z-index: 1;}#sk-container-id-2 div.sk-parallel {display: flex;align-items: stretch;justify-content: center;background-color: white;position: relative;}#sk-container-id-2 div.sk-item::before, #sk-container-id-2 div.sk-parallel-item::before {content: \"\";position: absolute;border-left: 1px solid gray;box-sizing: border-box;top: 0;bottom: 0;left: 50%;z-index: -1;}#sk-container-id-2 div.sk-parallel-item {display: flex;flex-direction: column;z-index: 1;position: relative;background-color: white;}#sk-container-id-2 div.sk-parallel-item:first-child::after {align-self: flex-end;width: 50%;}#sk-container-id-2 div.sk-parallel-item:last-child::after {align-self: flex-start;width: 50%;}#sk-container-id-2 div.sk-parallel-item:only-child::after {width: 0;}#sk-container-id-2 div.sk-dashed-wrapped {border: 1px dashed gray;margin: 0 0.4em 0.5em 0.4em;box-sizing: border-box;padding-bottom: 0.4em;background-color: white;}#sk-container-id-2 div.sk-label label {font-family: monospace;font-weight: bold;display: inline-block;line-height: 1.2em;}#sk-container-id-2 div.sk-label-container {text-align: center;}#sk-container-id-2 div.sk-container {/* jupyter's `normalize.less` sets `[hidden] { display: none; }` but bootstrap.min.css set `[hidden] { display: none !important; }` so we also need the `!important` here to be able to override the default hidden behavior on the sphinx rendered scikit-learn.org. See: https://github.com/scikit-learn/scikit-learn/issues/21755 */display: inline-block !important;position: relative;}#sk-container-id-2 div.sk-text-repr-fallback {display: none;}</style><div id=\"sk-container-id-2\" class=\"sk-top-container\"><div class=\"sk-text-repr-fallback\"><pre>GridSearchCV(estimator=Lasso(tol=0.001),\n",
       "             param_grid={&#x27;alpha&#x27;: [0.005, 0.01, 0.05, 0.1, 0.7]},\n",
       "             scoring=&#x27;neg_mean_squared_error&#x27;)</pre><b>In a Jupyter environment, please rerun this cell to show the HTML representation or trust the notebook. <br />On GitHub, the HTML representation is unable to render, please try loading this page with nbviewer.org.</b></div><div class=\"sk-container\" hidden><div class=\"sk-item sk-dashed-wrapped\"><div class=\"sk-label-container\"><div class=\"sk-label sk-toggleable\"><input class=\"sk-toggleable__control sk-hidden--visually\" id=\"sk-estimator-id-4\" type=\"checkbox\" ><label for=\"sk-estimator-id-4\" class=\"sk-toggleable__label sk-toggleable__label-arrow\">GridSearchCV</label><div class=\"sk-toggleable__content\"><pre>GridSearchCV(estimator=Lasso(tol=0.001),\n",
       "             param_grid={&#x27;alpha&#x27;: [0.005, 0.01, 0.05, 0.1, 0.7]},\n",
       "             scoring=&#x27;neg_mean_squared_error&#x27;)</pre></div></div></div><div class=\"sk-parallel\"><div class=\"sk-parallel-item\"><div class=\"sk-item\"><div class=\"sk-label-container\"><div class=\"sk-label sk-toggleable\"><input class=\"sk-toggleable__control sk-hidden--visually\" id=\"sk-estimator-id-5\" type=\"checkbox\" ><label for=\"sk-estimator-id-5\" class=\"sk-toggleable__label sk-toggleable__label-arrow\">estimator: Lasso</label><div class=\"sk-toggleable__content\"><pre>Lasso(tol=0.001)</pre></div></div></div><div class=\"sk-serial\"><div class=\"sk-item\"><div class=\"sk-estimator sk-toggleable\"><input class=\"sk-toggleable__control sk-hidden--visually\" id=\"sk-estimator-id-6\" type=\"checkbox\" ><label for=\"sk-estimator-id-6\" class=\"sk-toggleable__label sk-toggleable__label-arrow\">Lasso</label><div class=\"sk-toggleable__content\"><pre>Lasso(tol=0.001)</pre></div></div></div></div></div></div></div></div></div></div>"
      ],
      "text/plain": [
       "GridSearchCV(estimator=Lasso(tol=0.001),\n",
       "             param_grid={'alpha': [0.005, 0.01, 0.05, 0.1, 0.7]},\n",
       "             scoring='neg_mean_squared_error')"
      ]
     },
     "execution_count": 385,
     "metadata": {},
     "output_type": "execute_result"
    }
   ],
   "source": [
    "clf = Lasso(tol=1e-3) # need to decrease tolerance because of convergence errors\n",
    "parameters = {'alpha':[0.005, 0.01, 0.05, 0.1, 0.7]}\n",
    "lassoregr = GridSearchCV(clf, parameters, scoring='neg_mean_squared_error')\n",
    "lassoregr.fit(X_train_scaled, y_train)"
   ]
  },
  {
   "cell_type": "code",
   "execution_count": 386,
   "metadata": {},
   "outputs": [],
   "source": [
    "# Let's get predictions\n",
    "y_pred = lassoregr.predict(X_test_scaled)\n",
    "\n",
    "mae_lasso = metrics.mean_absolute_error(y_test, y_pred)\n",
    "mse_lasso = metrics.mean_squared_error(y_test, y_pred)\n",
    "rmse_lasso = np.sqrt(metrics.mean_squared_error(y_test, y_pred))"
   ]
  },
  {
   "cell_type": "code",
   "execution_count": 387,
   "metadata": {},
   "outputs": [
    {
     "name": "stdout",
     "output_type": "stream",
     "text": [
      "{'alpha': 0.05}\n",
      "Mean Absolute Error: 0.18823902178764995\n",
      "Mean Squared Error: 0.14956427846023676\n",
      "Root Mean Squared Error: 0.38673541143815204\n"
     ]
    }
   ],
   "source": [
    "print(lassoregr.best_params_)\n",
    "print('Mean Absolute Error:', mae_lasso)  \n",
    "print('Mean Squared Error:', mse_lasso)  \n",
    "print('Root Mean Squared Error:', rmse_lasso)"
   ]
  },
  {
   "cell_type": "markdown",
   "metadata": {},
   "source": [
    "## PCA"
   ]
  },
  {
   "cell_type": "code",
   "execution_count": 388,
   "metadata": {},
   "outputs": [
    {
     "ename": "KeyboardInterrupt",
     "evalue": "",
     "output_type": "error",
     "traceback": [
      "\u001b[0;31m---------------------------------------------------------------------------\u001b[0m",
      "\u001b[0;31mKeyboardInterrupt\u001b[0m                         Traceback (most recent call last)",
      "\u001b[1;32m/Users/edong/Documents/code/coursework/info6850networks/main.ipynb Cell 113\u001b[0m line \u001b[0;36m4\n\u001b[1;32m      <a href='vscode-notebook-cell:/Users/edong/Documents/code/coursework/info6850networks/main.ipynb#Z1302sZmlsZQ%3D%3D?line=1'>2</a>\u001b[0m parameters \u001b[39m=\u001b[39m {\u001b[39m'\u001b[39m\u001b[39mpca__n_components\u001b[39m\u001b[39m'\u001b[39m:[\u001b[39m2\u001b[39m, \u001b[39m5\u001b[39m, \u001b[39m10\u001b[39m, \u001b[39m15\u001b[39m, \u001b[39m20\u001b[39m]}\n\u001b[1;32m      <a href='vscode-notebook-cell:/Users/edong/Documents/code/coursework/info6850networks/main.ipynb#Z1302sZmlsZQ%3D%3D?line=2'>3</a>\u001b[0m pcr \u001b[39m=\u001b[39m GridSearchCV(clf, parameters, scoring\u001b[39m=\u001b[39m\u001b[39m'\u001b[39m\u001b[39mneg_mean_squared_error\u001b[39m\u001b[39m'\u001b[39m)\n\u001b[0;32m----> <a href='vscode-notebook-cell:/Users/edong/Documents/code/coursework/info6850networks/main.ipynb#Z1302sZmlsZQ%3D%3D?line=3'>4</a>\u001b[0m pcr\u001b[39m.\u001b[39;49mfit(X_train_scaled, y_train)\n",
      "File \u001b[0;32m~/Documents/code/coursework/info6850networks/.venv/lib/python3.11/site-packages/sklearn/base.py:1152\u001b[0m, in \u001b[0;36m_fit_context.<locals>.decorator.<locals>.wrapper\u001b[0;34m(estimator, *args, **kwargs)\u001b[0m\n\u001b[1;32m   1145\u001b[0m     estimator\u001b[39m.\u001b[39m_validate_params()\n\u001b[1;32m   1147\u001b[0m \u001b[39mwith\u001b[39;00m config_context(\n\u001b[1;32m   1148\u001b[0m     skip_parameter_validation\u001b[39m=\u001b[39m(\n\u001b[1;32m   1149\u001b[0m         prefer_skip_nested_validation \u001b[39mor\u001b[39;00m global_skip_validation\n\u001b[1;32m   1150\u001b[0m     )\n\u001b[1;32m   1151\u001b[0m ):\n\u001b[0;32m-> 1152\u001b[0m     \u001b[39mreturn\u001b[39;00m fit_method(estimator, \u001b[39m*\u001b[39;49margs, \u001b[39m*\u001b[39;49m\u001b[39m*\u001b[39;49mkwargs)\n",
      "File \u001b[0;32m~/Documents/code/coursework/info6850networks/.venv/lib/python3.11/site-packages/sklearn/model_selection/_search.py:898\u001b[0m, in \u001b[0;36mBaseSearchCV.fit\u001b[0;34m(self, X, y, groups, **fit_params)\u001b[0m\n\u001b[1;32m    892\u001b[0m     results \u001b[39m=\u001b[39m \u001b[39mself\u001b[39m\u001b[39m.\u001b[39m_format_results(\n\u001b[1;32m    893\u001b[0m         all_candidate_params, n_splits, all_out, all_more_results\n\u001b[1;32m    894\u001b[0m     )\n\u001b[1;32m    896\u001b[0m     \u001b[39mreturn\u001b[39;00m results\n\u001b[0;32m--> 898\u001b[0m \u001b[39mself\u001b[39;49m\u001b[39m.\u001b[39;49m_run_search(evaluate_candidates)\n\u001b[1;32m    900\u001b[0m \u001b[39m# multimetric is determined here because in the case of a callable\u001b[39;00m\n\u001b[1;32m    901\u001b[0m \u001b[39m# self.scoring the return type is only known after calling\u001b[39;00m\n\u001b[1;32m    902\u001b[0m first_test_score \u001b[39m=\u001b[39m all_out[\u001b[39m0\u001b[39m][\u001b[39m\"\u001b[39m\u001b[39mtest_scores\u001b[39m\u001b[39m\"\u001b[39m]\n",
      "File \u001b[0;32m~/Documents/code/coursework/info6850networks/.venv/lib/python3.11/site-packages/sklearn/model_selection/_search.py:1422\u001b[0m, in \u001b[0;36mGridSearchCV._run_search\u001b[0;34m(self, evaluate_candidates)\u001b[0m\n\u001b[1;32m   1420\u001b[0m \u001b[39mdef\u001b[39;00m \u001b[39m_run_search\u001b[39m(\u001b[39mself\u001b[39m, evaluate_candidates):\n\u001b[1;32m   1421\u001b[0m \u001b[39m    \u001b[39m\u001b[39m\"\"\"Search all candidates in param_grid\"\"\"\u001b[39;00m\n\u001b[0;32m-> 1422\u001b[0m     evaluate_candidates(ParameterGrid(\u001b[39mself\u001b[39;49m\u001b[39m.\u001b[39;49mparam_grid))\n",
      "File \u001b[0;32m~/Documents/code/coursework/info6850networks/.venv/lib/python3.11/site-packages/sklearn/model_selection/_search.py:845\u001b[0m, in \u001b[0;36mBaseSearchCV.fit.<locals>.evaluate_candidates\u001b[0;34m(candidate_params, cv, more_results)\u001b[0m\n\u001b[1;32m    837\u001b[0m \u001b[39mif\u001b[39;00m \u001b[39mself\u001b[39m\u001b[39m.\u001b[39mverbose \u001b[39m>\u001b[39m \u001b[39m0\u001b[39m:\n\u001b[1;32m    838\u001b[0m     \u001b[39mprint\u001b[39m(\n\u001b[1;32m    839\u001b[0m         \u001b[39m\"\u001b[39m\u001b[39mFitting \u001b[39m\u001b[39m{0}\u001b[39;00m\u001b[39m folds for each of \u001b[39m\u001b[39m{1}\u001b[39;00m\u001b[39m candidates,\u001b[39m\u001b[39m\"\u001b[39m\n\u001b[1;32m    840\u001b[0m         \u001b[39m\"\u001b[39m\u001b[39m totalling \u001b[39m\u001b[39m{2}\u001b[39;00m\u001b[39m fits\u001b[39m\u001b[39m\"\u001b[39m\u001b[39m.\u001b[39mformat(\n\u001b[1;32m    841\u001b[0m             n_splits, n_candidates, n_candidates \u001b[39m*\u001b[39m n_splits\n\u001b[1;32m    842\u001b[0m         )\n\u001b[1;32m    843\u001b[0m     )\n\u001b[0;32m--> 845\u001b[0m out \u001b[39m=\u001b[39m parallel(\n\u001b[1;32m    846\u001b[0m     delayed(_fit_and_score)(\n\u001b[1;32m    847\u001b[0m         clone(base_estimator),\n\u001b[1;32m    848\u001b[0m         X,\n\u001b[1;32m    849\u001b[0m         y,\n\u001b[1;32m    850\u001b[0m         train\u001b[39m=\u001b[39;49mtrain,\n\u001b[1;32m    851\u001b[0m         test\u001b[39m=\u001b[39;49mtest,\n\u001b[1;32m    852\u001b[0m         parameters\u001b[39m=\u001b[39;49mparameters,\n\u001b[1;32m    853\u001b[0m         split_progress\u001b[39m=\u001b[39;49m(split_idx, n_splits),\n\u001b[1;32m    854\u001b[0m         candidate_progress\u001b[39m=\u001b[39;49m(cand_idx, n_candidates),\n\u001b[1;32m    855\u001b[0m         \u001b[39m*\u001b[39;49m\u001b[39m*\u001b[39;49mfit_and_score_kwargs,\n\u001b[1;32m    856\u001b[0m     )\n\u001b[1;32m    857\u001b[0m     \u001b[39mfor\u001b[39;49;00m (cand_idx, parameters), (split_idx, (train, test)) \u001b[39min\u001b[39;49;00m product(\n\u001b[1;32m    858\u001b[0m         \u001b[39menumerate\u001b[39;49m(candidate_params), \u001b[39menumerate\u001b[39;49m(cv\u001b[39m.\u001b[39;49msplit(X, y, groups))\n\u001b[1;32m    859\u001b[0m     )\n\u001b[1;32m    860\u001b[0m )\n\u001b[1;32m    862\u001b[0m \u001b[39mif\u001b[39;00m \u001b[39mlen\u001b[39m(out) \u001b[39m<\u001b[39m \u001b[39m1\u001b[39m:\n\u001b[1;32m    863\u001b[0m     \u001b[39mraise\u001b[39;00m \u001b[39mValueError\u001b[39;00m(\n\u001b[1;32m    864\u001b[0m         \u001b[39m\"\u001b[39m\u001b[39mNo fits were performed. \u001b[39m\u001b[39m\"\u001b[39m\n\u001b[1;32m    865\u001b[0m         \u001b[39m\"\u001b[39m\u001b[39mWas the CV iterator empty? \u001b[39m\u001b[39m\"\u001b[39m\n\u001b[1;32m    866\u001b[0m         \u001b[39m\"\u001b[39m\u001b[39mWere there no candidates?\u001b[39m\u001b[39m\"\u001b[39m\n\u001b[1;32m    867\u001b[0m     )\n",
      "File \u001b[0;32m~/Documents/code/coursework/info6850networks/.venv/lib/python3.11/site-packages/sklearn/utils/parallel.py:65\u001b[0m, in \u001b[0;36mParallel.__call__\u001b[0;34m(self, iterable)\u001b[0m\n\u001b[1;32m     60\u001b[0m config \u001b[39m=\u001b[39m get_config()\n\u001b[1;32m     61\u001b[0m iterable_with_config \u001b[39m=\u001b[39m (\n\u001b[1;32m     62\u001b[0m     (_with_config(delayed_func, config), args, kwargs)\n\u001b[1;32m     63\u001b[0m     \u001b[39mfor\u001b[39;00m delayed_func, args, kwargs \u001b[39min\u001b[39;00m iterable\n\u001b[1;32m     64\u001b[0m )\n\u001b[0;32m---> 65\u001b[0m \u001b[39mreturn\u001b[39;00m \u001b[39msuper\u001b[39;49m()\u001b[39m.\u001b[39;49m\u001b[39m__call__\u001b[39;49m(iterable_with_config)\n",
      "File \u001b[0;32m~/Documents/code/coursework/info6850networks/.venv/lib/python3.11/site-packages/joblib/parallel.py:1863\u001b[0m, in \u001b[0;36mParallel.__call__\u001b[0;34m(self, iterable)\u001b[0m\n\u001b[1;32m   1861\u001b[0m     output \u001b[39m=\u001b[39m \u001b[39mself\u001b[39m\u001b[39m.\u001b[39m_get_sequential_output(iterable)\n\u001b[1;32m   1862\u001b[0m     \u001b[39mnext\u001b[39m(output)\n\u001b[0;32m-> 1863\u001b[0m     \u001b[39mreturn\u001b[39;00m output \u001b[39mif\u001b[39;00m \u001b[39mself\u001b[39m\u001b[39m.\u001b[39mreturn_generator \u001b[39melse\u001b[39;00m \u001b[39mlist\u001b[39;49m(output)\n\u001b[1;32m   1865\u001b[0m \u001b[39m# Let's create an ID that uniquely identifies the current call. If the\u001b[39;00m\n\u001b[1;32m   1866\u001b[0m \u001b[39m# call is interrupted early and that the same instance is immediately\u001b[39;00m\n\u001b[1;32m   1867\u001b[0m \u001b[39m# re-used, this id will be used to prevent workers that were\u001b[39;00m\n\u001b[1;32m   1868\u001b[0m \u001b[39m# concurrently finalizing a task from the previous call to run the\u001b[39;00m\n\u001b[1;32m   1869\u001b[0m \u001b[39m# callback.\u001b[39;00m\n\u001b[1;32m   1870\u001b[0m \u001b[39mwith\u001b[39;00m \u001b[39mself\u001b[39m\u001b[39m.\u001b[39m_lock:\n",
      "File \u001b[0;32m~/Documents/code/coursework/info6850networks/.venv/lib/python3.11/site-packages/joblib/parallel.py:1792\u001b[0m, in \u001b[0;36mParallel._get_sequential_output\u001b[0;34m(self, iterable)\u001b[0m\n\u001b[1;32m   1790\u001b[0m \u001b[39mself\u001b[39m\u001b[39m.\u001b[39mn_dispatched_batches \u001b[39m+\u001b[39m\u001b[39m=\u001b[39m \u001b[39m1\u001b[39m\n\u001b[1;32m   1791\u001b[0m \u001b[39mself\u001b[39m\u001b[39m.\u001b[39mn_dispatched_tasks \u001b[39m+\u001b[39m\u001b[39m=\u001b[39m \u001b[39m1\u001b[39m\n\u001b[0;32m-> 1792\u001b[0m res \u001b[39m=\u001b[39m func(\u001b[39m*\u001b[39;49margs, \u001b[39m*\u001b[39;49m\u001b[39m*\u001b[39;49mkwargs)\n\u001b[1;32m   1793\u001b[0m \u001b[39mself\u001b[39m\u001b[39m.\u001b[39mn_completed_tasks \u001b[39m+\u001b[39m\u001b[39m=\u001b[39m \u001b[39m1\u001b[39m\n\u001b[1;32m   1794\u001b[0m \u001b[39mself\u001b[39m\u001b[39m.\u001b[39mprint_progress()\n",
      "File \u001b[0;32m~/Documents/code/coursework/info6850networks/.venv/lib/python3.11/site-packages/sklearn/utils/parallel.py:127\u001b[0m, in \u001b[0;36m_FuncWrapper.__call__\u001b[0;34m(self, *args, **kwargs)\u001b[0m\n\u001b[1;32m    125\u001b[0m     config \u001b[39m=\u001b[39m {}\n\u001b[1;32m    126\u001b[0m \u001b[39mwith\u001b[39;00m config_context(\u001b[39m*\u001b[39m\u001b[39m*\u001b[39mconfig):\n\u001b[0;32m--> 127\u001b[0m     \u001b[39mreturn\u001b[39;00m \u001b[39mself\u001b[39;49m\u001b[39m.\u001b[39;49mfunction(\u001b[39m*\u001b[39;49margs, \u001b[39m*\u001b[39;49m\u001b[39m*\u001b[39;49mkwargs)\n",
      "File \u001b[0;32m~/Documents/code/coursework/info6850networks/.venv/lib/python3.11/site-packages/sklearn/model_selection/_validation.py:729\u001b[0m, in \u001b[0;36m_fit_and_score\u001b[0;34m(estimator, X, y, scorer, train, test, verbose, parameters, fit_params, return_train_score, return_parameters, return_n_test_samples, return_times, return_estimator, split_progress, candidate_progress, error_score)\u001b[0m\n\u001b[1;32m    727\u001b[0m         estimator\u001b[39m.\u001b[39mfit(X_train, \u001b[39m*\u001b[39m\u001b[39m*\u001b[39mfit_params)\n\u001b[1;32m    728\u001b[0m     \u001b[39melse\u001b[39;00m:\n\u001b[0;32m--> 729\u001b[0m         estimator\u001b[39m.\u001b[39;49mfit(X_train, y_train, \u001b[39m*\u001b[39;49m\u001b[39m*\u001b[39;49mfit_params)\n\u001b[1;32m    731\u001b[0m \u001b[39mexcept\u001b[39;00m \u001b[39mException\u001b[39;00m:\n\u001b[1;32m    732\u001b[0m     \u001b[39m# Note fit time as time until error\u001b[39;00m\n\u001b[1;32m    733\u001b[0m     fit_time \u001b[39m=\u001b[39m time\u001b[39m.\u001b[39mtime() \u001b[39m-\u001b[39m start_time\n",
      "File \u001b[0;32m~/Documents/code/coursework/info6850networks/.venv/lib/python3.11/site-packages/sklearn/base.py:1152\u001b[0m, in \u001b[0;36m_fit_context.<locals>.decorator.<locals>.wrapper\u001b[0;34m(estimator, *args, **kwargs)\u001b[0m\n\u001b[1;32m   1145\u001b[0m     estimator\u001b[39m.\u001b[39m_validate_params()\n\u001b[1;32m   1147\u001b[0m \u001b[39mwith\u001b[39;00m config_context(\n\u001b[1;32m   1148\u001b[0m     skip_parameter_validation\u001b[39m=\u001b[39m(\n\u001b[1;32m   1149\u001b[0m         prefer_skip_nested_validation \u001b[39mor\u001b[39;00m global_skip_validation\n\u001b[1;32m   1150\u001b[0m     )\n\u001b[1;32m   1151\u001b[0m ):\n\u001b[0;32m-> 1152\u001b[0m     \u001b[39mreturn\u001b[39;00m fit_method(estimator, \u001b[39m*\u001b[39;49margs, \u001b[39m*\u001b[39;49m\u001b[39m*\u001b[39;49mkwargs)\n",
      "File \u001b[0;32m~/Documents/code/coursework/info6850networks/.venv/lib/python3.11/site-packages/sklearn/pipeline.py:423\u001b[0m, in \u001b[0;36mPipeline.fit\u001b[0;34m(self, X, y, **fit_params)\u001b[0m\n\u001b[1;32m    397\u001b[0m \u001b[39m\u001b[39m\u001b[39m\"\"\"Fit the model.\u001b[39;00m\n\u001b[1;32m    398\u001b[0m \n\u001b[1;32m    399\u001b[0m \u001b[39mFit all the transformers one after the other and transform the\u001b[39;00m\n\u001b[0;32m   (...)\u001b[0m\n\u001b[1;32m    420\u001b[0m \u001b[39m    Pipeline with fitted steps.\u001b[39;00m\n\u001b[1;32m    421\u001b[0m \u001b[39m\"\"\"\u001b[39;00m\n\u001b[1;32m    422\u001b[0m fit_params_steps \u001b[39m=\u001b[39m \u001b[39mself\u001b[39m\u001b[39m.\u001b[39m_check_fit_params(\u001b[39m*\u001b[39m\u001b[39m*\u001b[39mfit_params)\n\u001b[0;32m--> 423\u001b[0m Xt \u001b[39m=\u001b[39m \u001b[39mself\u001b[39;49m\u001b[39m.\u001b[39;49m_fit(X, y, \u001b[39m*\u001b[39;49m\u001b[39m*\u001b[39;49mfit_params_steps)\n\u001b[1;32m    424\u001b[0m \u001b[39mwith\u001b[39;00m _print_elapsed_time(\u001b[39m\"\u001b[39m\u001b[39mPipeline\u001b[39m\u001b[39m\"\u001b[39m, \u001b[39mself\u001b[39m\u001b[39m.\u001b[39m_log_message(\u001b[39mlen\u001b[39m(\u001b[39mself\u001b[39m\u001b[39m.\u001b[39msteps) \u001b[39m-\u001b[39m \u001b[39m1\u001b[39m)):\n\u001b[1;32m    425\u001b[0m     \u001b[39mif\u001b[39;00m \u001b[39mself\u001b[39m\u001b[39m.\u001b[39m_final_estimator \u001b[39m!=\u001b[39m \u001b[39m\"\u001b[39m\u001b[39mpassthrough\u001b[39m\u001b[39m\"\u001b[39m:\n",
      "File \u001b[0;32m~/Documents/code/coursework/info6850networks/.venv/lib/python3.11/site-packages/sklearn/pipeline.py:377\u001b[0m, in \u001b[0;36mPipeline._fit\u001b[0;34m(self, X, y, **fit_params_steps)\u001b[0m\n\u001b[1;32m    375\u001b[0m     cloned_transformer \u001b[39m=\u001b[39m clone(transformer)\n\u001b[1;32m    376\u001b[0m \u001b[39m# Fit or load from cache the current transformer\u001b[39;00m\n\u001b[0;32m--> 377\u001b[0m X, fitted_transformer \u001b[39m=\u001b[39m fit_transform_one_cached(\n\u001b[1;32m    378\u001b[0m     cloned_transformer,\n\u001b[1;32m    379\u001b[0m     X,\n\u001b[1;32m    380\u001b[0m     y,\n\u001b[1;32m    381\u001b[0m     \u001b[39mNone\u001b[39;49;00m,\n\u001b[1;32m    382\u001b[0m     message_clsname\u001b[39m=\u001b[39;49m\u001b[39m\"\u001b[39;49m\u001b[39mPipeline\u001b[39;49m\u001b[39m\"\u001b[39;49m,\n\u001b[1;32m    383\u001b[0m     message\u001b[39m=\u001b[39;49m\u001b[39mself\u001b[39;49m\u001b[39m.\u001b[39;49m_log_message(step_idx),\n\u001b[1;32m    384\u001b[0m     \u001b[39m*\u001b[39;49m\u001b[39m*\u001b[39;49mfit_params_steps[name],\n\u001b[1;32m    385\u001b[0m )\n\u001b[1;32m    386\u001b[0m \u001b[39m# Replace the transformer of the step with the fitted\u001b[39;00m\n\u001b[1;32m    387\u001b[0m \u001b[39m# transformer. This is necessary when loading the transformer\u001b[39;00m\n\u001b[1;32m    388\u001b[0m \u001b[39m# from the cache.\u001b[39;00m\n\u001b[1;32m    389\u001b[0m \u001b[39mself\u001b[39m\u001b[39m.\u001b[39msteps[step_idx] \u001b[39m=\u001b[39m (name, fitted_transformer)\n",
      "File \u001b[0;32m~/Documents/code/coursework/info6850networks/.venv/lib/python3.11/site-packages/joblib/memory.py:353\u001b[0m, in \u001b[0;36mNotMemorizedFunc.__call__\u001b[0;34m(self, *args, **kwargs)\u001b[0m\n\u001b[1;32m    352\u001b[0m \u001b[39mdef\u001b[39;00m \u001b[39m__call__\u001b[39m(\u001b[39mself\u001b[39m, \u001b[39m*\u001b[39margs, \u001b[39m*\u001b[39m\u001b[39m*\u001b[39mkwargs):\n\u001b[0;32m--> 353\u001b[0m     \u001b[39mreturn\u001b[39;00m \u001b[39mself\u001b[39;49m\u001b[39m.\u001b[39;49mfunc(\u001b[39m*\u001b[39;49margs, \u001b[39m*\u001b[39;49m\u001b[39m*\u001b[39;49mkwargs)\n",
      "File \u001b[0;32m~/Documents/code/coursework/info6850networks/.venv/lib/python3.11/site-packages/sklearn/pipeline.py:957\u001b[0m, in \u001b[0;36m_fit_transform_one\u001b[0;34m(transformer, X, y, weight, message_clsname, message, **fit_params)\u001b[0m\n\u001b[1;32m    955\u001b[0m \u001b[39mwith\u001b[39;00m _print_elapsed_time(message_clsname, message):\n\u001b[1;32m    956\u001b[0m     \u001b[39mif\u001b[39;00m \u001b[39mhasattr\u001b[39m(transformer, \u001b[39m\"\u001b[39m\u001b[39mfit_transform\u001b[39m\u001b[39m\"\u001b[39m):\n\u001b[0;32m--> 957\u001b[0m         res \u001b[39m=\u001b[39m transformer\u001b[39m.\u001b[39;49mfit_transform(X, y, \u001b[39m*\u001b[39;49m\u001b[39m*\u001b[39;49mfit_params)\n\u001b[1;32m    958\u001b[0m     \u001b[39melse\u001b[39;00m:\n\u001b[1;32m    959\u001b[0m         res \u001b[39m=\u001b[39m transformer\u001b[39m.\u001b[39mfit(X, y, \u001b[39m*\u001b[39m\u001b[39m*\u001b[39mfit_params)\u001b[39m.\u001b[39mtransform(X)\n",
      "File \u001b[0;32m~/Documents/code/coursework/info6850networks/.venv/lib/python3.11/site-packages/sklearn/utils/_set_output.py:157\u001b[0m, in \u001b[0;36m_wrap_method_output.<locals>.wrapped\u001b[0;34m(self, X, *args, **kwargs)\u001b[0m\n\u001b[1;32m    155\u001b[0m \u001b[39m@wraps\u001b[39m(f)\n\u001b[1;32m    156\u001b[0m \u001b[39mdef\u001b[39;00m \u001b[39mwrapped\u001b[39m(\u001b[39mself\u001b[39m, X, \u001b[39m*\u001b[39margs, \u001b[39m*\u001b[39m\u001b[39m*\u001b[39mkwargs):\n\u001b[0;32m--> 157\u001b[0m     data_to_wrap \u001b[39m=\u001b[39m f(\u001b[39mself\u001b[39;49m, X, \u001b[39m*\u001b[39;49margs, \u001b[39m*\u001b[39;49m\u001b[39m*\u001b[39;49mkwargs)\n\u001b[1;32m    158\u001b[0m     \u001b[39mif\u001b[39;00m \u001b[39misinstance\u001b[39m(data_to_wrap, \u001b[39mtuple\u001b[39m):\n\u001b[1;32m    159\u001b[0m         \u001b[39m# only wrap the first output for cross decomposition\u001b[39;00m\n\u001b[1;32m    160\u001b[0m         return_tuple \u001b[39m=\u001b[39m (\n\u001b[1;32m    161\u001b[0m             _wrap_data_with_container(method, data_to_wrap[\u001b[39m0\u001b[39m], X, \u001b[39mself\u001b[39m),\n\u001b[1;32m    162\u001b[0m             \u001b[39m*\u001b[39mdata_to_wrap[\u001b[39m1\u001b[39m:],\n\u001b[1;32m    163\u001b[0m         )\n",
      "File \u001b[0;32m~/Documents/code/coursework/info6850networks/.venv/lib/python3.11/site-packages/sklearn/base.py:1152\u001b[0m, in \u001b[0;36m_fit_context.<locals>.decorator.<locals>.wrapper\u001b[0;34m(estimator, *args, **kwargs)\u001b[0m\n\u001b[1;32m   1145\u001b[0m     estimator\u001b[39m.\u001b[39m_validate_params()\n\u001b[1;32m   1147\u001b[0m \u001b[39mwith\u001b[39;00m config_context(\n\u001b[1;32m   1148\u001b[0m     skip_parameter_validation\u001b[39m=\u001b[39m(\n\u001b[1;32m   1149\u001b[0m         prefer_skip_nested_validation \u001b[39mor\u001b[39;00m global_skip_validation\n\u001b[1;32m   1150\u001b[0m     )\n\u001b[1;32m   1151\u001b[0m ):\n\u001b[0;32m-> 1152\u001b[0m     \u001b[39mreturn\u001b[39;00m fit_method(estimator, \u001b[39m*\u001b[39;49margs, \u001b[39m*\u001b[39;49m\u001b[39m*\u001b[39;49mkwargs)\n",
      "File \u001b[0;32m~/Documents/code/coursework/info6850networks/.venv/lib/python3.11/site-packages/sklearn/decomposition/_pca.py:460\u001b[0m, in \u001b[0;36mPCA.fit_transform\u001b[0;34m(self, X, y)\u001b[0m\n\u001b[1;32m    437\u001b[0m \u001b[39m@_fit_context\u001b[39m(prefer_skip_nested_validation\u001b[39m=\u001b[39m\u001b[39mTrue\u001b[39;00m)\n\u001b[1;32m    438\u001b[0m \u001b[39mdef\u001b[39;00m \u001b[39mfit_transform\u001b[39m(\u001b[39mself\u001b[39m, X, y\u001b[39m=\u001b[39m\u001b[39mNone\u001b[39;00m):\n\u001b[1;32m    439\u001b[0m \u001b[39m    \u001b[39m\u001b[39m\"\"\"Fit the model with X and apply the dimensionality reduction on X.\u001b[39;00m\n\u001b[1;32m    440\u001b[0m \n\u001b[1;32m    441\u001b[0m \u001b[39m    Parameters\u001b[39;00m\n\u001b[0;32m   (...)\u001b[0m\n\u001b[1;32m    458\u001b[0m \u001b[39m    C-ordered array, use 'np.ascontiguousarray'.\u001b[39;00m\n\u001b[1;32m    459\u001b[0m \u001b[39m    \"\"\"\u001b[39;00m\n\u001b[0;32m--> 460\u001b[0m     U, S, Vt \u001b[39m=\u001b[39m \u001b[39mself\u001b[39;49m\u001b[39m.\u001b[39;49m_fit(X)\n\u001b[1;32m    461\u001b[0m     U \u001b[39m=\u001b[39m U[:, : \u001b[39mself\u001b[39m\u001b[39m.\u001b[39mn_components_]\n\u001b[1;32m    463\u001b[0m     \u001b[39mif\u001b[39;00m \u001b[39mself\u001b[39m\u001b[39m.\u001b[39mwhiten:\n\u001b[1;32m    464\u001b[0m         \u001b[39m# X_new = X * V / S * sqrt(n_samples) = U * sqrt(n_samples)\u001b[39;00m\n",
      "File \u001b[0;32m~/Documents/code/coursework/info6850networks/.venv/lib/python3.11/site-packages/sklearn/decomposition/_pca.py:512\u001b[0m, in \u001b[0;36mPCA._fit\u001b[0;34m(self, X)\u001b[0m\n\u001b[1;32m    510\u001b[0m     \u001b[39mreturn\u001b[39;00m \u001b[39mself\u001b[39m\u001b[39m.\u001b[39m_fit_full(X, n_components)\n\u001b[1;32m    511\u001b[0m \u001b[39melif\u001b[39;00m \u001b[39mself\u001b[39m\u001b[39m.\u001b[39m_fit_svd_solver \u001b[39min\u001b[39;00m [\u001b[39m\"\u001b[39m\u001b[39marpack\u001b[39m\u001b[39m\"\u001b[39m, \u001b[39m\"\u001b[39m\u001b[39mrandomized\u001b[39m\u001b[39m\"\u001b[39m]:\n\u001b[0;32m--> 512\u001b[0m     \u001b[39mreturn\u001b[39;00m \u001b[39mself\u001b[39;49m\u001b[39m.\u001b[39;49m_fit_truncated(X, n_components, \u001b[39mself\u001b[39;49m\u001b[39m.\u001b[39;49m_fit_svd_solver)\n",
      "File \u001b[0;32m~/Documents/code/coursework/info6850networks/.venv/lib/python3.11/site-packages/sklearn/decomposition/_pca.py:616\u001b[0m, in \u001b[0;36mPCA._fit_truncated\u001b[0;34m(self, X, n_components, svd_solver)\u001b[0m\n\u001b[1;32m    612\u001b[0m     U, Vt \u001b[39m=\u001b[39m svd_flip(U[:, ::\u001b[39m-\u001b[39m\u001b[39m1\u001b[39m], Vt[::\u001b[39m-\u001b[39m\u001b[39m1\u001b[39m])\n\u001b[1;32m    614\u001b[0m \u001b[39melif\u001b[39;00m svd_solver \u001b[39m==\u001b[39m \u001b[39m\"\u001b[39m\u001b[39mrandomized\u001b[39m\u001b[39m\"\u001b[39m:\n\u001b[1;32m    615\u001b[0m     \u001b[39m# sign flipping is done inside\u001b[39;00m\n\u001b[0;32m--> 616\u001b[0m     U, S, Vt \u001b[39m=\u001b[39m randomized_svd(\n\u001b[1;32m    617\u001b[0m         X,\n\u001b[1;32m    618\u001b[0m         n_components\u001b[39m=\u001b[39;49mn_components,\n\u001b[1;32m    619\u001b[0m         n_oversamples\u001b[39m=\u001b[39;49m\u001b[39mself\u001b[39;49m\u001b[39m.\u001b[39;49mn_oversamples,\n\u001b[1;32m    620\u001b[0m         n_iter\u001b[39m=\u001b[39;49m\u001b[39mself\u001b[39;49m\u001b[39m.\u001b[39;49miterated_power,\n\u001b[1;32m    621\u001b[0m         power_iteration_normalizer\u001b[39m=\u001b[39;49m\u001b[39mself\u001b[39;49m\u001b[39m.\u001b[39;49mpower_iteration_normalizer,\n\u001b[1;32m    622\u001b[0m         flip_sign\u001b[39m=\u001b[39;49m\u001b[39mTrue\u001b[39;49;00m,\n\u001b[1;32m    623\u001b[0m         random_state\u001b[39m=\u001b[39;49mrandom_state,\n\u001b[1;32m    624\u001b[0m     )\n\u001b[1;32m    626\u001b[0m \u001b[39mself\u001b[39m\u001b[39m.\u001b[39mn_samples_ \u001b[39m=\u001b[39m n_samples\n\u001b[1;32m    627\u001b[0m \u001b[39mself\u001b[39m\u001b[39m.\u001b[39mcomponents_ \u001b[39m=\u001b[39m Vt\n",
      "File \u001b[0;32m~/Documents/code/coursework/info6850networks/.venv/lib/python3.11/site-packages/sklearn/utils/extmath.py:461\u001b[0m, in \u001b[0;36mrandomized_svd\u001b[0;34m(M, n_components, n_oversamples, n_iter, power_iteration_normalizer, transpose, flip_sign, random_state, svd_lapack_driver)\u001b[0m\n\u001b[1;32m    458\u001b[0m B \u001b[39m=\u001b[39m safe_sparse_dot(Q\u001b[39m.\u001b[39mT, M)\n\u001b[1;32m    460\u001b[0m \u001b[39m# compute the SVD on the thin matrix: (k + p) wide\u001b[39;00m\n\u001b[0;32m--> 461\u001b[0m Uhat, s, Vt \u001b[39m=\u001b[39m linalg\u001b[39m.\u001b[39;49msvd(B, full_matrices\u001b[39m=\u001b[39;49m\u001b[39mFalse\u001b[39;49;00m, lapack_driver\u001b[39m=\u001b[39;49msvd_lapack_driver)\n\u001b[1;32m    463\u001b[0m \u001b[39mdel\u001b[39;00m B\n\u001b[1;32m    464\u001b[0m U \u001b[39m=\u001b[39m np\u001b[39m.\u001b[39mdot(Q, Uhat)\n",
      "File \u001b[0;32m~/Documents/code/coursework/info6850networks/.venv/lib/python3.11/site-packages/scipy/linalg/_decomp_svd.py:127\u001b[0m, in \u001b[0;36msvd\u001b[0;34m(a, full_matrices, compute_uv, overwrite_a, check_finite, lapack_driver)\u001b[0m\n\u001b[1;32m    123\u001b[0m lwork \u001b[39m=\u001b[39m _compute_lwork(gesXd_lwork, a1\u001b[39m.\u001b[39mshape[\u001b[39m0\u001b[39m], a1\u001b[39m.\u001b[39mshape[\u001b[39m1\u001b[39m],\n\u001b[1;32m    124\u001b[0m                        compute_uv\u001b[39m=\u001b[39mcompute_uv, full_matrices\u001b[39m=\u001b[39mfull_matrices)\n\u001b[1;32m    126\u001b[0m \u001b[39m# perform decomposition\u001b[39;00m\n\u001b[0;32m--> 127\u001b[0m u, s, v, info \u001b[39m=\u001b[39m gesXd(a1, compute_uv\u001b[39m=\u001b[39;49mcompute_uv, lwork\u001b[39m=\u001b[39;49mlwork,\n\u001b[1;32m    128\u001b[0m                       full_matrices\u001b[39m=\u001b[39;49mfull_matrices, overwrite_a\u001b[39m=\u001b[39;49moverwrite_a)\n\u001b[1;32m    130\u001b[0m \u001b[39mif\u001b[39;00m info \u001b[39m>\u001b[39m \u001b[39m0\u001b[39m:\n\u001b[1;32m    131\u001b[0m     \u001b[39mraise\u001b[39;00m LinAlgError(\u001b[39m\"\u001b[39m\u001b[39mSVD did not converge\u001b[39m\u001b[39m\"\u001b[39m)\n",
      "\u001b[0;31mKeyboardInterrupt\u001b[0m: "
     ]
    }
   ],
   "source": [
    "clf = Pipeline([(\"pca\", PCA()), (\"linreg\", LinearRegression())])\n",
    "parameters = {'pca__n_components':[2, 5, 10, 15, 20]}\n",
    "pcr = GridSearchCV(clf, parameters, scoring='neg_mean_squared_error')\n",
    "pcr.fit(X_train_scaled, y_train)"
   ]
  },
  {
   "cell_type": "code",
   "execution_count": null,
   "metadata": {},
   "outputs": [
    {
     "data": {
      "text/plain": [
       "{'pca__n_components': 15}"
      ]
     },
     "execution_count": 639,
     "metadata": {},
     "output_type": "execute_result"
    }
   ],
   "source": [
    "pcr.best_params_"
   ]
  },
  {
   "cell_type": "code",
   "execution_count": null,
   "metadata": {},
   "outputs": [
    {
     "name": "stderr",
     "output_type": "stream",
     "text": [
      "c:\\Users\\Jennah\\anaconda3\\envs\\amicus\\Lib\\site-packages\\sklearn\\utils\\validation.py:767: FutureWarning: is_sparse is deprecated and will be removed in a future version. Check `isinstance(dtype, pd.SparseDtype)` instead.\n",
      "  if not hasattr(array, \"sparse\") and array.dtypes.apply(is_sparse).any():\n",
      "c:\\Users\\Jennah\\anaconda3\\envs\\amicus\\Lib\\site-packages\\sklearn\\utils\\validation.py:605: FutureWarning: is_sparse is deprecated and will be removed in a future version. Check `isinstance(dtype, pd.SparseDtype)` instead.\n",
      "  if is_sparse(pd_dtype):\n",
      "c:\\Users\\Jennah\\anaconda3\\envs\\amicus\\Lib\\site-packages\\sklearn\\utils\\validation.py:614: FutureWarning: is_sparse is deprecated and will be removed in a future version. Check `isinstance(dtype, pd.SparseDtype)` instead.\n",
      "  if is_sparse(pd_dtype) or not is_extension_array_dtype(pd_dtype):\n",
      "c:\\Users\\Jennah\\anaconda3\\envs\\amicus\\Lib\\site-packages\\sklearn\\utils\\validation.py:767: FutureWarning: is_sparse is deprecated and will be removed in a future version. Check `isinstance(dtype, pd.SparseDtype)` instead.\n",
      "  if not hasattr(array, \"sparse\") and array.dtypes.apply(is_sparse).any():\n",
      "c:\\Users\\Jennah\\anaconda3\\envs\\amicus\\Lib\\site-packages\\sklearn\\utils\\validation.py:605: FutureWarning: is_sparse is deprecated and will be removed in a future version. Check `isinstance(dtype, pd.SparseDtype)` instead.\n",
      "  if is_sparse(pd_dtype):\n",
      "c:\\Users\\Jennah\\anaconda3\\envs\\amicus\\Lib\\site-packages\\sklearn\\utils\\validation.py:614: FutureWarning: is_sparse is deprecated and will be removed in a future version. Check `isinstance(dtype, pd.SparseDtype)` instead.\n",
      "  if is_sparse(pd_dtype) or not is_extension_array_dtype(pd_dtype):\n",
      "c:\\Users\\Jennah\\anaconda3\\envs\\amicus\\Lib\\site-packages\\sklearn\\utils\\validation.py:767: FutureWarning: is_sparse is deprecated and will be removed in a future version. Check `isinstance(dtype, pd.SparseDtype)` instead.\n",
      "  if not hasattr(array, \"sparse\") and array.dtypes.apply(is_sparse).any():\n",
      "c:\\Users\\Jennah\\anaconda3\\envs\\amicus\\Lib\\site-packages\\sklearn\\utils\\validation.py:605: FutureWarning: is_sparse is deprecated and will be removed in a future version. Check `isinstance(dtype, pd.SparseDtype)` instead.\n",
      "  if is_sparse(pd_dtype):\n",
      "c:\\Users\\Jennah\\anaconda3\\envs\\amicus\\Lib\\site-packages\\sklearn\\utils\\validation.py:614: FutureWarning: is_sparse is deprecated and will be removed in a future version. Check `isinstance(dtype, pd.SparseDtype)` instead.\n",
      "  if is_sparse(pd_dtype) or not is_extension_array_dtype(pd_dtype):\n"
     ]
    }
   ],
   "source": [
    "# Let's get predictions\n",
    "y_pred = pcr.predict(X_test_scaled)\n",
    "\n",
    "mae_pcr = metrics.mean_absolute_error(y_test, y_pred)\n",
    "mse_pcr = metrics.mean_squared_error(y_test, y_pred)\n",
    "rmse_pcr = np.sqrt(metrics.mean_squared_error(y_test, y_pred))"
   ]
  },
  {
   "cell_type": "code",
   "execution_count": null,
   "metadata": {},
   "outputs": [
    {
     "name": "stdout",
     "output_type": "stream",
     "text": [
      "Mean Absolute Error: 0.187081406266985\n",
      "Mean Squared Error: 0.1503256348643826\n",
      "Root Mean Squared Error: 0.38771849951270393\n"
     ]
    }
   ],
   "source": [
    "print('Mean Absolute Error:', mae_pcr)\n",
    "print('Mean Squared Error:', mse_pcr)  \n",
    "print('Root Mean Squared Error:', rmse_pcr)"
   ]
  },
  {
   "cell_type": "markdown",
   "metadata": {},
   "source": [
    "## PLS"
   ]
  },
  {
   "cell_type": "code",
   "execution_count": 389,
   "metadata": {},
   "outputs": [],
   "source": [
    "clf = PLSRegression()\n",
    "parameters = {'n_components':[2, 5, 10, 15, 20]}\n",
    "pls = GridSearchCV(clf, parameters, scoring='neg_mean_squared_error')\n",
    "pls.fit(X_train_scaled, y_train)\n",
    "\n",
    "# Let's get predictions\n",
    "y_pred = pls.predict(X_test_scaled)\n",
    "\n",
    "mae_pls = metrics.mean_absolute_error(y_test, y_pred)\n",
    "mse_pls = metrics.mean_squared_error(y_test, y_pred)\n",
    "rmse_pls = np.sqrt(metrics.mean_squared_error(y_test, y_pred))"
   ]
  },
  {
   "cell_type": "code",
   "execution_count": 390,
   "metadata": {},
   "outputs": [
    {
     "name": "stdout",
     "output_type": "stream",
     "text": [
      "{'n_components': 5}\n",
      "Mean Absolute Error: 0.19109844817928348\n",
      "Mean Squared Error: 0.14898929790175874\n",
      "Root Mean Squared Error: 0.3859913184279651\n"
     ]
    }
   ],
   "source": [
    "print(pls.best_params_)\n",
    "print('Mean Absolute Error:', mae_pls)\n",
    "print('Mean Squared Error:', mse_pls)  \n",
    "print('Root Mean Squared Error:', rmse_pls)"
   ]
  },
  {
   "cell_type": "markdown",
   "metadata": {},
   "source": [
    "### Model Comparison"
   ]
  },
  {
   "cell_type": "code",
   "execution_count": 690,
   "metadata": {},
   "outputs": [
    {
     "data": {
      "text/html": [
       "<div>\n",
       "<style scoped>\n",
       "    .dataframe tbody tr th:only-of-type {\n",
       "        vertical-align: middle;\n",
       "    }\n",
       "\n",
       "    .dataframe tbody tr th {\n",
       "        vertical-align: top;\n",
       "    }\n",
       "\n",
       "    .dataframe thead th {\n",
       "        text-align: right;\n",
       "    }\n",
       "</style>\n",
       "<table border=\"1\" class=\"dataframe\">\n",
       "  <thead>\n",
       "    <tr style=\"text-align: right;\">\n",
       "      <th></th>\n",
       "      <th>models</th>\n",
       "      <th>mse</th>\n",
       "      <th>rmse</th>\n",
       "      <th>mae</th>\n",
       "    </tr>\n",
       "  </thead>\n",
       "  <tbody>\n",
       "    <tr>\n",
       "      <th>4</th>\n",
       "      <td>PLS</td>\n",
       "      <td>0.149</td>\n",
       "      <td>0.386</td>\n",
       "      <td>0.191</td>\n",
       "    </tr>\n",
       "    <tr>\n",
       "      <th>1</th>\n",
       "      <td>Lasso</td>\n",
       "      <td>0.150</td>\n",
       "      <td>0.387</td>\n",
       "      <td>0.188</td>\n",
       "    </tr>\n",
       "    <tr>\n",
       "      <th>3</th>\n",
       "      <td>PCA with Lin. Regression</td>\n",
       "      <td>0.150</td>\n",
       "      <td>0.388</td>\n",
       "      <td>0.187</td>\n",
       "    </tr>\n",
       "    <tr>\n",
       "      <th>0</th>\n",
       "      <td>MLP</td>\n",
       "      <td>0.431</td>\n",
       "      <td>0.656</td>\n",
       "      <td>0.436</td>\n",
       "    </tr>\n",
       "    <tr>\n",
       "      <th>2</th>\n",
       "      <td>Ridge</td>\n",
       "      <td>0.710</td>\n",
       "      <td>0.842</td>\n",
       "      <td>0.534</td>\n",
       "    </tr>\n",
       "  </tbody>\n",
       "</table>\n",
       "</div>"
      ],
      "text/plain": [
       "                     models    mse   rmse    mae\n",
       "4                       PLS  0.149  0.386  0.191\n",
       "1                     Lasso  0.150  0.387  0.188\n",
       "3  PCA with Lin. Regression  0.150  0.388  0.187\n",
       "0                       MLP  0.431  0.656  0.436\n",
       "2                     Ridge  0.710  0.842  0.534"
      ]
     },
     "execution_count": 690,
     "metadata": {},
     "output_type": "execute_result"
    }
   ],
   "source": [
    "# create dataframe to compare outputs\n",
    "model_comp = pd.DataFrame({'models': ['MLP', 'Lasso', 'Ridge', 'PCA with Lin. Regression', 'PLS'],\n",
    "             'mse': [mse_mlp, mse_lasso, mse_ridge, mse_pcr, mse_pls],\n",
    "             'rmse': [rmse_mlp, rmse_lasso, rmse_ridge, rmse_pcr, rmse_pls],\n",
    "             'mae': [mae_mlp, mae_lasso, mae_ridge, mae_pcr, mae_pls]}).sort_values('mse', ascending=True).round(3)\n",
    "model_comp"
   ]
  },
  {
   "cell_type": "code",
   "execution_count": 691,
   "metadata": {},
   "outputs": [
    {
     "name": "stdout",
     "output_type": "stream",
     "text": [
      "\\begin{tabular}{lllll}\n",
      "\\toprule\n",
      " & models & mse & rmse & mae \\\\\n",
      "\\midrule\n",
      "4 & PLS & 0.149 & 0.386 & 0.191 \\\\\n",
      "1 & Lasso & 0.15 & 0.387 & 0.188 \\\\\n",
      "3 & PCA with Lin. Regression & 0.15 & 0.388 & 0.187 \\\\\n",
      "0 & MLP & 0.431 & 0.656 & 0.436 \\\\\n",
      "2 & Ridge & 0.71 & 0.842 & 0.534 \\\\\n",
      "\\bottomrule\n",
      "\\end{tabular}\n",
      "\n"
     ]
    }
   ],
   "source": [
    "print(model_comp.astype(str).to_latex())"
   ]
  },
  {
   "cell_type": "markdown",
   "metadata": {},
   "source": [
    "## Redo Threshold Algorithm with Weights"
   ]
  },
  {
   "cell_type": "code",
   "execution_count": 391,
   "metadata": {},
   "outputs": [
    {
     "data": {
      "text/html": [
       "<style>#sk-container-id-3 {color: black;}#sk-container-id-3 pre{padding: 0;}#sk-container-id-3 div.sk-toggleable {background-color: white;}#sk-container-id-3 label.sk-toggleable__label {cursor: pointer;display: block;width: 100%;margin-bottom: 0;padding: 0.3em;box-sizing: border-box;text-align: center;}#sk-container-id-3 label.sk-toggleable__label-arrow:before {content: \"▸\";float: left;margin-right: 0.25em;color: #696969;}#sk-container-id-3 label.sk-toggleable__label-arrow:hover:before {color: black;}#sk-container-id-3 div.sk-estimator:hover label.sk-toggleable__label-arrow:before {color: black;}#sk-container-id-3 div.sk-toggleable__content {max-height: 0;max-width: 0;overflow: hidden;text-align: left;background-color: #f0f8ff;}#sk-container-id-3 div.sk-toggleable__content pre {margin: 0.2em;color: black;border-radius: 0.25em;background-color: #f0f8ff;}#sk-container-id-3 input.sk-toggleable__control:checked~div.sk-toggleable__content {max-height: 200px;max-width: 100%;overflow: auto;}#sk-container-id-3 input.sk-toggleable__control:checked~label.sk-toggleable__label-arrow:before {content: \"▾\";}#sk-container-id-3 div.sk-estimator input.sk-toggleable__control:checked~label.sk-toggleable__label {background-color: #d4ebff;}#sk-container-id-3 div.sk-label input.sk-toggleable__control:checked~label.sk-toggleable__label {background-color: #d4ebff;}#sk-container-id-3 input.sk-hidden--visually {border: 0;clip: rect(1px 1px 1px 1px);clip: rect(1px, 1px, 1px, 1px);height: 1px;margin: -1px;overflow: hidden;padding: 0;position: absolute;width: 1px;}#sk-container-id-3 div.sk-estimator {font-family: monospace;background-color: #f0f8ff;border: 1px dotted black;border-radius: 0.25em;box-sizing: border-box;margin-bottom: 0.5em;}#sk-container-id-3 div.sk-estimator:hover {background-color: #d4ebff;}#sk-container-id-3 div.sk-parallel-item::after {content: \"\";width: 100%;border-bottom: 1px solid gray;flex-grow: 1;}#sk-container-id-3 div.sk-label:hover label.sk-toggleable__label {background-color: #d4ebff;}#sk-container-id-3 div.sk-serial::before {content: \"\";position: absolute;border-left: 1px solid gray;box-sizing: border-box;top: 0;bottom: 0;left: 50%;z-index: 0;}#sk-container-id-3 div.sk-serial {display: flex;flex-direction: column;align-items: center;background-color: white;padding-right: 0.2em;padding-left: 0.2em;position: relative;}#sk-container-id-3 div.sk-item {position: relative;z-index: 1;}#sk-container-id-3 div.sk-parallel {display: flex;align-items: stretch;justify-content: center;background-color: white;position: relative;}#sk-container-id-3 div.sk-item::before, #sk-container-id-3 div.sk-parallel-item::before {content: \"\";position: absolute;border-left: 1px solid gray;box-sizing: border-box;top: 0;bottom: 0;left: 50%;z-index: -1;}#sk-container-id-3 div.sk-parallel-item {display: flex;flex-direction: column;z-index: 1;position: relative;background-color: white;}#sk-container-id-3 div.sk-parallel-item:first-child::after {align-self: flex-end;width: 50%;}#sk-container-id-3 div.sk-parallel-item:last-child::after {align-self: flex-start;width: 50%;}#sk-container-id-3 div.sk-parallel-item:only-child::after {width: 0;}#sk-container-id-3 div.sk-dashed-wrapped {border: 1px dashed gray;margin: 0 0.4em 0.5em 0.4em;box-sizing: border-box;padding-bottom: 0.4em;background-color: white;}#sk-container-id-3 div.sk-label label {font-family: monospace;font-weight: bold;display: inline-block;line-height: 1.2em;}#sk-container-id-3 div.sk-label-container {text-align: center;}#sk-container-id-3 div.sk-container {/* jupyter's `normalize.less` sets `[hidden] { display: none; }` but bootstrap.min.css set `[hidden] { display: none !important; }` so we also need the `!important` here to be able to override the default hidden behavior on the sphinx rendered scikit-learn.org. See: https://github.com/scikit-learn/scikit-learn/issues/21755 */display: inline-block !important;position: relative;}#sk-container-id-3 div.sk-text-repr-fallback {display: none;}</style><div id=\"sk-container-id-3\" class=\"sk-top-container\"><div class=\"sk-text-repr-fallback\"><pre>PLSRegression(n_components=5)</pre><b>In a Jupyter environment, please rerun this cell to show the HTML representation or trust the notebook. <br />On GitHub, the HTML representation is unable to render, please try loading this page with nbviewer.org.</b></div><div class=\"sk-container\" hidden><div class=\"sk-item\"><div class=\"sk-estimator sk-toggleable\"><input class=\"sk-toggleable__control sk-hidden--visually\" id=\"sk-estimator-id-7\" type=\"checkbox\" checked><label for=\"sk-estimator-id-7\" class=\"sk-toggleable__label sk-toggleable__label-arrow\">PLSRegression</label><div class=\"sk-toggleable__content\"><pre>PLSRegression(n_components=5)</pre></div></div></div></div></div>"
      ],
      "text/plain": [
       "PLSRegression(n_components=5)"
      ]
     },
     "execution_count": 391,
     "metadata": {},
     "output_type": "execute_result"
    }
   ],
   "source": [
    "# select best model and refit with all data\n",
    "# try with PCA and lin regression\n",
    "scaler = StandardScaler()\n",
    "X_scaled = scaler.fit_transform(X.drop('lexisCite', axis=1))\n",
    "\n",
    "clf_bestmodel = PLSRegression(n_components=5)\n",
    "clf_bestmodel.fit(X_scaled, y.drop('lexisCite', axis=1)[['SAAlito', 'JGRoberts', 'SSotomayor']])"
   ]
  },
  {
   "cell_type": "code",
   "execution_count": 392,
   "metadata": {},
   "outputs": [
    {
     "data": {
      "text/plain": [
       "array([[ 0.02052009,  0.01090128, -0.00603394],\n",
       "       [ 0.02346561,  0.01323623, -0.00926082],\n",
       "       [ 0.0377772 ,  0.0269799 , -0.0121205 ],\n",
       "       ...,\n",
       "       [ 0.220682  ,  0.21787814,  0.03277365],\n",
       "       [ 0.07875025,  0.06689431, -0.01743959],\n",
       "       [ 0.17755895,  0.18163789,  0.06997737]])"
      ]
     },
     "execution_count": 392,
     "metadata": {},
     "output_type": "execute_result"
    }
   ],
   "source": [
    "y_pred = clf_bestmodel.predict(X_scaled)\n",
    "y_pred"
   ]
  },
  {
   "cell_type": "code",
   "execution_count": 393,
   "metadata": {},
   "outputs": [
    {
     "data": {
      "text/plain": [
       "((3, 13734), (3,), (1826, 13734))"
      ]
     },
     "execution_count": 393,
     "metadata": {},
     "output_type": "execute_result"
    }
   ],
   "source": [
    "clf_bestmodel.coef_.shape, clf_bestmodel.intercept_.shape, X_scaled.shape"
   ]
  },
  {
   "cell_type": "code",
   "execution_count": 394,
   "metadata": {},
   "outputs": [
    {
     "data": {
      "text/plain": [
       "0.09867145524695199"
      ]
     },
     "execution_count": 394,
     "metadata": {},
     "output_type": "execute_result"
    }
   ],
   "source": [
    "metrics.mean_squared_error(y_pred, y[['SAAlito', 'JGRoberts', 'SSotomayor']])"
   ]
  },
  {
   "cell_type": "code",
   "execution_count": 397,
   "metadata": {},
   "outputs": [
    {
     "data": {
      "text/plain": [
       "array([[ 0.02050846,  0.01089061, -0.00602899],\n",
       "       [ 0.02345479,  0.0132262 , -0.00925676],\n",
       "       [ 0.0377703 ,  0.02697364, -0.01211722],\n",
       "       ...,\n",
       "       [ 0.2207252 ,  0.21792417,  0.03278923],\n",
       "       [ 0.07875457,  0.06689898, -0.01743776],\n",
       "       [ 0.17759033,  0.18167399,  0.07000314]])"
      ]
     },
     "execution_count": 397,
     "metadata": {},
     "output_type": "execute_result"
    }
   ],
   "source": [
    "np.matmul(X_scaled, clf_bestmodel.coef_.T) + clf_bestmodel.intercept_ # these are the weights"
   ]
  },
  {
   "cell_type": "code",
   "execution_count": 398,
   "metadata": {},
   "outputs": [],
   "source": [
    "def learningWeightedThresholds(judge_name, y_real, y_pred, iter=100):\n",
    "    # initialize lower and upper bounds of thresholds\n",
    "    judge_threshold_min = [0]\n",
    "    judge_threshold_max = [1]\n",
    "\n",
    "    observed_thresholds = []\n",
    "    cons_votes = []\n",
    "    print(y_real.shape)\n",
    "    print(y_pred.shape)\n",
    "    for i in range(min(iter, y_real.shape[0])):\n",
    "        observed_threshold = y_pred[i]\n",
    "        judge_vote = y_real[i]\n",
    "        if judge_vote == -1:\n",
    "            judge_threshold_min += [max(observed_threshold, max(judge_threshold_min))]\n",
    "            judge_threshold_max += [min(judge_threshold_max)]\n",
    "            cons_votes += [False]\n",
    "        else:\n",
    "            judge_threshold_min += [max(judge_threshold_min)]\n",
    "            judge_threshold_max += [min(observed_threshold, min(judge_threshold_max))]\n",
    "            cons_votes += [True]\n",
    "        observed_thresholds += [observed_threshold]\n",
    "\n",
    "    return (judge_threshold_min, judge_threshold_max, observed_thresholds, cons_votes)"
   ]
  },
  {
   "cell_type": "code",
<<<<<<< HEAD
   "execution_count": 685,
=======
   "execution_count": 399,
>>>>>>> 74cdbbe0f09637b9981b0198e116947092911304
   "metadata": {},
   "outputs": [],
   "source": [
    "def plotWeightedAmicusThresholds(df, selected_judge, normalize=False):\n",
    "    df = df.sort_values('observed_thresholds', ascending=False).reset_index(drop=True)\n",
    "    \n",
    "    # plot data of thresholds\n",
    "    plt.scatter(df.loc[df['votes']==True].index,\n",
    "                df.loc[df['votes']==True, 'observed_thresholds'],\n",
    "            color = red_fill)\n",
    "    plt.scatter(df.loc[df['votes']==False].index,\n",
    "                df.loc[df['votes']==False, 'observed_thresholds'],\n",
    "                color = green_fill,\n",
    "                alpha=1)\n",
    "    plt.legend([\"conservative\", \"liberal\"], bbox_to_anchor=(0.7, -0.15))\n",
    "    plt.xticks(\n",
    "        np.arange(0, len(judge_threshold_min), 10)\n",
    "    )\n",
    "    plt.ylabel('Weighted threshold')\n",
    "    plt.xlabel('Number of cases observed')\n",
    "    plt.savefig(f'./plots/{selected_judge}_weighted_threshold_normalize{normalize}.pdf', bbox_inches='tight')"
   ]
  },
  {
   "cell_type": "code",
<<<<<<< HEAD
   "execution_count": 687,
=======
   "execution_count": 401,
>>>>>>> 74cdbbe0f09637b9981b0198e116947092911304
   "metadata": {},
   "outputs": [
    {
     "data": {
<<<<<<< HEAD
      "image/png": "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",
=======
      "image/png": "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",
>>>>>>> 74cdbbe0f09637b9981b0198e116947092911304
      "text/plain": [
       "<Figure size 640x480 with 1 Axes>"
      ]
     },
     "metadata": {},
     "output_type": "display_data"
    },
    {
     "data": {
<<<<<<< HEAD
      "image/png": "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",
=======
      "image/png": "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",
>>>>>>> 74cdbbe0f09637b9981b0198e116947092911304
      "text/plain": [
       "<Figure size 640x480 with 1 Axes>"
      ]
     },
     "metadata": {},
     "output_type": "display_data"
    },
    {
     "data": {
<<<<<<< HEAD
      "image/png": "iVBORw0KGgoAAAANSUhEUgAAAkMAAAHyCAYAAADoR8rWAAAAOXRFWHRTb2Z0d2FyZQBNYXRwbG90bGliIHZlcnNpb24zLjguMCwgaHR0cHM6Ly9tYXRwbG90bGliLm9yZy81sbWrAAAACXBIWXMAAA9hAAAPYQGoP6dpAABZOUlEQVR4nO3de1yUZd4G8OthBmaGswJyUOTgEdA8pmKtSpqHfE2zWk0zed1srUzNUrMyNXPR2i1rU9vM9bBquuXhtbLUTNA8pKKoKaICiquwCCaIwgAz9/sHMTIwwAwMzAzP9f185lPzPPcz85sR4+o+PZIQQoCIiIhIppxsXQARERGRLTEMERERkawxDBEREZGsMQwRERGRrDEMERERkawxDBEREZGsMQwRERGRrDEMERERkawxDNVCCIH8/Hxwb0oiIqKmiWGoFnfu3IGXlxfu3Llj61KIiIioATAMERERkawxDBEREZGsMQwRERGRrDEMERERkawxDBEREZGsMQwRERGRrDEMERERkawxDBEREZGsMQwRERGRrDEMERERkawxDBEREZGsKW1dgFwJIYDcW4BWC6hUgE9zSJJk67KIiIhkh2HIBkRmFnDuPFBUdP+gWg0RFQkpMMB2hREREckQh8kamcjMAhJPGgchoOx54smy80RERNRoGIYakRCirEeoJufOl7UjIiKiRsEw1Jhyb1XtEaqsqKisHRERETUKhqHGpNVatx0RERHVG8NQY1KprNuOiIiI6o1hqDH5NAfU6prbqNVl7YiIiKhRMAw1IkmSgKjImhtFRXK/ISIiokbEMNTIpMAAoEf3qj1EKhXQvh2g10Pk5HJFGRERUSPhpos2IAUGQAT439+B+u5dIOMacPHS/UbchJGIiKhRsGfIRiRJguTrAzg5lYUgbsJIRERkEwxDNsRNGImIiGyPYciWuAkjERGRzTEM2RI3YSQiIrI5hiFb4iaMRERENscwZEvchJGIiMjmGIZsiJswEhER2R7DkI1VuwmjWg306M59hoiIiBoYN120A1U2YVSpAJ/m7BEiIiJqBAxDdkKSJMDXx9ZlEBERyQ6HyYiIiEjWGIaIiIhI1hiGiIiISNYYhoiIiEjWGIaIiIhI1hiGiIiISNYYhoiIiEjWGIaIiIhI1hiGiIiISNYYhoiIiEjWHCoMHThwACNGjEBQUBAkScKOHTtqvSYhIQE9evSAWq1GeHg4Pvvss4Yv1EqEEBA5uRDXb5T9Uwhbl0RERNTkONS9ye7evYsuXbrgf//3f/Hkk0/W2j49PR2PPfYYJk+ejA0bNuDQoUN46aWX4OfnZ9b1tiQys4Bz54GiovsH1WqIqEjeyZ6IiMiKJOGg3Q2SJGH79u0YNWpUtW3mzJmDnTt3Ijk52XBsypQpOH36NI4cOWLW++Tn58PLywt5eXnw9PSsb9lmEZlZQOLJ6hv06M5AREREZCUONUxmqSNHjmDw4MFGx4YMGYITJ06gpKTERlXVTAhR1iNUk3PnOWRGRERkJU06DGVlZcHf39/omL+/P0pLS5GTk2PyGq1Wi/z8fKNHo8q9ZTw0ZkpRUVk7IiIiqrcmHYaAsuG0isp7VCofLxcXFwcvLy/DIzg4uMFrNKLVWrcdERER1ahJh6GAgABkZWUZHcvOzoZSqYSPj4/Ja+bOnYu8vDzD49q1a41R6n0qlXXbERERUY0cajWZpaKjo/HNN98YHduzZw969uwJZ2dnk9eoVCqobBk0fJoDanXNQ2VqdVk7IiIiqjeH6hkqKChAUlISkpKSAJQtnU9KSkJGRgaAsl6d5557ztB+ypQpuHr1KmbOnInk5GT885//xOrVq/H666/bonyzSJIEREXW3CgqstphPiIiIrKMQy2tj4+PR0xMTJXjEydOxNq1axEbG4srV64gPj7ecC4hIQGvvvoqzp07h6CgIMyZMwdTpkwx+z1tsbQeqH6fIXCfISIiIqtyqDBkC7YKQ8Dvk71zb5VNllapAJ/m7BEiIiKysiY9Z8jRSZIE+Jqe6E1ERETW4VBzhoiIiIisjWGIiIiIZI1hiIiIiGSNYYiIiIhkjWGIiIiIZI1hiIiIiGSNYYiIiIhkjWGIiIiIZI1hiIiIiGSNYYiIiIhkjWGIiIiIZI1hiIiIiGSNYYiIiIhkjWGIiIiIZI1hiIiIiGSNYYiIiIhkjWGIiIiIZI1hiIiIiGSNYYiIiIhkjWGIiIiIZI1hiIiIiGSNYYiIiIhkjWGIiIiIZI1hiIiIiGSNYYiIiIhkjWGIiIiIZI1hiIiIiGSNYYiIiIhkjWGIiIiIZI1hiIiIiGSNYYiIiIhkjWGIiIiIZI1hiIiIiGSNYYiIiIhkjWGIiIiIZI1hiIiIiGSNYYiIiIhkjWGIiIiIZI1hiIiIiGSNYYiIiIhkjWGIiIiIZI1hiIiIiGSNYYiIiIhkjWGIiIiIZI1hiIiIiGSNYYiIiIhkjWGIiIiIZI1hiIiIiGTN4cLQihUrEBYWBrVajR49euDgwYPVto2Pj4ckSVUeFy5caMSKiYiIyJ45VBjasmULZsyYgbfeegunTp3CH/7wBwwbNgwZGRk1XpeSkoLMzEzDo127do1UMREREdk7SQghbF2EuXr37o3u3btj5cqVhmMREREYNWoU4uLiqrSPj49HTEwMfvvtN3h7e9fpPfPz8+Hl5YW8vDx4enrWtXQiIiKyUw7TM1RcXIzExEQMHjzY6PjgwYNx+PDhGq/t1q0bAgMDMXDgQOzfv7/GtlqtFvn5+UYPIiIiarocJgzl5ORAp9PB39/f6Li/vz+ysrJMXhMYGIjPP/8cW7duxbZt29ChQwcMHDgQBw4cqPZ94uLi4OXlZXgEBwdb9XMQERGRfVHaugBLSZJk9FwIUeVYuQ4dOqBDhw6G59HR0bh27Rr++te/ol+/fiavmTt3LmbOnGl4np+fz0BERETUhDlMz5Cvry8UCkWVXqDs7OwqvUU16dOnDy5dulTteZVKBU9PT6MHERERNV0OE4ZcXFzQo0cP7N271+j43r170bdvX7Nf59SpUwgMDLR2eUREROSgHGqYbObMmZgwYQJ69uyJ6OhofP7558jIyMCUKVMAlA1xXb9+HevXrwcALFu2DKGhoYiKikJxcTE2bNiArVu3YuvWrbb8GERERGRHHCoMjRkzBrm5uXj33XeRmZmJTp06YdeuXQgJCQEAZGZmGu05VFxcjNdffx3Xr1+HRqNBVFQUvvvuOzz22GO2+ghERERkZxxqnyFb4D5DRERETZvDzBkiIiIiaggMQ0RERCRrDENEREQkaw41gVruhBBA7i1AqwVUKsCnebUbThIREZF5GIYchMjMAs6dB4qK7h9UqyGiIiEFBtiuMCIiIgdnVhg6c+aM2S/4wAMP1LkYMk1kZgGJJ6ueKCoCEk9C9OjOQERERFRHZoWhrl27QpKkGu8DVk6n01mlMCojhCjrEarJufMQAf4cMiMiIqoDsyZQp6enIy0tDenp6di6dSvCwsKwYsUKnDp1CqdOncKKFSvQpk0b7uzcEHJvGQ+NmVJUBKRchMjJBbeNIiIisozFmy726tULCxYsqLKL865duzBv3jwkJiZatUBbs/Wmi+L6DeBUkvkXqNUA5xERERGZzeKl9WfPnkVYWFiV42FhYTh/vpbhHLKcSmVZ+/J5RJlZDVMPERFRE2NxGIqIiMB7772HogpDN1qtFu+99x4iIiKsWhwB8Gle1ttjqXPnOWRGRERkBouX1n/22WcYMWIEgoOD0aVLFwDA6dOnIUkSvv32W6sXKHeSJEFERZpeTVaToqKy+Ua+Pg1TGBERURNRpxu13rt3Dxs2bMCFCxcghEBkZCTGjRsHNze3hqjRpmw9Z6icyX2GatOtK6SWQQ1XFBERURPAu9bXwl7CEFBhB+qcHOByau0X9OkNiT1DRERENTJrmGznzp1mv+Djjz9e52KoZpIkAb4+ED7Ngf9cr7mXyNkZgDBrbygiIiI5M6tnyMnJvHnWkiQ1uU0X7alnqKJqd6WujEvtiYiIamRWytHr9WY9mloQsmdSYADQo3vtK8241J6IiKhGvFGrA5MCAyAC/IGcXODkKaCkpPrGvGUHERGRSRbvMwQACQkJGDFiBNq2bYt27drh8ccfx8GDB61dG5lBkiRAkmoOQsD9pfZERERkxOIwtGHDBgwaNAiurq6YNm0apk6dCo1Gg4EDB2LTpk0NUSPVRqu1bjsiIiIZsXhpfUREBF544QW8+uqrRsc//PBDrFq1CsnJyVYt0NbsdQJ1RSInFzj6S+0NudSeiIioCot7htLS0jBixIgqxx9//HGkp6dbpSiykDm37FCry9oRERGREYvDUHBwMPbt21fl+L59+xAcHGyVosgykiQBUZE1N4qK5ORpIiIiEyxeTfbaa69h2rRpSEpKQt++fSFJEn7++WesXbsWH3/8cUPUSGaQAgMgenSvessOtRqIjACcnSGu3wBUKsCnOYMRERHR7+p0O47t27fjb3/7m2F+UEREBGbNmoWRI0davUBbc4Q5QxUZbtmh1ZYFn+Ji4Hxy1YDEjRiJiIgA8N5ktXK0MFRRrbtU9+jOQERERLJX500Xi4uLkZ2dDb1eb3S8devW9S6K6k8IUTZkVhNuxEhERGR5GLp06RImTZqEw4cPGx0vvyEob8lhJ3Jv1XwjV6DsfNoViPDQ+9eUD69xXhEREcmExWEoNjYWSqUS3377LQIDA/kL016Zu8FicjJw+XLZv1fcxVqthuC8IiIikgGLw1BSUhISExPRsWPHhqiHrEWlMr+tqVt5lN/glfOKiIioibN4n6HIyEjk5OQ0RC1kTeZsxGiOc+fBOfZERNSUmRWG8vPzDY+lS5di9uzZiI+PR25urtG5/Pz8hq6XzGTWRozmKCoCUi5C5OQyFBERUZNk1tJ6Jycno7lB5ZOlK2qqE6gdeWk98Pvy+sobMdaVSgWEtAbc3AyTrAFw4jURETk0s+YM7d+/v6HroAYiBQZABPgDaVfKJkvXh1YLXLx0/7mzc9k/OfGaiIgcGDddrIWj9wyVE0IA+/Zbp4fIHGGhgL8/e4+IiMjuWbya7IcffoC7uzsefvhhAMDy5cuxatUqREZGYvny5WjWrJnVi6T6kyQJIiqy5h2prSn9StmDvUdERGTnLF5NNmvWLMNE6bNnz2LmzJl47LHHkJaWhpkzZ1q9QLIeKTAA6NG96iozZ+f7ocXaSkqqLt0vX7Z/7jwnZhMRkc1ZPEzm7u6OX3/9FaGhoViwYAF+/fVXfP311zh58iQee+wxZGVlNVStNtFUhskqqnIz14pDWTk5wOXUxi2IN44lIiIbsniYzMXFBffu3QMA/Pjjj3juuecAAM2bN+fSegchSRLg61P1hK8PhE9z4D/XG29uEXC/p6h9O6OVapxXREREjcHiMPTwww9j5syZeOihh3Ds2DFs2bIFAHDx4kW0atXK6gVS42r0uUUVVVypxnlFRETUSCyeM/Tpp59CqVTi66+/xsqVK9GyZUsAwPfff4+hQ4davUBqfNXOLWpM5b1FmU1r2JWIiOwPl9bXoinOGTKX0dyiu3eBjGvGw2emVopZm7Mz0KMb4OPDYTMiImoQdQpDqampWLNmDVJTU/Hxxx+jRYsW+OGHHxAcHIyoqKiGqNNm5ByGKqtx4vV//1u2lL6hqNVAZATg4mL6/cuPNW8G3Pqt5jacj0RERBVYHIYSEhIwbNgwPPTQQzhw4ACSk5MRHh6O999/H8eOHcPXX3/dULXaBMOQ+Uze+qMhe4/Mee1q9jni6jUiIipncRiKjo7G008/jZkzZ8LDwwOnT59GeHg4jh8/jlGjRuH69esNVatNMAxZxqa9R5aqaZdsEz1M7E0iImqaLF5NdvbsWWzatKnKcT8/P+Tm5lqlKHJcNS3bh68PRPPm1rtxbH3VtEt2ZWo1hIlhOgYkIiLHZ3EY8vb2RmZmJsLCwoyOnzp1yrCyjKg6hhvHVpyYXXFJvS2YM4RXVAScPGV8TKWCCGnNvZGIiBycxWFo3LhxmDNnDr766itIkgS9Xo9Dhw7h9ddfN2zASFSTyr1HwsPDfnqLLKHVVt0bqZpJ3oW6POhEMRSSCzQKL4YmIiI7YvGcoZKSEsTGxmLz5s0QQkCpVEKn02HcuHFYu3YtFApFQ9UKAFixYgU++OADZGZmIioqCsuWLcMf/vCHatsnJCRg5syZOHfuHIKCgjB79mxMmTLF7PfjnKHGIYQAcnLLel8acql+IysI1OBmWzV0TqWGYwrJBX7FLeBeqOKqOCIiO2BRGBJCICMjA35+fsjKysLJkyeh1+vRrVs3tGvXriHrBABs2bIFEyZMwIoVK/DQQw/hH//4B7744gucP38erVu3rtI+PT0dnTp1wuTJk/HnP/8Zhw4dwksvvYQvv/wSTz75pFnvyTDUuERmlm12v24ABb5KZEX+vnFlxdDy+1+5gPNFcM8prfuqOJUKqDRMBxj3QqmdPCGZCFWVe6pMHWPQIiK5sCgM6fV6qNVqnDt3rlHCT2W9e/dG9+7dsXLlSsOxiIgIjBo1CnFxcVXaz5kzBzt37kRycrLh2JQpU3D69GkcOXLErPdkGGp8JpfoOxgB4EpvN+hUknEQMjQQUGoFQn65C2tFDpO9UFoBv8u/h65q2jj9PlquR4Xr4Awv50C4KDRGgcnS3ivRvBmK9PlVghdX7hGRPbFozpCTkxPatWuH3NzcRg9DxcXFSExMxBtvvGF0fPDgwTh8+LDJa44cOYLBgwcbHRsyZAhWr16NkpISOJf/3zbZlSqTrFUqoLgYOJ9s+R5GjbFLtgmFXgro1DXc7UaSUKqWUOilgGuert7vV+CrRFY7BYASoEK80rkAWZFqBJwv+95MtakYggzXoQS3SjLKmgJQ6JVloSqzsPoiKn3XBb7KsuCluv9eZr2OmXOv1E6etQat6sIYe8GIqCKLJ1C///77mDVrFlauXIlOnTo1RE0m5eTkQKfTwd/f3+i4v78/srJM378qKyvLZPvS0lLk5OQgMDCwyjVarRZardbwPD8/3wrVk6VMLdEXgQHV72FkTm9FI+5zpHMx75erue1qIgDcbKMqe1L5l7okAULcP2+qjRl0Ugmy2ikQUKI09DJVUSFwGg0RWvo6JlbumerRqqxy0DIVxsztBWM4IpIXi8PQs88+i3v37qFLly5wcXGBRqMxOn/r1i2rFWdK5f9ICSFq/A+XqfamjpeLi4vDwoUL61klNYQa9zCq6Xn5ser2OWqA3iNFsXmjz+a2q4k5vVA6dT1/uf8eqnLaqOCWU1rj0J454cyc1ylXXa9XZRWDFgCTYcycXjCl5AJfl3AonJxr7IViYCJqOiwOQ8uWLWuAMmrn6+sLhUJRpRcoOzu7Su9PuYCAAJPtlUolfHxM/MIEMHfuXMycOdPwPD8/H8HBwfWsnuyFySE4c3qYTA3T1UCTp4OiSF/rnCGNFYbIrNG7ZBYzh/asOURYY7Ay8brW6AUrFcXI0l6osY2pwMQhOCLHZXEYmjhxYkPUUSsXFxf06NEDe/fuxRNPPGE4vnfvXowcOdLkNdHR0fjmm2+Mju3Zswc9e/asdr6QSqWCSqUyeY6ahrr2MBkN0929C2RcqzYcSQD8UrVlvRNCmFxN5puqtcrkaWv0LlmitvBlzSHCWoNVZdboBTODqcDEITgix2VxGALKVpVdvnwZ2dnZ0Ov1Ruf69etnlcJMmTlzJiZMmICePXsiOjoan3/+OTIyMgz7Bs2dOxfXr1/H+vXrAZStHPv0008xc+ZMTJ48GUeOHMHq1avx5ZdfNliN1HRV2SyyXdsaJ3m755Qi4JKubN6KdP8XpFIr4JuqrX7OjIXM6YVSaMsCU7VtLFBb+LLmEGGj9XpZQV2H4BiQiGzP4jB09OhRjBs3DlevXkXlVfmSJEGnq3+3f3XGjBmD3NxcvPvuu8jMzESnTp2wa9cuhISEAAAyMzORkZFhaB8WFoZdu3bh1VdfxfLlyxEUFIRPPvnE7D2GiGpiziRvd5/mcMf9oROn3wqgOXMFUlGFX5z1XBVnTi+UX2rZogCTbcxl5tCeNYcIG7vXq6GZ6lGqbhsDDrcRNR6Ld6Du2rUr2rdvj4ULFyIwMLDKX1AvLy+rFmhr3GeIrE0IUb9VcdUM05lacaXUCvjWYZ8hE0UDqLBRZC3M3nCyFrXu12SiTmv2gtkCh9uIGp/FYcjNzQ2nT59G27ZtG6omu8IwRPaqulBV3x2oi/WFyCvJgk4UG95LqVeWhap67jNk1utUUm2wqvqFAMD9PZXMucZBcbiNyLosHibr3bs3Ll++LJswRGSvqpsI7qr0Nj5gTptKx5q7tK4amLrDot4rd5UKbqY2Paztdcyce1WZUjgb9YIFnC/6PYzdb2NWL5gDMHe4jeGIyDxm9QydOXPG8O+pqal4++23MWvWLHTu3LnKqqwHHnjA+lXaEHuGiBqfub1e9d2B2lQvWFOhlFzgp2oDd2dfW5dCZPfMCkNOTk6QJKnKhGnDi/x+rqEnUNsCwxBR0yaEMApZOlGCHG0aSptIQGru3Jq9RUS1MGuYLD09vaHrICKyCUmSqgwbuit9a+yFMhWY7HUIrvLSfvYWEVVlVhgqX7oOAAcOHEDfvn2hVBpfWlpaisOHDxu1JSJyRKYCkquT8fPKgckRhuBKRTEyi5LRXHe/t4i3GiGqw2oyhUKBzMxMtGjRwuh4bm4uWrRowWEyIqLfOeIQHO/NRnJk8Wqy6m6MmpubCzc3N6sURUTUFNQ2BGeq98jWw23m3puNw23UlJgdhkaPHg2g7C93bGys0f27dDodzpw5g759+1q/QiKiJqRyQDK5jQEcY7gtEBEMRNQkmB2GyneWFkLAw8MDGo3GcM7FxQV9+vTB5MmTrV8hEVETZqr3CKh53yd7GW77b9Fl6IUeSicOnZFjMzsMrVmzBgAQGhqK119/nUNiRESNpC7DbY1BjxL8V5sCgPdYI8dm8QRqueEEaiJyBBUnaxfrC3GrOKP2ixqQufdYAxiYyPYsnkBNRET2p3LvkcrJDTe1qTYbSjM1AVyHEqN9j0wFJk7OJltgGCIiaoLcnX3hpvSxq96iykwFJk7OJltgGCIiaqLsrbfIEhUnZ3OfI2poDENERDJRubfI3FuN2ELFydmVcSiNrM2sMPTJJ5+Y/YLTpk2rczFERNSw6nKrkfLAVKrX4qY2HfryST82wtuKkLWZtZosLCzM6PnNmzdx7949eHt7AwBu374NV1dXtGjRAmlpaQ1SqK1wNRkR0X0FJTnILEq2dRm1Yu8RWcLJnEbp6emGx+LFi9G1a1ckJyfj1q1buHXrFpKTk9G9e3csWrSooeslIiIbcnf2RaA6AkrJxdal1Ki896igJMfWpZADsHifoTZt2uDrr79Gt27djI4nJibiqaeeQnp6ulULtDX2DBERVVV5XyN7u8fa/Tqc4acK5y7ZVCOLJ1BnZmaipKTqeLFOp8N///tfqxRFRET2zRr3WGuMwFRxIjaHzqg6FvcMjRgxAhkZGVi9ejV69OgBSZJw4sQJTJ48GcHBwdi5c2dD1WoT7BkiIrKOir1JlQNTY07ODlRzDyMyZtacoYr++c9/omXLlujVqxfUajVUKhV69+6NwMBAfPHFFw1RIxERNQHlvUkezi3gqvSGJEmGY54u/vBXt22UOv5bdAl3S34D70ZF5ep8b7KLFy/iwoULEEIgIiIC7du3t3ZtdoE9Q0REjaegJKfRNobksBmVq/Omi6GhoRBCoE2bNlAquXcjERHVX20bQ1rztiKm9iviJGt5sniY7N69e/jTn/4EV1dXREVFISOj7Idy2rRpWLJkidULJCIieak8nObk5GR47qMKsfrS/lslGcgqSsH1wrO4cvcYl+PLkMVhaO7cuTh9+jTi4+OhVqsNxwcNGoQtW7ZYtTgiIqLK3J19EerWCy01nRGg7oCWms5o4/YQWmo6w1/VHk5wrvNrc38iebJ4fGvHjh3YsmUL+vTpY9SVGBkZidTUVKsWR0REZEpNtxVxkhT13iX7pjYNbkofDpnJhMU9Qzdv3kSLFi2qHL979y5/aIiIyOassUt2qdCiUJdnxarInlkchh588EF89913huflAWjVqlWIjo62XmVERER1VD6UFqTuZNjc0VK6RljRRvbB4p+QuLg4DB06FOfPn0dpaSk+/vhjnDt3DkeOHEFCQkJD1EhERGQxSZLg5twM/mhXp2GzUn0xhBAc9ZABi3uG+vbti0OHDuHevXto06YN9uzZA39/fxw5cgQ9evRoiBqJiIjqrK7DZjnF6VxdJhN13nRRLrjpIhFR01D55rKW7FfU3Jl7ETVlFg+TKRQKZGZmVplEnZubixYtWkCn01mtOCIiImupvAJN5eRm9m7Xt0oyUH7bNO5c3fRYPExWXUeSVquFi4v1NsEiIiJqSOWTrH1dwiy6jnsRNT1m9wx98sknAMqS9RdffAF3d3fDOZ1OhwMHDqBjx47Wr5CIiKiBSJIEpVPd/kf+v0WXIEFh6G2qeAsRDqU5FrPD0EcffQSgrGfos88+g0KhMJxzcXFBaGgoPvvsM+tXSERE1IAUddyPSI9S3Cj61bB0X49SwzkOpTkWs8NQeno6ACAmJgbbtm1Ds2bNGqwoIiKixqJReEEpuZg1d8iUiiGoXPlQWiAiGIgcAFeT1YKryYiImr6Ckpx638LDFCc4w08VDqUTh87smcWryXQ6HdauXYt9+/YhOzsber3e6PxPP/1kteKIiIgag7uzLwIRYfbqMnPpUYL/alMAAAo4w8s5kEv07ZDFYWj69OlYu3Ythg8fjk6dOvEPkoiImgR3Z1+4KX3qvBdRbXQoqbJE39clHAonZ068tjGLh8l8fX2xfv16PPbYYw1Vk13hMBkRkXwVlORYvbeoJpx4bRsW7zPk4uKCtm3bNkQtREREdsUaN3y1BPcwsg2Lw9Brr72Gjz/+uNrNF4mIiJoSww1f1e0a7T1vatP4e7YRmTVMNnr0aKPnP/30E5o3b46oqCg4Ozsbndu2bZt1K7QxDpMREVE5U8NmpvYZsoaWms5Gtw+hhmNWn5+Xl5fR8yeeeKJBiiEiIrJnlSdZl096Bsp2oC7Va3FTmw59+SzpetA10jwl4j5DtWLPEBERWcJaexaxZ6jxWDxniIiIiKrn7uyLQHUElHW8zQdQNvQmhOC8oUZi8dT4bt26mdwDQZIkqNVqtG3bFrGxsYiJibFKgURERI7G1J5FeSVZZg99ld/3jEvtG4fFPUNDhw5FWloa3NzcEBMTgwEDBsDd3R2pqal48MEHkZmZiUGDBuH//u//rFrob7/9hgkTJsDLywteXl6YMGECbt++XeM1sbGxkCTJ6NGnTx+r1kVERGSKJElwVXrDw7kFfFQhCHPrhZaazghQd/j9nx1r7T3iUvvGYXHPUE5ODl577TXMmzfP6Ph7772Hq1evYs+ePZg/fz4WLVqEkSNHWq3QcePG4T//+Q9++OEHAMALL7yACRMm4JtvvqnxuqFDh2LNmjWG5y4ude+2JCIiqqvycFSRu9IX90pvI6voQo2r0W5q0+Cm9OHu1A3E4gnUXl5eSExMrLLx4uXLl9GjRw/k5eXhwoULePDBB3Hnzh2rFJmcnIzIyEgcPXoUvXv3BgAcPXoU0dHRuHDhAjp06GDyutjYWNy+fRs7duyo83tzAjURETWke6W3cb3wbK3tOKG64Vg8TKZWq3H48OEqxw8fPgy1Wg0A0Ov1UKlU9a/ud0eOHIGXl5chCAFAnz594OXlZbKWiuLj49GiRQu0b98ekydPRnZ2ttXqIiIiqi9z5xFxqX3DsXiY7JVXXsGUKVOQmJiIBx98EJIk4dixY/jiiy/w5ptvAgB2796Nbt26Wa3IrKwstGjRosrxFi1aICsrq9rrhg0bhqeffhohISFIT0/HvHnz8MgjjyAxMbHasKbVaqHVag3P8/Pz6/8BiIiIqqEwc9WZue3IchaHobfffhthYWH49NNP8a9//QsA0KFDB6xatQrjxo0DAEyZMgUvvvhira+1YMECLFy4sMY2x48fBwCT46RCiBrHT8eMGWP4906dOqFnz54ICQnBd999V2VX7XJxcXG11kRERGQtGoUXlJJLjTeDVUoqw+aOZH023XQxJycHOTk1z5APDQ3Fpk2bMHPmzCqrx7y9vfHRRx/hf//3f81+z3bt2uH555/HnDlzTJ431TMUHBzMOUNERNRgatuoMVAdweX1Dajhb8FbA19fX/j61v6HGx0djby8PBw7dgy9evUCAPzyyy/Iy8tD3759zX6/3NxcXLt2DYGBgdW2UalUVp3vREREVBt3Z18EIqLKfc+Ukgp+qnAGoQZmVs9Q8+bNcfHiRfj6+qJZs2Y1Dk3dunXLqgWWGzZsGG7cuIF//OMfAMqW1oeEhBgtre/YsSPi4uLwxBNPoKCgAAsWLMCTTz6JwMBAXLlyBW+++SYyMjKQnJwMDw8Ps96Xq8mIiKixCCGqve9ZxWNcYm9dZvUMffTRR4bwsGzZsoasp1obN27EtGnTMHjwYADA448/jk8//dSoTUpKCvLy8gAACoUCZ8+exfr163H79m0EBgYiJiYGW7ZsMTsIERERNabKexEVlOSY6C3irtTWxhu11oI9Q0REZAucR9R46nSj1tTUVLz99tt45plnDPv2/PDDDzh37pxViyMiIpIjIQRualNrbPPfoku4W/Ibb+ZqBRaHoYSEBHTu3Bm//PILtm3bhoKCAgDAmTNnMH/+fKsXSEREJDeFurwal9oD92/meuXuMd67rJ4sDkNvvPEG3nvvPezdu9foPl8xMTE4cuSIVYsjIiKSI0t2m+bNXOvP4jB09uxZPPHEE1WO+/n5ITc31ypFERERyVlddpu+qU3jkFkdWRyGvL29kZmZWeX4qVOn0LJlS6sURUREJGflu1JbolRoUajLa6CKmjaLw9C4ceMwZ84cZGVlQZIk6PV6HDp0CK+//jqee+65hqiRiIhIViRJgp+qjcXX8WaudWPx0vqSkhLExsZi8+bNEEJAqVRCp9Nh3LhxWLt2LRQKRUPVahNcWk9ERLZiap+hmrTUdDbap4jMY3YYunz5Mtq2bWt4npqailOnTkGv16Nbt25o165dgxVpSwxDRERkS0II3Cu9jayiC9CjtNp2SkmFULcHuTt1HZgdhpycnNCyZUvExMTgkUceQUxMDEJCQhq6PptjGCIiInvATRgbjtlh6ODBg0hISEB8fDyOHDmCoqIitG7d2hCMYmJimuQEaoYhIiKyF6Zvz8GbudZXnW7HUVJSgiNHjiA+Ph7x8fE4evQotFot2rZti5SUlIao02YYhoiIyJ6Yupkrh8bqp173JissLMTPP/+M3bt3Y9WqVSgoKIBOp7NmfTbHMERERNS0mXXX+nJFRUU4fPgw9u/fj/j4eBw/fhxhYWHo378/Vq5cif79+zdUnUREREQNwuww1L9/fxw/fhxt2rRBv3798Morr6B///7w9/dvyPqIiIiIGpTZYejw4cMIDAxETEwMBgwYgH79+sHXl5O1iIiIbI3ziOrH7DlDd+/excGDBxEfH4/9+/cjKSkJ7du3R//+/TFgwAD0798ffn5+DV1vo+OcISIismemV5i5wE/VhivMzFTnCdR37tzBzz//bJg/dPr0abRr1w6//vqrtWu0KYYhIiKyV7XtPeTtHAQ3pQ97imph0QTqitzc3NC8eXM0b94czZo1g1KpRHJy9X8gREREZD1CCNzUptbY5nbJDdwuucGeolqYHYb0ej1OnDhhGCY7dOgQ7t69a9iVevny5YiJiWnIWomIiOh3hbo8s+9ZViqKkVmUjEBwl2pTzA5D3t7euHv3LgIDAzFgwAB8+OGHiImJQZs2lt9Vl4iIiOqnLneov6lNg5vSh0NmlZgdhj744APExMSgffv2DVkPERERmUEhuVh8TanQolCXxzvbV2J2GPrzn//ckHUQERGRBTQKLyglF7OHysrVpUepqXOydQFERERkOUmS4KeyfKqKVncP90pvox5342pyGIaIiIgclLuzLwLVEVBaMGT2W8k1XC88iyt3j6GgJKcBq3McdV5aT0RERLbn7uwLN6UPCnV5uFuai9slN8y6jivM7mPPEBERkYOTJAmuSm/4qdtY3FN0U5sm+yEz9gwRERE1IRV7iu6V3sZvJddqbM8VZgxDRERETU55T5FOFAMltbeX+wozDpMRERE1UebuRVSXPYuaEoYhIiKiJqp8L6KaOMEZpfpiWS+35zAZERFRE1W+F1FNd7bXowT/1aYAgGxv6MqeISIioibMkr2Iypfby23/IfYMERERNXEVV5iV6rW4qU2HvoaZ1XK7oSt7hoiIiGSgfIWZ0klVYxAC7i+3lwuGISIiIhkxdxm9nJbbMwwRERHJCJfbV8UwREREJCPmLLdXSipoFF6NVJHtMQwRERHJSPly+5r4qcJlM3kaYBgiIiKSneqW2yslFQLV8ruLPZfWExERyVDF5fY6UQyF5AK1kyeK9Pm4U5INheQCjcJLFj1EDENEREQyVb7cHgAKSnJw9d5xlFZYRSaXHak5TEZERCRzBSU5yCxKNgpCgHx2pGYYIiIikjEhBG5qU2tsc1Ob1qRv4sowREREJGOFurwqPUKVNfUdqTlniIiISMbM3Wm6oLRsqKwpTqpmGCIiIpIxc3eazivJRF5JZpOcVM1hMiIiIhkzZ0fqipripGqGISIiIhkzZ0dqU5rSpGqGISIiIpmrbkfqmjSlSdUOE4YWL16Mvn37wtXVFd7e3mZdI4TAggULEBQUBI1GgwEDBuDcuXMNWygREZEDcnf2RahbL7TUdIaXc6BZ15g7+dreOUwYKi4uxtNPP40XX3zR7Gvef/99fPjhh/j0009x/PhxBAQE4NFHH8WdO3casFIiIiLHVL4jtbvSvMnR5k6+tncOE4YWLlyIV199FZ07dzarvRACy5Ytw1tvvYXRo0ejU6dOWLduHe7du4dNmzY1cLVERESOy5xJ1U5QQgjRJOYNOUwYslR6ejqysrIwePBgwzGVSoX+/fvj8OHD1V6n1WqRn59v9CAiIpITcyZV61GKG0W/4srdYw6/sqzJhqGsrCwAgL+/v9Fxf39/wzlT4uLi4OXlZXgEBwc3aJ1ERET2yNxJ1eVL7XOLruJOSTbuld52uN4im4ahBQsWQJKkGh8nTpyo13tU3iVTCFHjzplz585FXl6e4XHt2rV6vT8REZGjKp9UHaTuBKda9mm+VZKBrKIUXC8863C9RTbdgXrq1KkYO3ZsjW1CQ0Pr9NoBAQEAynqIAgPvz4rPzs6u0ltUkUqlgkqlqtN7EhERNTXlnRN6lJp9TXlvUSAiHGKnapuGIV9fX/j6NsyXFBYWhoCAAOzduxfdunUDULYiLSEhAUuXLm2Q9yQiImqK6rqE/qY2DW5KH7u/l5nDzBnKyMhAUlISMjIyoNPpkJSUhKSkJBQUFBjadOzYEdu3bwdQlmRnzJiBv/zlL9i+fTt+/fVXxMbGwtXVFePGjbPVxyAiInI4dV1C7ygbMzrMjVrfeecdrFu3zvC8vLdn//79GDBgAAAgJSUFeXn3v/TZs2ejsLAQL730En777Tf07t0be/bsgYeHR6PWTkRE5MjKl9qX1qGHyBE2ZpSEo035bmT5+fnw8vJCXl4ePD09bV0OERGRTRSU5CCzKNni61pqOsNV6W39gqzIYYbJiIiIyHbqcv8ypaSCRuHVgFVZh8MMkxEREZFtuTv7wk3pg0JdHnSiGMX6Qtwqzqi2vZ8q3O4nTwMMQ0RERGSB8vuXlVM5ueGmNtVoPpFSUsFPFe4Qy+oBhiEiIiKqh8q9RQrJBRqFl0P0CJVjGCIiIqJ6qdxb5Gg4gZqIiIhkjWGIiIiIZI1hiIiIiGSNYYiIiIhkjWGIiIiIZI1hiIiIiGSNYYiIiIhkjWGIiIiIZI1hiIiIiGSNYYiIiIhkjWGIiIiIZI1hiIiIiGSNYYiIiIhkjWGIiIiIZI1hiIiIiGSNYYiIiIhkjWGIiIiIZI1hiIiIiGSNYYiIiIhkjWGIiIiIZI1hiIiIiGSNYYiIiIhkjWGIiIiIZI1hiIiIiGSNYYiIiIhkjWGIiIiIZI1hiIiIiGSNYYiIiIhkTWnrAoiIiKhpEUKgUJcHnSiGQnKBRuEFSZJsXVa1GIaIiIjIagpKcnBTm4pSUWw4ppRc4KdqA3dnXxtWVj0OkxEREZFVFJTkILMo2SgIAUCpKEZmUTIKSnJsVFnNGIaIiIio3oQQuKlNrbHNTW0ahBCNVJH5GIaIiIio3gp1eVV6hCorFVoU6vIaqSLzcc4QERER1ZuuliBUrqC0bKjMniZVMwwRERFRvSkkF7Pa5ZVkIq8k064mVXOYjIiIiOpNo/CC0sxABNjXpGqGISIiIqo3SZLgp2pj8XX2MKmaYYiIiIiswt3ZF4HqCAt7iGw/qZpzhoiIiMhq3J194ab0QaEuDwWlOcgryaz1GnMnXzcU9gwRERGRVUmSBFelN9yV5k2ONnfydUNhGCIiIqIGYc6kaqWkgkbh1UgVmcYwRERERA3CnEnVfqpwm+83xDBEREREDaa6SdVKSYVAdQT3GbLE4sWL0bdvX7i6usLb29usa2JjYyFJktGjT58+DVsoERERGXF39kWoWy+01HRGgLoDWmo6I9TtQbsIQoADrSYrLi7G008/jejoaKxevdrs64YOHYo1a9YYnru42HaSFhERkRyVT6q2Rw4ThhYuXAgAWLt2rUXXqVQqBAQENEBFRERE1BQ4zDBZXcXHx6NFixZo3749Jk+ejOzsbFuXRERERHbEYXqG6mLYsGF4+umnERISgvT0dMybNw+PPPIIEhMToVKpTF6j1Wqh1WoNz/Pz8xurXCIiIrIBm/YMLViwoMoE58qPEydO1Pn1x4wZg+HDh6NTp04YMWIEvv/+e1y8eBHfffddtdfExcXBy8vL8AgODq7z+xMREZH9s2nP0NSpUzF27Nga24SGhlrt/QIDAxESEoJLly5V22bu3LmYOXOm4Xl+fj4DERERURNm0zDk6+sLX9/GW1aXm5uLa9euITAwsNo2KpWq2iE0IiIisg4hBAp1edCJYigkF2gUXjbbfNFhJlBnZGQgKSkJGRkZ0Ol0SEpKQlJSEgoKCgxtOnbsiO3btwMACgoK8Prrr+PIkSO4cuUK4uPjMWLECPj6+uKJJ56w1ccgIiKSvYKSHFy5ewzXC88iqygF1wvP4srdYygoybFJPQ4zgfqdd97BunXrDM+7desGANi/fz8GDBgAAEhJSUFeXh4AQKFQ4OzZs1i/fj1u376NwMBAxMTEYMuWLfDw8Gj0+omIiKgsCGUWJVc5XiqKkVmUjEA0/q7UkhBCNOo7Opj8/Hx4eXkhLy8Pnp6eti6HiIjIYQkhcOXuMZSK4mrbKCUVQt0ebNQhM4cZJiMiIiLHVqjLqzEIAUCp0KJQl9dIFZVhGCIiIqJGoaslCFnazloYhoiIiKhRKCTz7g9qbjtrYRgiIiKiRqFReEFZS9BRSipoFF6NVFEZhiEiIiJqFJIkwU/VpsY2fqrwRt9viGGIiIiIGo27sy8C1RFVeoiUkgqB6sZfVg840D5DRERE1DS4O/vCTeljNztQMwwRERFRo5MkCa5Kb1uXAYDDZERERCRzDENEREQkawxDREREJGsMQ0RERCRrDENEREQkawxDREREJGsMQ0RERCRrDENEREQkawxDREREJGvcgboWQggAQH5+vo0rISIiIkt5eHjUepsPhqFa3LlzBwAQHBxs40qIiIjIUnl5efD09KyxjSTKuz7IJL1ejxs3bpiVLC2Vn5+P4OBgXLt2rdY/KHvhiDUDjlm3I9YMOGbdjlgz4Jh1O2LNgGPW7Yg1A9avmz1DVuDk5IRWrVo16Ht4eno61A8q4Jg1A45ZtyPWDDhm3Y5YM+CYdTtizYBj1u2INQONWzcnUBMREZGsMQwRERGRrDEM2ZBKpcL8+fOhUqlsXYrZHLFmwDHrdsSaAces2xFrBhyzbkesGXDMuh2xZsA2dXMCNREREckae4aIiIhI1hiGiIiISNYYhoiIiEjWGIZsZMWKFQgLC4NarUaPHj1w8OBBW5dk5MCBAxgxYgSCgoIgSRJ27NhhdF4IgQULFiAoKAgajQYDBgzAuXPnbFPs7+Li4vDggw/Cw8MDLVq0wKhRo5CSkmLUxt7qXrlyJR544AHDfhrR0dH4/vvv7bbe6sTFxUGSJMyYMcNwzN5qX7BgASRJMnoEBATYbb0VXb9+Hc8++yx8fHzg6uqKrl27IjEx0XDeHmsPDQ2t8n1LkoSXX37ZbmsuLS3F22+/jbCwMGg0GoSHh+Pdd9+FXq83tLHHuu/cuYMZM2YgJCQEGo0Gffv2xfHjxw3n7aFma/xO0Wq1eOWVV+Dr6ws3Nzc8/vjj+M9//mOdAgU1us2bNwtnZ2exatUqcf78eTF9+nTh5uYmrl69auvSDHbt2iXeeustsXXrVgFAbN++3ej8kiVLhIeHh9i6das4e/asGDNmjAgMDBT5+fm2KVgIMWTIELFmzRrx66+/iqSkJDF8+HDRunVrUVBQYLd179y5U3z33XciJSVFpKSkiDfffFM4OzuLX3/91S7rNeXYsWMiNDRUPPDAA2L69OmG4/ZW+/z580VUVJTIzMw0PLKzs+223nK3bt0SISEhIjY2Vvzyyy8iPT1d/Pjjj+Ly5cuGNvZYe3Z2ttF3vXfvXgFA7N+/325rfu+994SPj4/49ttvRXp6uvjqq6+Eu7u7WLZsmaGNPdb9xz/+UURGRoqEhARx6dIlMX/+fOHp6Sn+85//2E3N1vidMmXKFNGyZUuxd+9ecfLkSRETEyO6dOkiSktL610fw5AN9OrVS0yZMsXoWMeOHcUbb7xho4pqVvkHV6/Xi4CAALFkyRLDsaKiIuHl5SU+++wzG1RoWnZ2tgAgEhIShBCOU3ezZs3EF1984RD13rlzR7Rr107s3btX9O/f3xCG7LH2+fPniy5dupg8Z4/1lpszZ454+OGHqz1vz7VXNH36dNGmTRuh1+vttubhw4eLSZMmGR0bPXq0ePbZZ4UQ9vld37t3TygUCvHtt98aHe/SpYt466237LLmuvxOuX37tnB2dhabN282tLl+/bpwcnISP/zwQ71r4jBZIysuLkZiYiIGDx5sdHzw4ME4fPiwjaqyTHp6OrKysow+g0qlQv/+/e3qM+Tl5QEAmjdvDsD+69bpdNi8eTPu3r2L6Ohou68XAF5++WUMHz4cgwYNMjpur7VfunQJQUFBCAsLw9ixY5GWlgbAfusFgJ07d6Jnz554+umn0aJFC3Tr1g2rVq0ynLfn2ssVFxdjw4YNmDRpEiRJstuaH374Yezbtw8XL14EAJw+fRo///wzHnvsMQD2+V2XlpZCp9NBrVYbHddoNPj555/tsubKzKkxMTERJSUlRm2CgoLQqVMnq3wOhqFGlpOTA51OB39/f6Pj/v7+yMrKslFVlimv054/gxACM2fOxMMPP4xOnToBsN+6z549C3d3d6hUKkyZMgXbt29HZGSk3dZbbvPmzTh58iTi4uKqnLPH2nv37o3169dj9+7dWLVqFbKystC3b1/k5ubaZb3l0tLSsHLlSrRr1w67d+/GlClTMG3aNKxfvx6AfX7Xle3YsQO3b99GbGwsAPutec6cOXjmmWfQsWNHODs7o1u3bpgxYwaeeeYZAPZZt4eHB6Kjo7Fo0SLcuHEDOp0OGzZswC+//ILMzEy7rLkyc2rMysqCi4sLmjVrVm2b+uCNWm2k8h10hRC13lXX3tjzZ5g6dSrOnDmDn3/+uco5e6u7Q4cOSEpKwu3bt7F161ZMnDgRCQkJhvP2Vi8AXLt2DdOnT8eePXuq/B9pRfZU+7Bhwwz/3rlzZ0RHR6NNmzZYt24d+vTpA8C+6i2n1+vRs2dP/OUvfwEAdOvWDefOncPKlSvx3HPPGdrZY+3lVq9ejWHDhiEoKMjouL3VvGXLFmzYsAGbNm1CVFQUkpKSMGPGDAQFBWHixImGdvZW97/+9S9MmjQJLVu2hEKhQPfu3TFu3DicPHnS0MbeajalLjVa63OwZ6iR+fr6QqFQVEmy2dnZVVKxvSpfgWOvn+GVV17Bzp07sX//frRq1cpw3F7rdnFxQdu2bdGzZ0/ExcWhS5cu+Pjjj+22XqCsyzo7Oxs9evSAUqmEUqlEQkICPvnkEyiVSkN99lh7OTc3N3Tu3BmXLl2y6+86MDAQkZGRRsciIiKQkZEBwH5/rstdvXoVP/74I55//nnDMXutedasWXjjjTcwduxYdO7cGRMmTMCrr75q6P2017rbtGmDhIQEFBQU4Nq1azh27BhKSkoQFhZmtzVXZE6NAQEBKC4uxm+//VZtm/pgGGpkLi4u6NGjB/bu3Wt0fO/evejbt6+NqrJM+V+wip+huLgYCQkJNv0MQghMnToV27Ztw08//YSwsDCj8/Zad2VCCGi1Wruud+DAgTh79iySkpIMj549e2L8+PFISkpCeHi43dZeTqvVIjk5GYGBgXb9XT/00ENVtoi4ePEiQkJCANj/z/WaNWvQokULDB8+3HDMXmu+d+8enJyMfy0qFArD0np7rbucm5sbAgMD8dtvv2H37t0YOXKk3dcMmPe99ujRA87OzkZtMjMz8euvv1rnc9R7CjZZrHxp/erVq8X58+fFjBkzhJubm7hy5YqtSzO4c+eOOHXqlDh16pQAID788ENx6tQpw/L/JUuWCC8vL7Ft2zZx9uxZ8cwzz9h8eemLL74ovLy8RHx8vNGS3nv37hna2Fvdc+fOFQcOHBDp6enizJkz4s033xROTk5iz549dllvTSquJhPC/mp/7bXXRHx8vEhLSxNHjx4V//M//yM8PDwMf+/srd5yx44dE0qlUixevFhcunRJbNy4Ubi6uooNGzYY2thr7TqdTrRu3VrMmTOnyjl7rHnixImiZcuWhqX127ZtE76+vmL27Nl2XfcPP/wgvv/+e5GWlib27NkjunTpInr16iWKi4vtpmZr/E6ZMmWKaNWqlfjxxx/FyZMnxSOPPMKl9Y5u+fLlIiQkRLi4uIju3bsbln/bi/379wsAVR4TJ04UQpQthZw/f74ICAgQKpVK9OvXT5w9e9amNZuqF4BYs2aNoY291T1p0iTDz4Gfn58YOHCgIQjZY701qRyG7K328n1LnJ2dRVBQkBg9erQ4d+6c3dZb0TfffCM6deokVCqV6Nixo/j888+Nzttr7bt37xYAREpKSpVz9lhzfn6+mD59umjdurVQq9UiPDxcvPXWW0Kr1Rra2GPdW7ZsEeHh4cLFxUUEBASIl19+Wdy+fdtw3h5qtsbvlMLCQjF16lTRvHlzodFoxP/8z/+IjIwMq9THu9YTERGRrHHOEBEREckawxARERHJGsMQERERyRrDEBEREckawxARERHJGsMQERERyRrDEBEREckawxARERHJGsMQERm5cuUKJElCUlKSrUsxuHDhAvr06QO1Wo2uXbvaupxGERoaimXLltm6DKtpap+HmhaGISI7ExsbC0mSsGTJEqPjO3bsgCRJNqrKtubPnw83NzekpKRg3759ti6HiJoYhiEiO6RWq7F06VL89ttvti7FaoqLi+t8bWpqKh5++GGEhITAx8fHilVROZ1OZ7g7O5HcMAwR2aFBgwYhICAAcXFx1bZZsGBBlSGjZcuWITQ01PA8NjYWo0aNwl/+8hf4+/vD29sbCxcuRGlpKWbNmoXmzZujVatW+Oc//1nl9S9cuIC+fftCrVYjKioK8fHxRufPnz+Pxx57DO7u7vD398eECROQk5NjOD9gwABMnToVM2fOhK+vLx599FGTn0Ov1+Pdd99Fq1atoFKp0LVrV/zwww+G85IkITExEe+++y4kScKCBQuqfZ2lS5eibdu2UKlUaN26NRYvXmw4P2fOHLRv3x6urq4IDw/HvHnzUFJSYjh/+vRpxMTEwMPDA56enujRowdOnDhhOH/48GH069cPGo0GwcHBmDZtGu7evWs4v2LFCrRr1w5qtRr+/v546qmnTNZZbuvWrYiKioJKpUJoaCj+9re/VWlz584djBs3Du7u7ggKCsLf//53o/MLFixA69atoVKpEBQUhGnTphnOFRcXY/bs2WjZsiXc3NzQu3dvoz/DtWvXwtvbG99++y0iIyOhUqmwatUqqNVq3L592+h9pk2bhv79+5v9XWRnZ2PEiBHQaDQICwvDxo0ba/wuiGzOKrd7JSKrmThxohg5cqTYtm2bUKvV4tq1a0IIIbZv3y4q/pWdP3++6NKli9G1H330kQgJCTF6LQ8PD/Hyyy+LCxcuiNWrVwsAYsiQIWLx4sXi4sWLYtGiRcLZ2dlw9+f09HQBQLRq1Up8/fXX4vz58+L5558XHh4eIicnRwghxI0bN4Svr6+YO3euSE5OFidPnhSPPvqoiImJMbx3//79hbu7u5g1a5a4cOGCSE5ONvl5P/zwQ+Hp6Sm+/PJLceHCBTF79mzh7OwsLl68KIQQIjMzU0RFRYnXXntNZGZmijt37ph8ndmzZ4tmzZqJtWvXisuXL4uDBw+KVatWGc4vWrRIHDp0SKSnp4udO3cKf39/sXTpUsP5qKgo8eyzz4rk5GRx8eJF8e9//1skJSUJIYQ4c+aMcHd3Fx999JG4ePGiOHTokOjWrZuIjY0VQghx/PhxoVAoxKZNm8SVK1fEyZMnxccff1ztn/GJEyeEk5OTePfdd0VKSopYs2aN0Gg0Ys2aNYY2ISEhwsPDQ8TFxYmUlBTxySefCIVCIfbs2SOEEOKrr74Snp6eYteuXeLq1avil19+Mbqb/bhx40Tfvn3FgQMHxOXLl8UHH3wgVCqV4Xtds2aNcHZ2Fn379hWHDh0SFy5cEAUFBcLf31988cUXhtcpLS0V/v7+4h//+IdZ34UQQgwbNkx06tRJHD58WJw4cUL07dtXaDQa8dFHH1X7nRDZEsMQkZ0pD0NCCNGnTx8xadIkIUTdw1BISIjQ6XSGYx06dBB/+MMfDM9LS0uFm5ub+PLLL4UQ98PQkiVLDG1KSkpEq1atDOFh3rx5YvDgwUbvfe3aNQFApKSkCCHKwlDXrl1r/bxBQUFi8eLFRscefPBB8dJLLxmed+nSRcyfP7/a18jPzxcqlcoo/NTm/fffFz169DA89/DwEGvXrjXZdsKECeKFF14wOnbw4EHh5OQkCgsLxdatW4Wnp6fIz883673HjRsnHn30UaNjs2bNEpGRkYbnISEhYujQoUZtxowZI4YNGyaEEOJvf/ubaN++vSguLq7y+pcvXxaSJInr168bHR84cKCYO3euEKIsDAEwBL5y06ZNE4888ojh+e7du4WLi4u4deuWWd9FSkqKACCOHj1qOJ+cnCwAMAyR3eIwGZEdW7p0KdatW4fz58/X+TWioqLg5HT/r7q/vz86d+5seK5QKODj44Ps7Gyj66Kjow3/rlQq0bNnTyQnJwMAEhMTsX//fri7uxseHTt2BFA2v6dcz549a6wtPz8fN27cwEMPPWR0/KGHHjK8lzmSk5Oh1WoxcODAatt8/fXXePjhhxEQEAB3d3fMmzcPGRkZhvMzZ87E888/j0GDBmHJkiVGnyMxMRFr1641+rxDhgyBXq9Heno6Hn30UYSEhCA8PBwTJkzAxo0bce/evRrrNfWZL126BJ1OZzhW8c+g/Hn59/L000+jsLAQ4eHhmDx5MrZv347S0lIAwMmTJyGEQPv27Y1qTkhIMPpcLi4ueOCBB4zeY/z48YiPj8eNGzcAABs3bsRjjz2GZs2amfVdJCcnG35eynXs2BHe3t7Vfh9EtsYwRGTH+vXrhyFDhuDNN9+scs7JyQlCCKNjFefAlHN2djZ6LkmSyWPmTJ4tX82m1+sxYsQIJCUlGT0uXbqEfv36Gdq7ubnV+poVX7ecEMKilXMajabG80ePHsXYsWMxbNgwfPvttzh16hTeeusto0ndCxYswLlz5zB8+HD89NNPiIyMxPbt2wGUfd4///nPRp/19OnTuHTpEtq0aQMPDw+cPHkSX375JQIDA/HOO++gS5cuVebe1PT5Kv9ZVqf8uuDgYKSkpGD58uXQaDR46aWX0K9fP5SUlECv10OhUCAxMdGo5uTkZHz88cdG31vlOnr16oU2bdpg8+bNKCwsxPbt2/Hss88aztf2XZR/DrmufCTHpLR1AURUsyVLlqBr165o37690XE/Pz9kZWUZ/WK15t5AR48eNQSb0tJSJCYmYurUqQCA7t27Y+vWrQgNDYVSWff/jHh6eiIoKAg///yzUYg6fPgwevXqZfbrtGvXDhqNBvv27cPzzz9f5fyhQ4cQEhKCt956y3Ds6tWrVdq1b98e7du3x6uvvopnnnkGa9aswRNPPIHu3bvj3LlzaNu2bbU1KJVKDBo0CIMGDcL8+fPh7e2Nn376CaNHj67SNjIyEj///LPRscOHD6N9+/ZQKBSGY0ePHjVqc/ToUUMPHFAWZh5//HE8/vjjePnll9GxY0ecPXsW3bp1g06nQ3Z2Nv7whz9UW3N1xo0bh40bN6JVq1ZwcnLC8OHDDedq+y4iIiJQWlqKEydOGP4MU1JSqg2GRPaAPUNEdq5z584YP358lZVEAwYMwM2bN/H+++8jNTUVy5cvx/fff2+1912+fDm2b9+OCxcu4OWXX8Zvv/2GSZMmAQBefvll3Lp1C8888wyOHTuGtLQ07NmzB5MmTTIa5jHHrFmzsHTpUmzZsgUpKSl44403kJSUhOnTp5v9Gmq1GnPmzMHs2bOxfv16pKam4ujRo1i9ejUAoG3btsjIyMDmzZuRmpqKTz75xNDrAwCFhYWYOnUq4uPjcfXqVRw6dAjHjx9HREQEgLKVaEeOHMHLL79s6AHbuXMnXnnlFQDAt99+i08++QRJSUm4evUq1q9fD71ejw4dOpis97XXXsO+ffuwaNEiXLx4EevWrcOnn36K119/3ajdoUOH8P777+PixYtYvnw5vvrqK8P3snbtWqxevRq//vor0tLS8K9//QsajQYhISFo3749xo8fj+eeew7btm1Deno6jh8/jqVLl2LXrl21fp/jx4/HyZMnsXjxYjz11FNQq9WGc7V9Fx06dMDQoUMxefJk/PLLL0hMTMTzzz9fa+8dkU3ZcL4SEZlQcQJ1uStXrgiVSiUq/5VduXKlCA4OFm5ubuK5554TixcvrjKBuvJr9e/fX0yfPt3oWEhIiGFya/kE6k2bNonevXsLFxcXERERIfbt22d0zcWLF8UTTzwhvL29hUajER07dhQzZswQer2+2vcxRafTiYULF4qWLVsKZ2dn0aVLF/H9998btaltAnX567z33nsiJCREODs7i9atW4u//OUvhvOzZs0SPj4+wt3dXYwZM0Z89NFHwsvLSwghhFarFWPHjhXBwcHCxcVFBAUFialTp4rCwkLD9ceOHROPPvqocHd3F25ubuKBBx4wTPw+ePCg6N+/v2jWrJnQaDTigQceEFu2bKmx3q+//lpERkYaav3ggw+MzoeEhIiFCxeKP/7xj8LV1VX4+/uLZcuWGc5v375d9O7dW3h6ego3NzfRp08f8eOPPxrOFxcXi3feeUeEhoYKZ2dnERAQIJ544glx5swZIUTZBOryz2/Kgw8+KACIn376qcq5mr4LIcpWAA4fPlyoVCrRunVrsX79eqOfMSJ7Iwlh5kA1ERERURPEYTIiIiKSNYYhIiIikjWGISIiIpI1hiEiIiKSNYYhIiIikjWGISIiIpI1hiEiIiKSNYYhIiIikjWGISIiIpI1hiEiIiKSNYYhIiIikjWGISIiIpI1hiEiIiKSNYYhIiIikjWGISIiIpI1hiEiIiKSNYYhIiIikjWGISIiIpI1hiEiIiKSNYYhIiIikjWlrQsgoqZDp9OhpKTE1mWQnXJxcYGTE/8fnOwPwxAR1ZsQAllZWbh9+7atSyE75uTkhLCwMLi4uNi6FCIjkhBC2LoIInJsmZmZuH37Nlq0aAFXV1dIkmTrksjO6PV63LhxA87OzmjdujV/RsiusGeIiOpFp9MZgpCPj4+tyyE75ufnhxs3bqC0tBTOzs62LofIgIO3RFQv5XOEXF1dbVwJ2bvy4TGdTmfjSoiMMQwRkVVw2INqw58RslcMQ0RERCRrDENERIQrV65AkiQkJSXZuhSiRscJ1EREMhMbG4vbt29jx44dhmPBwcHIzMyEr6+v7QojshGGISKyC0IIIPcWoNUCKhXg05xzTCoQQkCn00GpbJj/bCsUCgQEBDTIaxPZOw6TEZHNicwsYN9+4OgvwKmksn/u2192vAHp9XosXboUbdu2hUqlQuvWrbF48WIAwNmzZ/HII49Ao9HAx8cHL7zwAgoKCgzXxsbGYtSoUfjrX/+KwMBA+Pj44OWXXzbagXvFihVo164d1Go1/P398dRTT93/zELg/fffR3h4ODQaDbp06YKvv/7acD4+Ph6SJGH37t3o2bMnVCoVVq9eDUmScOHCBaPP8eGHHyI0NNQQmP70pz8hLCwMGo0GHTp0wMcff2xou2DBAqxbtw7/93//B0mSIEkS4uPjjYbJ9Ho9WrVqhc8++8zofU6ePAlJkpCWlgYAyMvLwwsvvIAWLVrA09MTjzzyCE6fPm2FPxmixsUwREQ2JTKzgMSTQFGR8YmiIiDxZIMGorlz52Lp0qWYN28ezp8/j02bNsHf3x/37t3D0KFD0axZMxw/fhxfffUVfvzxR0ydOtXo+v379yM1NRX79+/HunXrsHbtWqxduxYAcOLECUybNg3vvvsuUlJS8MMPP6Bfv36Ga99++22sWbMGK1euxLlz5/Dqq6/i2WefRUJCgtF7zJ49G3FxcUhOTsZTTz2FHj16YOPGjUZtNm3ahHHjxkGSJEOQ+fe//43z58/jnXfewZtvvol///vfAIDXX38df/zjHzF06FBkZmYiMzMTffv2NXo9JycnjB071uT7REdHIzw8HEIIDB8+HFlZWdi1axcSExPRvXt3DBw4ELdu3arXnwtRoxNERPVQWFgozp8/LwoLCy2+Vq/XC/3efUL/zXfVP/buE3q93up15+fnC5VKJVatWlXl3Oeffy6aNWsmCgoKDMe+++474eTkJLKysoQQQkycOFGEhISI0tJSQ5unn35ajBkzRgghxNatW4Wnp6fIz8+v8voFBQVCrVaLw4cPGx3/05/+JJ555hkhhBD79+8XAMSOHTuM2nz44YciPDzc8DwlJUUAEOfOnav2s7700kviySefNDyfOHGiGDlypFGb9PR0AUCcOnVKCCHEyZMnhSRJ4sqVK0IIIXQ6nWjZsqVYvny5EEKIffv2CU9PT1FUVGT0Om3atBH/+Mc/TNZRn58VoobEniEisp3cW1V7hCorKiprZ2XJycnQarUYOHCgyXNdunSBm5ub4dhDDz0EvV6PlJQUw7GoqCgoFArD88DAQGRnZwMAHn30UYSEhCA8PBwTJkzAxo0bce/ePQDA+fPnUVRUhEcffRTu7u6Gx/r165GammpUS8+ePY2ejx07FlevXsXRo0cBABs3bkTXrl0RGRlpaPPZZ5+hZ8+e8PPzg7u7O1atWoWMjAyLvp9u3bqhY8eO+PLLLwEACQkJyM7Oxh//+EcAQGJiIgoKCuDj42P0GdLT06t8BiJ7xwnURGQ7Wq1121lAo9FUe04IUe3k7YrHK99SonyYCgA8PDxw8uRJxMfHY8+ePXjnnXewYMECHD9+3NDmu+++Q8uWLY1eQ6VSGT2vGMiAssAVExODTZs2oU+fPvjyyy/x5z//2XD+3//+N1599VX87W9/Q3R0NDw8PPDBBx/gl19+qfbzVmf8+PHYtGkT3njjDWzatAlDhgwxrDbT6/UIDAxEfHx8leu8vb0tfi8iW2LPEBHZTqVf/PVuZ4F27dpBo9Fg3759Vc5FRkYiKSkJd+/eNRw7dOgQnJyc0L59e7PfQ6lUYtCgQXj//fdx5swZXLlyBT/99BMiIyOhUqmQkZGBtm3bGj2Cg4Nrfd3x48djy5YtOHLkCFJTUzF27FjDuYMHD6Jv37546aWX0K1bN7Rt27ZKT42Li4tZt8QYN24czp49i8TERHz99dcYP3684Vz37t2RlZUFpVJZ5TNweT45GvYMEZHt+DQH1Oqah8rU6rJ2VqZWqzFnzhzMnj0bLi4ueOihh3Dz5k2cO3cO48ePx/z58zFx4kQsWLAAN2/exCuvvIIJEybA39/frNf/9ttvkZaWhn79+qFZs2bYtWsX9Ho9OnToAA8PD7z++ut49dVXodfr8fDDDyM/Px+HDx+Gu7s7Jk6cWONrjx49Gi+++CJefPFFxMTEGPUutW3bFuvXr8fu3bsRFhaGf/3rXzh+/DjCwsIMbUJDQ7F7926kpKTAx8cHXl5eJt8nLCwMffv2xZ/+9CeUlpZi5MiRhnODBg1CdHQ0Ro0ahaVLl6JDhw64ceMGdu3ahVGjRlUZ3iOyZ+wZIiKbkSQJiIqsuVFUZIPtNzRv3jy89tpreOeddxAREYExY8YgOzsbrq6u2L17N27duoUHH3wQTz31FAYOHIhPP/3U7Nf29vbGtm3b8MgjjyAiIgKfffYZvvzyS0RFRQEAFi1ahHfeeQdxcXGIiIjAkCFD8M033xiFlup4enpixIgROH36tFFvDQBMmTIFo0ePxpgxY9C7d2/k5ubipZdeMmozefJkdOjQwTCv6NChQ9W+1/jx43H69GmMHj3aaGhRkiTs2rUL/fr1w6RJk9C+fXuMHTsWV65cMTswEtkLSQghbF0EETmuoqIipKenIywsDGq1uk6vITKzgHPnjXuI1OqyIBTIjQCbCmv8rBA1BA6TEZHNSYEBEAH+3IGaiGyCYYiI7IIkSYCvj63LICIZ4pwhIiIikjWGISIiIpI1hiEiIiKSNYYhIiIikjWGISIiIpI1hiEiIiKSNYYhIpKtAQMGYMaMGQDKblGxbNkywzlJkrBjxw6b1BUfHw9JknD79m2bvD+R3HCfISIiAMePH69yh3gikgeGISIiAH5+fg3+HsXFxXBxcWnw9yEiy3CYjIjsghAC90pv405JNu6V3kZj3zax8jAZAGRmZmLYsGHQaDQICwvDV199ZXT++vXrGDNmDJo1awYfHx+MHDkSV65cMZyPjY3FqFGjEBcXh6CgILRv3x4AsGHDBvTs2RMeHh4ICAjAuHHjkJ2d3dAfkYiqwTBERDZXUJKDK3eP4XrhWWQVpeB64VlcuXsMBSU5Nq1r3rx5ePLJJ3H69Gk8++yzeOaZZ5CcnAwAuHfvHmJiYuDu7o4DBw7g559/hru7O4YOHYri4mLDa+zbtw/JycnYu3cvvv32WwBlPUSLFi3C6dOnsWPHDqSnpyM2NtYWH5GIwGEyIrKxgpIcZBYlVzleKoqRWZSMQETA3dnXBpUBTz/9NJ5//nkAwKJFi7B37178/e9/x4oVK7B582Y4OTnhiy++MNxQds2aNfD29kZ8fDwGDx4MAHBzc8MXX3xhNDw2adIkw7+Hh4fjk08+Qa9evVBQUAB3d/dG/IREBLBniIhsSAiBm9rUGtvc1KY1+pBZuejo6CrPy3uGEhMTcfnyZXh4eMDd3R3u7u5o3rw5ioqKkJp6/zN17ty5yjyhU6dOYeTIkQgJCYGHhwcGDBgAAMjIyGjYD0REJrFniIhsplCXh1JRXGObUqFFoS4PrkrvximqFuW9QHq9Hj169MDGjRurtKk4GbvyCrW7d+9i8ODBGDx4MDZs2AA/Pz9kZGRgyJAhRsNrRNR4GIaIyGZ0tQQhS9tZ29GjR/Hcc88ZPe/WrRsAoHv37tiyZQtatGgBT09Ps1/zwoULyMnJwZIlSxAcHAwAOHHihHULJyKLcJiMiGxGIZm3zNzcdtb21Vdf4Z///CcuXryI+fPn49ixY5g6dSoAYPz48fD19cXIkSNx8OBBpKenIyEhAdOnT8d//vOfal+zdevWcHFxwd///nekpaVh586dWLRoUWN9JCIygWGIiGxGo/CCspago5RU0Ci8GqkiYwsXLsTmzZvxwAMPYN26ddi4cSMiIyMBAK6urjhw4ABat26N0aNHIyIiApMmTUJhYWGNPUV+fn5Yu3YtvvrqK0RGRmLJkiX461//2lgfiYhMkIStZiYSUZNQVFSE9PR0hIWFQa1WW3x9davJygWqbbeajKyrvj8rRA2FPUNEZFPuzr4IVEdU6SFSSioGISJqFJxATUQ25+7sCzelDwp1edCJYigkF2gUXoaVW0REDYlhiIjsgiRJdrN8nojkhcNkREREJGsMQ0RERCRrDENEZBVcmEq14c8I2SuGISKqF2dnZwBld3Enqkn57UYUCoWNKyEyxgnURFQvCoUC3t7eyM7OBlC2GSFXgVFler0eN2/ehKurK5RK/uoh+8KfSCKqt4CAAAAwBCIiU5ycnNC6dWuGZbI73IGaiKxGp9OhpKTE1mWQnXJxcYGTE2dnkP1hGCIiIiJZY0QnIiIiWWMYIiIiIlljGCIiIiJZYxgiIiIiWWMYIiIiIlljGCIiIiJZYxgiIiIiWft/gR2jWCUmICAAAAAASUVORK5CYII=",
=======
      "image/png": "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",
>>>>>>> 74cdbbe0f09637b9981b0198e116947092911304
      "text/plain": [
       "<Figure size 640x480 with 1 Axes>"
      ]
     },
     "metadata": {},
     "output_type": "display_data"
    }
   ],
   "source": [
    "# learn thresholds for each of the selected justices using the filtered data\n",
    "sel_justices_list = ['SAAlito', 'JGRoberts', 'SSotomayor']\n",
    "\n",
    "for i in range(len(sel_justices_list)):\n",
    "    # identify cases for only this justice\n",
    "    justice_name = sel_justices_list[i]\n",
    "    # learn the threshold (i.e., apply the threshold alg)\n",
    "    y_real = y[justice_name][y[justice_name] != 0].values\n",
    "    y_pred_justice = y_pred[:,i][y[justice_name] != 0]\n",
    "    judge_threshold_min, judge_threshold_max, observed_thresholds, cons_votes = learningWeightedThresholds(i, y_real, \n",
    "                                                                                                           y_pred_justice)\n",
    "    # plot data\n",
    "    df_plot = pd.DataFrame({'observed_thresholds': observed_thresholds, 'votes': cons_votes})\n",
    "    plotWeightedAmicusThresholds(df_plot, justice_name)\n",
    "    plt.show();"
   ]
  },
  {
   "cell_type": "code",
   "execution_count": 686,
   "metadata": {},
   "outputs": [
    {
     "data": {
      "image/png": "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",
      "text/plain": [
       "<Figure size 640x480 with 1 Axes>"
      ]
     },
     "metadata": {},
     "output_type": "display_data"
    },
    {
     "data": {
      "image/png": "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",
      "text/plain": [
       "<Figure size 640x480 with 1 Axes>"
      ]
     },
     "metadata": {},
     "output_type": "display_data"
    },
    {
     "data": {
      "image/png": "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",
      "text/plain": [
       "<Figure size 640x480 with 1 Axes>"
      ]
     },
     "metadata": {},
     "output_type": "display_data"
    }
   ],
   "source": [
    "# learn thresholds for each of the selected justices using the filtered data\n",
    "sel_justices_list = ['SAAlito', 'JGRoberts', 'SSotomayor']\n",
    "\n",
    "for i in range(len(sel_justices_list)):\n",
    "    # identify cases for only this justice\n",
    "    justice_name = sel_justices_list[i]\n",
    "    # learn the threshold (i.e., apply the threshold alg)\n",
    "    y_real = y[justice_name][y[justice_name] != 0].values\n",
    "    y_pred_justice = y_pred[:,i][y[justice_name] != 0]\n",
    "    judge_threshold_min, judge_threshold_max, observed_thresholds, cons_votes = learningWeightedThresholds(i, y_real, \n",
    "                                                                                                           y_pred_justice)\n",
    "    # plot data\n",
    "    df_plot = pd.DataFrame({'observed_thresholds': (np.array(observed_thresholds) - \\\n",
    "                                                    min(np.array(observed_thresholds)))/(max(np.array(observed_thresholds))-min(np.array(observed_thresholds))), 'votes': cons_votes})\n",
    "    plotWeightedAmicusThresholds(df_plot, justice_name, normalize=True)\n",
    "    plt.show();"
   ]
  },
  {
   "cell_type": "markdown",
   "metadata": {},
   "source": [
    "## Test Baseline"
   ]
  },
  {
   "cell_type": "code",
   "execution_count": 433,
   "metadata": {},
   "outputs": [],
   "source": [
    "def plotBaselineWeightedAmicusThresholds(df, selected_judge, weighted=False):\n",
    "    df = df.sort_values('observed_thresholds', ascending=False).reset_index(drop=True)\n",
    "    \n",
    "    # plot data of thresholds\n",
    "    plt.scatter(df.loc[df['votes']==True].index,\n",
    "                df.loc[df['votes']==True, 'observed_thresholds'],\n",
    "            color = red_fill)\n",
    "    plt.scatter(df.loc[df['votes']==False].index,\n",
    "                df.loc[df['votes']==False, 'observed_thresholds'],\n",
    "                color = green_fill,\n",
    "                alpha=1)\n",
    "    plt.legend([\"conservative\", \"liberal\"], bbox_to_anchor=(0.7, -0.15))\n",
    "    plt.xticks(\n",
    "        np.arange(0, len(judge_threshold_min), 10)\n",
    "    )\n",
    "    plt.ylabel('Weighted threshold)')\n",
    "    plt.xlabel('Number of cases observed')\n",
    "    plt.savefig(f'./plots/{selected_judge}_baseline_weighted_threshold.pdf', bbox_inches='tight')"
   ]
  },
  {
   "cell_type": "code",
   "execution_count": 434,
   "metadata": {},
   "outputs": [
    {
     "name": "stdout",
     "output_type": "stream",
     "text": [
      "188\n"
     ]
    },
    {
     "name": "stderr",
     "output_type": "stream",
     "text": [
      "/var/folders/f0/6vfjbpt92xx7fmgtqc2lzy8w0000gn/T/ipykernel_7215/1962859096.py:30: RuntimeWarning: invalid value encountered in divide\n",
      "  cumulative_agreement_freqs = np.cumsum(agreement_indicator, axis=0) / np.cumsum(both_present, axis=0)#np.arange(1, len(overlap)+1)\n",
      "/var/folders/f0/6vfjbpt92xx7fmgtqc2lzy8w0000gn/T/ipykernel_7215/1962859096.py:44: RuntimeWarning: invalid value encountered in divide\n",
      "  weight_mat = np.nan_to_num(weight_mat / np.sum(weight_mat, axis=1)[:, np.newaxis])\n"
     ]
    },
    {
     "data": {
      "image/png": "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",
      "text/plain": [
       "<Figure size 640x480 with 1 Axes>"
      ]
     },
     "metadata": {},
     "output_type": "display_data"
    },
    {
     "name": "stdout",
     "output_type": "stream",
     "text": [
      "329\n"
     ]
    },
    {
     "name": "stderr",
     "output_type": "stream",
     "text": [
      "/var/folders/f0/6vfjbpt92xx7fmgtqc2lzy8w0000gn/T/ipykernel_7215/1962859096.py:30: RuntimeWarning: invalid value encountered in divide\n",
      "  cumulative_agreement_freqs = np.cumsum(agreement_indicator, axis=0) / np.cumsum(both_present, axis=0)#np.arange(1, len(overlap)+1)\n",
      "/var/folders/f0/6vfjbpt92xx7fmgtqc2lzy8w0000gn/T/ipykernel_7215/1962859096.py:44: RuntimeWarning: invalid value encountered in divide\n",
      "  weight_mat = np.nan_to_num(weight_mat / np.sum(weight_mat, axis=1)[:, np.newaxis])\n"
     ]
    },
    {
     "data": {
      "image/png": "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",
      "text/plain": [
       "<Figure size 640x480 with 1 Axes>"
      ]
     },
     "metadata": {},
     "output_type": "display_data"
    },
    {
     "name": "stdout",
     "output_type": "stream",
     "text": [
      "345\n"
     ]
    },
    {
     "name": "stderr",
     "output_type": "stream",
     "text": [
      "/var/folders/f0/6vfjbpt92xx7fmgtqc2lzy8w0000gn/T/ipykernel_7215/1962859096.py:30: RuntimeWarning: invalid value encountered in divide\n",
      "  cumulative_agreement_freqs = np.cumsum(agreement_indicator, axis=0) / np.cumsum(both_present, axis=0)#np.arange(1, len(overlap)+1)\n",
      "/var/folders/f0/6vfjbpt92xx7fmgtqc2lzy8w0000gn/T/ipykernel_7215/1962859096.py:44: RuntimeWarning: invalid value encountered in divide\n",
      "  weight_mat = np.nan_to_num(weight_mat / np.sum(weight_mat, axis=1)[:, np.newaxis])\n"
     ]
    },
    {
     "data": {
      "image/png": "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",
      "text/plain": [
       "<Figure size 640x480 with 1 Axes>"
      ]
     },
     "metadata": {},
     "output_type": "display_data"
    }
   ],
   "source": [
    "# learn thresholds for each of the selected justices using the filtered data\n",
    "sel_justices_list = ['SAAlito', 'JGRoberts', 'SSotomayor']\n",
    "\n",
    "for i in range(len(sel_justices_list)):\n",
    "    # identify cases for only this justice\n",
    "    justice_name = sel_justices_list[i]\n",
    "    # learn the threshold (i.e., apply the threshold alg)\n",
    "\n",
    "    print(len(y_real))\n",
    "    y_real = y[justice_name][y[justice_name] != 0].values\n",
    "    justice_weight_matrix = overall_agreement(opinion_df, justice_name)\n",
    "    y_pred_justice = predict(justice_weight_matrix, opinion_df[amici_cols])[y[justice_name] != 0]\n",
    "\n",
    "    judge_threshold_min, judge_threshold_max, observed_thresholds, cons_votes = learningWeightedThresholds(i, y_real, \n",
    "                                                                                                           y_pred_justice)\n",
    "    # plot data\n",
    "    df_plot = pd.DataFrame({'observed_thresholds': observed_thresholds, 'votes': cons_votes})\n",
    "    plotBaselineWeightedAmicusThresholds(df_plot, justice_name, weighted=True)\n",
    "    plt.show();\n"
   ]
  },
  {
   "cell_type": "code",
   "execution_count": null,
   "metadata": {},
   "outputs": [],
   "source": []
  }
 ],
 "metadata": {
  "kernelspec": {
   "display_name": "base",
   "language": "python",
   "name": "python3"
  },
  "language_info": {
   "codemirror_mode": {
    "name": "ipython",
    "version": 3
   },
   "file_extension": ".py",
   "mimetype": "text/x-python",
   "name": "python",
   "nbconvert_exporter": "python",
   "pygments_lexer": "ipython3",
   "version": "3.11.5"
  }
 },
 "nbformat": 4,
 "nbformat_minor": 2
}
