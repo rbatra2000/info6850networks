{
 "cells": [
  {
   "cell_type": "code",
   "execution_count": 8,
   "metadata": {},
   "outputs": [],
   "source": [
    "# import libraries\n",
    "import pandas as pd\n",
    "import networkx as nx\n",
    "from pyvis.network import Network\n",
    "import numpy as np\n",
    "import matplotlib.pyplot as plt"
   ]
  },
  {
   "cell_type": "markdown",
   "metadata": {},
   "source": [
    "# Load Data and Create Network"
   ]
  },
  {
   "cell_type": "code",
   "execution_count": 9,
   "metadata": {},
   "outputs": [
    {
     "data": {
      "text/html": [
       "<div>\n",
       "<style scoped>\n",
       "    .dataframe tbody tr th:only-of-type {\n",
       "        vertical-align: middle;\n",
       "    }\n",
       "\n",
       "    .dataframe tbody tr th {\n",
       "        vertical-align: top;\n",
       "    }\n",
       "\n",
       "    .dataframe thead th {\n",
       "        text-align: right;\n",
       "    }\n",
       "</style>\n",
       "<table border=\"1\" class=\"dataframe\">\n",
       "  <thead>\n",
       "    <tr style=\"text-align: right;\">\n",
       "      <th></th>\n",
       "      <th>LexisCite</th>\n",
       "      <th>Position</th>\n",
       "      <th>AmicusName</th>\n",
       "    </tr>\n",
       "  </thead>\n",
       "  <tbody>\n",
       "    <tr>\n",
       "      <th>0</th>\n",
       "      <td>1953 U.S. LEXIS 2673</td>\n",
       "      <td>1</td>\n",
       "      <td>SECURITIES AND EXCHANGE COMMISSION</td>\n",
       "    </tr>\n",
       "    <tr>\n",
       "      <th>1</th>\n",
       "      <td>1953 U.S. LEXIS 2680</td>\n",
       "      <td>2</td>\n",
       "      <td>BOSTON AMERICAN LEAGUE BASE BALL COMPANY</td>\n",
       "    </tr>\n",
       "    <tr>\n",
       "      <th>2</th>\n",
       "      <td>1954 U.S. LEXIS 2094</td>\n",
       "      <td>1</td>\n",
       "      <td>AMERICAN FEDERATION OF TEACHERS</td>\n",
       "    </tr>\n",
       "    <tr>\n",
       "      <th>3</th>\n",
       "      <td>1954 U.S. LEXIS 2094</td>\n",
       "      <td>1</td>\n",
       "      <td>UNITED STATES</td>\n",
       "    </tr>\n",
       "    <tr>\n",
       "      <th>4</th>\n",
       "      <td>1954 U.S. LEXIS 2094</td>\n",
       "      <td>1</td>\n",
       "      <td>AMERICAN JEWISH CONGRESS</td>\n",
       "    </tr>\n",
       "  </tbody>\n",
       "</table>\n",
       "</div>"
      ],
      "text/plain": [
       "              LexisCite  Position                                AmicusName\n",
       "0  1953 U.S. LEXIS 2673         1        SECURITIES AND EXCHANGE COMMISSION\n",
       "1  1953 U.S. LEXIS 2680         2  BOSTON AMERICAN LEAGUE BASE BALL COMPANY\n",
       "2  1954 U.S. LEXIS 2094         1           AMERICAN FEDERATION OF TEACHERS\n",
       "3  1954 U.S. LEXIS 2094         1                             UNITED STATES\n",
       "4  1954 U.S. LEXIS 2094         1                  AMERICAN JEWISH CONGRESS"
      ]
     },
     "execution_count": 9,
     "metadata": {},
     "output_type": "execute_result"
    }
   ],
   "source": [
    "# now let's iterate through our amicus briefs and store the lexisCite, position, and amicus name\n",
    "# data from https://amicispace.ucmerced.edu/data\n",
    "amicus_briefs_csv = pd.read_csv(\"amicus_briefs.csv\", encoding=\"latin\")\n",
    "amicus_briefs_csv = amicus_briefs_csv[[\"LexisCite\", \"Position\", \"AmicusName\"]]\n",
    "amicus_briefs_csv.head(5)"
   ]
  },
  {
   "cell_type": "code",
   "execution_count": 10,
   "metadata": {},
   "outputs": [
    {
     "data": {
      "text/plain": [
       "<Axes: >"
      ]
     },
     "execution_count": 10,
     "metadata": {},
     "output_type": "execute_result"
    },
    {
     "data": {
      "image/png": "[encoded data removed]",
      "text/plain": [
       "<Figure size 640x480 with 1 Axes>"
      ]
     },
     "metadata": {},
     "output_type": "display_data"
    }
   ],
   "source": [
    "amicus_briefs_csv.groupby('LexisCite')['Position'].mean().hist()"
   ]
  },
  {
   "cell_type": "code",
   "execution_count": 11,
   "metadata": {},
   "outputs": [
    {
     "data": {
      "text/plain": [
       "0.007130397137654863"
      ]
     },
     "execution_count": 11,
     "metadata": {},
     "output_type": "execute_result"
    }
   ],
   "source": [
    "# some perfect duplicates -- drop?\n",
    "amicus_briefs_csv.duplicated().mean()"
   ]
  },
  {
   "cell_type": "code",
   "execution_count": 12,
   "metadata": {},
   "outputs": [],
   "source": [
    "# drop perfect duplicates\n",
    "amicus_briefs_csv = amicus_briefs_csv.drop_duplicates()"
   ]
  },
  {
   "cell_type": "code",
   "execution_count": 13,
   "metadata": {},
   "outputs": [
    {
     "data": {
      "text/plain": [
       "Position\n",
       "1    36942\n",
       "2    38977\n",
       "3     2058\n",
       "Name: count, dtype: int64"
      ]
     },
     "execution_count": 13,
     "metadata": {},
     "output_type": "execute_result"
    }
   ],
   "source": [
    "# position variable in amicus briefs\n",
    "# = 1 if the brief argues the lower court decision should be reversed\n",
    "# = 2 if lower court decision should be affirmed\n",
    "# = 3 if the brief explicitly does not adopt a position or the position is unclear\n",
    "amicus_briefs_csv[\"Position\"].value_counts().sort_index()"
   ]
  },
  {
   "cell_type": "code",
   "execution_count": 14,
   "metadata": {},
   "outputs": [
    {
     "data": {
      "text/plain": [
       "0.0"
      ]
     },
     "execution_count": 14,
     "metadata": {},
     "output_type": "execute_result"
    }
   ],
   "source": [
    "amicus_briefs_csv[\"Position\"].isna().mean()  # no missing values!"
   ]
  },
  {
   "cell_type": "code",
   "execution_count": 15,
   "metadata": {},
   "outputs": [
    {
     "name": "stderr",
     "output_type": "stream",
     "text": [
      "C:\\Users\\Jennah\\AppData\\Local\\Temp\\ipykernel_16772\\61716743.py:3: DtypeWarning: Columns (6,16) have mixed types. Specify dtype option on import or set low_memory=False.\n",
      "  justices_csv = pd.read_csv(\"justices.csv\", encoding=\"latin\")\n"
     ]
    },
    {
     "data": {
      "text/html": [
       "<div>\n",
       "<style scoped>\n",
       "    .dataframe tbody tr th:only-of-type {\n",
       "        vertical-align: middle;\n",
       "    }\n",
       "\n",
       "    .dataframe tbody tr th {\n",
       "        vertical-align: top;\n",
       "    }\n",
       "\n",
       "    .dataframe thead th {\n",
       "        text-align: right;\n",
       "    }\n",
       "</style>\n",
       "<table border=\"1\" class=\"dataframe\">\n",
       "  <thead>\n",
       "    <tr style=\"text-align: right;\">\n",
       "      <th></th>\n",
       "      <th>lexisCite</th>\n",
       "      <th>justiceName</th>\n",
       "      <th>vote</th>\n",
       "      <th>caseName</th>\n",
       "      <th>caseDisposition</th>\n",
       "      <th>lcDispositionDirection</th>\n",
       "      <th>direction</th>\n",
       "    </tr>\n",
       "  </thead>\n",
       "  <tbody>\n",
       "    <tr>\n",
       "      <th>0</th>\n",
       "      <td>1946 U.S. LEXIS 1724</td>\n",
       "      <td>HHBurton</td>\n",
       "      <td>2.0</td>\n",
       "      <td>HALLIBURTON OIL WELL CEMENTING CO. v. WALKER e...</td>\n",
       "      <td>3.0</td>\n",
       "      <td>1.0</td>\n",
       "      <td>1.0</td>\n",
       "    </tr>\n",
       "    <tr>\n",
       "      <th>1</th>\n",
       "      <td>1946 U.S. LEXIS 1724</td>\n",
       "      <td>RHJackson</td>\n",
       "      <td>1.0</td>\n",
       "      <td>HALLIBURTON OIL WELL CEMENTING CO. v. WALKER e...</td>\n",
       "      <td>3.0</td>\n",
       "      <td>1.0</td>\n",
       "      <td>2.0</td>\n",
       "    </tr>\n",
       "    <tr>\n",
       "      <th>2</th>\n",
       "      <td>1946 U.S. LEXIS 1724</td>\n",
       "      <td>WODouglas</td>\n",
       "      <td>1.0</td>\n",
       "      <td>HALLIBURTON OIL WELL CEMENTING CO. v. WALKER e...</td>\n",
       "      <td>3.0</td>\n",
       "      <td>1.0</td>\n",
       "      <td>2.0</td>\n",
       "    </tr>\n",
       "    <tr>\n",
       "      <th>3</th>\n",
       "      <td>1946 U.S. LEXIS 1724</td>\n",
       "      <td>FFrankfurter</td>\n",
       "      <td>4.0</td>\n",
       "      <td>HALLIBURTON OIL WELL CEMENTING CO. v. WALKER e...</td>\n",
       "      <td>3.0</td>\n",
       "      <td>1.0</td>\n",
       "      <td>2.0</td>\n",
       "    </tr>\n",
       "    <tr>\n",
       "      <th>4</th>\n",
       "      <td>1946 U.S. LEXIS 1724</td>\n",
       "      <td>SFReed</td>\n",
       "      <td>1.0</td>\n",
       "      <td>HALLIBURTON OIL WELL CEMENTING CO. v. WALKER e...</td>\n",
       "      <td>3.0</td>\n",
       "      <td>1.0</td>\n",
       "      <td>2.0</td>\n",
       "    </tr>\n",
       "  </tbody>\n",
       "</table>\n",
       "</div>"
      ],
      "text/plain": [
       "              lexisCite   justiceName  vote  \\\n",
       "0  1946 U.S. LEXIS 1724      HHBurton   2.0   \n",
       "1  1946 U.S. LEXIS 1724     RHJackson   1.0   \n",
       "2  1946 U.S. LEXIS 1724     WODouglas   1.0   \n",
       "3  1946 U.S. LEXIS 1724  FFrankfurter   4.0   \n",
       "4  1946 U.S. LEXIS 1724        SFReed   1.0   \n",
       "\n",
       "                                            caseName  caseDisposition  \\\n",
       "0  HALLIBURTON OIL WELL CEMENTING CO. v. WALKER e...              3.0   \n",
       "1  HALLIBURTON OIL WELL CEMENTING CO. v. WALKER e...              3.0   \n",
       "2  HALLIBURTON OIL WELL CEMENTING CO. v. WALKER e...              3.0   \n",
       "3  HALLIBURTON OIL WELL CEMENTING CO. v. WALKER e...              3.0   \n",
       "4  HALLIBURTON OIL WELL CEMENTING CO. v. WALKER e...              3.0   \n",
       "\n",
       "   lcDispositionDirection  direction  \n",
       "0                     1.0        1.0  \n",
       "1                     1.0        2.0  \n",
       "2                     1.0        2.0  \n",
       "3                     1.0        2.0  \n",
       "4                     1.0        2.0  "
      ]
     },
     "execution_count": 15,
     "metadata": {},
     "output_type": "execute_result"
    }
   ],
   "source": [
    "# let's now get the justices and their votes for each case (identified by LexisCite and caseName)\n",
    "# data from http://scdb.wustl.edu/documentation.php\n",
    "justices_csv = pd.read_csv(\"justices.csv\", encoding=\"latin\")\n",
    "justices_csv = justices_csv[\n",
    "    [\n",
    "        \"lexisCite\",\n",
    "        \"justiceName\",\n",
    "        \"vote\",\n",
    "        \"caseName\",\n",
    "        \"caseDisposition\",\n",
    "        \"lcDispositionDirection\",\n",
    "        \"direction\",\n",
    "    ]\n",
    "]\n",
    "justices_csv.head(5)"
   ]
  },
  {
   "cell_type": "code",
   "execution_count": 16,
   "metadata": {},
   "outputs": [],
   "source": [
    "# drop perfect duplicates\n",
    "justices_csv = justices_csv.drop_duplicates()"
   ]
  },
  {
   "cell_type": "code",
   "execution_count": 17,
   "metadata": {},
   "outputs": [
    {
     "data": {
      "text/plain": [
       "vote\n",
       "1.0    57671\n",
       "2.0    14056\n",
       "3.0     3039\n",
       "4.0     3627\n",
       "5.0      256\n",
       "6.0       20\n",
       "7.0      390\n",
       "8.0      924\n",
       "Name: count, dtype: int64"
      ]
     },
     "execution_count": 17,
     "metadata": {},
     "output_type": "execute_result"
    }
   ],
   "source": [
    "# note the values of votes:\n",
    "# Values:\n",
    "# 1\tvoted with majority or plurality\n",
    "# 2\tdissent\n",
    "# 3\tregular concurrence\n",
    "# 4\tspecial concurrence\n",
    "# 5\tjudgment of the Court\n",
    "# 6\tdissent from a denial or dismissal of certiorari , or dissent from summary affirmation of an appeal\n",
    "# 7\tjurisdictional dissent\n",
    "# 8\tjustice participated in an equally divided vote\n",
    "justices_csv[\"vote\"].value_counts().sort_index()"
   ]
  },
  {
   "cell_type": "code",
   "execution_count": 18,
   "metadata": {},
   "outputs": [
    {
     "data": {
      "text/plain": [
       "8907"
      ]
     },
     "execution_count": 18,
     "metadata": {},
     "output_type": "execute_result"
    }
   ],
   "source": [
    "justices_csv[\"caseName\"].unique().shape[0]"
   ]
  },
  {
   "cell_type": "code",
   "execution_count": 19,
   "metadata": {},
   "outputs": [
    {
     "data": {
      "text/plain": [
       "0.024680819930005975"
      ]
     },
     "execution_count": 19,
     "metadata": {},
     "output_type": "execute_result"
    }
   ],
   "source": [
    "justices_csv[\n",
    "    \"vote\"\n",
    "].isna().mean()  # votes are missing in about 2% of cases -- should we drop these?"
   ]
  },
  {
   "cell_type": "code",
   "execution_count": 20,
   "metadata": {},
   "outputs": [
    {
     "data": {
      "text/plain": [
       "direction\n",
       "1.0    36635\n",
       "2.0    40699\n",
       "Name: count, dtype: int64"
      ]
     },
     "execution_count": 20,
     "metadata": {},
     "output_type": "execute_result"
    }
   ],
   "source": [
    "# direction is the \"Direction of the Individual Justice's Votes\"\n",
    "# 1 = conservative\n",
    "# 2 = liberal\n",
    "justices_csv[\"direction\"].value_counts().sort_index()"
   ]
  },
  {
   "cell_type": "code",
   "execution_count": 21,
   "metadata": {},
   "outputs": [
    {
     "data": {
      "text/plain": [
       "0.05698294048069067"
      ]
     },
     "execution_count": 21,
     "metadata": {},
     "output_type": "execute_result"
    }
   ],
   "source": [
    "#  A missing value code indicates that the decisionDirection was unspecifiable or that that justice did not participate.\n",
    "justices_csv[\n",
    "    \"direction\"\n",
    "].isna().mean()  # direction is missing in about 5% of justice/case combinations"
   ]
  },
  {
   "cell_type": "code",
   "execution_count": 22,
   "metadata": {},
   "outputs": [
    {
     "data": {
      "text/plain": [
       "justiceName  lexisCite           \n",
       "WODouglas    1974 U.S. LEXIS 102     2\n",
       "SFReed       1955 U.S. LEXIS 1542    1\n",
       "             1955 U.S. LEXIS 602     1\n",
       "             1955 U.S. LEXIS 601     1\n",
       "             1955 U.S. LEXIS 37      1\n",
       "                                    ..\n",
       "HHBurton     1948 U.S. LEXIS 2110    1\n",
       "             1948 U.S. LEXIS 2086    1\n",
       "             1948 U.S. LEXIS 2085    1\n",
       "             1948 U.S. LEXIS 2084    1\n",
       "WODouglas    1975 U.S. LEXIS 93      1\n",
       "Name: count, Length: 82006, dtype: int64"
      ]
     },
     "execution_count": 22,
     "metadata": {},
     "output_type": "execute_result"
    }
   ],
   "source": [
    "justices_csv[[\"justiceName\", \"lexisCite\"]].value_counts()  # why are there duplicates?"
   ]
  },
  {
   "cell_type": "code",
   "execution_count": 23,
   "metadata": {},
   "outputs": [
    {
     "data": {
      "text/html": [
       "<div>\n",
       "<style scoped>\n",
       "    .dataframe tbody tr th:only-of-type {\n",
       "        vertical-align: middle;\n",
       "    }\n",
       "\n",
       "    .dataframe tbody tr th {\n",
       "        vertical-align: top;\n",
       "    }\n",
       "\n",
       "    .dataframe thead th {\n",
       "        text-align: right;\n",
       "    }\n",
       "</style>\n",
       "<table border=\"1\" class=\"dataframe\">\n",
       "  <thead>\n",
       "    <tr style=\"text-align: right;\">\n",
       "      <th></th>\n",
       "      <th>lexisCite</th>\n",
       "      <th>justiceName</th>\n",
       "      <th>vote</th>\n",
       "      <th>caseName</th>\n",
       "      <th>caseDisposition</th>\n",
       "      <th>lcDispositionDirection</th>\n",
       "      <th>direction</th>\n",
       "    </tr>\n",
       "  </thead>\n",
       "  <tbody>\n",
       "    <tr>\n",
       "      <th>33240</th>\n",
       "      <td>1974 U.S. LEXIS 102</td>\n",
       "      <td>WODouglas</td>\n",
       "      <td>2.0</td>\n",
       "      <td>MISSISSIPPI v. ARKANSAS</td>\n",
       "      <td>NaN</td>\n",
       "      <td>NaN</td>\n",
       "      <td>NaN</td>\n",
       "    </tr>\n",
       "    <tr>\n",
       "      <th>33249</th>\n",
       "      <td>1974 U.S. LEXIS 102</td>\n",
       "      <td>WODouglas</td>\n",
       "      <td>1.0</td>\n",
       "      <td>MISSISSIPPI v. ARKANSAS</td>\n",
       "      <td>NaN</td>\n",
       "      <td>NaN</td>\n",
       "      <td>NaN</td>\n",
       "    </tr>\n",
       "  </tbody>\n",
       "</table>\n",
       "</div>"
      ],
      "text/plain": [
       "                 lexisCite justiceName  vote                 caseName  \\\n",
       "33240  1974 U.S. LEXIS 102   WODouglas   2.0  MISSISSIPPI v. ARKANSAS   \n",
       "33249  1974 U.S. LEXIS 102   WODouglas   1.0  MISSISSIPPI v. ARKANSAS   \n",
       "\n",
       "       caseDisposition  lcDispositionDirection  direction  \n",
       "33240              NaN                     NaN        NaN  \n",
       "33249              NaN                     NaN        NaN  "
      ]
     },
     "execution_count": 23,
     "metadata": {},
     "output_type": "execute_result"
    }
   ],
   "source": [
    "# drop case with contradictory votes or check online to corroborate?\n",
    "justices_csv[\n",
    "    justices_csv[[\"justiceName\", \"lexisCite\"]].duplicated(keep=False)\n",
    "].sort_values([\"lexisCite\", \"justiceName\"])"
   ]
  },
  {
   "cell_type": "code",
   "execution_count": 24,
   "metadata": {},
   "outputs": [
    {
     "data": {
      "text/plain": [
       "caseDisposition\n",
       "1.0       421\n",
       "2.0     24302\n",
       "3.0     17954\n",
       "4.0     22277\n",
       "5.0     10045\n",
       "6.0       683\n",
       "7.0      1508\n",
       "8.0       303\n",
       "9.0      3204\n",
       "10.0      116\n",
       "11.0        9\n",
       "Name: count, dtype: int64"
      ]
     },
     "execution_count": 24,
     "metadata": {},
     "output_type": "execute_result"
    }
   ],
   "source": [
    "# for final case decision:\n",
    "# 1\tstay, petition, or motion granted\n",
    "# 2\taffirmed (includes modified)\n",
    "# 3\treversed\n",
    "# 4\treversed and remanded\n",
    "# 5\tvacated and remanded\n",
    "# 6\taffirmed and reversed (or vacated) in part\n",
    "# 7\taffirmed and reversed (or vacated) in part and remanded\n",
    "# 8\tvacated\n",
    "# 9\tpetition denied or appeal dismissed\n",
    "# 10\tcertification to or from a lower court\n",
    "# 11\tno disposition\n",
    "\n",
    "# do we want to drop any of these where the case disposition seems like it would be tricky...\n",
    "# or does it matter less because we care mostly about judge voting behavior?\n",
    "justices_csv[\"caseDisposition\"].value_counts().sort_index()"
   ]
  },
  {
   "cell_type": "code",
   "execution_count": 25,
   "metadata": {},
   "outputs": [
    {
     "data": {
      "text/plain": [
       "0.014449985976806858"
      ]
     },
     "execution_count": 25,
     "metadata": {},
     "output_type": "execute_result"
    }
   ],
   "source": [
    "justices_csv[\"caseDisposition\"].isna().mean()  # around 1% are missing case disposition"
   ]
  },
  {
   "cell_type": "markdown",
   "metadata": {},
   "source": [
    "## Create Dictionary for Generating Network"
   ]
  },
  {
   "cell_type": "code",
   "execution_count": 26,
   "metadata": {},
   "outputs": [
    {
     "data": {
      "text/plain": [
       "[('1953 U.S. LEXIS 2673', [('SECURITIES AND EXCHANGE COMMISSION', 1)]),\n",
       " ('1953 U.S. LEXIS 2680', [('BOSTON AMERICAN LEAGUE BASE BALL COMPANY', 2)]),\n",
       " ('1954 U.S. LEXIS 2094',\n",
       "  [('AMERICAN FEDERATION OF TEACHERS', 1),\n",
       "   ('UNITED STATES', 1),\n",
       "   ('AMERICAN JEWISH CONGRESS', 1),\n",
       "   ('AMERICAN VETERANS COMMITTEE', 1),\n",
       "   ('AMERICAN ETHICAL UNION', 1),\n",
       "   ('AMERICAN JEWISH COMMITTEE', 1),\n",
       "   ('ANTI-DEFAMATION LEAGUE', 1),\n",
       "   ('JAPANESE AMERICAN CITIZENS LEAGUE', 1),\n",
       "   ('UNITARIAN FELLOWSHIP FOR SOCIAL JUSTICE', 1),\n",
       "   ('AMERICAN CIVIL LIBERTIES UNION', 1),\n",
       "   ('CONGRESS OF INDUSTRIAL ORGANIZATIONS', 1)])]"
      ]
     },
     "execution_count": 26,
     "metadata": {},
     "output_type": "execute_result"
    }
   ],
   "source": [
    "# for simplicity, we want the final form factor to be a dictionary as it's easier to parse and find information\n",
    "# let's first convert the amicus briefs into a dictionary with one key per docket\n",
    "# each docket will have all the amicus briefs with the organization names and their positions\n",
    "\n",
    "amici_data = {}\n",
    "\n",
    "for _, brief_row in amicus_briefs_csv.iterrows():\n",
    "    lexis_cite = brief_row[\"LexisCite\"]\n",
    "    amicus_name = brief_row[\"AmicusName\"]\n",
    "    position = brief_row[\"Position\"]\n",
    "\n",
    "    if lexis_cite not in amici_data:\n",
    "        amici_data[lexis_cite] = []\n",
    "\n",
    "    amici_data[lexis_cite].append((amicus_name, position))\n",
    "\n",
    "list(amici_data.items())[:3]"
   ]
  },
  {
   "cell_type": "code",
   "execution_count": 27,
   "metadata": {},
   "outputs": [
    {
     "data": {
      "text/plain": [
       "[('1946 U.S. LEXIS 1724',\n",
       "  {'justices': [('HHBurton', 2.0, 1.0),\n",
       "    ('RHJackson', 1.0, 2.0),\n",
       "    ('WODouglas', 1.0, 2.0),\n",
       "    ('FFrankfurter', 4.0, 2.0),\n",
       "    ('SFReed', 1.0, 2.0),\n",
       "    ('HLBlack', 1.0, 2.0),\n",
       "    ('WBRutledge', 1.0, 2.0),\n",
       "    ('FMurphy', 1.0, 2.0),\n",
       "    ('FMVinson', 1.0, 2.0)],\n",
       "   'caseName': 'HALLIBURTON OIL WELL CEMENTING CO. v. WALKER et al., DOING BUSINESS AS DEPTHOGRAPH CO.',\n",
       "   'decision': 3.0,\n",
       "   'decisiondirection': 1.0}),\n",
       " ('1946 U.S. LEXIS 1725',\n",
       "  {'justices': [('HHBurton', 1.0, 1.0),\n",
       "    ('RHJackson', 2.0, 2.0),\n",
       "    ('WODouglas', 1.0, 1.0),\n",
       "    ('FFrankfurter', 1.0, 1.0),\n",
       "    ('SFReed', 1.0, 1.0),\n",
       "    ('HLBlack', 2.0, 2.0),\n",
       "    ('WBRutledge', 4.0, 1.0),\n",
       "    ('FMurphy', 2.0, 2.0),\n",
       "    ('FMVinson', 1.0, 1.0)],\n",
       "   'caseName': 'CLEVELAND v. UNITED STATES',\n",
       "   'decision': 2.0,\n",
       "   'decisiondirection': 1.0})]"
      ]
     },
     "execution_count": 27,
     "metadata": {},
     "output_type": "execute_result"
    }
   ],
   "source": [
    "# let's also do this for the judges\n",
    "justices_data = {}\n",
    "\n",
    "for _, justice_row in justices_csv.iterrows():\n",
    "    lexis_cite = justice_row[\"lexisCite\"]\n",
    "    justice_name = justice_row[\"justiceName\"]\n",
    "    case_name = justice_row[\"caseName\"]\n",
    "    vote = justice_row[\"vote\"]\n",
    "    disposition = justice_row[\"caseDisposition\"]\n",
    "    decisiondirection = justice_row[\"lcDispositionDirection\"]\n",
    "    direction = justice_row[\"direction\"]\n",
    "\n",
    "    if lexis_cite not in justices_data:\n",
    "        justices_data[lexis_cite] = {\n",
    "            \"justices\": [],\n",
    "            \"caseName\": case_name,\n",
    "            \"decision\": disposition,\n",
    "            \"decisiondirection\": decisiondirection,\n",
    "        }\n",
    "\n",
    "    justices_data[lexis_cite][\"justices\"].append((justice_name, vote, direction))\n",
    "\n",
    "list(justices_data.items())[:2]"
   ]
  },
  {
   "cell_type": "code",
   "execution_count": 28,
   "metadata": {},
   "outputs": [],
   "source": [
    "# make a function for determining ideological agreement\n",
    "# is this the same as the previous function?\n",
    "def amicusDirection(brief_position, case_decision, case_direction):\n",
    "    \"\"\"\n",
    "    Determines the direction of the amicus based on agreement between judge decision and amicus.\n",
    "    \"\"\"\n",
    "    # if we have any invalid values, let's remove this scenario\n",
    "    try:\n",
    "        position, decision, direction = (\n",
    "            int(brief_position),\n",
    "            int(case_decision),\n",
    "            int(case_direction),\n",
    "        )\n",
    "    except:\n",
    "        return 99\n",
    "\n",
    "    # also invalid if direction is unspecifiable\n",
    "    if direction == 3:\n",
    "        return 99\n",
    "\n",
    "    # case where brief argues the lower court decision should be reversed\n",
    "    # and decision is (3) reversed, (4) reversed and remanded\n",
    "    # direction of amicus brief should match case direction\n",
    "    if position == 1 and (decision in [3, 4, 5, 8, 9]):\n",
    "        return direction\n",
    "    # argue lower court decision should be affirmed\n",
    "    # and decision is (2) affirmed (includes modified)\n",
    "    # -- note: should this also include (1)?\n",
    "    elif position == 2 and (decision in [1, 2]):\n",
    "        return direction\n",
    "    # if the position is to reverse\n",
    "    # and decision is (2) affirmed (includes modified)\n",
    "    elif position == 1 and (decision in [1, 2]):\n",
    "        return 1 if direction == 2 else 2\n",
    "    # if the position is to reverse\n",
    "    # and decision is (2) affirmed (includes modified)\n",
    "    elif position == 2 and (decision in [3, 4, 5, 8, 9]):\n",
    "        return 1 if direction == 2 else 2\n",
    "    else:\n",
    "        return 99"
   ]
  },
  {
   "cell_type": "code",
   "execution_count": 29,
   "metadata": {},
   "outputs": [],
   "source": [
    "def isConservative(direction):\n",
    "    \"\"\"\n",
    "    Identifies whether direction is conservative (i.e., = 1)\n",
    "    \"\"\"\n",
    "    if direction == 99:\n",
    "        return np.nan\n",
    "    else:\n",
    "        return direction == 1"
   ]
  },
  {
   "cell_type": "code",
   "execution_count": 30,
   "metadata": {},
   "outputs": [
    {
     "name": "stderr",
     "output_type": "stream",
     "text": [
      "C:\\Users\\Jennah\\AppData\\Local\\Temp\\ipykernel_16772\\4126512104.py:23: RuntimeWarning: Mean of empty slice\n",
      "  \"percent_conservative\": np.nanmean(amicus_conservative_list)\n"
     ]
    },
    {
     "data": {
      "text/plain": [
       "[('1953 U.S. LEXIS 2673',\n",
       "  {'case_name': 'WILKO v. SWAN et al., DOING BUSINESS AS HAYDEN, STONE & CO., et al.',\n",
       "   'justices': [('HLBlack', 1.0, 2.0),\n",
       "    ('WODouglas', 1.0, 2.0),\n",
       "    ('EWarren', 1.0, 2.0),\n",
       "    ('TCClark', 1.0, 2.0),\n",
       "    ('FFrankfurter', 2.0, 1.0),\n",
       "    ('HHBurton', 1.0, 2.0),\n",
       "    ('SFReed', 1.0, 2.0),\n",
       "    ('SMinton', 2.0, 1.0),\n",
       "    ('RHJackson', 3.0, 2.0)],\n",
       "   'case_decision': 3.0,\n",
       "   'decisiondirection': 1.0,\n",
       "   'amici': [('SECURITIES AND EXCHANGE COMMISSION', 1)],\n",
       "   'conservative_amici': [True],\n",
       "   'percent_conservative': 1.0}),\n",
       " ('1953 U.S. LEXIS 2680',\n",
       "  {'case_name': 'TOOLSON v. NEW YORK YANKEES, INC. et al.',\n",
       "   'justices': [('HLBlack', 1.0, 1.0),\n",
       "    ('WODouglas', 1.0, 1.0),\n",
       "    ('EWarren', 1.0, 1.0),\n",
       "    ('TCClark', 1.0, 1.0),\n",
       "    ('FFrankfurter', 1.0, 1.0),\n",
       "    ('HHBurton', 2.0, 2.0),\n",
       "    ('SFReed', 2.0, 2.0),\n",
       "    ('SMinton', 1.0, 1.0),\n",
       "    ('RHJackson', 1.0, 1.0)],\n",
       "   'case_decision': 2.0,\n",
       "   'decisiondirection': 1.0,\n",
       "   'amici': [('BOSTON AMERICAN LEAGUE BASE BALL COMPANY', 2)],\n",
       "   'conservative_amici': [True],\n",
       "   'percent_conservative': 1.0}),\n",
       " ('1954 U.S. LEXIS 2094',\n",
       "  {'case_name': 'BROWN et al. v. BOARD OF EDUCATION OF TOPEKA et al.',\n",
       "   'justices': [('HLBlack', 1.0, 2.0),\n",
       "    ('WODouglas', 1.0, 2.0),\n",
       "    ('EWarren', 1.0, 2.0),\n",
       "    ('TCClark', 1.0, 2.0),\n",
       "    ('FFrankfurter', 1.0, 2.0),\n",
       "    ('HHBurton', 1.0, 2.0),\n",
       "    ('SFReed', 1.0, 2.0),\n",
       "    ('SMinton', 1.0, 2.0),\n",
       "    ('RHJackson', 1.0, 2.0)],\n",
       "   'case_decision': 1.0,\n",
       "   'decisiondirection': 1.0,\n",
       "   'amici': [('AMERICAN FEDERATION OF TEACHERS', 1),\n",
       "    ('UNITED STATES', 1),\n",
       "    ('AMERICAN JEWISH CONGRESS', 1),\n",
       "    ('AMERICAN VETERANS COMMITTEE', 1),\n",
       "    ('AMERICAN ETHICAL UNION', 1),\n",
       "    ('AMERICAN JEWISH COMMITTEE', 1),\n",
       "    ('ANTI-DEFAMATION LEAGUE', 1),\n",
       "    ('JAPANESE AMERICAN CITIZENS LEAGUE', 1),\n",
       "    ('UNITARIAN FELLOWSHIP FOR SOCIAL JUSTICE', 1),\n",
       "    ('AMERICAN CIVIL LIBERTIES UNION', 1),\n",
       "    ('CONGRESS OF INDUSTRIAL ORGANIZATIONS', 1)],\n",
       "   'conservative_amici': [False,\n",
       "    False,\n",
       "    False,\n",
       "    False,\n",
       "    False,\n",
       "    False,\n",
       "    False,\n",
       "    False,\n",
       "    False,\n",
       "    False,\n",
       "    False],\n",
       "   'percent_conservative': 0.0}),\n",
       " ('1954 U.S. LEXIS 2095',\n",
       "  {'case_name': 'BOLLING et al. v. SHARPE et al.',\n",
       "   'justices': [('HLBlack', 1.0, 2.0),\n",
       "    ('WODouglas', 1.0, 2.0),\n",
       "    ('EWarren', 1.0, 2.0),\n",
       "    ('TCClark', 1.0, 2.0),\n",
       "    ('FFrankfurter', 1.0, 2.0),\n",
       "    ('HHBurton', 1.0, 2.0),\n",
       "    ('SFReed', 1.0, 2.0),\n",
       "    ('SMinton', 1.0, 2.0),\n",
       "    ('RHJackson', 1.0, 2.0)],\n",
       "   'case_decision': 1.0,\n",
       "   'decisiondirection': 1.0,\n",
       "   'amici': [('AMERICAN FEDERATION OF TEACHERS', 1),\n",
       "    ('UNITED STATES', 1),\n",
       "    ('AMERICAN VETERANS COMMITTEE', 1),\n",
       "    ('AMERICAN JEWISH COMMITTEE, WASHINGTON CHAPTER', 1),\n",
       "    ('AMERICAN JEWISH CONGRESS COMMISSION ON LAW AND SOCIAL ACTION, WASHINGTON CHAPTER',\n",
       "     1),\n",
       "    ('AMERICANS FOR DEMOCRATIC ACTION, WASHINGTON CHAPTER', 1),\n",
       "    ('CATHOLIC INTERRACIAL COUNCIL OF WASHINGTON', 1),\n",
       "    ('COMMISSION ON COMMUNITY LIFE OF THE WASHINGTON FEDERATION OF CHURCHES',\n",
       "     1),\n",
       "    ('D.C. FEDERATION OF CIVIC ASSOCIATIONS, INC.', 1),\n",
       "    ('DISTRICT OF COLUMBIA INDUSTRIAL UNION COUNCIL, CIO', 1),\n",
       "    ('FRIENDS COMMITTEE ON NATIONAL LEGISLATION', 1),\n",
       "    ('JAPANESE AMERICAN CITIZENS LEAGUE, WASHINGTON CHAPTER', 1),\n",
       "    ('JEWISH COMMUNITY COUNCIL OF GREATER WASHINGTON', 1),\n",
       "    ('NATIONAL ASSOCIATION FOR THE ADVANCEMENT OF COLORED PEOPLE, D.C. BRANCH',\n",
       "     1),\n",
       "    ('UNITARIAN FELLOWSHIP CHURCH FOR SOCIAL JUSTICE, WASHINGTON CHAPTER', 1),\n",
       "    ('WASHINGTON BAR ASSOCIATION', 1),\n",
       "    ('WASHINGTON ETHICAL SOCIETY', 1),\n",
       "    ('WASHINGTON FELLOWSHIP', 1),\n",
       "    ('WASHINGTON INTERRACIAL WORKSHOP', 1),\n",
       "    ('WASHINGTON URBAN LEAGUE', 1),\n",
       "    ('AMERICAN COUNCIL ON HUMAN RIGHTS', 1)],\n",
       "   'conservative_amici': [False,\n",
       "    False,\n",
       "    False,\n",
       "    False,\n",
       "    False,\n",
       "    False,\n",
       "    False,\n",
       "    False,\n",
       "    False,\n",
       "    False,\n",
       "    False,\n",
       "    False,\n",
       "    False,\n",
       "    False,\n",
       "    False,\n",
       "    False,\n",
       "    False,\n",
       "    False,\n",
       "    False,\n",
       "    False,\n",
       "    False],\n",
       "   'percent_conservative': 0.0}),\n",
       " ('1954 U.S. LEXIS 2336',\n",
       "  {'case_name': 'BENTSEN et al. v. BLACKWELL et al.',\n",
       "   'justices': [('HLBlack', 1.0, 1.0),\n",
       "    ('WODouglas', 1.0, 1.0),\n",
       "    ('EWarren', 1.0, 1.0),\n",
       "    ('TCClark', 1.0, 1.0),\n",
       "    ('FFrankfurter', 1.0, 1.0),\n",
       "    ('HHBurton', 1.0, 1.0),\n",
       "    ('SFReed', 1.0, 1.0),\n",
       "    ('SMinton', 1.0, 1.0),\n",
       "    ('RHJackson', 1.0, 1.0)],\n",
       "   'case_decision': 9.0,\n",
       "   'decisiondirection': 1.0,\n",
       "   'amici': [('SECURITIES AND EXCHANGE COMMISSION', 2)],\n",
       "   'conservative_amici': [False],\n",
       "   'percent_conservative': 0.0}),\n",
       " ('1954 U.S. LEXIS 2505',\n",
       "  {'case_name': 'SUPERIOR FILMS, INC. v. DEPARTMENT OF EDUCATION OF OHIO, DIVISION OF FILM CENSORSHIP, HISSONG, SUPERINTENDENT',\n",
       "   'justices': [('HLBlack', 4.0, 2.0),\n",
       "    ('WODouglas', 4.0, 2.0),\n",
       "    ('EWarren', 1.0, 2.0),\n",
       "    ('TCClark', 1.0, 2.0),\n",
       "    ('FFrankfurter', 1.0, 2.0),\n",
       "    ('HHBurton', 1.0, 2.0),\n",
       "    ('SFReed', 1.0, 2.0),\n",
       "    ('SMinton', 1.0, 2.0),\n",
       "    ('RHJackson', 1.0, 2.0)],\n",
       "   'case_decision': 3.0,\n",
       "   'decisiondirection': 1.0,\n",
       "   'amici': [('NATIONAL COUNCIL ON FREEDOM FROM CENSORSHIP, A COMMITTEE OF THE ACLU',\n",
       "     1),\n",
       "    ('INDEPENDENT THEATRE OWNERS OF OHIO, INC.', 1),\n",
       "    ('MOTION PICTURE ASSOCIATION OF AMERICA, INC.', 1)],\n",
       "   'conservative_amici': [True, True, True],\n",
       "   'percent_conservative': 1.0}),\n",
       " ('1954 U.S. LEXIS 2620',\n",
       "  {'case_name': 'PHILLIPS PETROLEUM CO. v. WISCONSIN et al.',\n",
       "   'justices': [('HLBlack', 1.0, 1.0),\n",
       "    ('WODouglas', 2.0, 2.0),\n",
       "    ('EWarren', 1.0, 1.0),\n",
       "    ('TCClark', 2.0, 2.0),\n",
       "    ('FFrankfurter', 3.0, 1.0),\n",
       "    ('HHBurton', 2.0, 2.0),\n",
       "    ('SFReed', 1.0, 1.0),\n",
       "    ('SMinton', 1.0, 1.0),\n",
       "    ('RHJackson', nan, nan)],\n",
       "   'case_decision': 2.0,\n",
       "   'decisiondirection': 1.0,\n",
       "   'amici': [('MEMBER MUNICIPALITIES OF THE NATIONAL INSTITUTE OF MUNICIPAL LAW OFFICERS',\n",
       "     2),\n",
       "    ('MISSISSIPPI', 1),\n",
       "    ('NORTH DAKOTA', 1),\n",
       "    ('STATE CORPORATION COMMISSION OF THE STATE OF KANSAS', 1),\n",
       "    ('WYOMING', 1),\n",
       "    ('LOUISIANA', 1),\n",
       "    ('CITY OF MINNEAPOLIS, MN', 2),\n",
       "    ('IOWA', 2),\n",
       "    ('NEBRASKA', 2),\n",
       "    ('MINNESOTA', 2)],\n",
       "   'conservative_amici': [True,\n",
       "    False,\n",
       "    False,\n",
       "    False,\n",
       "    False,\n",
       "    False,\n",
       "    True,\n",
       "    True,\n",
       "    True,\n",
       "    True],\n",
       "   'percent_conservative': 0.5}),\n",
       " ('1954 U.S. LEXIS 2621',\n",
       "  {'case_name': 'FEDERAL POWER COMMISSION v. NIAGARA MOHAWK POWER CORP.',\n",
       "   'justices': [('HLBlack', 2.0, 2.0),\n",
       "    ('WODouglas', 2.0, 2.0),\n",
       "    ('EWarren', 1.0, 1.0),\n",
       "    ('TCClark', 1.0, 1.0),\n",
       "    ('FFrankfurter', 1.0, 1.0),\n",
       "    ('HHBurton', 1.0, 1.0),\n",
       "    ('SFReed', nan, nan),\n",
       "    ('SMinton', 2.0, 2.0),\n",
       "    ('RHJackson', nan, nan)],\n",
       "   'case_decision': 2.0,\n",
       "   'decisiondirection': 1.0,\n",
       "   'amici': [('NEW YORK', 3)],\n",
       "   'conservative_amici': [nan],\n",
       "   'percent_conservative': nan}),\n",
       " ('1954 U.S. LEXIS 2624',\n",
       "  {'case_name': 'FRANKLIN NATIONAL BANK OF FRANKLIN SQUARE v. NEW YORK',\n",
       "   'justices': [('HLBlack', 1.0, 2.0),\n",
       "    ('WODouglas', 1.0, 2.0),\n",
       "    ('EWarren', 1.0, 2.0),\n",
       "    ('TCClark', 1.0, 2.0),\n",
       "    ('FFrankfurter', 1.0, 2.0),\n",
       "    ('HHBurton', 1.0, 2.0),\n",
       "    ('SFReed', 2.0, 1.0),\n",
       "    ('SMinton', 1.0, 2.0),\n",
       "    ('RHJackson', 1.0, 2.0)],\n",
       "   'case_decision': 4.0,\n",
       "   'decisiondirection': 1.0,\n",
       "   'amici': [('UNITED STATES', 1),\n",
       "    ('NEW YORK STATE BANKERS ASSOCIATION', 1),\n",
       "    ('SAVINGS BANK ASSOCIATION OF THE STATE OF NEW YORK', 2)],\n",
       "   'conservative_amici': [True, True, False],\n",
       "   'percent_conservative': 0.6666666666666666}),\n",
       " ('1954 U.S. LEXIS 2636',\n",
       "  {'case_name': 'DELTA AIR LINES, INC. v. SUMMERFIELD, POSTMASTER GENERAL, et al.',\n",
       "   'justices': [('HLBlack', 1.0, 1.0),\n",
       "    ('WODouglas', 1.0, 1.0),\n",
       "    ('EWarren', 1.0, 1.0),\n",
       "    ('TCClark', 1.0, 1.0),\n",
       "    ('FFrankfurter', 1.0, 1.0),\n",
       "    ('HHBurton', 1.0, 1.0),\n",
       "    ('SFReed', 1.0, 1.0),\n",
       "    ('SMinton', 1.0, 1.0),\n",
       "    ('RHJackson', 1.0, 1.0)],\n",
       "   'case_decision': 2.0,\n",
       "   'decisiondirection': 1.0,\n",
       "   'amici': [('NORTHWEST AIRLINES, INC.', 1),\n",
       "    ('TRANS-WORLD AIRLINES, INC.', 1),\n",
       "    ('BRANIFF AIRWAYS, INCORPORATED', 1)],\n",
       "   'conservative_amici': [False, False, False],\n",
       "   'percent_conservative': 0.0})]"
      ]
     },
     "execution_count": 30,
     "metadata": {},
     "output_type": "execute_result"
    }
   ],
   "source": [
    "# Now we can merge our dictionaries together to get a final pre-processed dictionary\n",
    "preproc_data = {}\n",
    "\n",
    "for lexis_cite, brief in amici_data.items():\n",
    "    justices_found = justices_data[lexis_cite]\n",
    "\n",
    "    # if we can't find the corresponding case, we'll skip this row\n",
    "    if justices_found is None:\n",
    "        continue\n",
    "\n",
    "    # calculate the percent conservative\n",
    "    amicus_conservative_list = [isConservative(amicusDirection(amicus[1], justices_found['decision'], justices_found['decisiondirection'])) \\\n",
    "                                 for amicus in brief]\n",
    "    assert len(amicus_conservative_list) == len(brief)\n",
    "\n",
    "    preproc_data[lexis_cite] = {\n",
    "        \"case_name\": justices_found[\"caseName\"],\n",
    "        \"justices\": justices_found[\"justices\"],\n",
    "        \"case_decision\": justices_found[\"decision\"],\n",
    "        \"decisiondirection\": justices_found[\"decisiondirection\"],\n",
    "        \"amici\": brief,\n",
    "        \"conservative_amici\": amicus_conservative_list,\n",
    "        \"percent_conservative\": np.nanmean(amicus_conservative_list)\n",
    "    }\n",
    "\n",
    "list(preproc_data.items())[:10]"
   ]
  },
  {
   "cell_type": "code",
   "execution_count": 31,
   "metadata": {},
   "outputs": [],
   "source": [
    "# let's make a function to determine if the judges agreed with the amicus brief\n",
    "# here we need to determine whether the judge followed the amicus decision\n",
    "\n",
    "# for amicus brief position:\n",
    "# Indicates the position on the case expressed by the amicus brief.\n",
    "# = 1 if the brief argues the lower court decision should be reversed,\n",
    "# = 2 if lower court decision should be affirmed,\n",
    "# = 3 if the brief explicitly does not adopt a position or the position is unclear.\n",
    "\n",
    "# for final case decision:\n",
    "# 1\tstay, petition, or motion granted\n",
    "# 2\taffirmed (includes modified)\n",
    "# 3\treversed\n",
    "# 4\treversed and remanded\n",
    "# 5\tvacated and remanded\n",
    "# 6\taffirmed and reversed (or vacated) in part\n",
    "# 7\taffirmed and reversed (or vacated) in part and remanded\n",
    "# 8\tvacated\n",
    "# 9\tpetition denied or appeal dismissed\n",
    "# 10 certification to or from a lower court\n",
    "# 11 no disposition\n",
    "\n",
    "# for justice vote:\n",
    "# 1\tvoted with majority or plurality\n",
    "# 2\tdissent\n",
    "# 3\tregular concurrence\n",
    "# 4\tspecial concurrence\n",
    "# 5\tjudgment of the Court\n",
    "# 6\tdissent from a denial or dismissal of certiorari , or dissent from summary affirmation of an appeal\n",
    "# 7\tjurisdictional dissent\n",
    "# 8\tjustice participated in an equally divided vote\n",
    "\n",
    "\n",
    "def judgeAgreesWithAmicus(brief_position, case_decision, justice_vote):\n",
    "    # if we have any invalid values, let's remove this scenario\n",
    "    try:\n",
    "        position, decision, vote = (\n",
    "            int(brief_position),\n",
    "            int(case_decision),\n",
    "            int(justice_vote),\n",
    "        )\n",
    "    except:\n",
    "        return 2\n",
    "\n",
    "    # agrees with amicus brief for reversing lower court decision\n",
    "    if position == 1 and (decision == 3 or decision == 4) and vote == 1:\n",
    "        return 1\n",
    "\n",
    "    # disagrees with amicus brief for reversing lower court decision\n",
    "    if position == 1 and (decision == 3 or decision == 4) and vote == 2:\n",
    "        return 0\n",
    "\n",
    "    # agrees with amicus brief for affirming lower court decision\n",
    "    if position == 2 and (decision == 2) and vote == 1:\n",
    "        return 1\n",
    "\n",
    "    # disagrees with amicus brief for affirming lower court decision\n",
    "    if position == 2 and (decision == 2) and vote == 2:\n",
    "        return 0\n",
    "\n",
    "    # invalid scenario\n",
    "    return 2"
   ]
  },
  {
   "cell_type": "code",
   "execution_count": 32,
   "metadata": {},
   "outputs": [],
   "source": [
    "# Let's construct a graph now\n",
    "# We make an assumption that the judges and amicus organizations have no overlapping names\n",
    "\n",
    "G = nx.MultiDiGraph()\n",
    "\n",
    "# We also are going to keep track of the justices and amici that make the final graph\n",
    "final_justices = set()\n",
    "final_amici = set()\n",
    "final_cases = set()\n",
    "final_cases_per_justice = {}\n",
    "\n",
    "for lexis_cite, docket in preproc_data.items():\n",
    "    conservative_amicus_list = []\n",
    "    for amicus in docket[\"amici\"]:\n",
    "        # identify the ideological direction of the amicus brief based on its relationship with the disposition\n",
    "        # and the disposition direction\n",
    "        amicus_direction = amicusDirection(\n",
    "            amicus[1], docket[\"case_decision\"], docket[\"decisiondirection\"]\n",
    "        )\n",
    "        for justice in docket[\"justices\"]:\n",
    "            # identify whether the judge agrees with the amicus\n",
    "            # 0 = disagree, 1 = agree, 2 = trash\n",
    "            agreement = judgeAgreesWithAmicus(\n",
    "                amicus[1], docket[\"case_decision\"], justice[1]\n",
    "            )\n",
    "            # identify whether judge's opinion is conservative\n",
    "            conservative_position = int(justice[2] == 1)\n",
    "            ideological_agreement = int(justice[2] == amicus_direction)\n",
    "            if agreement < 2:\n",
    "                final_justices.add(justice[0])\n",
    "                final_amici.add(amicus[0])\n",
    "                final_cases.add(lexis_cite)\n",
    "\n",
    "                if justice[0] not in final_cases_per_justice:\n",
    "                    final_cases_per_justice[justice[0]] = set()\n",
    "                final_cases_per_justice[justice[0]].add(lexis_cite)\n",
    "\n",
    "                G.add_edge(\n",
    "                    justice[0],\n",
    "                    amicus[0],\n",
    "                    caseName=docket[\"case_name\"],\n",
    "                    agreement=agreement,\n",
    "                    ideological_agreement=ideological_agreement,\n",
    "                    amicus_direction=amicus_direction,\n",
    "                    judge_direction=justice[2],\n",
    "                )"
   ]
  },
  {
   "cell_type": "code",
   "execution_count": 33,
   "metadata": {},
   "outputs": [
    {
     "name": "stdout",
     "output_type": "stream",
     "text": [
      "open the test.html file created!!\n"
     ]
    }
   ],
   "source": [
    "# Create a visualization of a mini-version of the graph\n",
    "\n",
    "G_mini = nx.MultiDiGraph()\n",
    "\n",
    "# going to use a counter so we can visualize faster\n",
    "maxCount = 10  # Comment line out for full graph\n",
    "counter = 0\n",
    "\n",
    "for lexis_cite, docket in preproc_data.items():\n",
    "    if counter >= maxCount:\n",
    "        break\n",
    "    for amicus in docket[\"amici\"]:\n",
    "        for justice in docket[\"justices\"]:\n",
    "            # 0 = disagree, 1 = agree, 2 = trash\n",
    "            agreement = judgeAgreesWithAmicus(\n",
    "                amicus[1], docket[\"case_decision\"], justice[1]\n",
    "            )\n",
    "            if agreement < 2:\n",
    "                G_mini.add_edge(\n",
    "                    justice[0],\n",
    "                    amicus[0],\n",
    "                    caseName=docket[\"case_name\"],\n",
    "                    agreement=agreement,\n",
    "                )\n",
    "                counter += 1\n",
    "\n",
    "net = Network(\n",
    "    directed=True,\n",
    "    select_menu=True,  # Show part 1 in the plot (optional)\n",
    "    filter_menu=True,  # Show part 2 in the plot (optional)\n",
    ")\n",
    "\n",
    "net.show_buttons()  # Show part 3 in the plot (optional)\n",
    "net.from_nx(G_mini)  # Create directly from nx graph\n",
    "net.show(\"test.html\")\n",
    "print(\"open the test.html file created!!\")"
   ]
  },
  {
   "cell_type": "code",
   "execution_count": 34,
   "metadata": {},
   "outputs": [
    {
     "name": "stdout",
     "output_type": "stream",
     "text": [
      "full graph\n",
      "agree: 193811 \n",
      "disagree: 62305 \n",
      "total: 256116\n",
      "\n",
      "mini graph\n",
      "agree: 13 \n",
      "disagree: 4 \n",
      "total: 17\n"
     ]
    }
   ],
   "source": [
    "# Quick sanity check for the two graphs\n",
    "agree = 0\n",
    "disagree = 0\n",
    "for edge in G.edges(data=True):\n",
    "    if edge[2][\"agreement\"]:\n",
    "        agree += 1\n",
    "    else:\n",
    "        disagree += 1\n",
    "\n",
    "print(\"full graph\")\n",
    "print(\"agree:\", agree, \"\\ndisagree:\", disagree, \"\\ntotal:\", agree + disagree)\n",
    "\n",
    "agree = 0\n",
    "disagree = 0\n",
    "for edge in G_mini.edges(data=True):\n",
    "    if edge[2][\"agreement\"]:\n",
    "        agree += 1\n",
    "    else:\n",
    "        disagree += 1\n",
    "\n",
    "print(\"\\nmini graph\")\n",
    "print(\"agree:\", agree, \"\\ndisagree:\", disagree, \"\\ntotal:\", agree + disagree)"
   ]
  },
  {
   "cell_type": "code",
   "execution_count": 35,
   "metadata": {},
   "outputs": [
    {
     "name": "stdout",
     "output_type": "stream",
     "text": [
      "number of judges: 33\n",
      "number of amici: 10426\n",
      "number of cases: 2813\n",
      "avg number of cases per judge: 664.1818181818181\n",
      "avg number of cases per amicus: 6.0\n"
     ]
    }
   ],
   "source": [
    "# sanity check for our data\n",
    "\n",
    "# number of judges\n",
    "print(\"number of judges:\", len(final_justices))\n",
    "\n",
    "# number of amici organizations\n",
    "print(\"number of amici:\", len(final_amici))\n",
    "\n",
    "# total number of amicus briefs\n",
    "print(\"number of cases:\", len(final_cases))\n",
    "\n",
    "# number of cases per judge\n",
    "cases_per_justice = {}\n",
    "\n",
    "for justice in final_justices:\n",
    "    cases_per_justice[justice] = len(final_cases_per_justice[justice])\n",
    "\n",
    "# number of cases per amicus\n",
    "cases_per_amicus = {}\n",
    "\n",
    "for amicus in final_amici:\n",
    "    cases_per_amicus[justice] = len(G.in_edges(amicus))\n",
    "\n",
    "print(\"avg number of cases per judge:\", np.mean(list(cases_per_justice.values())))\n",
    "print(\"avg number of cases per amicus:\", np.mean(list(cases_per_amicus.values())))"
   ]
  },
  {
   "cell_type": "markdown",
   "metadata": {},
   "source": [
    "## Plot distribution of filings across cases"
   ]
  },
  {
   "cell_type": "code",
   "execution_count": 36,
   "metadata": {},
   "outputs": [
    {
     "data": {
      "text/html": [
       "<div>\n",
       "<style scoped>\n",
       "    .dataframe tbody tr th:only-of-type {\n",
       "        vertical-align: middle;\n",
       "    }\n",
       "\n",
       "    .dataframe tbody tr th {\n",
       "        vertical-align: top;\n",
       "    }\n",
       "\n",
       "    .dataframe thead th {\n",
       "        text-align: right;\n",
       "    }\n",
       "</style>\n",
       "<table border=\"1\" class=\"dataframe\">\n",
       "  <thead>\n",
       "    <tr style=\"text-align: right;\">\n",
       "      <th></th>\n",
       "      <th>case_name</th>\n",
       "      <th>justices</th>\n",
       "      <th>case_decision</th>\n",
       "      <th>decisiondirection</th>\n",
       "      <th>amici</th>\n",
       "      <th>conservative_amici</th>\n",
       "      <th>percent_conservative</th>\n",
       "    </tr>\n",
       "  </thead>\n",
       "  <tbody>\n",
       "    <tr>\n",
       "      <th>1953 U.S. LEXIS 2673</th>\n",
       "      <td>WILKO v. SWAN et al., DOING BUSINESS AS HAYDEN...</td>\n",
       "      <td>[(HLBlack, 1.0, 2.0), (WODouglas, 1.0, 2.0), (...</td>\n",
       "      <td>3.0</td>\n",
       "      <td>1.0</td>\n",
       "      <td>[(SECURITIES AND EXCHANGE COMMISSION, 1)]</td>\n",
       "      <td>[True]</td>\n",
       "      <td>1.0</td>\n",
       "    </tr>\n",
       "    <tr>\n",
       "      <th>1953 U.S. LEXIS 2680</th>\n",
       "      <td>TOOLSON v. NEW YORK YANKEES, INC. et al.</td>\n",
       "      <td>[(HLBlack, 1.0, 1.0), (WODouglas, 1.0, 1.0), (...</td>\n",
       "      <td>2.0</td>\n",
       "      <td>1.0</td>\n",
       "      <td>[(BOSTON AMERICAN LEAGUE BASE BALL COMPANY, 2)]</td>\n",
       "      <td>[True]</td>\n",
       "      <td>1.0</td>\n",
       "    </tr>\n",
       "    <tr>\n",
       "      <th>1954 U.S. LEXIS 2094</th>\n",
       "      <td>BROWN et al. v. BOARD OF EDUCATION OF TOPEKA e...</td>\n",
       "      <td>[(HLBlack, 1.0, 2.0), (WODouglas, 1.0, 2.0), (...</td>\n",
       "      <td>1.0</td>\n",
       "      <td>1.0</td>\n",
       "      <td>[(AMERICAN FEDERATION OF TEACHERS, 1), (UNITED...</td>\n",
       "      <td>[False, False, False, False, False, False, Fal...</td>\n",
       "      <td>0.0</td>\n",
       "    </tr>\n",
       "    <tr>\n",
       "      <th>1954 U.S. LEXIS 2095</th>\n",
       "      <td>BOLLING et al. v. SHARPE et al.</td>\n",
       "      <td>[(HLBlack, 1.0, 2.0), (WODouglas, 1.0, 2.0), (...</td>\n",
       "      <td>1.0</td>\n",
       "      <td>1.0</td>\n",
       "      <td>[(AMERICAN FEDERATION OF TEACHERS, 1), (UNITED...</td>\n",
       "      <td>[False, False, False, False, False, False, Fal...</td>\n",
       "      <td>0.0</td>\n",
       "    </tr>\n",
       "    <tr>\n",
       "      <th>1954 U.S. LEXIS 2336</th>\n",
       "      <td>BENTSEN et al. v. BLACKWELL et al.</td>\n",
       "      <td>[(HLBlack, 1.0, 1.0), (WODouglas, 1.0, 1.0), (...</td>\n",
       "      <td>9.0</td>\n",
       "      <td>1.0</td>\n",
       "      <td>[(SECURITIES AND EXCHANGE COMMISSION, 2)]</td>\n",
       "      <td>[False]</td>\n",
       "      <td>0.0</td>\n",
       "    </tr>\n",
       "  </tbody>\n",
       "</table>\n",
       "</div>"
      ],
      "text/plain": [
       "                                                              case_name  \\\n",
       "1953 U.S. LEXIS 2673  WILKO v. SWAN et al., DOING BUSINESS AS HAYDEN...   \n",
       "1953 U.S. LEXIS 2680           TOOLSON v. NEW YORK YANKEES, INC. et al.   \n",
       "1954 U.S. LEXIS 2094  BROWN et al. v. BOARD OF EDUCATION OF TOPEKA e...   \n",
       "1954 U.S. LEXIS 2095                    BOLLING et al. v. SHARPE et al.   \n",
       "1954 U.S. LEXIS 2336                 BENTSEN et al. v. BLACKWELL et al.   \n",
       "\n",
       "                                                               justices  \\\n",
       "1953 U.S. LEXIS 2673  [(HLBlack, 1.0, 2.0), (WODouglas, 1.0, 2.0), (...   \n",
       "1953 U.S. LEXIS 2680  [(HLBlack, 1.0, 1.0), (WODouglas, 1.0, 1.0), (...   \n",
       "1954 U.S. LEXIS 2094  [(HLBlack, 1.0, 2.0), (WODouglas, 1.0, 2.0), (...   \n",
       "1954 U.S. LEXIS 2095  [(HLBlack, 1.0, 2.0), (WODouglas, 1.0, 2.0), (...   \n",
       "1954 U.S. LEXIS 2336  [(HLBlack, 1.0, 1.0), (WODouglas, 1.0, 1.0), (...   \n",
       "\n",
       "                      case_decision  decisiondirection  \\\n",
       "1953 U.S. LEXIS 2673            3.0                1.0   \n",
       "1953 U.S. LEXIS 2680            2.0                1.0   \n",
       "1954 U.S. LEXIS 2094            1.0                1.0   \n",
       "1954 U.S. LEXIS 2095            1.0                1.0   \n",
       "1954 U.S. LEXIS 2336            9.0                1.0   \n",
       "\n",
       "                                                                  amici  \\\n",
       "1953 U.S. LEXIS 2673          [(SECURITIES AND EXCHANGE COMMISSION, 1)]   \n",
       "1953 U.S. LEXIS 2680    [(BOSTON AMERICAN LEAGUE BASE BALL COMPANY, 2)]   \n",
       "1954 U.S. LEXIS 2094  [(AMERICAN FEDERATION OF TEACHERS, 1), (UNITED...   \n",
       "1954 U.S. LEXIS 2095  [(AMERICAN FEDERATION OF TEACHERS, 1), (UNITED...   \n",
       "1954 U.S. LEXIS 2336          [(SECURITIES AND EXCHANGE COMMISSION, 2)]   \n",
       "\n",
       "                                                     conservative_amici  \\\n",
       "1953 U.S. LEXIS 2673                                             [True]   \n",
       "1953 U.S. LEXIS 2680                                             [True]   \n",
       "1954 U.S. LEXIS 2094  [False, False, False, False, False, False, Fal...   \n",
       "1954 U.S. LEXIS 2095  [False, False, False, False, False, False, Fal...   \n",
       "1954 U.S. LEXIS 2336                                            [False]   \n",
       "\n",
       "                      percent_conservative  \n",
       "1953 U.S. LEXIS 2673                   1.0  \n",
       "1953 U.S. LEXIS 2680                   1.0  \n",
       "1954 U.S. LEXIS 2094                   0.0  \n",
       "1954 U.S. LEXIS 2095                   0.0  \n",
       "1954 U.S. LEXIS 2336                   0.0  "
      ]
     },
     "execution_count": 36,
     "metadata": {},
     "output_type": "execute_result"
    }
   ],
   "source": [
    "# create dataframe for ease of data manipulation\n",
    "df = pd.DataFrame.from_dict(preproc_data, orient=\"index\")\n",
    "df.head()"
   ]
  },
  {
   "cell_type": "code",
   "execution_count": 37,
   "metadata": {},
   "outputs": [
    {
     "data": {
      "text/html": [
       "<div>\n",
       "<style scoped>\n",
       "    .dataframe tbody tr th:only-of-type {\n",
       "        vertical-align: middle;\n",
       "    }\n",
       "\n",
       "    .dataframe tbody tr th {\n",
       "        vertical-align: top;\n",
       "    }\n",
       "\n",
       "    .dataframe thead th {\n",
       "        text-align: right;\n",
       "    }\n",
       "</style>\n",
       "<table border=\"1\" class=\"dataframe\">\n",
       "  <thead>\n",
       "    <tr style=\"text-align: right;\">\n",
       "      <th></th>\n",
       "      <th>amici</th>\n",
       "      <th>num_amici</th>\n",
       "    </tr>\n",
       "  </thead>\n",
       "  <tbody>\n",
       "    <tr>\n",
       "      <th>1953 U.S. LEXIS 2673</th>\n",
       "      <td>[(SECURITIES AND EXCHANGE COMMISSION, 1)]</td>\n",
       "      <td>1</td>\n",
       "    </tr>\n",
       "    <tr>\n",
       "      <th>1953 U.S. LEXIS 2680</th>\n",
       "      <td>[(BOSTON AMERICAN LEAGUE BASE BALL COMPANY, 2)]</td>\n",
       "      <td>1</td>\n",
       "    </tr>\n",
       "    <tr>\n",
       "      <th>1954 U.S. LEXIS 2094</th>\n",
       "      <td>[(AMERICAN FEDERATION OF TEACHERS, 1), (UNITED...</td>\n",
       "      <td>11</td>\n",
       "    </tr>\n",
       "    <tr>\n",
       "      <th>1954 U.S. LEXIS 2095</th>\n",
       "      <td>[(AMERICAN FEDERATION OF TEACHERS, 1), (UNITED...</td>\n",
       "      <td>21</td>\n",
       "    </tr>\n",
       "    <tr>\n",
       "      <th>1954 U.S. LEXIS 2336</th>\n",
       "      <td>[(SECURITIES AND EXCHANGE COMMISSION, 2)]</td>\n",
       "      <td>1</td>\n",
       "    </tr>\n",
       "  </tbody>\n",
       "</table>\n",
       "</div>"
      ],
      "text/plain": [
       "                                                                  amici  \\\n",
       "1953 U.S. LEXIS 2673          [(SECURITIES AND EXCHANGE COMMISSION, 1)]   \n",
       "1953 U.S. LEXIS 2680    [(BOSTON AMERICAN LEAGUE BASE BALL COMPANY, 2)]   \n",
       "1954 U.S. LEXIS 2094  [(AMERICAN FEDERATION OF TEACHERS, 1), (UNITED...   \n",
       "1954 U.S. LEXIS 2095  [(AMERICAN FEDERATION OF TEACHERS, 1), (UNITED...   \n",
       "1954 U.S. LEXIS 2336          [(SECURITIES AND EXCHANGE COMMISSION, 2)]   \n",
       "\n",
       "                      num_amici  \n",
       "1953 U.S. LEXIS 2673          1  \n",
       "1953 U.S. LEXIS 2680          1  \n",
       "1954 U.S. LEXIS 2094         11  \n",
       "1954 U.S. LEXIS 2095         21  \n",
       "1954 U.S. LEXIS 2336          1  "
      ]
     },
     "execution_count": 37,
     "metadata": {},
     "output_type": "execute_result"
    }
   ],
   "source": [
    "df[\"num_amici\"] = df[\"amici\"].apply(lambda x: len(x))\n",
    "df[[\"amici\", \"num_amici\"]].head(5)"
   ]
  },
  {
   "cell_type": "code",
   "execution_count": 38,
   "metadata": {},
   "outputs": [
    {
     "data": {
      "image/png": "[encoded data removed]",
      "text/plain": [
       "<Figure size 640x480 with 1 Axes>"
      ]
     },
     "metadata": {},
     "output_type": "display_data"
    }
   ],
   "source": [
    "plt.hist(df[\"num_amici\"], bins=100)\n",
    "plt.ylabel(\"Count of cases\")\n",
    "plt.xlabel(\"Number of amici filings per case\");"
   ]
  },
  {
   "cell_type": "code",
   "execution_count": 39,
   "metadata": {},
   "outputs": [
    {
     "data": {
      "image/png": "[encoded data removed]",
      "text/plain": [
       "<Figure size 640x480 with 1 Axes>"
      ]
     },
     "metadata": {},
     "output_type": "display_data"
    }
   ],
   "source": [
    "plt.hist(df[\"percent_conservative\"], bins=100)\n",
    "plt.ylabel(\"Count of cases\")\n",
    "plt.xlabel(\"Share of amici filings that align with conservative position per case\");"
   ]
  },
  {
   "cell_type": "code",
   "execution_count": 43,
   "metadata": {},
   "outputs": [
    {
     "data": {
      "text/plain": [
       "0.07026291931097008"
      ]
     },
     "execution_count": 43,
     "metadata": {},
     "output_type": "execute_result"
    }
   ],
   "source": [
    "df['percent_conservative'].isna().mean()"
   ]
  },
  {
   "cell_type": "code",
   "execution_count": 47,
   "metadata": {},
   "outputs": [
    {
     "data": {
      "text/plain": [
       "0.20126926563916592"
      ]
     },
     "execution_count": 47,
     "metadata": {},
     "output_type": "execute_result"
    }
   ],
   "source": [
    "# cut down cases with 1\n",
    "(df['num_amici']==1).mean()"
   ]
  },
  {
   "cell_type": "code",
   "execution_count": null,
   "metadata": {},
   "outputs": [],
   "source": []
  }
 ],
 "metadata": {
  "kernelspec": {
   "display_name": "base",
   "language": "python",
   "name": "python3"
  },
  "language_info": {
   "codemirror_mode": {
    "name": "ipython",
    "version": 3
   },
   "file_extension": ".py",
   "mimetype": "text/x-python",
   "name": "python",
   "nbconvert_exporter": "python",
   "pygments_lexer": "ipython3",
   "version": "3.11.5"
  }
 },
 "nbformat": 4,
 "nbformat_minor": 2
}
